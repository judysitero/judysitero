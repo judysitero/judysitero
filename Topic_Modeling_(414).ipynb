{
  "nbformat": 4,
  "nbformat_minor": 0,
  "metadata": {
    "celltoolbar": "Create Assignment",
    "colab": {
      "name": "Topic Modeling (414).ipynb",
      "provenance": [],
      "collapsed_sections": [],
      "machine_shape": "hm",
      "include_colab_link": true
    },
    "kernelspec": {
      "display_name": "py37  (Python3)",
      "language": "python",
      "name": "py37"
    },
    "language_info": {
      "codemirror_mode": {
        "name": "ipython",
        "version": 3
      },
      "file_extension": ".py",
      "mimetype": "text/x-python",
      "name": "python",
      "nbconvert_exporter": "python",
      "pygments_lexer": "ipython3",
      "version": "3.7.0"
    },
    "accelerator": "GPU"
  },
  "cells": [
    {
      "cell_type": "markdown",
      "metadata": {
        "id": "view-in-github",
        "colab_type": "text"
      },
      "source": [
        "<a href=\"https://colab.research.google.com/github/judysitero/judysitero/blob/main/Topic_Modeling_(414).ipynb\" target=\"_parent\"><img src=\"https://colab.research.google.com/assets/colab-badge.svg\" alt=\"Open In Colab\"/></a>"
      ]
    },
    {
      "cell_type": "markdown",
      "metadata": {
        "id": "rr7YTT3AcXaN"
      },
      "source": [
        "*Unit 4, Sprint 1, Module 4*\n",
        "\n",
        "---"
      ]
    },
    {
      "cell_type": "markdown",
      "metadata": {
        "id": "cOMBkFKn6uEK"
      },
      "source": [
        "# Topic Modeling (Prepare)\n",
        "\n",
        "\n",
        "![](https://drive.google.com/uc?export=view&id=1Aze8Xe_ZZpV22IwFNUH09T2howHmF1AK)\n",
        "\n",
        "[Image Credit: slides from Ben Mabey](https://speakerdeck.com/bmabey/visualizing-topic-models)\n",
        "\n",
        "In Module 1, we talked about summarizing your documents using just token counts. Today, we're going to learn about a much more sophisticated approach - learning 'topics' from documents. Topics are a latent structure. They are often not explicitly called out and labeled in the document corpus. So some extra work is needed to figure out the topics. Today we will learn a powerful technique for doing this (almost) automatically!\n",
        "\n",
        "> **latent**: existing but not yet developed or manifest; hidden or concealed.\n",
        "\n",
        "## Use Cases\n",
        "Primary use case: What the are your documents about? <br>\n",
        "What are some industrial applications?\n",
        "* Identifying common themes in customer reviews\n",
        "* Grouping job ads into categories \n",
        "* Sorting customer inquiries into categories so they can be routed to the appropriate department for processing.\n",
        "* Monitoring communications (Email - State Department, Google) \n",
        "\n",
        "## Learning Objectives\n",
        "*At the end of the lesson you should be able to:*\n",
        "* Part 1: Describe how a Latent Dirichlet Allocation (LDA) Model works\n",
        "* Part 2: Build a LDA Model with Gensim\n",
        "* Part 3: Interpret LDA results & Select an appropriate number of topics"
      ]
    },
    {
      "cell_type": "markdown",
      "metadata": {
        "id": "MVewJfGqWiH_"
      },
      "source": [
        "##1.0 Setup"
      ]
    },
    {
      "cell_type": "markdown",
      "metadata": {
        "id": "EkDpOgN3Wskv"
      },
      "source": [
        "##1.0.1 Get spacy"
      ]
    },
    {
      "cell_type": "code",
      "metadata": {
        "id": "6ZdLPDjvWfg-",
        "colab": {
          "base_uri": "https://localhost:8080/"
        },
        "outputId": "729ea272-3fca-4a35-9807-d6f97cf3064b"
      },
      "source": [
        "# could use *web_lg or *web_sm instead\n",
        "!python -m spacy download en_core_web_md"
      ],
      "execution_count": null,
      "outputs": [
        {
          "output_type": "stream",
          "name": "stdout",
          "text": [
            "Looking in indexes: https://pypi.org/simple, https://us-python.pkg.dev/colab-wheels/public/simple/\n",
            "Collecting en_core_web_md==2.2.5\n",
            "  Downloading https://github.com/explosion/spacy-models/releases/download/en_core_web_md-2.2.5/en_core_web_md-2.2.5.tar.gz (96.4 MB)\n",
            "\u001b[K     |████████████████████████████████| 96.4 MB 1.2 MB/s \n",
            "\u001b[?25hRequirement already satisfied: spacy>=2.2.2 in /usr/local/lib/python3.7/dist-packages (from en_core_web_md==2.2.5) (2.2.3)\n",
            "Requirement already satisfied: numpy>=1.15.0 in /usr/local/lib/python3.7/dist-packages (from spacy>=2.2.2->en_core_web_md==2.2.5) (1.21.6)\n",
            "Requirement already satisfied: thinc<7.4.0,>=7.3.0 in /usr/local/lib/python3.7/dist-packages (from spacy>=2.2.2->en_core_web_md==2.2.5) (7.3.1)\n",
            "Requirement already satisfied: requests<3.0.0,>=2.13.0 in /usr/local/lib/python3.7/dist-packages (from spacy>=2.2.2->en_core_web_md==2.2.5) (2.23.0)\n",
            "Requirement already satisfied: murmurhash<1.1.0,>=0.28.0 in /usr/local/lib/python3.7/dist-packages (from spacy>=2.2.2->en_core_web_md==2.2.5) (1.0.7)\n",
            "Requirement already satisfied: blis<0.5.0,>=0.4.0 in /usr/local/lib/python3.7/dist-packages (from spacy>=2.2.2->en_core_web_md==2.2.5) (0.4.1)\n",
            "Requirement already satisfied: setuptools in /usr/local/lib/python3.7/dist-packages (from spacy>=2.2.2->en_core_web_md==2.2.5) (57.4.0)\n",
            "Requirement already satisfied: wasabi<1.1.0,>=0.4.0 in /usr/local/lib/python3.7/dist-packages (from spacy>=2.2.2->en_core_web_md==2.2.5) (0.9.1)\n",
            "Requirement already satisfied: cymem<2.1.0,>=2.0.2 in /usr/local/lib/python3.7/dist-packages (from spacy>=2.2.2->en_core_web_md==2.2.5) (2.0.6)\n",
            "Requirement already satisfied: srsly<1.1.0,>=0.1.0 in /usr/local/lib/python3.7/dist-packages (from spacy>=2.2.2->en_core_web_md==2.2.5) (1.0.5)\n",
            "Requirement already satisfied: preshed<3.1.0,>=3.0.2 in /usr/local/lib/python3.7/dist-packages (from spacy>=2.2.2->en_core_web_md==2.2.5) (3.0.6)\n",
            "Requirement already satisfied: plac<1.2.0,>=0.9.6 in /usr/local/lib/python3.7/dist-packages (from spacy>=2.2.2->en_core_web_md==2.2.5) (1.1.3)\n",
            "Requirement already satisfied: catalogue<1.1.0,>=0.0.7 in /usr/local/lib/python3.7/dist-packages (from spacy>=2.2.2->en_core_web_md==2.2.5) (1.0.0)\n",
            "Requirement already satisfied: importlib-metadata>=0.20 in /usr/local/lib/python3.7/dist-packages (from catalogue<1.1.0,>=0.0.7->spacy>=2.2.2->en_core_web_md==2.2.5) (4.11.4)\n",
            "Requirement already satisfied: typing-extensions>=3.6.4 in /usr/local/lib/python3.7/dist-packages (from importlib-metadata>=0.20->catalogue<1.1.0,>=0.0.7->spacy>=2.2.2->en_core_web_md==2.2.5) (4.1.1)\n",
            "Requirement already satisfied: zipp>=0.5 in /usr/local/lib/python3.7/dist-packages (from importlib-metadata>=0.20->catalogue<1.1.0,>=0.0.7->spacy>=2.2.2->en_core_web_md==2.2.5) (3.8.0)\n",
            "Requirement already satisfied: urllib3!=1.25.0,!=1.25.1,<1.26,>=1.21.1 in /usr/local/lib/python3.7/dist-packages (from requests<3.0.0,>=2.13.0->spacy>=2.2.2->en_core_web_md==2.2.5) (1.24.3)\n",
            "Requirement already satisfied: certifi>=2017.4.17 in /usr/local/lib/python3.7/dist-packages (from requests<3.0.0,>=2.13.0->spacy>=2.2.2->en_core_web_md==2.2.5) (2022.6.15)\n",
            "Requirement already satisfied: idna<3,>=2.5 in /usr/local/lib/python3.7/dist-packages (from requests<3.0.0,>=2.13.0->spacy>=2.2.2->en_core_web_md==2.2.5) (2.10)\n",
            "Requirement already satisfied: chardet<4,>=3.0.2 in /usr/local/lib/python3.7/dist-packages (from requests<3.0.0,>=2.13.0->spacy>=2.2.2->en_core_web_md==2.2.5) (3.0.4)\n",
            "Requirement already satisfied: tqdm<5.0.0,>=4.10.0 in /usr/local/lib/python3.7/dist-packages (from thinc<7.4.0,>=7.3.0->spacy>=2.2.2->en_core_web_md==2.2.5) (4.64.0)\n",
            "Building wheels for collected packages: en-core-web-md\n",
            "  Building wheel for en-core-web-md (setup.py) ... \u001b[?25l\u001b[?25hdone\n",
            "  Created wheel for en-core-web-md: filename=en_core_web_md-2.2.5-py3-none-any.whl size=98051301 sha256=0b71fbc312b810b9ab488ea33615912bf443b0f36cd9741a71d3474d26b2f94e\n",
            "  Stored in directory: /tmp/pip-ephem-wheel-cache-98sa4b0r/wheels/69/c5/b8/4f1c029d89238734311b3269762ab2ee325a42da2ce8edb997\n",
            "Successfully built en-core-web-md\n",
            "Installing collected packages: en-core-web-md\n",
            "Successfully installed en-core-web-md-2.2.5\n",
            "\u001b[38;5;2m✔ Download and installation successful\u001b[0m\n",
            "You can now load the model via spacy.load('en_core_web_md')\n"
          ]
        }
      ]
    },
    {
      "cell_type": "markdown",
      "metadata": {
        "id": "P5qOu0H6W33y"
      },
      "source": [
        "## 1.0.1 Restart runtime!\n",
        "On Colab, we need to restart runtime after this step, <br>\n",
        "or else Colab won't find spacy!"
      ]
    },
    {
      "cell_type": "markdown",
      "metadata": {
        "id": "jz_KxsK4WxL1"
      },
      "source": [
        "##1.0.2 Install dependencies"
      ]
    },
    {
      "cell_type": "code",
      "metadata": {
        "id": "Tw3GjX0eViA5",
        "colab": {
          "base_uri": "https://localhost:8080/"
        },
        "outputId": "1a07db9a-b11a-41f2-c4bf-90e6739c20be"
      },
      "source": [
        "# Dependencies for the week (instead of conda)\n",
        "# Run if you're using colab, otherwise you should have a local copy of the data\n",
        "!wget https://raw.githubusercontent.com/LambdaSchool/DS-Unit-4-Sprint-1-NLP/main/requirements.txt\n",
        "!pip install -r requirements.txt"
      ],
      "execution_count": null,
      "outputs": [
        {
          "output_type": "stream",
          "name": "stdout",
          "text": [
            "--2022-06-20 22:03:33--  https://raw.githubusercontent.com/LambdaSchool/DS-Unit-4-Sprint-1-NLP/main/requirements.txt\n",
            "Resolving raw.githubusercontent.com (raw.githubusercontent.com)... 185.199.108.133, 185.199.109.133, 185.199.110.133, ...\n",
            "Connecting to raw.githubusercontent.com (raw.githubusercontent.com)|185.199.108.133|:443... connected.\n",
            "HTTP request sent, awaiting response... 200 OK\n",
            "Length: 149 [text/plain]\n",
            "Saving to: ‘requirements.txt.2’\n",
            "\n",
            "\rrequirements.txt.2    0%[                    ]       0  --.-KB/s               \rrequirements.txt.2  100%[===================>]     149  --.-KB/s    in 0s      \n",
            "\n",
            "2022-06-20 22:03:33 (7.44 MB/s) - ‘requirements.txt.2’ saved [149/149]\n",
            "\n",
            "Looking in indexes: https://pypi.org/simple, https://us-python.pkg.dev/colab-wheels/public/simple/\n",
            "Requirement already satisfied: gensim==3.8.1 in /usr/local/lib/python3.7/dist-packages (from -r requirements.txt (line 1)) (3.8.1)\n",
            "Requirement already satisfied: pyLDAvis==2.1.2 in /usr/local/lib/python3.7/dist-packages (from -r requirements.txt (line 2)) (2.1.2)\n",
            "Requirement already satisfied: spacy==2.2.3 in /usr/local/lib/python3.7/dist-packages (from -r requirements.txt (line 3)) (2.2.3)\n",
            "Requirement already satisfied: scikit-learn==0.22.2 in /usr/local/lib/python3.7/dist-packages (from -r requirements.txt (line 4)) (0.22.2)\n",
            "Requirement already satisfied: seaborn==0.9.0 in /usr/local/lib/python3.7/dist-packages (from -r requirements.txt (line 5)) (0.9.0)\n",
            "Requirement already satisfied: squarify==0.4.3 in /usr/local/lib/python3.7/dist-packages (from -r requirements.txt (line 6)) (0.4.3)\n",
            "Requirement already satisfied: ipykernel in /usr/local/lib/python3.7/dist-packages (from -r requirements.txt (line 7)) (4.10.1)\n",
            "Requirement already satisfied: nltk in /usr/local/lib/python3.7/dist-packages (from -r requirements.txt (line 8)) (3.7)\n",
            "Requirement already satisfied: pandas in /usr/local/lib/python3.7/dist-packages (from -r requirements.txt (line 9)) (1.3.5)\n",
            "Requirement already satisfied: scipy in /usr/local/lib/python3.7/dist-packages (from -r requirements.txt (line 10)) (1.4.1)\n",
            "Requirement already satisfied: beautifulsoup4 in /usr/local/lib/python3.7/dist-packages (from -r requirements.txt (line 11)) (4.6.3)\n",
            "Requirement already satisfied: pandarallel in /usr/local/lib/python3.7/dist-packages (from -r requirements.txt (line 12)) (1.6.1)\n",
            "Requirement already satisfied: smart-open>=1.8.1 in /usr/local/lib/python3.7/dist-packages (from gensim==3.8.1->-r requirements.txt (line 1)) (5.2.1)\n",
            "Requirement already satisfied: numpy>=1.11.3 in /usr/local/lib/python3.7/dist-packages (from gensim==3.8.1->-r requirements.txt (line 1)) (1.21.6)\n",
            "Requirement already satisfied: six>=1.5.0 in /usr/local/lib/python3.7/dist-packages (from gensim==3.8.1->-r requirements.txt (line 1)) (1.15.0)\n",
            "Requirement already satisfied: joblib>=0.8.4 in /usr/local/lib/python3.7/dist-packages (from pyLDAvis==2.1.2->-r requirements.txt (line 2)) (1.1.0)\n",
            "Requirement already satisfied: pytest in /usr/local/lib/python3.7/dist-packages (from pyLDAvis==2.1.2->-r requirements.txt (line 2)) (3.6.4)\n",
            "Requirement already satisfied: numexpr in /usr/local/lib/python3.7/dist-packages (from pyLDAvis==2.1.2->-r requirements.txt (line 2)) (2.8.1)\n",
            "Requirement already satisfied: wheel>=0.23.0 in /usr/local/lib/python3.7/dist-packages (from pyLDAvis==2.1.2->-r requirements.txt (line 2)) (0.37.1)\n",
            "Requirement already satisfied: funcy in /usr/local/lib/python3.7/dist-packages (from pyLDAvis==2.1.2->-r requirements.txt (line 2)) (1.17)\n",
            "Requirement already satisfied: future in /usr/local/lib/python3.7/dist-packages (from pyLDAvis==2.1.2->-r requirements.txt (line 2)) (0.16.0)\n",
            "Requirement already satisfied: jinja2>=2.7.2 in /usr/local/lib/python3.7/dist-packages (from pyLDAvis==2.1.2->-r requirements.txt (line 2)) (2.11.3)\n",
            "Requirement already satisfied: cymem<2.1.0,>=2.0.2 in /usr/local/lib/python3.7/dist-packages (from spacy==2.2.3->-r requirements.txt (line 3)) (2.0.6)\n",
            "Requirement already satisfied: murmurhash<1.1.0,>=0.28.0 in /usr/local/lib/python3.7/dist-packages (from spacy==2.2.3->-r requirements.txt (line 3)) (1.0.7)\n",
            "Requirement already satisfied: requests<3.0.0,>=2.13.0 in /usr/local/lib/python3.7/dist-packages (from spacy==2.2.3->-r requirements.txt (line 3)) (2.23.0)\n",
            "Requirement already satisfied: plac<1.2.0,>=0.9.6 in /usr/local/lib/python3.7/dist-packages (from spacy==2.2.3->-r requirements.txt (line 3)) (1.1.3)\n",
            "Requirement already satisfied: thinc<7.4.0,>=7.3.0 in /usr/local/lib/python3.7/dist-packages (from spacy==2.2.3->-r requirements.txt (line 3)) (7.3.1)\n",
            "Requirement already satisfied: blis<0.5.0,>=0.4.0 in /usr/local/lib/python3.7/dist-packages (from spacy==2.2.3->-r requirements.txt (line 3)) (0.4.1)\n",
            "Requirement already satisfied: srsly<1.1.0,>=0.1.0 in /usr/local/lib/python3.7/dist-packages (from spacy==2.2.3->-r requirements.txt (line 3)) (1.0.5)\n",
            "Requirement already satisfied: setuptools in /usr/local/lib/python3.7/dist-packages (from spacy==2.2.3->-r requirements.txt (line 3)) (57.4.0)\n",
            "Requirement already satisfied: catalogue<1.1.0,>=0.0.7 in /usr/local/lib/python3.7/dist-packages (from spacy==2.2.3->-r requirements.txt (line 3)) (1.0.0)\n",
            "Requirement already satisfied: preshed<3.1.0,>=3.0.2 in /usr/local/lib/python3.7/dist-packages (from spacy==2.2.3->-r requirements.txt (line 3)) (3.0.6)\n",
            "Requirement already satisfied: wasabi<1.1.0,>=0.4.0 in /usr/local/lib/python3.7/dist-packages (from spacy==2.2.3->-r requirements.txt (line 3)) (0.9.1)\n",
            "Requirement already satisfied: matplotlib>=1.4.3 in /usr/local/lib/python3.7/dist-packages (from seaborn==0.9.0->-r requirements.txt (line 5)) (3.2.2)\n",
            "Requirement already satisfied: python-dateutil>=2.7.3 in /usr/local/lib/python3.7/dist-packages (from pandas->-r requirements.txt (line 9)) (2.8.2)\n",
            "Requirement already satisfied: pytz>=2017.3 in /usr/local/lib/python3.7/dist-packages (from pandas->-r requirements.txt (line 9)) (2022.1)\n",
            "Requirement already satisfied: importlib-metadata>=0.20 in /usr/local/lib/python3.7/dist-packages (from catalogue<1.1.0,>=0.0.7->spacy==2.2.3->-r requirements.txt (line 3)) (4.11.4)\n",
            "Requirement already satisfied: typing-extensions>=3.6.4 in /usr/local/lib/python3.7/dist-packages (from importlib-metadata>=0.20->catalogue<1.1.0,>=0.0.7->spacy==2.2.3->-r requirements.txt (line 3)) (4.1.1)\n",
            "Requirement already satisfied: zipp>=0.5 in /usr/local/lib/python3.7/dist-packages (from importlib-metadata>=0.20->catalogue<1.1.0,>=0.0.7->spacy==2.2.3->-r requirements.txt (line 3)) (3.8.0)\n",
            "Requirement already satisfied: MarkupSafe>=0.23 in /usr/local/lib/python3.7/dist-packages (from jinja2>=2.7.2->pyLDAvis==2.1.2->-r requirements.txt (line 2)) (2.0.1)\n",
            "Requirement already satisfied: kiwisolver>=1.0.1 in /usr/local/lib/python3.7/dist-packages (from matplotlib>=1.4.3->seaborn==0.9.0->-r requirements.txt (line 5)) (1.4.3)\n",
            "Requirement already satisfied: pyparsing!=2.0.4,!=2.1.2,!=2.1.6,>=2.0.1 in /usr/local/lib/python3.7/dist-packages (from matplotlib>=1.4.3->seaborn==0.9.0->-r requirements.txt (line 5)) (3.0.9)\n",
            "Requirement already satisfied: cycler>=0.10 in /usr/local/lib/python3.7/dist-packages (from matplotlib>=1.4.3->seaborn==0.9.0->-r requirements.txt (line 5)) (0.11.0)\n",
            "Requirement already satisfied: certifi>=2017.4.17 in /usr/local/lib/python3.7/dist-packages (from requests<3.0.0,>=2.13.0->spacy==2.2.3->-r requirements.txt (line 3)) (2022.6.15)\n",
            "Requirement already satisfied: chardet<4,>=3.0.2 in /usr/local/lib/python3.7/dist-packages (from requests<3.0.0,>=2.13.0->spacy==2.2.3->-r requirements.txt (line 3)) (3.0.4)\n",
            "Requirement already satisfied: idna<3,>=2.5 in /usr/local/lib/python3.7/dist-packages (from requests<3.0.0,>=2.13.0->spacy==2.2.3->-r requirements.txt (line 3)) (2.10)\n",
            "Requirement already satisfied: urllib3!=1.25.0,!=1.25.1,<1.26,>=1.21.1 in /usr/local/lib/python3.7/dist-packages (from requests<3.0.0,>=2.13.0->spacy==2.2.3->-r requirements.txt (line 3)) (1.24.3)\n",
            "Requirement already satisfied: tqdm<5.0.0,>=4.10.0 in /usr/local/lib/python3.7/dist-packages (from thinc<7.4.0,>=7.3.0->spacy==2.2.3->-r requirements.txt (line 3)) (4.64.0)\n",
            "Requirement already satisfied: jupyter-client in /usr/local/lib/python3.7/dist-packages (from ipykernel->-r requirements.txt (line 7)) (5.3.5)\n",
            "Requirement already satisfied: tornado>=4.0 in /usr/local/lib/python3.7/dist-packages (from ipykernel->-r requirements.txt (line 7)) (5.1.1)\n",
            "Requirement already satisfied: ipython>=4.0.0 in /usr/local/lib/python3.7/dist-packages (from ipykernel->-r requirements.txt (line 7)) (5.5.0)\n",
            "Requirement already satisfied: traitlets>=4.1.0 in /usr/local/lib/python3.7/dist-packages (from ipykernel->-r requirements.txt (line 7)) (5.1.1)\n",
            "Requirement already satisfied: simplegeneric>0.8 in /usr/local/lib/python3.7/dist-packages (from ipython>=4.0.0->ipykernel->-r requirements.txt (line 7)) (0.8.1)\n",
            "Requirement already satisfied: pexpect in /usr/local/lib/python3.7/dist-packages (from ipython>=4.0.0->ipykernel->-r requirements.txt (line 7)) (4.8.0)\n",
            "Requirement already satisfied: decorator in /usr/local/lib/python3.7/dist-packages (from ipython>=4.0.0->ipykernel->-r requirements.txt (line 7)) (4.4.2)\n",
            "Requirement already satisfied: pickleshare in /usr/local/lib/python3.7/dist-packages (from ipython>=4.0.0->ipykernel->-r requirements.txt (line 7)) (0.7.5)\n",
            "Requirement already satisfied: pygments in /usr/local/lib/python3.7/dist-packages (from ipython>=4.0.0->ipykernel->-r requirements.txt (line 7)) (2.6.1)\n",
            "Requirement already satisfied: prompt-toolkit<2.0.0,>=1.0.4 in /usr/local/lib/python3.7/dist-packages (from ipython>=4.0.0->ipykernel->-r requirements.txt (line 7)) (1.0.18)\n",
            "Requirement already satisfied: wcwidth in /usr/local/lib/python3.7/dist-packages (from prompt-toolkit<2.0.0,>=1.0.4->ipython>=4.0.0->ipykernel->-r requirements.txt (line 7)) (0.2.5)\n",
            "Requirement already satisfied: click in /usr/local/lib/python3.7/dist-packages (from nltk->-r requirements.txt (line 8)) (7.1.2)\n",
            "Requirement already satisfied: regex>=2021.8.3 in /usr/local/lib/python3.7/dist-packages (from nltk->-r requirements.txt (line 8)) (2022.6.2)\n",
            "Requirement already satisfied: dill>=0.3.1 in /usr/local/lib/python3.7/dist-packages (from pandarallel->-r requirements.txt (line 12)) (0.3.5.1)\n",
            "Requirement already satisfied: psutil in /usr/local/lib/python3.7/dist-packages (from pandarallel->-r requirements.txt (line 12)) (5.4.8)\n",
            "Requirement already satisfied: pyzmq>=13 in /usr/local/lib/python3.7/dist-packages (from jupyter-client->ipykernel->-r requirements.txt (line 7)) (23.1.0)\n",
            "Requirement already satisfied: jupyter-core>=4.6.0 in /usr/local/lib/python3.7/dist-packages (from jupyter-client->ipykernel->-r requirements.txt (line 7)) (4.10.0)\n",
            "Requirement already satisfied: packaging in /usr/local/lib/python3.7/dist-packages (from numexpr->pyLDAvis==2.1.2->-r requirements.txt (line 2)) (21.3)\n",
            "Requirement already satisfied: ptyprocess>=0.5 in /usr/local/lib/python3.7/dist-packages (from pexpect->ipython>=4.0.0->ipykernel->-r requirements.txt (line 7)) (0.7.0)\n",
            "Requirement already satisfied: pluggy<0.8,>=0.5 in /usr/local/lib/python3.7/dist-packages (from pytest->pyLDAvis==2.1.2->-r requirements.txt (line 2)) (0.7.1)\n",
            "Requirement already satisfied: atomicwrites>=1.0 in /usr/local/lib/python3.7/dist-packages (from pytest->pyLDAvis==2.1.2->-r requirements.txt (line 2)) (1.4.0)\n",
            "Requirement already satisfied: py>=1.5.0 in /usr/local/lib/python3.7/dist-packages (from pytest->pyLDAvis==2.1.2->-r requirements.txt (line 2)) (1.11.0)\n",
            "Requirement already satisfied: attrs>=17.4.0 in /usr/local/lib/python3.7/dist-packages (from pytest->pyLDAvis==2.1.2->-r requirements.txt (line 2)) (21.4.0)\n",
            "Requirement already satisfied: more-itertools>=4.0.0 in /usr/local/lib/python3.7/dist-packages (from pytest->pyLDAvis==2.1.2->-r requirements.txt (line 2)) (8.13.0)\n"
          ]
        }
      ]
    },
    {
      "cell_type": "markdown",
      "metadata": {
        "id": "UnFYpOSJXEiF"
      },
      "source": [
        "##1.0.3 Imports and such"
      ]
    },
    {
      "cell_type": "code",
      "metadata": {
        "id": "rnyNg8sQ6uEL",
        "colab": {
          "base_uri": "https://localhost:8080/"
        },
        "outputId": "4b37dd4e-77c2-44ba-bbaa-a454d22086a6"
      },
      "source": [
        "import re\n",
        "import numpy as np\n",
        "import pandas as pd\n",
        "from pprint import pprint\n",
        "\n",
        "import gensim\n",
        "import gensim.corpora as corpora\n",
        "from gensim.utils import simple_preprocess\n",
        "from gensim.models import CoherenceModel\n",
        "\n",
        "from sklearn.datasets import fetch_20newsgroups\n",
        "from pandarallel import pandarallel\n",
        "\n",
        "import spacy\n",
        "spacy.util.fix_random_seed(0)\n",
        "\n",
        "import pyLDAvis\n",
        "import pyLDAvis.gensim \n",
        "import matplotlib.pyplot as plt\n",
        "%matplotlib inline\n",
        "\n",
        "import warnings\n",
        "warnings.filterwarnings(\"ignore\")"
      ],
      "execution_count": null,
      "outputs": [
        {
          "output_type": "stream",
          "name": "stderr",
          "text": [
            "/usr/local/lib/python3.7/dist-packages/sklearn/linear_model/_least_angle.py:30: DeprecationWarning: `np.float` is a deprecated alias for the builtin `float`. To silence this warning, use `float` by itself. Doing this will not modify any behavior and is safe. If you specifically wanted the numpy scalar type, use `np.float64` here.\n",
            "Deprecated in NumPy 1.20; for more details and guidance: https://numpy.org/devdocs/release/1.20.0-notes.html#deprecations\n",
            "  method='lar', copy_X=True, eps=np.finfo(np.float).eps,\n",
            "/usr/local/lib/python3.7/dist-packages/sklearn/linear_model/_least_angle.py:169: DeprecationWarning: `np.float` is a deprecated alias for the builtin `float`. To silence this warning, use `float` by itself. Doing this will not modify any behavior and is safe. If you specifically wanted the numpy scalar type, use `np.float64` here.\n",
            "Deprecated in NumPy 1.20; for more details and guidance: https://numpy.org/devdocs/release/1.20.0-notes.html#deprecations\n",
            "  method='lar', copy_X=True, eps=np.finfo(np.float).eps,\n",
            "/usr/local/lib/python3.7/dist-packages/sklearn/linear_model/_least_angle.py:286: DeprecationWarning: `np.float` is a deprecated alias for the builtin `float`. To silence this warning, use `float` by itself. Doing this will not modify any behavior and is safe. If you specifically wanted the numpy scalar type, use `np.float64` here.\n",
            "Deprecated in NumPy 1.20; for more details and guidance: https://numpy.org/devdocs/release/1.20.0-notes.html#deprecations\n",
            "  eps=np.finfo(np.float).eps, copy_Gram=True, verbose=0,\n",
            "/usr/local/lib/python3.7/dist-packages/sklearn/linear_model/_least_angle.py:858: DeprecationWarning: `np.float` is a deprecated alias for the builtin `float`. To silence this warning, use `float` by itself. Doing this will not modify any behavior and is safe. If you specifically wanted the numpy scalar type, use `np.float64` here.\n",
            "Deprecated in NumPy 1.20; for more details and guidance: https://numpy.org/devdocs/release/1.20.0-notes.html#deprecations\n",
            "  eps=np.finfo(np.float).eps, copy_X=True, fit_path=True):\n",
            "/usr/local/lib/python3.7/dist-packages/sklearn/linear_model/_least_angle.py:1094: DeprecationWarning: `np.float` is a deprecated alias for the builtin `float`. To silence this warning, use `float` by itself. Doing this will not modify any behavior and is safe. If you specifically wanted the numpy scalar type, use `np.float64` here.\n",
            "Deprecated in NumPy 1.20; for more details and guidance: https://numpy.org/devdocs/release/1.20.0-notes.html#deprecations\n",
            "  eps=np.finfo(np.float).eps, copy_X=True, fit_path=True,\n",
            "/usr/local/lib/python3.7/dist-packages/sklearn/linear_model/_least_angle.py:1120: DeprecationWarning: `np.float` is a deprecated alias for the builtin `float`. To silence this warning, use `float` by itself. Doing this will not modify any behavior and is safe. If you specifically wanted the numpy scalar type, use `np.float64` here.\n",
            "Deprecated in NumPy 1.20; for more details and guidance: https://numpy.org/devdocs/release/1.20.0-notes.html#deprecations\n",
            "  eps=np.finfo(np.float).eps, positive=False):\n",
            "/usr/local/lib/python3.7/dist-packages/sklearn/linear_model/_least_angle.py:1349: DeprecationWarning: `np.float` is a deprecated alias for the builtin `float`. To silence this warning, use `float` by itself. Doing this will not modify any behavior and is safe. If you specifically wanted the numpy scalar type, use `np.float64` here.\n",
            "Deprecated in NumPy 1.20; for more details and guidance: https://numpy.org/devdocs/release/1.20.0-notes.html#deprecations\n",
            "  max_n_alphas=1000, n_jobs=None, eps=np.finfo(np.float).eps,\n",
            "/usr/local/lib/python3.7/dist-packages/sklearn/linear_model/_least_angle.py:1590: DeprecationWarning: `np.float` is a deprecated alias for the builtin `float`. To silence this warning, use `float` by itself. Doing this will not modify any behavior and is safe. If you specifically wanted the numpy scalar type, use `np.float64` here.\n",
            "Deprecated in NumPy 1.20; for more details and guidance: https://numpy.org/devdocs/release/1.20.0-notes.html#deprecations\n",
            "  max_n_alphas=1000, n_jobs=None, eps=np.finfo(np.float).eps,\n",
            "/usr/local/lib/python3.7/dist-packages/sklearn/linear_model/_least_angle.py:1723: DeprecationWarning: `np.float` is a deprecated alias for the builtin `float`. To silence this warning, use `float` by itself. Doing this will not modify any behavior and is safe. If you specifically wanted the numpy scalar type, use `np.float64` here.\n",
            "Deprecated in NumPy 1.20; for more details and guidance: https://numpy.org/devdocs/release/1.20.0-notes.html#deprecations\n",
            "  eps=np.finfo(np.float).eps, copy_X=True, positive=False):\n",
            "/usr/local/lib/python3.7/dist-packages/sklearn/decomposition/_lda.py:29: DeprecationWarning: `np.float` is a deprecated alias for the builtin `float`. To silence this warning, use `float` by itself. Doing this will not modify any behavior and is safe. If you specifically wanted the numpy scalar type, use `np.float64` here.\n",
            "Deprecated in NumPy 1.20; for more details and guidance: https://numpy.org/devdocs/release/1.20.0-notes.html#deprecations\n",
            "  EPS = np.finfo(np.float).eps\n"
          ]
        }
      ]
    },
    {
      "cell_type": "markdown",
      "metadata": {
        "id": "xbZjG6U86uEe"
      },
      "source": [
        "# Part 1: Building a Latent Dirichlet Allocation (LDA) Topic Model with Gensim\n",
        "\n",
        "Our goal in this module is to get hands-on experience in how to build and train a Latent Dirichlet Allocation topic model using the **Gensim** library. \n",
        "\n",
        "## 1.1 Latent Dirichlet Allocation (LDA) \n",
        "is a more sophisticated method of topic modelling than Latent Semantic Indexing (LSI) which we used in Module 2. Because of its complexity, a full discussion of the machinery of LDA is beyond the scope of Unit 4. We'll focus on a high level of understanding of Latent Dirichlet Allocation, meaning we'll emphasize \"what it does\" rather than \"how it does it\". \n",
        "\n",
        "LDA takes as input the corpora of documents and the number of topics that you want to identify. LDA models topics as probability distributions over words, and it models documents as probability distributions over topics.\n",
        "\n",
        "LDA is a generative probabilistic model. That means it can generate documents from probability distributions. Given an article length (number of words), an assumed probability distribution of topics, and an assumed distribution of words for each topic, LDA can generate an article, in the form of a bag of words. LDA works by starting with random distributions of words over topics and  topics over documents, then iteratively adjust these probability distributions until the generated documents are similar in structure to the input documents.\n",
        "\n",
        "\n",
        "\n"
      ]
    },
    {
      "cell_type": "markdown",
      "metadata": {
        "id": "-EoWE7MpVKkz"
      },
      "source": [
        "### 1.1.1 Resources for LDA\n",
        "\n",
        "[**Your Guide to Latent Dirichlet Allocation**](https://medium.com/@lettier/how-does-lda-work-ill-explain-using-emoji-108abf40fa7d) is a highly recommended Medium article that works through an example of LDA in elementary terms\n",
        "\n",
        "[**LDA Topic Modeling**](https://lettier.com/projects/lda-topic-modeling/) is an interactive data visualization tool -- created by the author of the above article -- that allows us to explore a simple and visual example of LDA.\n",
        "\n",
        "[**Topic Modeling with Gensim**](https://www.machinelearningplus.com/nlp/topic-modeling-gensim-python/) disccusses an example implementing LDA using the same dataset that we are using in this guided project.  \n",
        "\n",
        "Luis Serrano's video [**Latent Dirichlet Allocation**](https://youtu.be/T05t-SqKArY) does a great job of breaking down and explaining LDA in an understandable way.\n",
        "\n"
      ]
    },
    {
      "cell_type": "markdown",
      "metadata": {
        "id": "8BDAv24nQSsx"
      },
      "source": [
        "### 1.1.2 Further discussion of LDA (Optional)\n",
        "\n",
        "LDA is a [**Probabilistic Graphical Model (PGM)**](https://en.wikipedia.org/wiki/Graphical_model)\n",
        "\n",
        "A PGM can be represented by a graph that expresses the conditional dependence structure between random variables. Here's a graphical representation of the LDA model: \n",
        "\n",
        "![](https://filebox.ece.vt.edu/~s14ece6504/projects/alfadda_topic/main_figure_3.png)\n",
        "\n",
        "The image shows the hierarchical dependency between probability distributions and their parameters. This is an application of Hierarchical Bayesian Modeling. \n",
        "\n",
        "In order to understand how LDA works, one must first understand how PGMs work, which is beyond the scope of Unit 4. If this is something that you're interested in learning more about, here are some resources: \n",
        "\n",
        "This Github repo that has transformed a textbook in a collection of Jupyter Notebooks. This repo is called [**\"Bayesian Methods for Hackers\"**](https://github.com/CamDavidsonPilon/Probabilistic-Programming-and-Bayesian-Methods-for-Hackers) <br>\n",
        "The cool thing about this repo is that each chapter covers the same material using four popular python probabilistic modeling libraries: **PyMC2, PyMC3, Pyro, and Tensorflow Probability.** So you can choose your preferred library.\n",
        "\n",
        "[**Pyro**](https://pyro.ai/) is considered a very powerful probabilistic programming library that even combines probabilistic programming with deep learning. "
      ]
    },
    {
      "cell_type": "markdown",
      "metadata": {
        "id": "cQQm9Q5uSVmu"
      },
      "source": [
        "## 1.2 Preparing our text data set for LDA topic modeling with `gensim`\n",
        "For this guided project we'll work with the `20newsgroups` data set that is  familiar from Module 3, but we'll extract articles from a different set of categories.<br><br>\n",
        "`gensim` is a Natural Language Processing Library, specialized for Topic Modeling applications. The two main inputs required for a `gensim` LDA topic model are the dictionary (`id2word`) and the `corpus`.<br><br>\n",
        "`id2word` is a special object created by `gensim` that keeps track of the mapping from text to numerical index, and the mapping from numerical index back to text <br><br>\n",
        "The `corpus` is a specially formatted list containing information about each document. Though its format is different, is essentially equivalent to the document-term matrix that we used with `sklearn`.<br>\n",
        "\n",
        "In this section, we will first download and clean the raw text documents, then use `spacy` to tokenize and lemmatize them. Then we'll use `gensim` to create the `id2word` and `corpus` objects that we need for topic modeling with `gensim`<br>\n",
        "\n",
        "In Part 2, we'll build and train the LDA topic model in `gensim`.\n",
        "\n",
        "References: \n",
        "- [Gensim Tutorial – A Complete Beginners Guide](https://www.machinelearningplus.com/nlp/gensim-tutorial/)\n",
        "- [Topic Modeling with Gensim (Python)](https://www.machinelearningplus.com/nlp/topic-modeling-gensim-python/)"
      ]
    },
    {
      "cell_type": "markdown",
      "metadata": {
        "id": "0DKwP9e1VKk0"
      },
      "source": [
        "# Problem Statement\n",
        "\n",
        "\n",
        "\n",
        "We'll extract articles belonging to the following four topics (as assigned in the 20newsgroups database)\n",
        "\n",
        "    sci\n",
        "        \\_ electronics, space\n",
        "\n",
        "\n",
        "    talk\n",
        "        \\_politics \n",
        "                  \\_ guns, middle east\n",
        "              \n",
        "What's the best way to categorize these emails - is it between science and talk? \n",
        "\n",
        "Or it between electronics, space, guns, and the Middle East? \n",
        "\n",
        "The Middle East is a pretty broad topic in and of itself, should that topic be broken down into further sub-topics?\n",
        "\n",
        "Let's learn about Topic Modeling and how it can help us answer these questions!\n",
        "\n",
        "### Load Email Corpus\n"
      ]
    },
    {
      "cell_type": "code",
      "metadata": {
        "id": "m1S6oYNoVKk0"
      },
      "source": [
        "# notice that the categories are hierarchical\n",
        "# so there is a sense in which we have 2 topics, but also as many as 4 topics  \n",
        "categories = ['sci.electronics', 'sci.space', \n",
        "              'talk.politics.guns', 'talk.politics.mideast']\n",
        "data = fetch_20newsgroups(subset='all', \n",
        "                          remove=('headers', 'footers', 'quotes'),\n",
        "                          random_state=42, shuffle=True,\n",
        "                          categories=categories)"
      ],
      "execution_count": null,
      "outputs": []
    },
    {
      "cell_type": "code",
      "metadata": {
        "colab": {
          "base_uri": "https://localhost:8080/"
        },
        "id": "jcoCMzdZOvCF",
        "outputId": "ae7157c0-1d65-45a4-fae1-54937567ffbe"
      },
      "source": [
        "dir(data)"
      ],
      "execution_count": null,
      "outputs": [
        {
          "output_type": "execute_result",
          "data": {
            "text/plain": [
              "['DESCR', 'data', 'filenames', 'target', 'target_names']"
            ]
          },
          "metadata": {},
          "execution_count": 30
        }
      ]
    },
    {
      "cell_type": "code",
      "source": [
        "#This will be our x\n",
        "data['data']"
      ],
      "metadata": {
        "id": "GpNZJA6JAuGH"
      },
      "execution_count": null,
      "outputs": []
    },
    {
      "cell_type": "code",
      "source": [
        "data['target_names']"
      ],
      "metadata": {
        "colab": {
          "base_uri": "https://localhost:8080/"
        },
        "id": "f87ki0cyAmEh",
        "outputId": "c5c89484-ad8f-45ec-bdf0-de444b6b0042"
      },
      "execution_count": null,
      "outputs": [
        {
          "output_type": "execute_result",
          "data": {
            "text/plain": [
              "['sci.electronics', 'sci.space', 'talk.politics.guns', 'talk.politics.mideast']"
            ]
          },
          "metadata": {},
          "execution_count": 33
        }
      ]
    },
    {
      "cell_type": "code",
      "source": [
        "#This will be our target \"y\"\n",
        "data['target']"
      ],
      "metadata": {
        "colab": {
          "base_uri": "https://localhost:8080/"
        },
        "id": "9BEZeCAbAiyU",
        "outputId": "e05c9e45-f90b-4f45-c0f5-a3fb0887db9e"
      },
      "execution_count": null,
      "outputs": [
        {
          "output_type": "execute_result",
          "data": {
            "text/plain": [
              "array([2, 2, 1, ..., 2, 0, 0])"
            ]
          },
          "metadata": {},
          "execution_count": 34
        }
      ]
    },
    {
      "cell_type": "code",
      "metadata": {
        "nbgrader": {
          "grade": false,
          "grade_id": "cell-3240b1c818e9dcc2",
          "locked": false,
          "schema_version": 3,
          "solution": true,
          "task": false
        },
        "id": "Dwck_6IGVKk1"
      },
      "source": [
        "# create X and y from data, as we did in the Module 3 Lecture notebook\n",
        "\n",
        "###BEGIN SOLUTION\n",
        "X = data.data\n",
        "y = data.target\n",
        "target_names = data.target_names\n",
        "###END SOLUTION"
      ],
      "execution_count": null,
      "outputs": []
    },
    {
      "cell_type": "code",
      "source": [
        "target_names"
      ],
      "metadata": {
        "colab": {
          "base_uri": "https://localhost:8080/"
        },
        "id": "u6_dxJCsVAIG",
        "outputId": "1e50f88a-081c-4a48-d6dc-feef5df3fe67"
      },
      "execution_count": null,
      "outputs": [
        {
          "output_type": "execute_result",
          "data": {
            "text/plain": [
              "['sci.electronics', 'sci.space', 'talk.politics.guns', 'talk.politics.mideast']"
            ]
          },
          "metadata": {},
          "execution_count": 36
        }
      ]
    },
    {
      "cell_type": "markdown",
      "metadata": {
        "id": "RDyRewBO0jxV"
      },
      "source": [
        "What are the possible targets (labels)"
      ]
    },
    {
      "cell_type": "code",
      "metadata": {
        "colab": {
          "base_uri": "https://localhost:8080/"
        },
        "id": "WYlSl1Wd0ffZ",
        "outputId": "16fabcc2-22ec-488e-f5e5-28796dd5bd8e"
      },
      "source": [
        "np.unique(y)"
      ],
      "execution_count": null,
      "outputs": [
        {
          "output_type": "execute_result",
          "data": {
            "text/plain": [
              "array([0, 1, 2, 3])"
            ]
          },
          "metadata": {},
          "execution_count": 5
        }
      ]
    },
    {
      "cell_type": "markdown",
      "metadata": {
        "id": "L2hCP-jl0rTM"
      },
      "source": [
        "What are the newsgroup names that correspond to the labels?"
      ]
    },
    {
      "cell_type": "code",
      "metadata": {
        "colab": {
          "base_uri": "https://localhost:8080/"
        },
        "id": "LYeL6zoJz13R",
        "outputId": "0d664662-59ae-42cb-e52d-82d20e223fda"
      },
      "source": [
        "target_names"
      ],
      "execution_count": null,
      "outputs": [
        {
          "output_type": "execute_result",
          "data": {
            "text/plain": [
              "['sci.electronics', 'sci.space', 'talk.politics.guns', 'talk.politics.mideast']"
            ]
          },
          "metadata": {},
          "execution_count": 38
        }
      ]
    },
    {
      "cell_type": "markdown",
      "metadata": {
        "id": "XdWJolpB06Au"
      },
      "source": [
        "Create a data frame with columns for the documents, the newsgroup names, and their numerical labels."
      ]
    },
    {
      "cell_type": "code",
      "metadata": {
        "id": "qaMsy1XAGLxc"
      },
      "source": [
        "data_dict = {\n",
        "    'content': X,\n",
        "    'target': y,\n",
        "    'target_names': [target_names[target_index] for target_index in y]\n",
        "}\n",
        "\n",
        "df = pd.DataFrame(data=data_dict)"
      ],
      "execution_count": null,
      "outputs": []
    },
    {
      "cell_type": "code",
      "metadata": {
        "colab": {
          "base_uri": "https://localhost:8080/",
          "height": 206
        },
        "id": "SPjmhiwoIxW9",
        "outputId": "34812257-b903-46b9-8070-36f77a2b03f7"
      },
      "source": [
        "df.head()"
      ],
      "execution_count": null,
      "outputs": [
        {
          "output_type": "execute_result",
          "data": {
            "text/plain": [
              "                                             content  target  \\\n",
              "0    [...]\\n\\nSome of the Davidians *are* black.\\...       2   \n",
              "1  \\n\\n       How about \"firearm related.\"\\n\\n\\n ...       2   \n",
              "2  ==========================\\n                  ...       1   \n",
              "3  From: \"Phil G. Fraering\" <pgf@srl03.cacs.usl.e...       1   \n",
              "4  From article <93859@hydra.gatech.EDU>, by gs26...       2   \n",
              "\n",
              "         target_names  \n",
              "0  talk.politics.guns  \n",
              "1  talk.politics.guns  \n",
              "2           sci.space  \n",
              "3           sci.space  \n",
              "4  talk.politics.guns  "
            ],
            "text/html": [
              "\n",
              "  <div id=\"df-a8c92fb1-9ffc-4629-8aa8-95064c34d796\">\n",
              "    <div class=\"colab-df-container\">\n",
              "      <div>\n",
              "<style scoped>\n",
              "    .dataframe tbody tr th:only-of-type {\n",
              "        vertical-align: middle;\n",
              "    }\n",
              "\n",
              "    .dataframe tbody tr th {\n",
              "        vertical-align: top;\n",
              "    }\n",
              "\n",
              "    .dataframe thead th {\n",
              "        text-align: right;\n",
              "    }\n",
              "</style>\n",
              "<table border=\"1\" class=\"dataframe\">\n",
              "  <thead>\n",
              "    <tr style=\"text-align: right;\">\n",
              "      <th></th>\n",
              "      <th>content</th>\n",
              "      <th>target</th>\n",
              "      <th>target_names</th>\n",
              "    </tr>\n",
              "  </thead>\n",
              "  <tbody>\n",
              "    <tr>\n",
              "      <th>0</th>\n",
              "      <td>[...]\\n\\nSome of the Davidians *are* black.\\...</td>\n",
              "      <td>2</td>\n",
              "      <td>talk.politics.guns</td>\n",
              "    </tr>\n",
              "    <tr>\n",
              "      <th>1</th>\n",
              "      <td>\\n\\n       How about \"firearm related.\"\\n\\n\\n ...</td>\n",
              "      <td>2</td>\n",
              "      <td>talk.politics.guns</td>\n",
              "    </tr>\n",
              "    <tr>\n",
              "      <th>2</th>\n",
              "      <td>==========================\\n                  ...</td>\n",
              "      <td>1</td>\n",
              "      <td>sci.space</td>\n",
              "    </tr>\n",
              "    <tr>\n",
              "      <th>3</th>\n",
              "      <td>From: \"Phil G. Fraering\" &lt;pgf@srl03.cacs.usl.e...</td>\n",
              "      <td>1</td>\n",
              "      <td>sci.space</td>\n",
              "    </tr>\n",
              "    <tr>\n",
              "      <th>4</th>\n",
              "      <td>From article &lt;93859@hydra.gatech.EDU&gt;, by gs26...</td>\n",
              "      <td>2</td>\n",
              "      <td>talk.politics.guns</td>\n",
              "    </tr>\n",
              "  </tbody>\n",
              "</table>\n",
              "</div>\n",
              "      <button class=\"colab-df-convert\" onclick=\"convertToInteractive('df-a8c92fb1-9ffc-4629-8aa8-95064c34d796')\"\n",
              "              title=\"Convert this dataframe to an interactive table.\"\n",
              "              style=\"display:none;\">\n",
              "        \n",
              "  <svg xmlns=\"http://www.w3.org/2000/svg\" height=\"24px\"viewBox=\"0 0 24 24\"\n",
              "       width=\"24px\">\n",
              "    <path d=\"M0 0h24v24H0V0z\" fill=\"none\"/>\n",
              "    <path d=\"M18.56 5.44l.94 2.06.94-2.06 2.06-.94-2.06-.94-.94-2.06-.94 2.06-2.06.94zm-11 1L8.5 8.5l.94-2.06 2.06-.94-2.06-.94L8.5 2.5l-.94 2.06-2.06.94zm10 10l.94 2.06.94-2.06 2.06-.94-2.06-.94-.94-2.06-.94 2.06-2.06.94z\"/><path d=\"M17.41 7.96l-1.37-1.37c-.4-.4-.92-.59-1.43-.59-.52 0-1.04.2-1.43.59L10.3 9.45l-7.72 7.72c-.78.78-.78 2.05 0 2.83L4 21.41c.39.39.9.59 1.41.59.51 0 1.02-.2 1.41-.59l7.78-7.78 2.81-2.81c.8-.78.8-2.07 0-2.86zM5.41 20L4 18.59l7.72-7.72 1.47 1.35L5.41 20z\"/>\n",
              "  </svg>\n",
              "      </button>\n",
              "      \n",
              "  <style>\n",
              "    .colab-df-container {\n",
              "      display:flex;\n",
              "      flex-wrap:wrap;\n",
              "      gap: 12px;\n",
              "    }\n",
              "\n",
              "    .colab-df-convert {\n",
              "      background-color: #E8F0FE;\n",
              "      border: none;\n",
              "      border-radius: 50%;\n",
              "      cursor: pointer;\n",
              "      display: none;\n",
              "      fill: #1967D2;\n",
              "      height: 32px;\n",
              "      padding: 0 0 0 0;\n",
              "      width: 32px;\n",
              "    }\n",
              "\n",
              "    .colab-df-convert:hover {\n",
              "      background-color: #E2EBFA;\n",
              "      box-shadow: 0px 1px 2px rgba(60, 64, 67, 0.3), 0px 1px 3px 1px rgba(60, 64, 67, 0.15);\n",
              "      fill: #174EA6;\n",
              "    }\n",
              "\n",
              "    [theme=dark] .colab-df-convert {\n",
              "      background-color: #3B4455;\n",
              "      fill: #D2E3FC;\n",
              "    }\n",
              "\n",
              "    [theme=dark] .colab-df-convert:hover {\n",
              "      background-color: #434B5C;\n",
              "      box-shadow: 0px 1px 3px 1px rgba(0, 0, 0, 0.15);\n",
              "      filter: drop-shadow(0px 1px 2px rgba(0, 0, 0, 0.3));\n",
              "      fill: #FFFFFF;\n",
              "    }\n",
              "  </style>\n",
              "\n",
              "      <script>\n",
              "        const buttonEl =\n",
              "          document.querySelector('#df-a8c92fb1-9ffc-4629-8aa8-95064c34d796 button.colab-df-convert');\n",
              "        buttonEl.style.display =\n",
              "          google.colab.kernel.accessAllowed ? 'block' : 'none';\n",
              "\n",
              "        async function convertToInteractive(key) {\n",
              "          const element = document.querySelector('#df-a8c92fb1-9ffc-4629-8aa8-95064c34d796');\n",
              "          const dataTable =\n",
              "            await google.colab.kernel.invokeFunction('convertToInteractive',\n",
              "                                                     [key], {});\n",
              "          if (!dataTable) return;\n",
              "\n",
              "          const docLinkHtml = 'Like what you see? Visit the ' +\n",
              "            '<a target=\"_blank\" href=https://colab.research.google.com/notebooks/data_table.ipynb>data table notebook</a>'\n",
              "            + ' to learn more about interactive tables.';\n",
              "          element.innerHTML = '';\n",
              "          dataTable['output_type'] = 'display_data';\n",
              "          await google.colab.output.renderOutput(dataTable, element);\n",
              "          const docLink = document.createElement('div');\n",
              "          docLink.innerHTML = docLinkHtml;\n",
              "          element.appendChild(docLink);\n",
              "        }\n",
              "      </script>\n",
              "    </div>\n",
              "  </div>\n",
              "  "
            ]
          },
          "metadata": {},
          "execution_count": 7
        }
      ]
    },
    {
      "cell_type": "code",
      "metadata": {
        "colab": {
          "base_uri": "https://localhost:8080/"
        },
        "id": "oGzpn4-rkApZ",
        "outputId": "d240f37f-4153-4ae2-dcbe-6327f6684a6c"
      },
      "source": [
        "len(df)"
      ],
      "execution_count": null,
      "outputs": [
        {
          "output_type": "execute_result",
          "data": {
            "text/plain": [
              "3821"
            ]
          },
          "metadata": {},
          "execution_count": 41
        }
      ]
    },
    {
      "cell_type": "markdown",
      "metadata": {
        "id": "VAFPzaPe1pN0"
      },
      "source": [
        "Re-use our `clean_data()` helper function from Module 3."
      ]
    },
    {
      "cell_type": "code",
      "metadata": {
        "id": "na2bkOcFGter",
        "nbgrader": {
          "grade": false,
          "grade_id": "cell-6ce62b4e40acee5f",
          "locked": false,
          "schema_version": 3,
          "solution": true,
          "task": false
        }
      },
      "source": [
        "def clean_data(text):\n",
        "    \"\"\"\n",
        "    Accepts a single text document and performs several regex substitutions in order to clean the document. \n",
        "    \n",
        "    Parameters\n",
        "    ----------\n",
        "    text: string or object \n",
        "    \n",
        "    Returns\n",
        "    -------\n",
        "    text: string or object\n",
        "    \"\"\"\n",
        "    \n",
        "    # order of operations - apply the expression from top to bottom\n",
        "    # email_regex = \"@\\S*\\S*\\s?\"\n",
        "    # non_alpha = '[^a-zA-Z]'  #this would remove numbers\n",
        "    # multi_white_spaces = \"[ ]{2,}\"\n",
        "    \n",
        "    # text = re.sub(email_regex, \"\", text)\n",
        "    # text = re.sub(non_alpha, ' ', text)\n",
        "    # text = re.sub(multi_white_spaces, \" \", text)\n",
        "\n",
        "#THIS IS THE VERSION THAT WE LIKE\n",
        "    text = re.sub('\\S+@\\S+.\\S+', 'EMAIL', text)\n",
        "    #text = re.sub('[^a-zA-Z0-9 ]', ' ', text)\n",
        "    text = re.sub('[ ]{2,}', ' ', text)\n",
        "    \n",
        "    # apply case normalization \n",
        "    return text.lower().strip()"
      ],
      "execution_count": null,
      "outputs": []
    },
    {
      "cell_type": "markdown",
      "metadata": {
        "id": "BW5PRKbP10Q8"
      },
      "source": [
        "Clean the text string data and save it in a new column"
      ]
    },
    {
      "cell_type": "code",
      "metadata": {
        "id": "kQo1o1lSVKk4"
      },
      "source": [
        "df[\"clean_data\"] = df[\"content\"].apply(clean_data)"
      ],
      "execution_count": null,
      "outputs": []
    },
    {
      "cell_type": "code",
      "metadata": {
        "id": "4L_0TRh-VKk4",
        "colab": {
          "base_uri": "https://localhost:8080/",
          "height": 374
        },
        "outputId": "bed8ac83-ecf5-43aa-9e6a-5394ccc0e98c"
      },
      "source": [
        "df.head()"
      ],
      "execution_count": null,
      "outputs": [
        {
          "output_type": "execute_result",
          "data": {
            "text/plain": [
              "                                             content  target  \\\n",
              "0    [...]\\n\\nSome of the Davidians *are* black.\\...       2   \n",
              "1  \\n\\n       How about \"firearm related.\"\\n\\n\\n ...       2   \n",
              "2  ==========================\\n                  ...       1   \n",
              "3  From: \"Phil G. Fraering\" <pgf@srl03.cacs.usl.e...       1   \n",
              "4  From article <93859@hydra.gatech.EDU>, by gs26...       2   \n",
              "\n",
              "         target_names                                         clean_data  \n",
              "0  talk.politics.guns  [...]\\n\\nsome of the davidians *are* black.\\n\\...  \n",
              "1  talk.politics.guns  how about \"firearm related.\"\\n\\n\\n texas is un...  \n",
              "2           sci.space  ==========================\\n ozone gif images\\...  \n",
              "3           sci.space  from: \"phil g. fraering\" email\\n >> finally: t...  \n",
              "4  talk.politics.guns  from article email email r. stone):\\n\\ni secon...  "
            ],
            "text/html": [
              "\n",
              "  <div id=\"df-43d0fe39-5dac-476c-b878-d1e44d60180d\">\n",
              "    <div class=\"colab-df-container\">\n",
              "      <div>\n",
              "<style scoped>\n",
              "    .dataframe tbody tr th:only-of-type {\n",
              "        vertical-align: middle;\n",
              "    }\n",
              "\n",
              "    .dataframe tbody tr th {\n",
              "        vertical-align: top;\n",
              "    }\n",
              "\n",
              "    .dataframe thead th {\n",
              "        text-align: right;\n",
              "    }\n",
              "</style>\n",
              "<table border=\"1\" class=\"dataframe\">\n",
              "  <thead>\n",
              "    <tr style=\"text-align: right;\">\n",
              "      <th></th>\n",
              "      <th>content</th>\n",
              "      <th>target</th>\n",
              "      <th>target_names</th>\n",
              "      <th>clean_data</th>\n",
              "    </tr>\n",
              "  </thead>\n",
              "  <tbody>\n",
              "    <tr>\n",
              "      <th>0</th>\n",
              "      <td>[...]\\n\\nSome of the Davidians *are* black.\\...</td>\n",
              "      <td>2</td>\n",
              "      <td>talk.politics.guns</td>\n",
              "      <td>[...]\\n\\nsome of the davidians *are* black.\\n\\...</td>\n",
              "    </tr>\n",
              "    <tr>\n",
              "      <th>1</th>\n",
              "      <td>\\n\\n       How about \"firearm related.\"\\n\\n\\n ...</td>\n",
              "      <td>2</td>\n",
              "      <td>talk.politics.guns</td>\n",
              "      <td>how about \"firearm related.\"\\n\\n\\n texas is un...</td>\n",
              "    </tr>\n",
              "    <tr>\n",
              "      <th>2</th>\n",
              "      <td>==========================\\n                  ...</td>\n",
              "      <td>1</td>\n",
              "      <td>sci.space</td>\n",
              "      <td>==========================\\n ozone gif images\\...</td>\n",
              "    </tr>\n",
              "    <tr>\n",
              "      <th>3</th>\n",
              "      <td>From: \"Phil G. Fraering\" &lt;pgf@srl03.cacs.usl.e...</td>\n",
              "      <td>1</td>\n",
              "      <td>sci.space</td>\n",
              "      <td>from: \"phil g. fraering\" email\\n &gt;&gt; finally: t...</td>\n",
              "    </tr>\n",
              "    <tr>\n",
              "      <th>4</th>\n",
              "      <td>From article &lt;93859@hydra.gatech.EDU&gt;, by gs26...</td>\n",
              "      <td>2</td>\n",
              "      <td>talk.politics.guns</td>\n",
              "      <td>from article email email r. stone):\\n\\ni secon...</td>\n",
              "    </tr>\n",
              "  </tbody>\n",
              "</table>\n",
              "</div>\n",
              "      <button class=\"colab-df-convert\" onclick=\"convertToInteractive('df-43d0fe39-5dac-476c-b878-d1e44d60180d')\"\n",
              "              title=\"Convert this dataframe to an interactive table.\"\n",
              "              style=\"display:none;\">\n",
              "        \n",
              "  <svg xmlns=\"http://www.w3.org/2000/svg\" height=\"24px\"viewBox=\"0 0 24 24\"\n",
              "       width=\"24px\">\n",
              "    <path d=\"M0 0h24v24H0V0z\" fill=\"none\"/>\n",
              "    <path d=\"M18.56 5.44l.94 2.06.94-2.06 2.06-.94-2.06-.94-.94-2.06-.94 2.06-2.06.94zm-11 1L8.5 8.5l.94-2.06 2.06-.94-2.06-.94L8.5 2.5l-.94 2.06-2.06.94zm10 10l.94 2.06.94-2.06 2.06-.94-2.06-.94-.94-2.06-.94 2.06-2.06.94z\"/><path d=\"M17.41 7.96l-1.37-1.37c-.4-.4-.92-.59-1.43-.59-.52 0-1.04.2-1.43.59L10.3 9.45l-7.72 7.72c-.78.78-.78 2.05 0 2.83L4 21.41c.39.39.9.59 1.41.59.51 0 1.02-.2 1.41-.59l7.78-7.78 2.81-2.81c.8-.78.8-2.07 0-2.86zM5.41 20L4 18.59l7.72-7.72 1.47 1.35L5.41 20z\"/>\n",
              "  </svg>\n",
              "      </button>\n",
              "      \n",
              "  <style>\n",
              "    .colab-df-container {\n",
              "      display:flex;\n",
              "      flex-wrap:wrap;\n",
              "      gap: 12px;\n",
              "    }\n",
              "\n",
              "    .colab-df-convert {\n",
              "      background-color: #E8F0FE;\n",
              "      border: none;\n",
              "      border-radius: 50%;\n",
              "      cursor: pointer;\n",
              "      display: none;\n",
              "      fill: #1967D2;\n",
              "      height: 32px;\n",
              "      padding: 0 0 0 0;\n",
              "      width: 32px;\n",
              "    }\n",
              "\n",
              "    .colab-df-convert:hover {\n",
              "      background-color: #E2EBFA;\n",
              "      box-shadow: 0px 1px 2px rgba(60, 64, 67, 0.3), 0px 1px 3px 1px rgba(60, 64, 67, 0.15);\n",
              "      fill: #174EA6;\n",
              "    }\n",
              "\n",
              "    [theme=dark] .colab-df-convert {\n",
              "      background-color: #3B4455;\n",
              "      fill: #D2E3FC;\n",
              "    }\n",
              "\n",
              "    [theme=dark] .colab-df-convert:hover {\n",
              "      background-color: #434B5C;\n",
              "      box-shadow: 0px 1px 3px 1px rgba(0, 0, 0, 0.15);\n",
              "      filter: drop-shadow(0px 1px 2px rgba(0, 0, 0, 0.3));\n",
              "      fill: #FFFFFF;\n",
              "    }\n",
              "  </style>\n",
              "\n",
              "      <script>\n",
              "        const buttonEl =\n",
              "          document.querySelector('#df-43d0fe39-5dac-476c-b878-d1e44d60180d button.colab-df-convert');\n",
              "        buttonEl.style.display =\n",
              "          google.colab.kernel.accessAllowed ? 'block' : 'none';\n",
              "\n",
              "        async function convertToInteractive(key) {\n",
              "          const element = document.querySelector('#df-43d0fe39-5dac-476c-b878-d1e44d60180d');\n",
              "          const dataTable =\n",
              "            await google.colab.kernel.invokeFunction('convertToInteractive',\n",
              "                                                     [key], {});\n",
              "          if (!dataTable) return;\n",
              "\n",
              "          const docLinkHtml = 'Like what you see? Visit the ' +\n",
              "            '<a target=\"_blank\" href=https://colab.research.google.com/notebooks/data_table.ipynb>data table notebook</a>'\n",
              "            + ' to learn more about interactive tables.';\n",
              "          element.innerHTML = '';\n",
              "          dataTable['output_type'] = 'display_data';\n",
              "          await google.colab.output.renderOutput(dataTable, element);\n",
              "          const docLink = document.createElement('div');\n",
              "          docLink.innerHTML = docLinkHtml;\n",
              "          element.appendChild(docLink);\n",
              "        }\n",
              "      </script>\n",
              "    </div>\n",
              "  </div>\n",
              "  "
            ]
          },
          "metadata": {},
          "execution_count": 10
        }
      ]
    },
    {
      "cell_type": "code",
      "source": [
        "df['clean_data'][1]"
      ],
      "metadata": {
        "colab": {
          "base_uri": "https://localhost:8080/",
          "height": 244
        },
        "id": "bsnXSl9BV_Yt",
        "outputId": "5d32a188-e0ef-4a71-a6a0-fdf37f11e3af"
      },
      "execution_count": null,
      "outputs": [
        {
          "output_type": "execute_result",
          "data": {
            "text/plain": [
              "'how about \"firearm related.\"\\n\\n\\n texas is unusual in this regard. it would be nice to reduce them\\nboth, though.\\n\\n as texas doesn\\'t appear to have an murder rate that much higher than\\nthe national average, i would expect it is a result of a much higher\\nsuicide rate.\\n\\n\\n be nice if you didn\\'t have to suffer at all.\\n\\n\\n here\\'s where we run into a problem. i am perfectly willing to\\nhave government regulation on something which is likely to cause others\\nharm. what we\\'re discussing, though, is the extreme regulation of a large\\ngroup in order to target a small group, and i don\\'t think that\\'s\\nappropriate. \\n\\n\\n does this, then, justify anything? at some point you have to draw\\na line (at least to my way of thinking) where the government must have\\nsomething a little more substantial than a set of percentages with which\\nto punish an individual.\\n\\n where do *you* draw the line? or is there one?\\n\\n\\n virginia. it passed.\\n\\n\\n does it?\\n\\n\\n cute analogy. \\n\\n the u.s. doesn\\'t treat drunk driving like a serious crime. however,\\nwe also don\\'t confiscate cars of people who drink. we also don\\'t confiscate\\n*all* cars because some people drink and drive. it\\'s the core of the legal\\nsystem that in order to punish an individual (and i\\'d call property\\nconfiscation a punishment) you must have evidence against that individual.\\nthat is, it isn\\'t enough to show that the majority of people convicted of\\nmurder are white in order to convict a particular white guy of murder.\\n\\n\\n huh?'"
            ],
            "application/vnd.google.colaboratory.intrinsic+json": {
              "type": "string"
            }
          },
          "metadata": {},
          "execution_count": 11
        }
      ]
    },
    {
      "cell_type": "markdown",
      "metadata": {
        "id": "PUNbh3VlVKk6"
      },
      "source": [
        "### Create Tokens \n",
        "\n",
        "Before we can use the `gensim` library to create bag-of-words vectors in exactly the right way that the LDA model wants, we must first create tokens. \n",
        "\n",
        "Let's use spaCy to create some lemmas. But first let's initialize our multi-processing library `pandarallel` which will empower us to use the same dataframe that our data is stored in but be able to create tokens in parallel so as to save time.\n",
        "\n",
        "Here's the documentation for [**pandarallel**](https://github.com/nalepae/pandarallel)"
      ]
    },
    {
      "cell_type": "code",
      "metadata": {
        "id": "okoXztIjVKk6",
        "colab": {
          "base_uri": "https://localhost:8080/",
          "height": 429
        },
        "outputId": "c38ca60b-8b03-4bdb-a9c5-3835642f9a76"
      },
      "source": [
        "# we must initalize pandarallel before we can use it\n",
        "pandarallel.initialize(progress_bar=True, nb_workers=2)\n",
        "# so that the progress bars will work\n",
        "from pandarallel.utils import progress_bars\n",
        "progress_bars.is_notebook_lab = lambda : True"
      ],
      "execution_count": null,
      "outputs": [
        {
          "output_type": "stream",
          "name": "stdout",
          "text": [
            "INFO: Pandarallel will run on 2 workers.\n",
            "INFO: Pandarallel will use Memory file system to transfer data between the main process and workers.\n"
          ]
        },
        {
          "output_type": "error",
          "ename": "ImportError",
          "evalue": "ignored",
          "traceback": [
            "\u001b[0;31m---------------------------------------------------------------------------\u001b[0m",
            "\u001b[0;31mImportError\u001b[0m                               Traceback (most recent call last)",
            "\u001b[0;32m<ipython-input-25-1a1b1c5e230b>\u001b[0m in \u001b[0;36m<module>\u001b[0;34m()\u001b[0m\n\u001b[1;32m      2\u001b[0m \u001b[0mpandarallel\u001b[0m\u001b[0;34m.\u001b[0m\u001b[0minitialize\u001b[0m\u001b[0;34m(\u001b[0m\u001b[0mprogress_bar\u001b[0m\u001b[0;34m=\u001b[0m\u001b[0;32mTrue\u001b[0m\u001b[0;34m,\u001b[0m \u001b[0mnb_workers\u001b[0m\u001b[0;34m=\u001b[0m\u001b[0;36m2\u001b[0m\u001b[0;34m)\u001b[0m\u001b[0;34m\u001b[0m\u001b[0;34m\u001b[0m\u001b[0m\n\u001b[1;32m      3\u001b[0m \u001b[0;31m# so that the progress bars will work\u001b[0m\u001b[0;34m\u001b[0m\u001b[0;34m\u001b[0m\u001b[0;34m\u001b[0m\u001b[0m\n\u001b[0;32m----> 4\u001b[0;31m \u001b[0;32mfrom\u001b[0m \u001b[0mpandarallel\u001b[0m\u001b[0;34m.\u001b[0m\u001b[0mutils\u001b[0m \u001b[0;32mimport\u001b[0m \u001b[0mprogress_bars\u001b[0m\u001b[0;34m\u001b[0m\u001b[0;34m\u001b[0m\u001b[0m\n\u001b[0m\u001b[1;32m      5\u001b[0m \u001b[0mprogress_bars\u001b[0m\u001b[0;34m.\u001b[0m\u001b[0mis_notebook_lab\u001b[0m \u001b[0;34m=\u001b[0m \u001b[0;32mlambda\u001b[0m \u001b[0;34m:\u001b[0m \u001b[0;32mTrue\u001b[0m\u001b[0;34m\u001b[0m\u001b[0;34m\u001b[0m\u001b[0m\n",
            "\u001b[0;31mImportError\u001b[0m: cannot import name 'progress_bars' from 'pandarallel.utils' (/usr/local/lib/python3.7/dist-packages/pandarallel/utils.py)",
            "",
            "\u001b[0;31m---------------------------------------------------------------------------\u001b[0;32m\nNOTE: If your import is failing due to a missing package, you can\nmanually install dependencies using either !pip or !apt.\n\nTo view examples of installing some common dependencies, click the\n\"Open Examples\" button below.\n\u001b[0;31m---------------------------------------------------------------------------\u001b[0m\n"
          ],
          "errorDetails": {
            "actions": [
              {
                "action": "open_url",
                "actionText": "Open Examples",
                "url": "/notebooks/snippets/importing_libraries.ipynb"
              }
            ]
          }
        }
      ]
    },
    {
      "cell_type": "code",
      "metadata": {
        "id": "pndck8G6VKk7"
      },
      "source": [
        "# load in our spaCy language model\n",
        "nlp = spacy.load(\"en_core_web_md\")"
      ],
      "execution_count": null,
      "outputs": []
    },
    {
      "cell_type": "code",
      "metadata": {
        "colab": {
          "base_uri": "https://localhost:8080/"
        },
        "id": "6EBPQXqEKE9P",
        "outputId": "ae3effc9-d134-4ca8-bd9f-49119a9a0959"
      },
      "source": [
        "%%time\n",
        "# create our tokens in the form of lemmas \n",
        "\n",
        "# parallel_apply takes about 2 min on Colab\n",
        "#df['lemmas'] = df['clean_data'].parallel_apply(lambda x: [token.lemma_ for token in nlp(x) if (token.is_stop != True) and (token.is_punct != True)])\n",
        "\n",
        "# parallel_map takes about 50 sec\n",
        "df['lemmas'] = df['clean_data'].map(lambda x: [token.lemma_ for token in nlp(x) if (token.is_stop != True) and (token.is_punct != True) and (token.is_space != True)])\n"
      ],
      "execution_count": null,
      "outputs": [
        {
          "output_type": "stream",
          "name": "stdout",
          "text": [
            "CPU times: user 2min 39s, sys: 2.4 s, total: 2min 41s\n",
            "Wall time: 2min 50s\n"
          ]
        }
      ]
    },
    {
      "cell_type": "markdown",
      "metadata": {
        "id": "02-ymM-5VKk7"
      },
      "source": [
        "### Take a look at our lemmas"
      ]
    },
    {
      "cell_type": "code",
      "source": [
        "df['lemmas'][1]"
      ],
      "metadata": {
        "colab": {
          "base_uri": "https://localhost:8080/"
        },
        "id": "UddYXxMaLiAS",
        "outputId": "9b74a1fc-2bda-4017-9d9c-2b161ac8dabd"
      },
      "execution_count": null,
      "outputs": [
        {
          "output_type": "execute_result",
          "data": {
            "text/plain": [
              "['firearm',\n",
              " 'relate',\n",
              " 'texas',\n",
              " 'unusual',\n",
              " 'regard',\n",
              " 'nice',\n",
              " 'reduce',\n",
              " 'texas',\n",
              " 'appear',\n",
              " 'murder',\n",
              " 'rate',\n",
              " 'high',\n",
              " 'national',\n",
              " 'average',\n",
              " 'expect',\n",
              " 'result',\n",
              " 'high',\n",
              " 'suicide',\n",
              " 'rate',\n",
              " 'nice',\n",
              " 'suffer',\n",
              " 'run',\n",
              " 'problem',\n",
              " 'perfectly',\n",
              " 'willing',\n",
              " 'government',\n",
              " 'regulation',\n",
              " 'likely',\n",
              " 'cause',\n",
              " 'harm',\n",
              " 'discuss',\n",
              " 'extreme',\n",
              " 'regulation',\n",
              " 'large',\n",
              " 'group',\n",
              " 'order',\n",
              " 'target',\n",
              " 'small',\n",
              " 'group',\n",
              " 'think',\n",
              " 'appropriate',\n",
              " 'justify',\n",
              " 'point',\n",
              " 'draw',\n",
              " 'line',\n",
              " 'way',\n",
              " 'thinking',\n",
              " 'government',\n",
              " 'little',\n",
              " 'substantial',\n",
              " 'set',\n",
              " 'percentage',\n",
              " 'punish',\n",
              " 'individual',\n",
              " 'draw',\n",
              " 'line',\n",
              " 'virginia',\n",
              " 'pass',\n",
              " 'cute',\n",
              " 'analogy',\n",
              " 'u.s',\n",
              " 'treat',\n",
              " 'drunk',\n",
              " 'driving',\n",
              " 'like',\n",
              " 'crime',\n",
              " 'confiscate',\n",
              " 'car',\n",
              " 'people',\n",
              " 'drink',\n",
              " 'confiscate',\n",
              " 'car',\n",
              " 'people',\n",
              " 'drink',\n",
              " 'drive',\n",
              " 'core',\n",
              " 'legal',\n",
              " 'system',\n",
              " 'order',\n",
              " 'punish',\n",
              " 'individual',\n",
              " 'property',\n",
              " 'confiscation',\n",
              " 'punishment',\n",
              " 'evidence',\n",
              " 'individual',\n",
              " 'majority',\n",
              " 'people',\n",
              " 'convict',\n",
              " 'murder',\n",
              " 'white',\n",
              " 'order',\n",
              " 'convict',\n",
              " 'particular',\n",
              " 'white',\n",
              " 'guy',\n",
              " 'murder',\n",
              " 'huh']"
            ]
          },
          "metadata": {},
          "execution_count": 15
        }
      ]
    },
    {
      "cell_type": "code",
      "metadata": {
        "colab": {
          "base_uri": "https://localhost:8080/"
        },
        "id": "O5Ad8J11ersL",
        "outputId": "a9805400-24fb-45ef-a65b-b3688207c415"
      },
      "source": [
        "print(df['lemmas'][3])"
      ],
      "execution_count": null,
      "outputs": [
        {
          "output_type": "stream",
          "name": "stdout",
          "text": [
            "['phil', 'g.', 'fraering', 'email', '>', '>', 'finally', 'bronze', 'age', '>', '>', 'try', 'remember', 'human', 'activity', '>', '>', 'practice', 'warrior', 'caste', 'farming', 'caste', '>', '>', 'priesthood', 'f', 'baube', 'respond', 'right', 'profit', 'caste', 'bless', 'god', 'freely', 'blare', 'presence', 'evening', 'twilight', 'steinn', 'sez', '>', 'priesthood', 'forgive', '>', 'merchant', 'aka', 'profit', 'caste', 'sic', '>', 'rise', 'power', 'look', 'evidence', 'belesse', 'god', 'ness', 'ability', 'blare', 'light', 'evening', 'sky', 'good', 'evidence', 'hope', 'wonder', 'preistly', 'class', 'upset', '-tommy', 'mac', 'tom', 'mcwilliams', '517', '355', '2178', 'wk', 'radius', 'vision', 'increase', 'email', 'hm', 'circumference', 'mystery', 'grow']\n"
          ]
        }
      ]
    },
    {
      "cell_type": "code",
      "metadata": {
        "id": "9MLNEA1IVKk7",
        "colab": {
          "base_uri": "https://localhost:8080/"
        },
        "outputId": "45402be9-2d29-4ac0-f20c-aadf986487a9"
      },
      "source": [
        "# print out the lemmas from the first article\n",
        "# note that some lemmas are only 1 character: you could modify the code above to not include lemmas that are only 1 or 2 characters\n",
        "print(df['lemmas'][5])"
      ],
      "execution_count": null,
      "outputs": [
        {
          "output_type": "stream",
          "name": "stdout",
          "text": [
            "['gene', 'wright', 'email', 'imagine', 'couple', 'group', 'maybe', 'land', 'week', 'apart', 'year', 'mark', 'start', 'come', 'group', 'billion', 'pretty', 'good', 'incentive', 'shot', 'potential', 'winner', 'yeah', 'shame', 'team', 'life', 'support', 'give', 'close', 'deadline', 'thank', 'billion', 'hand', 'apollo', 'cost', '~25billion', 'day', 'week', 'space', '1970', 'dollar', 'will', 'reward', 'lot', '1', 'billion', 'taker', '-tommy', 'mac', 'tom', 'mcwilliams', '517', '355', '2178', 'wk', 'radius', 'vision', 'increase', 'email', 'hm', 'circumference', 'mystery', 'grow']\n"
          ]
        }
      ]
    },
    {
      "cell_type": "markdown",
      "metadata": {
        "id": "WHDnS31zVKk8"
      },
      "source": [
        "### Filter out low quality lemmas\n",
        "1 or 2 characters"
      ]
    },
    {
      "cell_type": "code",
      "metadata": {
        "id": "XryrcfNRVKk8"
      },
      "source": [
        "def filter_lemmas(lemmas):\n",
        "    \"\"\"\n",
        "    Filter out any lemmas that are 2 characters or smaller\n",
        "    \"\"\"\n",
        "    return [lemma for lemma in lemmas if len(lemma) > 2]"
      ],
      "execution_count": null,
      "outputs": []
    },
    {
      "cell_type": "code",
      "metadata": {
        "id": "gkLuMzP-VKk8"
      },
      "source": [
        "# apply filter_lemmas\n",
        "# YOUR CODE HERE\n",
        "df[\"filtered_lemmas\"] = df[\"lemmas\"].map(filter_lemmas)"
      ],
      "execution_count": null,
      "outputs": []
    },
    {
      "cell_type": "code",
      "metadata": {
        "colab": {
          "base_uri": "https://localhost:8080/"
        },
        "id": "Yo7bZGmhZNGx",
        "outputId": "eac64210-2378-4447-a47a-dde02fc2da13"
      },
      "source": [
        "print(df[\"filtered_lemmas\"][5])"
      ],
      "execution_count": null,
      "outputs": [
        {
          "output_type": "stream",
          "name": "stdout",
          "text": [
            "['gene', 'wright', 'email', 'imagine', 'couple', 'group', 'maybe', 'land', 'week', 'apart', 'year', 'mark', 'start', 'come', 'group', 'billion', 'pretty', 'good', 'incentive', 'shot', 'potential', 'winner', 'yeah', 'shame', 'team', 'life', 'support', 'give', 'close', 'deadline', 'thank', 'billion', 'hand', 'apollo', 'cost', '~25billion', 'day', 'week', 'space', '1970', 'dollar', 'will', 'reward', 'lot', 'billion', 'taker', '-tommy', 'mac', 'tom', 'mcwilliams', '517', '355', '2178', 'radius', 'vision', 'increase', 'email', 'circumference', 'mystery', 'grow']\n"
          ]
        }
      ]
    },
    {
      "cell_type": "markdown",
      "metadata": {
        "id": "eInhIUGr47um"
      },
      "source": [
        "Overwrite `lemmas` with `filtered_lemmas`"
      ]
    },
    {
      "cell_type": "code",
      "metadata": {
        "id": "ov9Z9sUYZ1ZO"
      },
      "source": [
        "df['lemmas'] = df[\"filtered_lemmas\"]"
      ],
      "execution_count": null,
      "outputs": []
    },
    {
      "cell_type": "markdown",
      "metadata": {
        "id": "TO6pb5RUVKk9"
      },
      "source": [
        "### The two main inputs to the `gensim` LDA topic model are the dictionary (`id2word`) and the `corpus`.\n",
        "- `id2word` is a special object created by `gensim` that keeps track of the mapping from text to numerical index, and the mapping from numerical index back to text <br>\n",
        "- The `corpus` is a specially formatted list containing information about each document. Though its format is different, is essentially equivalent to the document-term matrix that we used with `sklearn`"
      ]
    },
    {
      "cell_type": "markdown",
      "metadata": {
        "id": "r4Gex33Kbc6j"
      },
      "source": [
        "### Create the `id2word` dictionary"
      ]
    },
    {
      "cell_type": "code",
      "metadata": {
        "id": "1klqRpqtJxWc",
        "nbgrader": {
          "grade": false,
          "grade_id": "cell-79d38b90e5c6e38b",
          "locked": false,
          "schema_version": 3,
          "solution": true,
          "task": false
        }
      },
      "source": [
        "# 1. Create Dictionary\n",
        "\n",
        "# 2. Term Document Frequency is (token id, token count) for each doc in the corpus\n",
        "\n",
        "# 3. Human readable format of corpus (term-frequency)\n",
        "\n",
        "### BEGIN SOLUTION\n",
        "# 1. Create Dictionary from the corpus\n",
        "id2word = corpora.Dictionary(df['lemmas'])"
      ],
      "execution_count": null,
      "outputs": []
    },
    {
      "cell_type": "code",
      "metadata": {
        "colab": {
          "base_uri": "https://localhost:8080/"
        },
        "id": "fHGUJftI58HT",
        "outputId": "f2c8acc8-8a23-4d93-a3f1-aa62b9c0ffbf"
      },
      "source": [
        "id2word"
      ],
      "execution_count": null,
      "outputs": [
        {
          "output_type": "execute_result",
          "data": {
            "text/plain": [
              "<gensim.corpora.dictionary.Dictionary at 0x7fa381d08a50>"
            ]
          },
          "metadata": {},
          "execution_count": 24
        }
      ]
    },
    {
      "cell_type": "markdown",
      "metadata": {
        "id": "QVbUm1jjBlYL"
      },
      "source": [
        "Use the `id2word.doc2bow()` method to process a first document into a list of word counts"
      ]
    },
    {
      "cell_type": "code",
      "metadata": {
        "colab": {
          "base_uri": "https://localhost:8080/"
        },
        "id": "tDIutZ_Gm5XO",
        "outputId": "d587ddac-9383-4e7b-cc2d-a2923207c102"
      },
      "source": [
        "len(np.unique(df['lemmas'][5]))"
      ],
      "execution_count": null,
      "outputs": [
        {
          "output_type": "execute_result",
          "data": {
            "text/plain": [
              "55"
            ]
          },
          "metadata": {},
          "execution_count": 25
        }
      ]
    },
    {
      "cell_type": "code",
      "metadata": {
        "colab": {
          "base_uri": "https://localhost:8080/"
        },
        "id": "Bkdg1KIvM4gv",
        "outputId": "28a19743-649a-4b88-fa77-8f39267f892a"
      },
      "source": [
        "id2word.doc2bow(df['lemmas'][5])\n",
        "#the id is on the left side and the right side is the term frequency"
      ],
      "execution_count": null,
      "outputs": [
        {
          "output_type": "execute_result",
          "data": {
            "text/plain": [
              "[(26, 2),\n",
              " (120, 1),\n",
              " (199, 1),\n",
              " (200, 1),\n",
              " (203, 1),\n",
              " (211, 1),\n",
              " (212, 1),\n",
              " (213, 1),\n",
              " (214, 1),\n",
              " (215, 1),\n",
              " (226, 1),\n",
              " (228, 2),\n",
              " (236, 1),\n",
              " (237, 1),\n",
              " (240, 1),\n",
              " (243, 1),\n",
              " (244, 1),\n",
              " (246, 1),\n",
              " (255, 1),\n",
              " (264, 1),\n",
              " (268, 1),\n",
              " (286, 1),\n",
              " (287, 1),\n",
              " (288, 1),\n",
              " (289, 3),\n",
              " (290, 1),\n",
              " (291, 1),\n",
              " (292, 1),\n",
              " (293, 1),\n",
              " (294, 1),\n",
              " (295, 1),\n",
              " (296, 1),\n",
              " (297, 1),\n",
              " (298, 1),\n",
              " (299, 1),\n",
              " (300, 1),\n",
              " (301, 1),\n",
              " (302, 1),\n",
              " (303, 1),\n",
              " (304, 1),\n",
              " (305, 1),\n",
              " (306, 1),\n",
              " (307, 1),\n",
              " (308, 1),\n",
              " (309, 1),\n",
              " (310, 1),\n",
              " (311, 1),\n",
              " (312, 1),\n",
              " (313, 1),\n",
              " (314, 2),\n",
              " (315, 1),\n",
              " (316, 1),\n",
              " (317, 1),\n",
              " (318, 1),\n",
              " (319, 1)]"
            ]
          },
          "metadata": {},
          "execution_count": 26
        }
      ]
    },
    {
      "cell_type": "markdown",
      "metadata": {
        "id": "ZtZPMBuQCdjp"
      },
      "source": [
        "### Create the `corpus`\n",
        "by processing all the documents using a list comprehension"
      ]
    },
    {
      "cell_type": "code",
      "metadata": {
        "colab": {
          "base_uri": "https://localhost:8080/"
        },
        "id": "naC63SI2MfYV",
        "outputId": "f99052ba-74dc-4256-e565-5c556667bf8a"
      },
      "source": [
        "# 2. Term Document Frequency\n",
        "\n",
        "# We want a list of (token id, token count) for each doc in the corpus\n",
        "\n",
        "# Term Document Frequency -- different format, but equivalent in function to the document-term matrix we used in sklearn\n",
        "corpus = [id2word.doc2bow(doc_lemmas) for doc_lemmas in df['lemmas']]\n",
        "\n",
        "# corpus stores (token id, token count) for each doc in the corpus\n",
        "doc_id = 5\n",
        "print(corpus[doc_id])"
      ],
      "execution_count": null,
      "outputs": [
        {
          "output_type": "stream",
          "name": "stdout",
          "text": [
            "[(26, 2), (120, 1), (199, 1), (200, 1), (203, 1), (211, 1), (212, 1), (213, 1), (214, 1), (215, 1), (226, 1), (228, 2), (236, 1), (237, 1), (240, 1), (243, 1), (244, 1), (246, 1), (255, 1), (264, 1), (268, 1), (286, 1), (287, 1), (288, 1), (289, 3), (290, 1), (291, 1), (292, 1), (293, 1), (294, 1), (295, 1), (296, 1), (297, 1), (298, 1), (299, 1), (300, 1), (301, 1), (302, 1), (303, 1), (304, 1), (305, 1), (306, 1), (307, 1), (308, 1), (309, 1), (310, 1), (311, 1), (312, 1), (313, 1), (314, 2), (315, 1), (316, 1), (317, 1), (318, 1), (319, 1)]\n"
          ]
        }
      ]
    },
    {
      "cell_type": "code",
      "metadata": {
        "colab": {
          "base_uri": "https://localhost:8080/"
        },
        "id": "hxaFhjSoTsX6",
        "outputId": "6cee548b-517b-4c7e-f5e6-f41f99c8cd5b"
      },
      "source": [
        "print(type(corpus))\n",
        "print(len(corpus))"
      ],
      "execution_count": null,
      "outputs": [
        {
          "output_type": "stream",
          "name": "stdout",
          "text": [
            "<class 'list'>\n",
            "3821\n"
          ]
        }
      ]
    },
    {
      "cell_type": "code",
      "metadata": {
        "colab": {
          "base_uri": "https://localhost:8080/"
        },
        "id": "tfYRe8lmLwM8",
        "outputId": "02b4b92a-1be8-48da-fb83-92abaf18c355"
      },
      "source": [
        "### BEGIN SOLUTION\n",
        "\n",
        "# 3. Human readable format of corpus (term-frequency)\n",
        "print([(id2word[word_id], word_count) for word_id, word_count in corpus[doc_id]])\n",
        "\n",
        "### END SOLUTION"
      ],
      "execution_count": null,
      "outputs": [
        {
          "output_type": "stream",
          "name": "stdout",
          "text": [
            "[('group', 2), ('day', 1), ('space', 1), ('support', 1), ('team', 1), ('year', 1), ('-tommy', 1), ('2178', 1), ('355', 1), ('517', 1), ('circumference', 1), ('email', 2), ('good', 1), ('grow', 1), ('increase', 1), ('mac', 1), ('mcwilliams', 1), ('mystery', 1), ('radius', 1), ('tom', 1), ('vision', 1), ('1970', 1), ('apart', 1), ('apollo', 1), ('billion', 3), ('close', 1), ('come', 1), ('cost', 1), ('couple', 1), ('deadline', 1), ('dollar', 1), ('gene', 1), ('give', 1), ('hand', 1), ('imagine', 1), ('incentive', 1), ('land', 1), ('life', 1), ('lot', 1), ('mark', 1), ('maybe', 1), ('potential', 1), ('pretty', 1), ('reward', 1), ('shame', 1), ('shot', 1), ('start', 1), ('taker', 1), ('thank', 1), ('week', 2), ('will', 1), ('winner', 1), ('wright', 1), ('yeah', 1), ('~25billion', 1)]\n"
          ]
        }
      ]
    },
    {
      "cell_type": "markdown",
      "metadata": {
        "id": "TJYODRc0VKk9"
      },
      "source": [
        "# Part 2: Estimate a Latent Dirichlet Allocation (LDA) Model with `gensim`"
      ]
    },
    {
      "cell_type": "markdown",
      "metadata": {
        "id": "of2bbspSVKk9"
      },
      "source": [
        " ### Train an LDA model"
      ]
    },
    {
      "cell_type": "code",
      "metadata": {
        "id": "Fasvjf0VLQ2a",
        "colab": {
          "base_uri": "https://localhost:8080/"
        },
        "outputId": "e59c59d2-33d2-41d5-fda1-e519ff70805a"
      },
      "source": [
        "## This cell runs the single-processor version of the model (slower)\n",
        "# USE THIS VERSION ON THE SPRINT CHALLENGE! PLEASE!\n",
        "%%time\n",
        "lda_model = gensim.models.ldamodel.LdaModel(corpus=corpus,\n",
        "                                           id2word=id2word,\n",
        "                                           num_topics=20, \n",
        "                                           chunksize=100,\n",
        "                                           passes=10,\n",
        "                                           per_word_topics=True)\n",
        "lda_model.save('lda_model.model')\n",
        "# https://radimrehurek.com/gensim/models/ldamodel.html"
      ],
      "execution_count": null,
      "outputs": [
        {
          "output_type": "stream",
          "name": "stdout",
          "text": [
            "CPU times: user 1min 6s, sys: 40.9 s, total: 1min 47s\n",
            "Wall time: 1min 3s\n"
          ]
        }
      ]
    },
    {
      "cell_type": "markdown",
      "metadata": {
        "id": "VLQZOqcYVJOK"
      },
      "source": [
        "#### The multi-processor version of gensim's LDA model is `gensim.models.ldamulticore.LdaMulticore()`, <br> which runs faster than the single-core version `gensim.models.ldamodel.LdaModel()`\n"
      ]
    },
    {
      "cell_type": "code",
      "metadata": {
        "id": "QNjPCmaIVKk-",
        "colab": {
          "base_uri": "https://localhost:8080/"
        },
        "outputId": "1f58d786-6f31-4eb3-c3f2-27d5624d702e"
      },
      "source": [
        "%%time\n",
        "\n",
        "num_topics = 2\n",
        "### This cell runs the multi-processor version of the model (faster)\n",
        "lda_multicore_2_topics = gensim.models.ldamulticore.LdaMulticore(corpus=corpus,\n",
        "                                                        id2word=id2word,\n",
        "                                                        num_topics=num_topics, \n",
        "                                                        chunksize=100,\n",
        "                                                        passes=10,# runtime related parameter\n",
        "                                                        per_word_topics=True,\n",
        "                                                        workers=10, # runtime related parameter\n",
        "                                                        random_state=1234, \n",
        "                                                        iterations=20) # runtime related parameter\n",
        "\n",
        "num_topics = 4\n",
        "### This cell runs the multi-processor version of the model (faster)\n",
        "lda_multicore_4_topics = gensim.models.ldamulticore.LdaMulticore(corpus=corpus,\n",
        "                                                        id2word=id2word,\n",
        "                                                        num_topics=num_topics, \n",
        "                                                        chunksize=100,\n",
        "                                                        passes=10,# runtime related parameter\n",
        "                                                        per_word_topics=True,\n",
        "                                                        workers=10, # runtime related parameter\n",
        "                                                        random_state=1234, \n",
        "                                                        iterations=20) # runtime related parameter\n",
        "\n",
        "num_topics = 6\n",
        "### This cell runs the multi-processor version of the model (faster)\n",
        "lda_multicore_6_topics = gensim.models.ldamulticore.LdaMulticore(corpus=corpus,\n",
        "                                                        id2word=id2word,\n",
        "                                                        num_topics=num_topics, \n",
        "                                                        chunksize=100,\n",
        "                                                        passes=10,# runtime related parameter\n",
        "                                                        per_word_topics=True,\n",
        "                                                        workers=10, # runtime related parameter\n",
        "                                                        random_state=1234, \n",
        "                                                        iterations=20) # runtime related parameter"
      ],
      "execution_count": null,
      "outputs": [
        {
          "output_type": "stream",
          "name": "stdout",
          "text": [
            "CPU times: user 49.6 s, sys: 4.49 s, total: 54.1 s\n",
            "Wall time: 1min 23s\n"
          ]
        }
      ]
    },
    {
      "cell_type": "code",
      "source": [
        "dir(lda_multicore_6_topics)"
      ],
      "metadata": {
        "id": "Yduj_dZwR2HK"
      },
      "execution_count": null,
      "outputs": []
    },
    {
      "cell_type": "code",
      "source": [
        "num_topics = 3\n",
        "### This cell runs the multi-processor version of the model (faster)\n",
        "lda_multicore_3_topics = gensim.models.ldamulticore.LdaMulticore(corpus=corpus,\n",
        "                                                        id2word=id2word,\n",
        "                                                        num_topics=num_topics, \n",
        "                                                        chunksize=100,\n",
        "                                                        passes=10,# runtime related parameter\n",
        "                                                        per_word_topics=True,\n",
        "                                                        workers=10, # runtime related parameter\n",
        "                                                        random_state=1234, \n",
        "                                                        iterations=20) # runtime related parameter\n",
        "\n",
        "num_topics = 5\n",
        "### This cell runs the multi-processor version of the model (faster)\n",
        "lda_multicore_5_topics = gensim.models.ldamulticore.LdaMulticore(corpus=corpus,\n",
        "                                                        id2word=id2word,\n",
        "                                                        num_topics=num_topics, \n",
        "                                                        chunksize=100,\n",
        "                                                        passes=10,# runtime related parameter\n",
        "                                                        per_word_topics=True,\n",
        "                                                        workers=10, # runtime related parameter\n",
        "                                                        random_state=1234, \n",
        "                                                        iterations=20) # runtime related parameter"
      ],
      "metadata": {
        "id": "NX_Ori3Bhw0s"
      },
      "execution_count": null,
      "outputs": []
    },
    {
      "cell_type": "markdown",
      "metadata": {
        "id": "keEsz___VKk_"
      },
      "source": [
        "# Part 3: Interpret LDA results & Select the appropriate number of topics\n",
        "LDAvis provides an interactive visualization of the topics estimated using Latent Dirichlet Allocation (LDA).<br>\n",
        "We will use the `pyLDAvis` library which implements [LDAvis](https://nlp.stanford.edu/events/illvi2014/papers/sievert-illvi2014.pdf) in `python`.<br>\n"
      ]
    },
    {
      "cell_type": "markdown",
      "metadata": {
        "id": "C8Chs_OtdclE"
      },
      "source": [
        "### 3.1 Visualizing the topics in our models"
      ]
    },
    {
      "cell_type": "code",
      "metadata": {
        "id": "CYXi480VLaHK",
        "colab": {
          "base_uri": "https://localhost:8080/",
          "height": 881
        },
        "outputId": "d82e0e5d-b7b7-42dc-80af-ec8f488fd854"
      },
      "source": [
        "pyLDAvis.enable_notebook()\n",
        "vis = pyLDAvis.gensim.prepare(lda_multicore_2_topics, corpus, id2word)\n",
        "vis"
      ],
      "execution_count": null,
      "outputs": [
        {
          "output_type": "execute_result",
          "data": {
            "text/plain": [
              "PreparedData(topic_coordinates=              x    y  topics  cluster       Freq\n",
              "topic                                           \n",
              "0      0.117474  0.0       1        1  60.125265\n",
              "1     -0.117474  0.0       2        1  39.874735, topic_info=          Term         Freq        Total Category  logprob  loglift\n",
              "199      space  1155.000000  1155.000000  Default  30.0000  30.0000\n",
              "228      email  1163.000000  1163.000000  Default  29.0000  29.0000\n",
              "824   armenian  1000.000000  1000.000000  Default  28.0000  28.0000\n",
              "616        gun  1117.000000  1117.000000  Default  27.0000  27.0000\n",
              "152     launch   528.000000   528.000000  Default  26.0000  26.0000\n",
              "...        ...          ...          ...      ...      ...      ...\n",
              "1362       new   323.659842   712.422310   Topic2  -6.1534   0.1304\n",
              "426        get   318.024031   744.530568   Topic2  -6.1710   0.0688\n",
              "422       find   319.856206   781.755171   Topic2  -6.1652   0.0258\n",
              "345       want   318.557281   880.152334   Topic2  -6.1693  -0.0969\n",
              "50     problem   289.149207   576.606016   Topic2  -6.2661   0.2292\n",
              "\n",
              "[171 rows x 6 columns], token_table=      Topic      Freq       Term\n",
              "term                            \n",
              "777       1  0.009186        amp\n",
              "777       2  0.992076        amp\n",
              "8152      1  0.992482  apartment\n",
              "8152      2  0.005251  apartment\n",
              "1475      1  0.994437       arab\n",
              "...     ...       ...        ...\n",
              "2034      2  0.007930      woman\n",
              "519       1  0.410279       work\n",
              "519       2  0.589539       work\n",
              "211       1  0.588552       year\n",
              "211       2  0.412275       year\n",
              "\n",
              "[268 rows x 3 columns], R=30, lambda_step=0.01, plot_opts={'xlab': 'PC1', 'ylab': 'PC2'}, topic_order=[1, 2])"
            ],
            "text/html": [
              "\n",
              "<link rel=\"stylesheet\" type=\"text/css\" href=\"https://cdn.rawgit.com/bmabey/pyLDAvis/files/ldavis.v1.0.0.css\">\n",
              "\n",
              "\n",
              "<div id=\"ldavis_el10561403406142696488444218515\"></div>\n",
              "<script type=\"text/javascript\">\n",
              "\n",
              "var ldavis_el10561403406142696488444218515_data = {\"mdsDat\": {\"x\": [0.11747377365827559, -0.11747377365827559], \"y\": [0.0, 0.0], \"topics\": [1, 2], \"cluster\": [1, 1], \"Freq\": [60.12526485836278, 39.87473514163723]}, \"tinfo\": {\"Term\": [\"space\", \"email\", \"armenian\", \"gun\", \"launch\", \"armenians\", \"israel\", \"system\", \"people\", \"orbit\", \"turkish\", \"satellite\", \"nasa\", \"jews\", \"earth\", \"program\", \"mission\", \"use\", \"kill\", \"shuttle\", \"moon\", \"say\", \"cost\", \"datum\", \"israeli\", \"solar\", \"design\", \"circuit\", \"child\", \"spacecraft\", \"armenian\", \"armenians\", \"turkish\", \"azerbaijan\", \"turkey\", \"turks\", \"massacre\", \"genocide\", \"armenia\", \"village\", \"muslim\", \"istanbul\", \"jews\", \"muslims\", \"greek\", \"azerbaijani\", \"crime\", \"azeri\", \"soldier\", \"argic\", \"murder\", \"ottoman\", \"karabakh\", \"baku\", \"greece\", \"sumgait\", \"kuwait\", \"peace\", \"serdar\", \"nazi\", \"israel\", \"israeli\", \"gun\", \"jewish\", \"arab\", \"firearm\", \"woman\", \"criminal\", \"apartment\", \"attack\", \"army\", \"child\", \"kill\", \"police\", \"weapon\", \"people\", \"war\", \"government\", \"say\", \"right\", \"law\", \"state\", \"come\", \"country\", \"live\", \"tell\", \"know\", \"think\", \"fire\", \"time\", \"fact\", \"take\", \"like\", \"year\", \"want\", \"start\", \"way\", \"find\", \"see\", \"nasa\", \"shuttle\", \"circuit\", \"orbit\", \"voltage\", \"lunar\", \"software\", \"spacecraft\", \"venus\", \"mars\", \"probe\", \"satellite\", \"technology\", \"output\", \"amp\", \"solar\", \"orbiter\", \"wiring\", \"jupiter\", \"planetary\", \"atmosphere\", \"astronomy\", \"orbital\", \"hst\", \"telescope\", \"comet\", \"disk\", \"payload\", \"saturn\", \"propulsion\", \"space\", \"moon\", \"electronic\", \"launch\", \"temperature\", \"chip\", \"planet\", \"data\", \"mission\", \"star\", \"surface\", \"wire\", \"earth\", \"program\", \"battery\", \"datum\", \"system\", \"cost\", \"email\", \"design\", \"project\", \"low\", \"use\", \"high\", \"current\", \"power\", \"work\", \"need\", \"ground\", \"like\", \"good\", \"time\", \"know\", \"year\", \"look\", \"thing\", \"think\", \"new\", \"get\", \"find\", \"want\", \"problem\"], \"Freq\": [1155.0, 1163.0, 1000.0, 1117.0, 528.0, 824.0, 752.0, 593.0, 1985.0, 351.0, 623.0, 341.0, 332.0, 607.0, 389.0, 385.0, 347.0, 932.0, 805.0, 265.0, 269.0, 1513.0, 320.0, 286.0, 439.0, 228.0, 307.0, 222.0, 555.0, 221.0, 999.3600305022999, 823.1519922025891, 622.8863871753504, 332.4701308771579, 354.45274209370115, 298.6195383349049, 265.33709696166966, 294.41648087662924, 339.78074516921805, 332.3577992440605, 280.473597480293, 190.31343382556616, 605.8000083042886, 280.4331431290776, 247.52812428617085, 173.00280585108624, 327.66790012188494, 149.79706507439766, 307.23265447924075, 154.23269497189315, 250.86892156365354, 179.95852272383146, 133.22018657914506, 151.41149829793386, 154.01399030564613, 131.26927949980984, 128.05986534315016, 194.32358495055288, 150.30591080581792, 164.6708661518228, 749.1110170946549, 437.43554498973054, 1100.1200090606535, 392.4145013981732, 349.9229770051015, 343.1286767345307, 375.177340556234, 267.97384423903725, 189.39137388386166, 382.5224238793826, 233.8159429165147, 541.078657597286, 777.7550491309141, 327.4416336449418, 432.793181066242, 1797.3914203705228, 429.84664003194496, 731.8632483415979, 1356.8163879329375, 1025.1001134698085, 584.6528034885043, 705.5129299229287, 786.5762353101999, 378.9071302016121, 440.8001766670046, 557.9358842120577, 977.9848491181076, 842.183172592053, 442.23272563114637, 785.3996389420239, 438.0978046296733, 505.21590196502325, 802.7959184507317, 610.5368013408519, 561.5950524239732, 471.00830110930343, 495.89141449148843, 461.8989645181902, 445.57761109603723, 331.3505072496889, 264.6780579538454, 221.9643640715689, 350.14221611171496, 123.96056259713468, 188.69814493632057, 177.55942702411295, 220.8224262808614, 145.5923546165883, 162.3201988939333, 176.83569708028398, 339.60667441527215, 174.58604011549286, 136.43675704947267, 108.21867876014863, 227.00433568794185, 91.92279357074894, 93.55180173769801, 88.79797466401445, 92.41626996972981, 119.26604661088766, 100.79249468457586, 93.77824533817838, 84.76567131056088, 87.88586512203963, 95.43765331704778, 77.44988701829543, 84.18162455965646, 75.91506422025141, 77.39782368549335, 1142.6038753069736, 265.313857925801, 136.44489083768102, 517.0602381479761, 127.24274992692867, 158.79426372796078, 217.60304101078512, 107.58979871040512, 337.02672185480446, 138.65570409059256, 161.97937721939883, 226.1775423187974, 368.46266143645767, 365.13326623784656, 153.71000815356453, 271.08461231325117, 516.9659287343708, 293.3481905725707, 931.5306182050515, 279.9531350024248, 203.11127080354336, 270.1134131922333, 645.5200437920071, 360.09077828612374, 235.22991697455424, 376.24448166792047, 467.27199147426285, 409.8250477945153, 269.18995356017683, 613.4845430115705, 422.97594795303866, 522.9427568104373, 562.9702095447217, 427.6040557229222, 355.244670815719, 348.24241836391207, 406.48718211493775, 323.65984215230844, 318.0240306781625, 319.8562063436057, 318.5572811242755, 289.14920658319596], \"Total\": [1155.0, 1163.0, 1000.0, 1117.0, 528.0, 824.0, 752.0, 593.0, 1985.0, 351.0, 623.0, 341.0, 332.0, 607.0, 389.0, 385.0, 347.0, 932.0, 805.0, 265.0, 269.0, 1513.0, 320.0, 286.0, 439.0, 228.0, 307.0, 222.0, 555.0, 221.0, 1000.455354689677, 824.1839324553875, 623.9177229178987, 333.1192345047828, 355.19387055273825, 299.30154911102153, 265.94489051989643, 295.0931557924326, 340.5890767136443, 333.22000723671084, 281.2928256455866, 190.88569812969348, 607.6858669442183, 281.33043119833826, 248.3493773150663, 173.60147229440267, 328.80919325394603, 150.32435158006984, 308.37121219030655, 154.80661647029984, 251.84506918218162, 180.66125291052404, 133.74681697003362, 152.01684619583256, 154.65034127973053, 131.85335698500387, 128.6452023112252, 195.22619960446283, 151.01316737808838, 165.44915167476591, 752.8501297234227, 439.63430458652573, 1117.586905017404, 394.7684652810236, 351.9580276395167, 345.37461152765496, 378.29319003434574, 270.08533672782653, 190.43163177683502, 387.94930199155226, 235.72412115749918, 555.5130582381599, 805.8553203962531, 333.7002763283765, 445.7941964627794, 1985.5380802897796, 444.2089673792924, 783.0526507883974, 1513.2107411226461, 1156.2173375896728, 628.9707364691716, 797.2388911352368, 986.2259147059069, 405.8475502924634, 502.3376228155071, 698.2360400347923, 1540.9550586628293, 1248.6703547069908, 514.26483631716, 1308.3423957524612, 512.2157535330006, 647.8743956307229, 1416.2804614623024, 1038.140857063774, 880.1523335482487, 632.8830200429538, 762.4378337219348, 781.7551708617959, 627.7411521008527, 332.24814411265544, 265.4124577980579, 222.70940094771956, 351.34205413008334, 124.49446705530447, 189.53586691197873, 178.3549858617871, 221.8153887397879, 146.2647133361127, 163.07164005426978, 177.67743762475854, 341.35404773194466, 175.53626688353432, 137.18871727016406, 108.86258612517851, 228.3718358372312, 92.48480066420034, 94.14337930189673, 89.3650867207532, 93.0138937572763, 120.04013385367374, 101.44901955825895, 94.403141765442, 85.33687317253114, 88.48347669762926, 96.11383777128327, 78.02143806916924, 84.81400942149929, 76.49477499801742, 77.99755173933484, 1155.773404908566, 269.3231874052792, 137.61838380317604, 528.6017205947613, 128.31570905342144, 160.50520272349414, 220.76761160930315, 108.47790534135373, 347.9585182841127, 140.77241677027715, 165.52682585732035, 233.59293728833163, 389.16542450260096, 385.7743741606394, 157.1909556931472, 286.72561319416235, 593.9381475740454, 320.0315159037957, 1163.4149593716584, 307.8636697311473, 219.79871740007025, 313.77041501893706, 932.078921589436, 480.73220005430113, 278.4580031457076, 562.6886732331857, 792.143918771295, 666.8390494362163, 355.93850478265966, 1416.2804614623024, 793.5790610425868, 1308.3423957524612, 1540.9550586628293, 1038.140857063774, 740.0798330802381, 778.8725742087295, 1248.6703547069908, 712.422309626396, 744.5305681572823, 781.7551708617959, 880.1523335482487, 576.6060160005675], \"Category\": [\"Default\", \"Default\", \"Default\", \"Default\", \"Default\", \"Default\", \"Default\", \"Default\", \"Default\", \"Default\", \"Default\", \"Default\", \"Default\", \"Default\", \"Default\", \"Default\", \"Default\", \"Default\", \"Default\", \"Default\", \"Default\", \"Default\", \"Default\", \"Default\", \"Default\", \"Default\", \"Default\", \"Default\", \"Default\", \"Default\", \"Topic1\", \"Topic1\", \"Topic1\", \"Topic1\", \"Topic1\", \"Topic1\", \"Topic1\", \"Topic1\", \"Topic1\", \"Topic1\", \"Topic1\", \"Topic1\", \"Topic1\", \"Topic1\", \"Topic1\", \"Topic1\", \"Topic1\", \"Topic1\", \"Topic1\", \"Topic1\", \"Topic1\", \"Topic1\", \"Topic1\", \"Topic1\", \"Topic1\", \"Topic1\", \"Topic1\", \"Topic1\", \"Topic1\", \"Topic1\", \"Topic1\", \"Topic1\", \"Topic1\", \"Topic1\", \"Topic1\", \"Topic1\", \"Topic1\", \"Topic1\", \"Topic1\", \"Topic1\", \"Topic1\", \"Topic1\", \"Topic1\", \"Topic1\", \"Topic1\", \"Topic1\", \"Topic1\", \"Topic1\", \"Topic1\", \"Topic1\", \"Topic1\", \"Topic1\", \"Topic1\", \"Topic1\", \"Topic1\", \"Topic1\", \"Topic1\", \"Topic1\", \"Topic1\", \"Topic1\", \"Topic1\", \"Topic1\", \"Topic1\", \"Topic1\", \"Topic1\", \"Topic1\", \"Topic1\", \"Topic1\", \"Topic1\", \"Topic2\", \"Topic2\", \"Topic2\", \"Topic2\", \"Topic2\", \"Topic2\", \"Topic2\", \"Topic2\", \"Topic2\", \"Topic2\", \"Topic2\", \"Topic2\", \"Topic2\", \"Topic2\", \"Topic2\", \"Topic2\", \"Topic2\", \"Topic2\", \"Topic2\", \"Topic2\", \"Topic2\", \"Topic2\", \"Topic2\", \"Topic2\", \"Topic2\", \"Topic2\", \"Topic2\", \"Topic2\", \"Topic2\", \"Topic2\", \"Topic2\", \"Topic2\", \"Topic2\", \"Topic2\", \"Topic2\", \"Topic2\", \"Topic2\", \"Topic2\", \"Topic2\", \"Topic2\", \"Topic2\", \"Topic2\", \"Topic2\", \"Topic2\", \"Topic2\", \"Topic2\", \"Topic2\", \"Topic2\", \"Topic2\", \"Topic2\", \"Topic2\", \"Topic2\", \"Topic2\", \"Topic2\", \"Topic2\", \"Topic2\", \"Topic2\", \"Topic2\", \"Topic2\", \"Topic2\", \"Topic2\", \"Topic2\", \"Topic2\", \"Topic2\", \"Topic2\", \"Topic2\", \"Topic2\", \"Topic2\", \"Topic2\", \"Topic2\", \"Topic2\", \"Topic2\"], \"logprob\": [30.0, 29.0, 28.0, 27.0, 26.0, 25.0, 24.0, 23.0, 22.0, 21.0, 20.0, 19.0, 18.0, 17.0, 16.0, 15.0, 14.0, 13.0, 12.0, 11.0, 10.0, 9.0, 8.0, 7.0, 6.0, 5.0, 4.0, 3.0, 2.0, 1.0, -5.436699867248535, -5.6305999755859375, -5.90939998626709, -6.537199974060059, -6.473199844360352, -6.644599914550781, -6.762800216674805, -6.65880012512207, -6.515500068664551, -6.537600040435791, -6.707300186157227, -7.095099925994873, -5.93720006942749, -6.707399845123291, -6.832200050354004, -7.190499782562256, -6.551799774169922, -7.334499835968018, -6.616199970245361, -7.305300235748291, -6.81879997253418, -7.151000022888184, -7.4517998695373535, -7.323800086975098, -7.306700229644775, -7.4664998054504395, -7.491300106048584, -7.07420015335083, -7.331099987030029, -7.239799976348877, -5.724899768829346, -6.262800216674805, -5.34060001373291, -6.371399879455566, -6.486100196838379, -6.50570011138916, -6.416399955749512, -6.752900123596191, -7.099999904632568, -6.396999835968018, -6.889200210571289, -6.05019998550415, -5.687399864196777, -6.552499771118164, -6.273499965667725, -4.849699974060059, -6.280300140380859, -5.748199939727783, -5.130899906158447, -5.411200046539307, -5.972700119018555, -5.784800052642822, -5.67609977722168, -6.406499862670898, -6.255199909210205, -6.019499778747559, -5.4583001136779785, -5.607800006866455, -6.2519001960754395, -5.677599906921387, -6.261300086975098, -6.118800163269043, -5.655700206756592, -5.9293999671936035, -6.013000011444092, -6.188899993896484, -6.137400150299072, -6.208399772644043, -6.2444000244140625, -6.129899978637695, -6.354599952697754, -6.530600070953369, -6.074699878692627, -7.113100051879883, -6.69290018081665, -6.753799915313721, -6.535699844360352, -6.952300071716309, -6.843500137329102, -6.757900238037109, -6.105299949645996, -6.770699977874756, -7.017199993133545, -7.248899936676025, -6.5081000328063965, -7.412099838256836, -7.394599914550781, -7.446700096130371, -7.406799793243408, -7.151700019836426, -7.320000171661377, -7.392099857330322, -7.493199825286865, -7.456999778747559, -7.374599933624268, -7.583399772644043, -7.500100135803223, -7.603499889373779, -7.584099769592285, -4.892000198364258, -6.352200031280518, -7.017199993133545, -5.684899806976318, -7.086999893188477, -6.865499973297119, -6.5503997802734375, -7.254799842834473, -6.1128997802734375, -7.001100063323975, -6.845600128173828, -6.5117998123168945, -6.02370023727417, -6.032800197601318, -6.8979997634887695, -6.330599784851074, -5.685100078582764, -6.251699924468994, -5.096199989318848, -6.298500061035156, -6.61929988861084, -6.334199905395508, -5.4629998207092285, -6.0467000007629395, -6.472499847412109, -6.002799987792969, -5.786200046539307, -5.917300224304199, -6.337699890136719, -5.513899803161621, -5.885799884796143, -5.673600196838379, -5.599899768829346, -5.874899864196777, -6.060299873352051, -6.0802001953125, -5.92549991607666, -6.15339994430542, -6.171000003814697, -6.165200233459473, -6.169300079345703, -6.26609992980957], \"loglift\": [30.0, 29.0, 28.0, 27.0, 26.0, 25.0, 24.0, 23.0, 22.0, 21.0, 20.0, 19.0, 18.0, 17.0, 16.0, 15.0, 14.0, 13.0, 12.0, 11.0, 10.0, 9.0, 8.0, 7.0, 6.0, 5.0, 4.0, 3.0, 2.0, 1.0, 0.5076, 0.5075, 0.5071, 0.5068, 0.5067, 0.5065, 0.5065, 0.5064, 0.5064, 0.5061, 0.5058, 0.5057, 0.5056, 0.5055, 0.5054, 0.5053, 0.5053, 0.5052, 0.505, 0.505, 0.5049, 0.5048, 0.5048, 0.5048, 0.5046, 0.5043, 0.5042, 0.5041, 0.504, 0.504, 0.5038, 0.5037, 0.493, 0.5028, 0.5029, 0.5022, 0.5005, 0.5009, 0.5033, 0.4947, 0.5006, 0.4824, 0.4732, 0.4898, 0.4791, 0.4092, 0.4759, 0.4411, 0.3996, 0.3884, 0.4357, 0.3865, 0.2825, 0.4401, 0.3781, 0.2844, 0.0541, 0.1149, 0.3578, -0.0016, 0.3524, 0.26, -0.0589, -0.0221, 0.0594, 0.2133, 0.0786, -0.0175, 0.166, 0.9167, 0.9167, 0.9161, 0.916, 0.9151, 0.915, 0.915, 0.9149, 0.9148, 0.9148, 0.9147, 0.9143, 0.914, 0.9139, 0.9135, 0.9134, 0.9133, 0.9131, 0.9131, 0.913, 0.913, 0.9129, 0.9128, 0.9127, 0.9127, 0.9124, 0.9121, 0.9119, 0.9118, 0.9117, 0.908, 0.9044, 0.9109, 0.8974, 0.911, 0.9087, 0.905, 0.9112, 0.8875, 0.9043, 0.8978, 0.8872, 0.8648, 0.8644, 0.897, 0.8633, 0.7806, 0.8324, 0.6971, 0.8244, 0.8405, 0.7696, 0.5521, 0.6305, 0.7507, 0.5169, 0.3916, 0.4326, 0.6401, 0.0828, 0.2902, 0.0024, -0.0875, 0.0324, 0.1855, 0.1145, -0.2029, 0.1304, 0.0688, 0.0258, -0.0969, 0.2292]}, \"token.table\": {\"Topic\": [1, 2, 1, 2, 1, 2, 1, 2, 1, 2, 1, 2, 1, 2, 1, 2, 1, 2, 1, 2, 1, 2, 1, 2, 1, 2, 1, 2, 1, 2, 1, 2, 1, 2, 1, 2, 1, 2, 1, 2, 1, 2, 1, 2, 1, 2, 1, 2, 1, 2, 1, 2, 1, 2, 1, 2, 1, 2, 1, 2, 1, 2, 1, 2, 1, 2, 1, 2, 1, 2, 1, 2, 1, 2, 1, 2, 1, 2, 1, 2, 1, 2, 1, 2, 1, 2, 1, 2, 1, 2, 1, 2, 1, 2, 1, 2, 1, 2, 1, 2, 1, 2, 1, 2, 1, 2, 1, 2, 1, 2, 1, 2, 1, 2, 1, 2, 1, 2, 1, 2, 1, 2, 1, 2, 1, 2, 1, 2, 1, 2, 1, 2, 1, 2, 1, 2, 1, 2, 1, 2, 1, 2, 1, 2, 1, 2, 1, 2, 1, 2, 1, 2, 1, 2, 1, 2, 1, 2, 1, 2, 1, 2, 1, 2, 1, 2, 1, 2, 1, 2, 1, 2, 1, 2, 1, 2, 1, 2, 1, 2, 1, 2, 1, 2, 1, 2, 1, 2, 1, 2, 1, 2, 1, 2, 1, 2, 1, 2, 1, 2, 1, 2, 1, 2, 1, 2, 1, 2, 1, 2, 1, 2, 1, 2, 1, 2, 1, 2, 1, 2, 1, 2, 1, 2, 1, 2, 1, 2, 1, 2, 1, 2, 1, 2, 1, 2, 1, 2, 1, 2, 1, 2, 1, 2, 1, 2, 1, 2, 1, 2, 1, 2, 1, 2, 1, 2, 1, 2, 1, 2, 1, 2, 1, 2, 1, 2, 1, 2], \"Freq\": [0.009185892376744786, 0.992076376688437, 0.9924821745028539, 0.005251228436523037, 0.9944367581195729, 0.005682495760683273, 0.9947895219940125, 0.006459672220740341, 0.9982704180670492, 0.002936089464903086, 0.9985453077112787, 0.0009995448525638424, 0.9985635094197234, 0.001213321396621778, 0.9926858517955945, 0.008484494459791407, 0.009857167711963266, 0.9955739389082898, 0.008330547191983123, 0.9913351158459917, 0.9872424000606655, 0.012888281985126182, 0.9966401384583912, 0.0030019281278867204, 0.9965353272270487, 0.005760319810560975, 0.9978423217751444, 0.0066522821451676295, 0.9933109637433036, 0.006578218302935786, 0.019085067501315448, 0.9797001317341929, 0.9738744966964613, 0.025201927825786428, 0.012460655268885235, 0.9906220938763762, 0.004490156211388433, 0.9968146789282322, 0.7979916044232966, 0.20279329210248961, 0.010404329107944312, 0.9884112652547097, 0.08436669096088786, 0.9155348315385238, 0.9338481893678638, 0.06652744356974229, 0.9975390187666648, 0.003041277496239832, 0.9922789709612114, 0.007405066947471727, 0.15442185002490147, 0.8439333664151591, 0.009218467086484034, 0.9955944453402757, 0.055802478968508686, 0.9451544875291158, 0.09094934788652385, 0.9094934788652386, 0.01281699010871164, 0.9869082383707964, 0.053961628340545575, 0.9456132966343224, 0.007266471036531105, 0.9882400609682302, 0.1994129421589176, 0.8010899228108243, 0.8551084127711838, 0.14447037110746028, 0.5909778626608861, 0.4093353161287523, 0.8594793359105104, 0.1400056836777302, 0.993124533626975, 0.005790813607154373, 0.9962955569420203, 0.003388760397761974, 0.5735157403366629, 0.4271147668081002, 0.46750225429661457, 0.5330281767317195, 0.9348030419959676, 0.06512972013906332, 0.9957947633716877, 0.006466199762153816, 0.9985932023714194, 0.0040265854934331425, 0.24442424416297204, 0.7557485250556262, 0.9842635011752128, 0.015211345018162379, 0.25169938686514537, 0.7488576799293581, 0.011718263897228043, 0.9960524312643837, 0.9948859280600282, 0.005313142472950751, 0.9940079639849686, 0.004549235533111985, 0.9953600602959175, 0.005238737159452197, 0.9929871164378522, 0.005066260798152307, 0.9972257591694607, 0.0032911741226714876, 0.011190052364910542, 0.9959146604770382, 0.9944161888338551, 0.007476813449878609, 0.9654338443995677, 0.03474569105808213, 0.6346713322377253, 0.3653578323617989, 0.9949846375952343, 0.007773317481212768, 0.02270140170277555, 0.97805205669458, 0.930090966209321, 0.06995555985164123, 0.566978096394062, 0.4328238768238606, 0.8778956223272282, 0.12342296731131099, 0.520214148246165, 0.4796779808503599, 0.14022991937383408, 0.8605017779758, 0.005276046250731026, 0.9971727413881638, 0.006132274132198602, 0.9934284094161735, 0.9964470439042868, 0.0037601775241671203, 0.0316129636780967, 0.968506250865326, 0.014852044632832802, 0.9839479569251731, 0.9966444878792909, 0.003970695170833829, 0.9954039864236868, 0.003555014237227453, 0.9952709303694192, 0.00355453903703364, 0.003009798603001165, 0.9962433375933856, 0.9972852585207035, 0.006044153081943658, 0.3854003454316037, 0.6148410180037257, 0.5460244503067245, 0.45478643161794025, 0.0028462291611403654, 0.996180206399128, 0.010592867793369015, 0.9957295725766875, 0.010812587504306392, 0.994758050396188, 0.9963398188605969, 0.005535221215892205, 0.0072892291720368825, 0.9913351673970161, 0.011790504974600487, 0.9904024178664409, 0.9937190827514587, 0.005122263313151849, 0.9050443392844607, 0.09468466098245888, 0.013588949837937098, 0.9874636882234291, 0.010751082011570684, 0.9890995450645029, 0.9799212742581516, 0.017980206867122046, 0.3305557919466403, 0.6682203106018105, 0.005628176618079811, 0.9961872614001265, 0.4977402108820827, 0.5012087837802157, 0.05443596414534118, 0.9461489006214062, 0.07734349044929671, 0.9235722683063078, 0.012820915242852313, 0.9872104736996281, 0.8865115291704437, 0.11330049787446647, 0.005859019435359212, 0.996033304011066, 0.013072788305160945, 0.9935319111922318, 0.8967686807412205, 0.1030920517285412, 0.7104839287776147, 0.2899284193666499, 0.9932908673085987, 0.006621939115390658, 0.0037677206574864746, 0.9984459742339158, 0.005606795880519603, 0.9980096667324894, 0.0043788236685750334, 0.9939929727665325, 0.9955533715985774, 0.0032428448586272877, 0.011247879510628158, 0.9889481754344603, 0.004508253488098169, 0.9963240208696953, 0.01420732872167527, 0.9874093461564313, 0.7442133618437625, 0.2559714747742877, 0.8855563970225835, 0.1153982840312715, 0.993527984387224, 0.0075841830869253744, 0.024165267347347627, 0.9786933275675789, 0.12964312919536883, 0.8704610103117622, 0.779472075769207, 0.22072179571286454, 0.005696828454620634, 0.9969449795586109, 0.011301545071711598, 0.9945359663106207, 0.7991566862864821, 0.20050526179230732, 0.007793278059069695, 0.9897463135018513, 0.5533639445937104, 0.4467996582798405, 0.6743172822402604, 0.32514586293295217, 0.5999958440149197, 0.39974245403796554, 0.9966388199467507, 0.002815363898154663, 0.9985290962506935, 0.0016027754353943717, 0.9989924906439102, 0.003341112008842509, 0.3079138400754634, 0.6930743578005204, 0.00683691901615412, 0.9981901763585015, 0.9963387335387572, 0.0030010202817432447, 0.008032485488337146, 0.996028200553806, 0.6385258307892584, 0.3624372598252196, 0.9680128758698382, 0.03151669828413427, 0.6505448419036534, 0.35019248546023274, 0.9713002175346901, 0.029161438401734345, 0.029966659442959374, 0.9674950048726884, 0.010622095865002084, 0.9984770113101958, 0.9912946092578437, 0.00793035687406275, 0.41027898125395174, 0.5895393361402936, 0.5885521178003936, 0.4122754605868551], \"Term\": [\"amp\", \"amp\", \"apartment\", \"apartment\", \"arab\", \"arab\", \"argic\", \"argic\", \"armenia\", \"armenia\", \"armenian\", \"armenian\", \"armenians\", \"armenians\", \"army\", \"army\", \"astronomy\", \"astronomy\", \"atmosphere\", \"atmosphere\", \"attack\", \"attack\", \"azerbaijan\", \"azerbaijan\", \"azerbaijani\", \"azerbaijani\", \"azeri\", \"azeri\", \"baku\", \"baku\", \"battery\", \"battery\", \"child\", \"child\", \"chip\", \"chip\", \"circuit\", \"circuit\", \"come\", \"come\", \"comet\", \"comet\", \"cost\", \"cost\", \"country\", \"country\", \"crime\", \"crime\", \"criminal\", \"criminal\", \"current\", \"current\", \"data\", \"data\", \"datum\", \"datum\", \"design\", \"design\", \"disk\", \"disk\", \"earth\", \"earth\", \"electronic\", \"electronic\", \"email\", \"email\", \"fact\", \"fact\", \"find\", \"find\", \"fire\", \"fire\", \"firearm\", \"firearm\", \"genocide\", \"genocide\", \"get\", \"get\", \"good\", \"good\", \"government\", \"government\", \"greece\", \"greece\", \"greek\", \"greek\", \"ground\", \"ground\", \"gun\", \"gun\", \"high\", \"high\", \"hst\", \"hst\", \"israel\", \"israel\", \"israeli\", \"israeli\", \"istanbul\", \"istanbul\", \"jewish\", \"jewish\", \"jews\", \"jews\", \"jupiter\", \"jupiter\", \"karabakh\", \"karabakh\", \"kill\", \"kill\", \"know\", \"know\", \"kuwait\", \"kuwait\", \"launch\", \"launch\", \"law\", \"law\", \"like\", \"like\", \"live\", \"live\", \"look\", \"look\", \"low\", \"low\", \"lunar\", \"lunar\", \"mars\", \"mars\", \"massacre\", \"massacre\", \"mission\", \"mission\", \"moon\", \"moon\", \"murder\", \"murder\", \"muslim\", \"muslim\", \"muslims\", \"muslims\", \"nasa\", \"nasa\", \"nazi\", \"nazi\", \"need\", \"need\", \"new\", \"new\", \"orbit\", \"orbit\", \"orbital\", \"orbital\", \"orbiter\", \"orbiter\", \"ottoman\", \"ottoman\", \"output\", \"output\", \"payload\", \"payload\", \"peace\", \"peace\", \"people\", \"people\", \"planet\", \"planet\", \"planetary\", \"planetary\", \"police\", \"police\", \"power\", \"power\", \"probe\", \"probe\", \"problem\", \"problem\", \"program\", \"program\", \"project\", \"project\", \"propulsion\", \"propulsion\", \"right\", \"right\", \"satellite\", \"satellite\", \"saturn\", \"saturn\", \"say\", \"say\", \"see\", \"see\", \"serdar\", \"serdar\", \"shuttle\", \"shuttle\", \"software\", \"software\", \"solar\", \"solar\", \"soldier\", \"soldier\", \"space\", \"space\", \"spacecraft\", \"spacecraft\", \"star\", \"star\", \"start\", \"start\", \"state\", \"state\", \"sumgait\", \"sumgait\", \"surface\", \"surface\", \"system\", \"system\", \"take\", \"take\", \"technology\", \"technology\", \"telescope\", \"telescope\", \"tell\", \"tell\", \"temperature\", \"temperature\", \"thing\", \"thing\", \"think\", \"think\", \"time\", \"time\", \"turkey\", \"turkey\", \"turkish\", \"turkish\", \"turks\", \"turks\", \"use\", \"use\", \"venus\", \"venus\", \"village\", \"village\", \"voltage\", \"voltage\", \"want\", \"want\", \"war\", \"war\", \"way\", \"way\", \"weapon\", \"weapon\", \"wire\", \"wire\", \"wiring\", \"wiring\", \"woman\", \"woman\", \"work\", \"work\", \"year\", \"year\"]}, \"R\": 30, \"lambda.step\": 0.01, \"plot.opts\": {\"xlab\": \"PC1\", \"ylab\": \"PC2\"}, \"topic.order\": [1, 2]};\n",
              "\n",
              "function LDAvis_load_lib(url, callback){\n",
              "  var s = document.createElement('script');\n",
              "  s.src = url;\n",
              "  s.async = true;\n",
              "  s.onreadystatechange = s.onload = callback;\n",
              "  s.onerror = function(){console.warn(\"failed to load library \" + url);};\n",
              "  document.getElementsByTagName(\"head\")[0].appendChild(s);\n",
              "}\n",
              "\n",
              "if(typeof(LDAvis) !== \"undefined\"){\n",
              "   // already loaded: just create the visualization\n",
              "   !function(LDAvis){\n",
              "       new LDAvis(\"#\" + \"ldavis_el10561403406142696488444218515\", ldavis_el10561403406142696488444218515_data);\n",
              "   }(LDAvis);\n",
              "}else if(typeof define === \"function\" && define.amd){\n",
              "   // require.js is available: use it to load d3/LDAvis\n",
              "   require.config({paths: {d3: \"https://cdnjs.cloudflare.com/ajax/libs/d3/3.5.5/d3.min\"}});\n",
              "   require([\"d3\"], function(d3){\n",
              "      window.d3 = d3;\n",
              "      LDAvis_load_lib(\"https://cdn.rawgit.com/bmabey/pyLDAvis/files/ldavis.v1.0.0.js\", function(){\n",
              "        new LDAvis(\"#\" + \"ldavis_el10561403406142696488444218515\", ldavis_el10561403406142696488444218515_data);\n",
              "      });\n",
              "    });\n",
              "}else{\n",
              "    // require.js not available: dynamically load d3 & LDAvis\n",
              "    LDAvis_load_lib(\"https://cdnjs.cloudflare.com/ajax/libs/d3/3.5.5/d3.min.js\", function(){\n",
              "         LDAvis_load_lib(\"https://cdn.rawgit.com/bmabey/pyLDAvis/files/ldavis.v1.0.0.js\", function(){\n",
              "                 new LDAvis(\"#\" + \"ldavis_el10561403406142696488444218515\", ldavis_el10561403406142696488444218515_data);\n",
              "            })\n",
              "         });\n",
              "}\n",
              "</script>"
            ]
          },
          "metadata": {},
          "execution_count": 32
        }
      ]
    },
    {
      "cell_type": "code",
      "metadata": {
        "id": "X5qjLqmXVKlA",
        "colab": {
          "base_uri": "https://localhost:8080/",
          "height": 881
        },
        "outputId": "829719fd-dd88-4abf-c0c6-b15735bdd771"
      },
      "source": [
        "pyLDAvis.enable_notebook()\n",
        "vis = pyLDAvis.gensim.prepare(lda_multicore_4_topics, corpus, id2word)\n",
        "vis"
      ],
      "execution_count": null,
      "outputs": [
        {
          "output_type": "execute_result",
          "data": {
            "text/plain": [
              "PreparedData(topic_coordinates=              x         y  topics  cluster       Freq\n",
              "topic                                                \n",
              "0      0.076398  0.081117       1        1  34.681095\n",
              "1      0.129881 -0.106377       2        1  34.097622\n",
              "3     -0.049141  0.107303       3        1  23.754576\n",
              "2     -0.157139 -0.082043       4        1   7.466706, topic_info=          Term         Freq        Total Category  logprob  loglift\n",
              "605     israel   753.000000   753.000000  Default  30.0000  30.0000\n",
              "616        gun  1097.000000  1097.000000  Default  29.0000  29.0000\n",
              "199      space  1255.000000  1255.000000  Default  28.0000  28.0000\n",
              "446       jews   591.000000   591.000000  Default  27.0000  27.0000\n",
              "824   armenian   999.000000   999.000000  Default  26.0000  26.0000\n",
              "...        ...          ...          ...      ...      ...      ...\n",
              "519       work    53.122872   806.293989   Topic4  -6.2852  -0.1251\n",
              "2010   turkish    50.703082   608.632299   Topic4  -6.3318   0.1095\n",
              "249      power    49.408208   577.028695   Topic4  -6.3577   0.1369\n",
              "988       time    50.901697  1317.081702   Topic4  -6.3279  -0.6586\n",
              "211       year    49.850476  1046.936147   Topic4  -6.3488  -0.4499\n",
              "\n",
              "[333 rows x 6 columns], token_table=       Topic      Freq      Term\n",
              "term                            \n",
              "29614      1  0.992406   -gayane\n",
              "29615      1  0.980142  -zinaida\n",
              "7033       2  0.973824      /pub\n",
              "29743      4  0.971488       0/0\n",
              "1552       3  0.196193      1916\n",
              "...      ...       ...       ...\n",
              "1386       3  0.273144      york\n",
              "1386       4  0.368427      york\n",
              "2550       3  0.979943   zionism\n",
              "2551       3  0.970603   zionist\n",
              "2551       4  0.016735   zionist\n",
              "\n",
              "[733 rows x 3 columns], R=30, lambda_step=0.01, plot_opts={'xlab': 'PC1', 'ylab': 'PC2'}, topic_order=[1, 2, 4, 3])"
            ],
            "text/html": [
              "\n",
              "<link rel=\"stylesheet\" type=\"text/css\" href=\"https://cdn.rawgit.com/bmabey/pyLDAvis/files/ldavis.v1.0.0.css\">\n",
              "\n",
              "\n",
              "<div id=\"ldavis_el10561403402473050407579544029\"></div>\n",
              "<script type=\"text/javascript\">\n",
              "\n",
              "var ldavis_el10561403402473050407579544029_data = {\"mdsDat\": {\"x\": [0.0763984072722174, 0.1298813873939501, -0.049141151093078705, -0.15713864357308885], \"y\": [0.0811170698810663, -0.10637698591382118, 0.10730327391696924, -0.08204335788421441], \"topics\": [1, 2, 3, 4], \"cluster\": [1, 1, 1, 1], \"Freq\": [34.68109478634799, 34.09762246312756, 23.754576470460563, 7.466706280063893]}, \"tinfo\": {\"Term\": [\"israel\", \"gun\", \"space\", \"jews\", \"armenian\", \"turkish\", \"israeli\", \"people\", \"arab\", \"email\", \"jewish\", \"armenians\", \"say\", \"istanbul\", \"turkey\", \"launch\", \"new\", \"nasa\", \"greek\", \"russian\", \"war\", \"genocide\", \"firearm\", \"university\", \"program\", \"satellite\", \"muslims\", \"fire\", \"muslim\", \"right\", \"sumgait\", \"shout\", \"homicide\", \"mamma\", \"azerbaijani\", \"azerbaijanis\", \"balcony\", \"karina\", \"karabagh\", \"igor\", \"hojali\", \"nagorno\", \"revolver\", \"apartment\", \"courtyard\", \"husband\", \"vancouver\", \"karabakh\", \"agdam\", \"koresh\", \"-zinaida\", \"marina\", \"lyuda\", \"entryway\", \"cult\", \"shooting\", \"-gayane\", \"microdistrict\", \"pistol\", \"batf\", \"gun\", \"firearm\", \"daughter\", \"handgun\", \"atf\", \"assault\", \"shoot\", \"compound\", \"henrik\", \"wife\", \"weapon\", \"fbi\", \"fire\", \"door\", \"ban\", \"waco\", \"say\", \"azeri\", \"child\", \"woman\", \"azerbaijan\", \"come\", \"crime\", \"kill\", \"people\", \"tell\", \"law\", \"think\", \"body\", \"see\", \"start\", \"death\", \"happen\", \"know\", \"criminal\", \"hear\", \"day\", \"time\", \"take\", \"like\", \"get\", \"leave\", \"right\", \"thing\", \"armenians\", \"look\", \"year\", \"want\", \"way\", \"find\", \"armenian\", \"amp\", \"gerard\", \"bullock\", \"incoming\", \"adl\", \"ics.uci.edu\", \"module\", \"voltage\", \"capacitor\", \"technology\", \"hst\", \"wiring\", \"ftp\", \"outlet\", \"resistor\", \"nasa\", \"output\", \"redesign\", \"software\", \"gfci\", \"ames\", \"aerospace\", \"ssf\", \"mhz\", \"/pub\", \"shuttle\", \"chip\", \"interface\", \"nec\", \"management\", \"circuit\", \"input\", \"frequency\", \"component\", \"space\", \"wire\", \"data\", \"payload\", \"computer\", \"program\", \"satellite\", \"launch\", \"datum\", \"electronic\", \"project\", \"cost\", \"mission\", \"design\", \"system\", \"lunar\", \"orbit\", \"current\", \"file\", \"use\", \"low\", \"test\", \"available\", \"information\", \"ground\", \"high\", \"build\", \"work\", \"need\", \"email\", \"power\", \"like\", \"good\", \"know\", \"time\", \"year\", \"look\", \"want\", \"new\", \"thing\", \"think\", \"get\", \"israel\", \"gaza\", \"palestinian\", \"bosnian\", \"palestinians\", \"israeli\", \"lebanese\", \"jew\", \"arabs\", \"serbs\", \"croats\", \"cruelty\", \"nazis\", \"zionism\", \"irgun\", \"gazans\", \"arab\", \"racism\", \"yassin\", \"croatia\", \"lebanon\", \"syria\", \"serbia\", \"israelis\", \"rabin\", \"bosnia\", \"occupy\", \"jerusalem\", \"shostack\", \"judaism\", \"palestine\", \"jews\", \"zionist\", \"jewish\", \"terrorist\", \"larson\", \"nazi\", \"territory\", \"genocide\", \"muslim\", \"muslims\", \"turkish\", \"peace\", \"turks\", \"war\", \"armenian\", \"country\", \"turkey\", \"government\", \"email\", \"armenians\", \"state\", \"people\", \"right\", \"population\", \"history\", \"policy\", \"village\", \"attack\", \"force\", \"world\", \"human\", \"fact\", \"kill\", \"say\", \"like\", \"year\", \"know\", \"time\", \"osmanli\", \"anania\", \"shirak\", \"umumiye\", \"nezareti\", \"mecmuasi\", \"orbeli\", \"aiu\", \"muharrerat\", \"salonica\", \"sabah\", \"bedouin\", \"mezalimi\", \"transcaucasia\", \"dialing\", \"harbi\", \"defterleri\", \"devleti\", \"birinci\", \"tarihi\", \"imparatorlugu'nun\", \"babiali\", \"dahiliye\", \"0/0\", \"spence\", \"1917\", \"tyukhik\", \"fadeley\", \"bobbs\", \"pkk\", \"negev\", \"ermeni\", \"weaver\", \"istanbul\", \"ankara\", \"kuwait\", \"sheikh\", \"tartar\", \"co.\", \"belgeleri\", \"1983\", \"turan\", \"askeri\", \"harris\", \"greece\", \"greek\", \"1918\", \"1916\", \"1976\", \"foreign\", \"york\", \"british\", \"russian\", \"percent\", \"turkey\", \"new\", \"turk\", \"london\", \"university\", \"press\", \"ottoman\", \"empire\", \"oil\", \"armenian\", \"armenia\", \"problem\", \"history\", \"book\", \"office\", \"source\", \"report\", \"village\", \"work\", \"turkish\", \"power\", \"time\", \"year\"], \"Freq\": [753.0, 1097.0, 1255.0, 591.0, 999.0, 608.0, 433.0, 1968.0, 339.0, 1222.0, 373.0, 817.0, 1487.0, 162.0, 331.0, 565.0, 704.0, 352.0, 212.0, 347.0, 440.0, 296.0, 335.0, 362.0, 404.0, 367.0, 279.0, 504.0, 269.0, 1144.0, 119.94392249509882, 130.21957004636474, 104.08642648381333, 101.62672616556141, 163.48241600486176, 97.42582117626783, 77.78167932741756, 66.6026931344223, 77.56523285084552, 63.60901649943476, 57.161416811417496, 65.83849920665263, 54.04409280516928, 169.89860872113874, 45.94285498270337, 44.54251864131504, 46.85650848927735, 134.99353763890278, 48.492957751080496, 144.76342929559306, 37.07130058762725, 40.93724411607843, 39.106731287633224, 36.81879254210448, 60.06477576543433, 42.42754750238934, 32.57609250650163, 32.80133185628081, 42.80180331948341, 185.25131982998187, 1070.6468746274168, 326.6776032891484, 119.80326734893181, 160.83686316852362, 109.87833290867074, 142.75757532421895, 234.4442319022986, 119.39682237199005, 102.12337322917229, 119.43369695419526, 391.7935071040279, 300.40653260594735, 444.42753823390234, 200.11039703334208, 99.3742093671813, 91.37918344215386, 1088.3239867776515, 140.63635823986434, 425.2480084145507, 296.0291151181355, 270.4703519338666, 652.1769461559677, 256.45895086287976, 523.3733908914294, 1056.7220459820294, 457.12996484632913, 424.1303194062514, 720.9239906476348, 228.1248917981752, 413.06168723983467, 411.84150461746447, 231.37672904003296, 335.9201845671611, 774.5192423391849, 215.8915314490014, 308.4318288254162, 357.44066853189105, 616.7607016595551, 383.2846568021743, 627.0333052275461, 395.20680646633775, 300.5378477325464, 481.73074410936675, 390.43920426667364, 394.3980779073113, 373.8839425195952, 428.1654544607872, 389.7338632509836, 349.82288075693856, 327.8866888585666, 321.1080232376703, 113.27299983537304, 79.08279768385066, 106.61967477814275, 57.768267607407864, 149.4969531272778, 54.58640218353688, 66.9357063626749, 133.5594219776571, 54.160913417474255, 185.35262883714609, 88.4586053144315, 98.14843423135143, 102.52704836994707, 85.86966854026574, 57.34515790528169, 347.04508799437025, 149.1866898527619, 46.580639891523575, 186.9706347663139, 48.31073837294599, 48.86523453278597, 55.377842504156746, 40.21166222283895, 41.018748298327566, 38.320230626986636, 279.6536923915858, 170.78271092569926, 36.84484351950014, 41.848632473767786, 42.6260257098711, 229.3725549263616, 116.26931721379206, 100.99569643517823, 85.10217039174528, 1179.0692996351647, 242.64883788076696, 111.2663806311577, 90.90714700979919, 152.65051602460534, 379.90123383184164, 345.1522622973577, 514.7036030667475, 286.62289501115663, 140.84884357242058, 213.12438167038795, 300.6596146886405, 316.3387976786899, 282.26035849572395, 502.6021382520219, 183.57434673437365, 304.63504567973695, 250.0657894251434, 347.7137110334296, 669.6535222691242, 270.75829656679815, 170.62294996339298, 218.00661485311235, 328.6593788279454, 278.98364494481933, 349.85814168331456, 238.90897967920037, 469.5383925678659, 417.08770032532584, 602.4352982756764, 366.2072812004896, 531.8862029319042, 389.1886448415732, 529.6614599325719, 440.66707275104903, 350.88392737831236, 315.40729565128856, 324.8343895359646, 304.63198471849387, 308.68466709779466, 325.7623760039184, 284.7254930255529, 746.4976180725763, 92.74361646584798, 172.33235770024385, 86.56832714583446, 140.76260802954505, 427.51976349252357, 74.86337735731126, 78.40025335494997, 196.9670075444028, 96.59758513840444, 42.69231073386574, 35.26854224371852, 99.59708105401052, 42.91541151108632, 37.453781287619044, 31.624272572212977, 332.2115675148802, 37.71342948437438, 44.390947595202775, 27.24090998829923, 81.43340414446614, 51.758752189391416, 29.743452841834646, 102.10726170593803, 27.95428933134528, 85.41139334986323, 108.14374050617614, 71.52205433467594, 27.846296562718585, 30.026864251002667, 105.58056504024967, 561.364014678597, 57.82817328386933, 340.0953167389451, 98.88316067825183, 93.17451075329741, 152.79692797678698, 153.04526463107223, 263.3532309984268, 239.82226677457953, 247.02071493379236, 511.5476227112586, 176.0921391754898, 237.2629761874482, 320.6375634779194, 590.3446193131626, 249.9464931629134, 216.87462554721182, 387.9307372228358, 531.299317725469, 397.5361000438291, 383.02303740403994, 690.5431598358539, 483.4546706544399, 194.48587902955202, 204.2939945194028, 164.79519667107942, 197.19843230784613, 213.83945842114707, 222.58729758852755, 235.30957889805734, 194.28055051714566, 220.1226586950844, 236.86920994000562, 230.1033979296585, 228.3499452173873, 218.0362887608467, 216.71006714868275, 208.75223075237784, 45.98180084163291, 29.495458531772123, 24.380289007995458, 21.6017988638011, 21.596336995022313, 21.592977248887124, 19.29690517135852, 26.52699755672388, 17.312652376987202, 21.724116850996484, 16.138627664908533, 18.401785844249545, 20.814174821679224, 16.920268870208933, 14.22926817450878, 13.033124718923311, 13.032782107774215, 13.03173851255494, 13.031133758250606, 13.031079006832107, 13.03100185710604, 13.03081354540908, 13.02977326845759, 12.6621880064248, 14.278642340057957, 14.19961779269053, 11.647771145374321, 10.369879674134554, 10.23206039896827, 10.127344992820435, 18.969538144481305, 50.52430371058402, 50.57132024686994, 133.659162840667, 72.60827840750237, 81.12420785632548, 20.700112684739988, 64.56339034423439, 28.880102361856, 16.6730579200148, 39.61376290400459, 34.6447630762823, 16.949293758549175, 19.015423151451568, 64.60735739242328, 87.3041365113289, 35.018473031084504, 20.08491247340989, 22.323766000338864, 53.49045019385024, 58.48541214874459, 52.45704869321858, 86.28383553192363, 39.55637346261388, 74.24042151123643, 103.75317485471878, 30.912050278275846, 37.232052971407384, 69.40958108112869, 59.2763544586543, 47.79565560769692, 38.72769249315305, 31.90099030881823, 87.5176537704053, 54.18137327609887, 63.6821115120685, 51.98491559756124, 53.54121637273642, 46.27169467038204, 50.649671185876436, 50.21169302055934, 46.73101925237832, 53.12287239791998, 50.70308202418952, 49.408207658411584, 50.90169694263072, 49.85047634397836], \"Total\": [753.0, 1097.0, 1255.0, 591.0, 999.0, 608.0, 433.0, 1968.0, 339.0, 1222.0, 373.0, 817.0, 1487.0, 162.0, 331.0, 565.0, 704.0, 352.0, 212.0, 347.0, 440.0, 296.0, 335.0, 362.0, 404.0, 367.0, 279.0, 504.0, 269.0, 1144.0, 120.71718630107402, 131.1583987460293, 104.90276511706293, 102.44110343203843, 164.82519305893172, 98.27248229151348, 78.49141165421656, 67.2943942855301, 78.41335853899275, 64.32002353102699, 57.85688257012407, 66.73048427142729, 54.776385991528905, 172.27374275317524, 46.64017702129286, 45.24518671508614, 47.59721204178491, 137.1683808656834, 49.28761460896596, 147.26136716065568, 37.74963418965551, 41.687512452890765, 39.857889865897974, 37.52753136668272, 61.2579774457571, 43.285434618751474, 33.252516514301284, 33.504475666693345, 43.74288442231976, 189.35661584780237, 1097.4449392256947, 335.4778528521953, 122.47179237480108, 164.99568938687972, 114.25668931996768, 149.70675781406712, 249.87369245165215, 124.77628990594853, 106.36457861593264, 125.39697084266383, 432.23582243583246, 331.47635267897584, 504.1440315931939, 219.0438314568735, 104.64889924835668, 95.67843016848772, 1487.4955717687951, 155.51865471874302, 549.3266966182459, 374.2676133750898, 339.76848285054615, 966.7394558883632, 325.3322532366729, 795.8801496916353, 1968.9967036369248, 688.7350126139834, 629.0757165834141, 1247.8099301401787, 285.95782872102706, 619.6110310419485, 626.2780758507979, 293.27633963539387, 488.258521140147, 1536.2496224056783, 270.4015144762663, 454.63782796373874, 574.7591773791189, 1317.0817021056127, 643.0864098564732, 1425.1620407340927, 755.0045663300502, 464.81571128069334, 1144.957107266446, 786.9570390101287, 817.6627701416222, 751.9788235481859, 1046.9361469439245, 890.1798642631217, 765.5004040766503, 786.7496109548737, 999.5726864144578, 114.34167385094716, 79.94553472632447, 107.79147741345825, 58.45096017368538, 151.28990128992697, 55.24590070468217, 67.78111840703134, 135.2817814831448, 54.86559799899686, 187.78109904261365, 89.62735916987766, 99.48388422235992, 103.94310310402804, 87.07727260708353, 58.20191575928963, 352.41779405526, 151.5688786961516, 47.324828354910174, 190.0475198735772, 49.10898522163581, 49.67889898249174, 56.33191415730879, 40.92423457312991, 41.75968957503696, 39.021439852675414, 284.89009605160527, 173.984345399183, 37.54155923320978, 42.65530701759781, 43.4584563302639, 235.09737954375586, 118.99794420189846, 103.22238420710951, 87.34579631348856, 1255.3257609511313, 251.95994719685137, 114.52982947260213, 93.3912408546429, 158.7327322408768, 404.6757302566542, 367.0451708524554, 565.5864374741919, 308.8611706121165, 148.45715658971295, 234.46563377485757, 341.4014415667955, 366.0532344240255, 326.4210913470269, 627.7632015000623, 204.14297573569996, 368.3874824613387, 293.52898832537863, 432.82109903185943, 976.7253757155861, 332.41723678182996, 192.4436030965616, 266.3660761153095, 455.02877875459, 367.07751680614814, 498.5614749608767, 302.5110291527208, 806.2939888194644, 693.7052589077995, 1222.848369530535, 577.0286953177488, 1425.1620407340927, 807.2518296334189, 1536.2496224056783, 1317.0817021056127, 1046.9361469439245, 751.9788235481859, 890.1798642631217, 704.0407631450156, 786.9570390101287, 1247.8099301401787, 755.0045663300502, 753.021260410555, 93.70479200246757, 174.15107180914669, 87.54712429750647, 142.38073030424357, 433.2801071929893, 75.91051518522345, 79.51808105572091, 199.78720711642111, 98.03909061165676, 43.43624227944177, 35.99937948467428, 101.71072022189267, 43.8801140935059, 38.30007612911316, 32.345993345727045, 339.97006267925684, 38.60620222157374, 45.48224498928584, 27.914271231399578, 83.45488253081136, 53.06441006117756, 30.531139467297614, 104.82443771917312, 28.750382423825762, 87.852554522613, 111.23640572055176, 73.61730202711955, 28.671646205341187, 30.984269140292216, 109.22813074783197, 591.079028907288, 59.75665176107646, 373.9955993249505, 104.83388972144054, 98.91020267952334, 165.69570527845445, 166.63779407028395, 296.96216328052475, 269.1010688100515, 279.29887746117066, 608.6322992699114, 198.93804584701607, 297.2153973102958, 440.8648029774842, 999.5726864144578, 395.1372681296983, 331.3256720425547, 762.9144879061506, 1222.848369530535, 817.6627701416222, 781.9633441694596, 1968.9967036369248, 1144.957107266446, 290.23621655827884, 320.90027032457954, 231.1858850604324, 328.5632596941409, 387.1620603005017, 426.46810392498924, 488.5146339003524, 341.9167449732036, 509.5514009343558, 795.8801496916353, 1487.4955717687951, 1425.1620407340927, 1046.9361469439245, 1536.2496224056783, 1317.0817021056127, 47.01187201231096, 30.240200496401997, 25.138176106098225, 22.354673775428502, 22.356051213595833, 22.35704387014944, 20.030137354152803, 27.57686227436307, 18.063209111867774, 22.69930467569867, 16.866260870639938, 19.244681345189488, 21.826594475099085, 17.773057508982614, 14.960676913052007, 13.768828960614474, 13.768973909350212, 13.769313858141432, 13.769424742520915, 13.769462453325612, 13.76950032754756, 13.769611654493401, 13.769807246210538, 13.381534364097407, 15.108700833625536, 15.066113208661637, 12.372551900523186, 11.095347617805036, 10.990099200882765, 10.87766718203815, 20.654795342190248, 57.13568106688032, 57.98531554999379, 162.7990842150198, 92.66337122008211, 105.02691780313504, 23.35766404213982, 95.72214813712668, 37.44147544772456, 18.971025376999208, 59.50241065709111, 51.092028376341204, 19.81087325885236, 23.250521096010853, 130.5118933760503, 212.3810160305552, 60.13006275260525, 25.48513291200259, 30.175644713767724, 126.89626815225495, 157.42618574288042, 136.38364484503015, 347.6352147923633, 83.53949114012663, 331.3256720425547, 704.0407631450156, 57.013735459148634, 86.86757124486297, 362.08359312167823, 271.3830841079491, 163.92170697307083, 97.03789886981772, 62.21815211526593, 999.5726864144578, 328.9825606238396, 587.2693717244626, 320.90027032457954, 385.3325035587188, 240.11888703703107, 410.9540330563159, 493.5689400373691, 328.5632596941409, 806.2939888194644, 608.6322992699114, 577.0286953177488, 1317.0817021056127, 1046.9361469439245], \"Category\": [\"Default\", \"Default\", \"Default\", \"Default\", \"Default\", \"Default\", \"Default\", \"Default\", \"Default\", \"Default\", \"Default\", \"Default\", \"Default\", \"Default\", \"Default\", \"Default\", \"Default\", \"Default\", \"Default\", \"Default\", \"Default\", \"Default\", \"Default\", \"Default\", \"Default\", \"Default\", \"Default\", \"Default\", \"Default\", \"Default\", \"Topic1\", \"Topic1\", \"Topic1\", \"Topic1\", \"Topic1\", \"Topic1\", \"Topic1\", \"Topic1\", \"Topic1\", \"Topic1\", \"Topic1\", \"Topic1\", \"Topic1\", \"Topic1\", \"Topic1\", \"Topic1\", \"Topic1\", \"Topic1\", \"Topic1\", \"Topic1\", \"Topic1\", \"Topic1\", \"Topic1\", \"Topic1\", \"Topic1\", \"Topic1\", \"Topic1\", \"Topic1\", \"Topic1\", \"Topic1\", \"Topic1\", \"Topic1\", \"Topic1\", \"Topic1\", \"Topic1\", \"Topic1\", \"Topic1\", \"Topic1\", \"Topic1\", \"Topic1\", \"Topic1\", \"Topic1\", \"Topic1\", \"Topic1\", \"Topic1\", \"Topic1\", \"Topic1\", \"Topic1\", \"Topic1\", \"Topic1\", \"Topic1\", \"Topic1\", \"Topic1\", \"Topic1\", \"Topic1\", \"Topic1\", \"Topic1\", \"Topic1\", \"Topic1\", \"Topic1\", \"Topic1\", \"Topic1\", \"Topic1\", \"Topic1\", \"Topic1\", \"Topic1\", \"Topic1\", \"Topic1\", \"Topic1\", \"Topic1\", \"Topic1\", \"Topic1\", \"Topic1\", \"Topic1\", \"Topic1\", \"Topic1\", \"Topic1\", \"Topic1\", \"Topic1\", \"Topic1\", \"Topic1\", \"Topic2\", \"Topic2\", \"Topic2\", \"Topic2\", \"Topic2\", \"Topic2\", \"Topic2\", \"Topic2\", \"Topic2\", \"Topic2\", \"Topic2\", \"Topic2\", \"Topic2\", \"Topic2\", \"Topic2\", \"Topic2\", \"Topic2\", \"Topic2\", \"Topic2\", \"Topic2\", \"Topic2\", \"Topic2\", \"Topic2\", \"Topic2\", \"Topic2\", \"Topic2\", \"Topic2\", \"Topic2\", \"Topic2\", \"Topic2\", \"Topic2\", \"Topic2\", \"Topic2\", \"Topic2\", \"Topic2\", \"Topic2\", \"Topic2\", \"Topic2\", \"Topic2\", \"Topic2\", \"Topic2\", \"Topic2\", \"Topic2\", \"Topic2\", \"Topic2\", \"Topic2\", \"Topic2\", \"Topic2\", \"Topic2\", \"Topic2\", \"Topic2\", \"Topic2\", \"Topic2\", \"Topic2\", \"Topic2\", \"Topic2\", \"Topic2\", \"Topic2\", \"Topic2\", \"Topic2\", \"Topic2\", \"Topic2\", \"Topic2\", \"Topic2\", \"Topic2\", \"Topic2\", \"Topic2\", \"Topic2\", \"Topic2\", \"Topic2\", \"Topic2\", \"Topic2\", \"Topic2\", \"Topic2\", \"Topic2\", \"Topic2\", \"Topic3\", \"Topic3\", \"Topic3\", \"Topic3\", \"Topic3\", \"Topic3\", \"Topic3\", \"Topic3\", \"Topic3\", \"Topic3\", \"Topic3\", \"Topic3\", \"Topic3\", \"Topic3\", \"Topic3\", \"Topic3\", \"Topic3\", \"Topic3\", \"Topic3\", \"Topic3\", \"Topic3\", \"Topic3\", \"Topic3\", \"Topic3\", \"Topic3\", \"Topic3\", \"Topic3\", \"Topic3\", \"Topic3\", \"Topic3\", \"Topic3\", \"Topic3\", \"Topic3\", \"Topic3\", \"Topic3\", \"Topic3\", \"Topic3\", \"Topic3\", \"Topic3\", \"Topic3\", \"Topic3\", \"Topic3\", \"Topic3\", \"Topic3\", \"Topic3\", \"Topic3\", \"Topic3\", \"Topic3\", \"Topic3\", \"Topic3\", \"Topic3\", \"Topic3\", \"Topic3\", \"Topic3\", \"Topic3\", \"Topic3\", \"Topic3\", \"Topic3\", \"Topic3\", \"Topic3\", \"Topic3\", \"Topic3\", \"Topic3\", \"Topic3\", \"Topic3\", \"Topic3\", \"Topic3\", \"Topic3\", \"Topic3\", \"Topic4\", \"Topic4\", \"Topic4\", \"Topic4\", \"Topic4\", \"Topic4\", \"Topic4\", \"Topic4\", \"Topic4\", \"Topic4\", \"Topic4\", \"Topic4\", \"Topic4\", \"Topic4\", \"Topic4\", \"Topic4\", \"Topic4\", \"Topic4\", \"Topic4\", \"Topic4\", \"Topic4\", \"Topic4\", \"Topic4\", \"Topic4\", \"Topic4\", \"Topic4\", \"Topic4\", \"Topic4\", \"Topic4\", \"Topic4\", \"Topic4\", \"Topic4\", \"Topic4\", \"Topic4\", \"Topic4\", \"Topic4\", \"Topic4\", \"Topic4\", \"Topic4\", \"Topic4\", \"Topic4\", \"Topic4\", \"Topic4\", \"Topic4\", \"Topic4\", \"Topic4\", \"Topic4\", \"Topic4\", \"Topic4\", \"Topic4\", \"Topic4\", \"Topic4\", \"Topic4\", \"Topic4\", \"Topic4\", \"Topic4\", \"Topic4\", \"Topic4\", \"Topic4\", \"Topic4\", \"Topic4\", \"Topic4\", \"Topic4\", \"Topic4\", \"Topic4\", \"Topic4\", \"Topic4\", \"Topic4\", \"Topic4\", \"Topic4\", \"Topic4\", \"Topic4\", \"Topic4\", \"Topic4\", \"Topic4\", \"Topic4\", \"Topic4\"], \"logprob\": [30.0, 29.0, 28.0, 27.0, 26.0, 25.0, 24.0, 23.0, 22.0, 21.0, 20.0, 19.0, 18.0, 17.0, 16.0, 15.0, 14.0, 13.0, 12.0, 11.0, 10.0, 9.0, 8.0, 7.0, 6.0, 5.0, 4.0, 3.0, 2.0, 1.0, -7.006499767303467, -6.924300193786621, -7.1483001708984375, -7.1722002029418945, -6.696800231933594, -7.214399814605713, -7.439599990844727, -7.594799995422363, -7.442399978637695, -7.6407999992370605, -7.747700214385986, -7.606299877166748, -7.803699970245361, -6.658299922943115, -7.966100215911865, -7.997099876403809, -7.946400165557861, -6.888299942016602, -7.912099838256836, -6.818399906158447, -8.180700302124023, -8.081500053405762, -8.12720012664795, -8.1875, -7.6981000900268555, -8.045700073242188, -8.3100004196167, -8.303099632263184, -8.036999702453613, -6.571800231933594, -4.817500114440918, -6.0046000480651855, -7.007699966430664, -6.713099956512451, -7.094200134277344, -6.832399845123291, -6.336299896240234, -7.011099815368652, -7.167300224304199, -7.010799884796143, -5.822800159454346, -6.088399887084961, -5.696700096130371, -6.494699954986572, -7.1946001052856445, -7.278500080108643, -4.80109977722168, -6.847400188446045, -5.740900039672852, -6.103099822998047, -6.193399906158447, -5.313199996948242, -6.246600151062012, -5.533199787139893, -4.830599784851074, -5.668600082397461, -5.743500232696533, -5.2129998207092285, -6.36359977722168, -5.769899845123291, -5.772900104522705, -6.3495001792907715, -5.9766998291015625, -5.141300201416016, -6.418799877166748, -6.061999797821045, -5.914599895477295, -5.36899995803833, -5.844799995422363, -5.352499961853027, -5.8140997886657715, -6.0879998207092285, -5.616099834442139, -5.826300144195557, -5.816199779510498, -5.86959981918335, -5.734000205993652, -5.828100204467773, -5.936100006103516, -6.000899791717529, -6.0218000411987305, -7.046800136566162, -7.406099796295166, -7.1072998046875, -7.720099925994873, -6.7692999839782715, -7.776800155639648, -7.572800159454346, -6.881999969482422, -7.784599781036377, -6.554299831390381, -7.294000148773193, -7.190100193023682, -7.146399974822998, -7.323699951171875, -7.727499961853027, -5.92710018157959, -6.771399974822998, -7.935400009155273, -6.545599937438965, -7.898900032043457, -7.887499809265137, -7.762400150299072, -8.08240032196045, -8.0625, -8.130599975585938, -6.14300012588501, -6.636199951171875, -8.1697998046875, -8.042499542236328, -8.024100303649902, -6.34119987487793, -7.020699977874756, -7.161499977111816, -7.332699775695801, -4.704100131988525, -6.284900188446045, -7.064599990844727, -7.26669979095459, -6.7484002113342285, -5.836699962615967, -5.932600021362305, -5.5329999923706055, -6.1184000968933105, -6.82889986038208, -6.414700031280518, -6.0706000328063965, -6.019700050354004, -6.133699893951416, -5.55679988861084, -6.563899993896484, -6.057400226593018, -6.254799842834473, -5.92519998550415, -5.269800186157227, -6.175300121307373, -6.6371002197265625, -6.392000198364258, -5.981500148773193, -6.145400047302246, -5.919000148773193, -6.30049991607666, -5.624800205230713, -5.743299961090088, -5.3755998611450195, -5.8734002113342285, -5.500100135803223, -5.8125, -5.504300117492676, -5.688300132751465, -5.916100025177002, -6.02269983291626, -5.993199825286865, -6.057499885559082, -6.0441999435424805, -5.9903998374938965, -6.125, -4.799699783325195, -6.885300159454346, -6.265699863433838, -6.95419979095459, -6.4679999351501465, -5.357100009918213, -7.099400043487549, -7.053299903869629, -6.1321001052856445, -6.844600200653076, -7.661099910736084, -7.852099895477295, -6.814000129699707, -7.655900001525879, -7.791999816894531, -7.96120023727417, -5.609300136566162, -7.785099983215332, -7.622099876403809, -8.110400199890137, -7.0152997970581055, -7.468500137329102, -8.022500038146973, -6.789100170135498, -8.084500312805176, -6.967599868774414, -6.731599807739258, -7.145100116729736, -8.088399887084961, -8.012999534606934, -6.7555999755859375, -5.084700107574463, -7.357600212097168, -5.585899829864502, -6.821199893951416, -6.8805999755859375, -6.386000156402588, -6.384399890899658, -5.841599941253662, -5.935200214385986, -5.905600070953369, -5.177700042724609, -6.244100093841553, -5.945899963378906, -5.644800186157227, -5.03439998626709, -5.893899917602539, -6.035799980163574, -5.4542999267578125, -5.139800071716309, -5.429800033569336, -5.4670000076293945, -4.877600193023682, -5.2342000007629395, -6.144800186157227, -6.095600128173828, -6.310400009155273, -6.130899906158447, -6.049900054931641, -6.009799957275391, -5.95419979095459, -6.1458001136779785, -6.020899772644043, -5.9475998878479, -5.976600170135498, -5.9842000007629395, -6.030399799346924, -6.036600112915039, -6.073999881744385, -6.429500102996826, -6.873600006103516, -7.064000129699707, -7.184999942779541, -7.185299873352051, -7.185400009155273, -7.297800064086914, -6.979599952697754, -7.406400203704834, -7.1793999671936035, -7.476600170135498, -7.345300197601318, -7.2221999168396, -7.429299831390381, -7.602499961853027, -7.690299987792969, -7.690299987792969, -7.690400123596191, -7.690400123596191, -7.690499782562256, -7.690499782562256, -7.690499782562256, -7.6905999183654785, -7.719200134277344, -7.598999977111816, -7.604599952697754, -7.802700042724609, -7.918900012969971, -7.932300090789795, -7.942599773406982, -7.315000057220459, -6.335299968719482, -6.334400177001953, -5.362500190734863, -5.972700119018555, -5.861800193786621, -7.22760009765625, -6.090099811553955, -6.894599914550781, -7.443999767303467, -6.57859992980957, -6.712600231170654, -7.427599906921387, -7.3125, -6.0894999504089355, -5.788400173187256, -6.701900005340576, -7.257800102233887, -7.152100086212158, -6.278299808502197, -6.189000129699707, -6.297800064086914, -5.800099849700928, -6.580100059509277, -5.950500011444092, -5.615799903869629, -6.826600074768066, -6.640600204467773, -6.0177998542785645, -6.175600051879883, -6.390900135040283, -6.601200103759766, -6.795199871063232, -5.785900115966797, -6.265500068664551, -6.103899955749512, -6.30679988861084, -6.277299880981445, -6.423299789428711, -6.332900047302246, -6.3414998054504395, -6.413400173187256, -6.285200119018555, -6.3317999839782715, -6.357699871063232, -6.327899932861328, -6.348800182342529], \"loglift\": [30.0, 29.0, 28.0, 27.0, 26.0, 25.0, 24.0, 23.0, 22.0, 21.0, 20.0, 19.0, 18.0, 17.0, 16.0, 15.0, 14.0, 13.0, 12.0, 11.0, 10.0, 9.0, 8.0, 7.0, 6.0, 5.0, 4.0, 3.0, 2.0, 1.0, 1.0525, 1.0518, 1.0512, 1.051, 1.0508, 1.0503, 1.0499, 1.0486, 1.0481, 1.0479, 1.0469, 1.0455, 1.0455, 1.0451, 1.0439, 1.0433, 1.0433, 1.043, 1.0427, 1.0419, 1.0408, 1.0408, 1.0399, 1.0399, 1.0393, 1.039, 1.0384, 1.0378, 1.0372, 1.0371, 1.0343, 1.0324, 1.0369, 1.0334, 1.0199, 1.0114, 0.9952, 1.0149, 1.0183, 1.0103, 0.9607, 0.9606, 0.9329, 0.9686, 1.0073, 1.013, 0.7465, 0.9584, 0.803, 0.8245, 0.8309, 0.6654, 0.8211, 0.6398, 0.4366, 0.6491, 0.6648, 0.5104, 0.833, 0.6535, 0.6398, 0.8219, 0.685, 0.3741, 0.8338, 0.671, 0.584, 0.3003, 0.5415, 0.2379, 0.4117, 0.6229, 0.1932, 0.3581, 0.3299, 0.3602, 0.1649, 0.233, 0.2759, 0.1837, -0.0766, 1.0666, 1.0651, 1.065, 1.0642, 1.064, 1.0639, 1.0634, 1.0631, 1.063, 1.0629, 1.0628, 1.0624, 1.0622, 1.062, 1.0611, 1.0606, 1.0601, 1.0601, 1.0596, 1.0596, 1.0594, 1.0589, 1.0584, 1.058, 1.0578, 1.0574, 1.0574, 1.0572, 1.0568, 1.0566, 1.0513, 1.0527, 1.0541, 1.0499, 1.0133, 1.0383, 1.047, 1.049, 1.0369, 1.0128, 1.0144, 0.9817, 1.0012, 1.0233, 0.9805, 0.9489, 0.93, 0.9306, 0.8536, 0.9697, 0.8859, 0.9157, 0.857, 0.6985, 0.8708, 0.9556, 0.8756, 0.7506, 0.8015, 0.7217, 0.8399, 0.5352, 0.5672, 0.368, 0.6213, 0.0903, 0.3464, 0.0111, -0.0189, -0.0172, 0.2071, 0.0678, 0.2382, 0.1401, -0.267, 0.1007, 1.4287, 1.4271, 1.4269, 1.4262, 1.426, 1.424, 1.4235, 1.4232, 1.4232, 1.4226, 1.4201, 1.4169, 1.4164, 1.4152, 1.4151, 1.4148, 1.4143, 1.414, 1.4131, 1.413, 1.4129, 1.4125, 1.4113, 1.4111, 1.4093, 1.4092, 1.4092, 1.4085, 1.4082, 1.406, 1.4034, 1.3858, 1.4046, 1.3424, 1.379, 1.3777, 1.3564, 1.3523, 1.3173, 1.3222, 1.3146, 1.2636, 1.3154, 1.2121, 1.119, 0.9108, 0.9794, 1.0136, 0.7611, 0.6038, 0.7162, 0.7237, 0.3896, 0.5752, 1.0371, 0.9858, 1.0989, 0.9269, 0.8438, 0.7872, 0.7069, 0.8721, 0.598, 0.2255, -0.4289, -0.3938, -0.1316, -0.5211, -0.4046, 2.5726, 2.5698, 2.5641, 2.5605, 2.5601, 2.5599, 2.5574, 2.5559, 2.5523, 2.5508, 2.5506, 2.5499, 2.5472, 2.5455, 2.5446, 2.5398, 2.5398, 2.5397, 2.5396, 2.5396, 2.5396, 2.5396, 2.5395, 2.5395, 2.5382, 2.5355, 2.5344, 2.5271, 2.5232, 2.5232, 2.5096, 2.4717, 2.4579, 2.3975, 2.3508, 2.3365, 2.4739, 2.2009, 2.3351, 2.4656, 2.1879, 2.2062, 2.4387, 2.3936, 1.8916, 1.7057, 2.0541, 2.3566, 2.2933, 1.7308, 1.6045, 1.6392, 1.2012, 1.8471, 1.0989, 0.6799, 1.9826, 1.7475, 0.9429, 1.0734, 1.3623, 1.6762, 1.9267, 0.1592, 0.791, 0.3731, 0.7745, 0.6211, 0.9481, 0.5012, 0.3093, 0.6444, -0.1251, 0.1095, 0.1369, -0.6586, -0.4499]}, \"token.table\": {\"Topic\": [1, 1, 2, 4, 3, 4, 4, 1, 3, 4, 1, 2, 4, 1, 2, 3, 4, 2, 3, 2, 1, 4, 2, 2, 4, 1, 3, 4, 1, 3, 1, 2, 3, 4, 1, 2, 3, 4, 1, 3, 4, 1, 2, 3, 4, 1, 2, 3, 4, 3, 4, 1, 2, 3, 4, 1, 2, 1, 2, 3, 4, 1, 2, 3, 4, 1, 3, 4, 1, 3, 1, 1, 3, 4, 4, 1, 1, 2, 3, 1, 2, 4, 3, 4, 4, 4, 1, 2, 3, 4, 1, 2, 3, 4, 1, 3, 4, 3, 1, 2, 3, 4, 1, 2, 3, 4, 2, 2, 1, 2, 3, 4, 1, 2, 3, 4, 2, 4, 1, 2, 3, 4, 1, 2, 3, 4, 1, 2, 4, 1, 2, 3, 1, 2, 3, 4, 1, 2, 3, 4, 1, 2, 3, 4, 1, 1, 2, 3, 4, 1, 2, 3, 4, 3, 3, 3, 1, 2, 1, 2, 3, 4, 4, 1, 2, 3, 4, 1, 2, 3, 4, 1, 2, 3, 1, 2, 3, 4, 1, 2, 3, 4, 4, 1, 2, 3, 4, 4, 4, 1, 2, 3, 4, 1, 2, 3, 4, 1, 2, 3, 4, 1, 3, 4, 1, 1, 3, 4, 1, 2, 3, 4, 4, 1, 2, 3, 4, 1, 2, 3, 4, 1, 2, 3, 4, 1, 2, 3, 4, 1, 2, 3, 4, 1, 2, 3, 4, 1, 2, 3, 4, 1, 2, 3, 4, 2, 3, 3, 3, 1, 3, 4, 2, 1, 2, 3, 4, 2, 1, 2, 3, 4, 1, 2, 3, 4, 1, 3, 4, 1, 3, 4, 1, 2, 3, 4, 1, 2, 3, 4, 1, 2, 1, 2, 3, 4, 4, 1, 2, 4, 1, 2, 3, 4, 1, 3, 1, 2, 3, 4, 1, 2, 3, 4, 1, 1, 2, 4, 1, 2, 3, 4, 1, 2, 1, 4, 2, 1, 2, 3, 4, 2, 3, 4, 2, 3, 1, 2, 3, 4, 1, 2, 3, 4, 1, 3, 1, 3, 4, 3, 4, 3, 1, 2, 3, 4, 1, 2, 3, 4, 3, 1, 1, 3, 1, 1, 2, 3, 4, 1, 2, 3, 4, 1, 2, 3, 4, 1, 2, 3, 1, 2, 3, 4, 1, 2, 3, 4, 1, 2, 3, 4, 3, 1, 3, 1, 2, 3, 4, 1, 2, 3, 4, 1, 2, 3, 4, 1, 2, 3, 4, 1, 2, 3, 4, 1, 1, 2, 1, 4, 3, 4, 2, 1, 1, 2, 3, 4, 2, 4, 1, 3, 4, 1, 2, 3, 4, 1, 1, 2, 3, 4, 1, 2, 3, 4, 1, 3, 4, 2, 1, 2, 3, 4, 3, 4, 1, 2, 3, 4, 4, 1, 2, 3, 1, 2, 3, 4, 1, 2, 3, 4, 4, 1, 2, 3, 4, 3, 4, 3, 4, 1, 2, 2, 4, 2, 3, 4, 1, 2, 3, 2, 3, 4, 1, 2, 4, 1, 2, 3, 4, 1, 2, 3, 4, 1, 2, 3, 4, 1, 4, 1, 2, 3, 4, 1, 2, 3, 4, 1, 2, 3, 4, 1, 2, 3, 4, 1, 2, 3, 4, 1, 2, 3, 4, 1, 2, 3, 4, 3, 3, 2, 1, 2, 3, 4, 2, 1, 1, 2, 3, 4, 1, 2, 3, 4, 4, 4, 1, 2, 3, 4, 1, 2, 3, 4, 1, 2, 3, 4, 3, 1, 3, 3, 4, 4, 1, 2, 3, 4, 1, 3, 1, 1, 2, 3, 4, 2, 3, 1, 2, 3, 4, 1, 2, 3, 4, 4, 2, 1, 2, 3, 4, 1, 2, 3, 4, 1, 3, 4, 1, 2, 3, 4, 1, 2, 3, 4, 4, 1, 3, 4, 1, 2, 3, 4, 1, 2, 3, 4, 1, 2, 3, 4, 1, 2, 3, 4, 1, 2, 3, 4, 1, 2, 3, 4, 1, 2, 3, 4, 1, 2, 3, 4, 4, 1, 3, 4, 1, 3, 4, 1, 3, 4, 1, 2, 3, 4, 1, 3, 4, 4, 4, 1, 2, 3, 4, 1, 2, 3, 4, 1, 1, 2, 3, 4, 2, 4, 1, 2, 3, 1, 2, 3, 4, 1, 2, 3, 4, 1, 2, 3, 4, 1, 2, 3, 4, 1, 4, 1, 2, 3, 1, 2, 3, 4, 2, 4, 1, 2, 3, 4, 1, 2, 3, 4, 1, 2, 3, 4, 1, 3, 1, 2, 3, 4, 1, 2, 3, 4, 3, 3, 4], \"Freq\": [0.9924060931089927, 0.9801419482400989, 0.9738236247424021, 0.9714879957920923, 0.19619281630841243, 0.7847712652336497, 0.9292376743824864, 0.049891848813512496, 0.3658735579657583, 0.5820715694909792, 0.19883585112806165, 0.03313930852134361, 0.7290647874695594, 0.11764229251719881, 0.06722416715268503, 0.1512543760935413, 0.6722416715268503, 0.9848641497522119, 0.006609826508404107, 0.9763559577686394, 0.9738754934848941, 0.9790816566212701, 0.9863342586813165, 0.9882660992640695, 0.9589883507369749, 0.04316700274696152, 0.16187626030110572, 0.7877978001320478, 0.9868015710529204, 0.011609430247681417, 0.002941435466755922, 0.005882870933511844, 0.9765565749629662, 0.011765741867023689, 0.0050053254882194455, 0.0050053254882194455, 0.9860491211792308, 0.010010650976438891, 0.3738800007111588, 0.4589908951819917, 0.1641424393366063, 0.32113722629962116, 0.001000427496260502, 0.5902522227936962, 0.08803761967092417, 0.4818612444978481, 0.001222998082481848, 0.4867532368277755, 0.0305749520620462, 0.10095466130481213, 0.8581146210909032, 0.9552007009436623, 0.020039175544272637, 0.006679725181424212, 0.026718900725696847, 0.9627445067303926, 0.03500889115383246, 0.42359522488517837, 0.01291448856357251, 0.5527401105209034, 0.01291448856357251, 0.11638118656889379, 0.8184225378070595, 0.030033854598424205, 0.033788086423227226, 0.7946587562648205, 0.07946587562648205, 0.12361358430786097, 0.9889264922123941, 0.006067033694554565, 0.9870514892690019, 0.9066436451305463, 0.06430096773975505, 0.032150483869877525, 0.9441079622429108, 0.9937392939703847, 0.9460204618593215, 0.03822304896401299, 0.009555762241003248, 0.9769925342809038, 0.01584312217752817, 0.9353233590692519, 0.10542392729202892, 0.8961033819822458, 0.9441207779621411, 0.9099098940978406, 0.7973203637045055, 0.08043144019826153, 0.08742547847637122, 0.03497019139054849, 0.09083064542118631, 0.39446451725772336, 0.3762983881734861, 0.14013871007840173, 0.011382708282462097, 0.9675302040092782, 0.011382708282462097, 0.9937505166286535, 0.0879870897543129, 0.11731611967241719, 0.40327416137393407, 0.38127738893535584, 0.09916993798217745, 0.7900538392580138, 0.0661132919881183, 0.04627930439168281, 0.9926573284600009, 0.984223301475495, 0.7736743956126227, 0.020024513768797294, 0.19842472734535502, 0.007281641370471744, 0.005747643546352623, 0.9828470464262986, 0.005747643546352623, 0.005747643546352623, 0.9740644512687091, 0.021267782778792776, 0.08012504753421303, 0.13354174589035503, 0.02670834917807101, 0.7745421261640593, 0.6744319744360279, 0.16653918387147312, 0.13757584754599955, 0.021722502244105192, 0.011448747875752927, 0.9731435694389987, 0.011448747875752927, 0.953706830758452, 0.04007171557808622, 0.008014343115617243, 0.025199591436062495, 0.9638843724293904, 0.006299897859015624, 0.006299897859015624, 0.09958950332477688, 0.8816600147281718, 0.011716412155856105, 0.008787309116892078, 0.25307660923336744, 0.07339221667767656, 0.6326915230834186, 0.04302302356967246, 0.9862741296843579, 0.7868878583451269, 0.006147561393321304, 0.18750062249629976, 0.015368903483303258, 0.7988120940016361, 0.018491020694482316, 0.16641918625034086, 0.014792816555585854, 0.9672471753311921, 0.9899567214715477, 0.9722389802552087, 0.9794642673785464, 0.01632440445630911, 0.07495000792089695, 0.8517046354647382, 0.071543189379038, 0.003406818541858953, 0.9440945517648848, 0.017462699536092828, 0.969179824253152, 0.008731349768046414, 0.008731349768046414, 0.05827861095108427, 0.9292200746089547, 0.006475401216787142, 0.006475401216787142, 0.9798174557024801, 0.008165145464187335, 0.01633029092837467, 0.6211297079724888, 0.20878309511680296, 0.1235299979441084, 0.045236337275307306, 0.7876530383841504, 0.017048767064591998, 0.16707791723300158, 0.027278027303347198, 0.9441516910110478, 0.09190582592626101, 0.8639147637068535, 0.024508220247002936, 0.018381165185252204, 0.9441283809732787, 0.9357865343503347, 0.9130592661285558, 0.05478355596771335, 0.027391777983856676, 0.00456529633064278, 0.006735950108243505, 0.9497689652623342, 0.01347190021648701, 0.03367975054121753, 0.06869208161290556, 0.4922932515591565, 0.4342320873387244, 0.004088814381720569, 0.030915755956594685, 0.5667888592042359, 0.4019048274357309, 0.9859428172472046, 0.08751098974644647, 0.017502197949289294, 0.8926120954137541, 0.42193976820740386, 0.11971314353791458, 0.43175232095641325, 0.02551263714742442, 0.9012786570068974, 0.9050419361001607, 0.08748738715634888, 0.0030168064536672027, 0.0030168064536672027, 0.14324625148515752, 0.8040273470457228, 0.03927719798786577, 0.013862540466305565, 0.4169051950364592, 0.35843678353744357, 0.17794733934483015, 0.04702893968399082, 0.880700696975174, 0.08926020577451087, 0.021819161411547102, 0.007934240513289855, 0.9747290237489075, 0.02086575891817233, 0.0029808227025960475, 0.0029808227025960475, 0.3306226156242631, 0.11958690352366963, 0.5228995977603593, 0.028138094946745795, 0.08668497632098829, 0.0945654287138054, 0.401903072033673, 0.41766397681930717, 0.009687821180273845, 0.9784699392076583, 0.009687821180273845, 0.009687821180273845, 0.9909267370718751, 0.009620647932736651, 0.9924785916770509, 0.9893033631081003, 0.05724635021580504, 0.8856347121621604, 0.053878917850169454, 0.9881727637502046, 0.5231756437183266, 0.37748116065752674, 0.09271467103869079, 0.006622476502763627, 0.9774178754329619, 0.38401894999826025, 0.4818818437074943, 0.11520568499947809, 0.018581562096690013, 0.34866292909189295, 0.09961797974054083, 0.5085760018332874, 0.04325517541365589, 0.038310684725056096, 0.45972821670067315, 0.49803890142572926, 0.051793706450756566, 0.536771139580568, 0.4096411328378019, 0.15800477377270022, 0.7600574462514372, 0.054484404749206974, 0.027242202374603487, 0.9759031744732879, 0.018224148916401266, 0.0027336223374601902, 0.0027336223374601902, 0.975783068019973, 0.018182293192918753, 0.6881600329583525, 0.1126452434902065, 0.18637667559288712, 0.012288572017113437, 0.9441616303889243, 0.12902936616395738, 0.04300978872131912, 0.8171859857050634, 0.6774623250764027, 0.19795977031453324, 0.11877586218871994, 0.006598659010484441, 0.9589658637045655, 0.037606504459002564, 0.2065943823840032, 0.7020197459650594, 0.06217889178547669, 0.03008656054135969, 0.1464629492286221, 0.056092193321599954, 0.6357115243114662, 0.16204411404017766, 0.9851896173443927, 0.991394267672015, 0.98184305344986, 0.011157307425566592, 0.3012429239406576, 0.12283692044182155, 0.5673895848979377, 0.011698754327792528, 0.994580932627594, 0.9955489782672449, 0.9950245115990572, 0.9441155953925154, 0.9922848115352534, 0.10988315977914537, 0.7230311913467765, 0.1472434341040548, 0.021976631955829072, 0.974806756351925, 0.01680701304055043, 0.008403506520275215, 0.985574407556021, 0.9660555210195803, 0.0013279837536788665, 0.002655967507357733, 0.9906758802444343, 0.005311935014715466, 0.004615951590662737, 0.004615951590662737, 0.9878136404018256, 0.004615951590662737, 0.01907952042021005, 0.9730555414307125, 0.006142540695617379, 0.17199113947728661, 0.8231004532127287, 0.978030952200289, 0.013583763225004014, 0.9809089827676155, 0.002673828253072941, 0.008021484759218824, 0.9091016060448, 0.0775410193391153, 0.0033836422917885387, 0.0016918211458942694, 0.9491116628466851, 0.043987349793251, 0.9682332626328674, 0.994728467869576, 0.9841918315868532, 0.00729030986360632, 0.995625277726983, 0.6571341177470464, 0.023872941180103024, 0.29778352945707454, 0.020103529414823598, 0.5044753070704712, 0.3449960164481932, 0.14125308597973193, 0.00976403820136396, 0.984643853277631, 0.013581294527967323, 0.21899147838568156, 0.7712308586626176, 0.030330541427765857, 0.020220360951843906, 0.9402467842607416, 0.06718690103267189, 0.9105593166270006, 0.010608458057790298, 0.012376534400755347, 0.6740047164795917, 0.10650546227389775, 0.2130109245477955, 0.007948168826410279, 0.647568472181509, 0.08175283037507423, 0.2517126619443075, 0.019362512457254424, 0.9880054142301397, 0.011982522408210235, 0.9705843150650291, 0.4399499720586411, 0.3732908853830894, 0.15998180802132403, 0.026663634670220673, 0.19570018772690526, 0.02302355149728297, 0.35686504820788606, 0.42593570269973496, 0.4973544311198738, 0.41889477487369053, 0.07048070815335111, 0.013298246821387001, 0.1504133795348756, 0.8152405170790258, 0.018049605544185072, 0.01504133795348756, 0.07347791392744375, 0.9013290775099767, 0.004898527595162917, 0.024492637975814583, 0.9784762849015753, 0.9956940776967415, 0.9894506991509352, 0.983507952083548, 0.984029915930605, 0.045815667723192094, 0.9621290221870339, 0.9818080646008661, 0.9849430365151232, 0.11746925298354294, 0.8632624172744086, 0.0081955292779216, 0.010927372370562134, 0.988475870192335, 0.9411395225907432, 0.055741138696806684, 0.891858219148907, 0.05202506278368624, 0.06444709038439454, 0.0035803939102441408, 0.8843572958303029, 0.04654512083317383, 0.9890532148926714, 0.008512623512788893, 0.9846267863125819, 0.002837541170929631, 0.002837541170929631, 0.060351594407319305, 0.006035159440731931, 0.9233793944319854, 0.012070318881463862, 0.009831805318243686, 0.9831805318243686, 0.009831805318243686, 0.9846371515430082, 0.2854238128621657, 0.6011198483006218, 0.10667354622121346, 0.007207672041973883, 0.048414907213210824, 0.9198832370510057, 0.2457244083811183, 0.43321355234821435, 0.17328542093928573, 0.14771871948922718, 0.9840736089663589, 0.008989862568125414, 0.008989862568125414, 0.9709051573575448, 0.23738240961948767, 0.5455630817570681, 0.024987622065209228, 0.1915717691666041, 0.1125073593801329, 0.19286975893737068, 0.19286975893737068, 0.5143193571663218, 0.9485706295499153, 0.15744291747504463, 0.8279325832739416, 0.005429066119829125, 0.008143599179743687, 0.021271222718766247, 0.9784762450632474, 0.7015544318294116, 0.29282271937227616, 0.01148405284249397, 0.9876285444544816, 0.9830514105649525, 0.01319532094718057, 0.009155150721279268, 0.9704459764556024, 0.018310301442558536, 0.005742140944707516, 0.005742140944707516, 0.9876482424896927, 0.007023422325922678, 0.9903025479550976, 0.007023422325922678, 0.01070764228902828, 0.9743954483015735, 0.01070764228902828, 0.07540035861986422, 0.005026690574657614, 0.8846975411397401, 0.0351868340226033, 0.5368216198877429, 0.10462181049846266, 0.3509401507496976, 0.007618092997460873, 0.3471412095550866, 0.07182231921829378, 0.10773347882744068, 0.4788154614552919, 0.983017022491075, 0.9193147604766391, 0.13841675494866454, 0.08218494825076957, 0.7137113927040516, 0.06920837747433227, 0.2205100409553779, 0.00344546938992778, 0.6684210616459892, 0.10680955108776118, 0.1265101728776271, 0.6342838804549522, 0.15250541387987923, 0.08491778727402366, 0.3574283206296525, 0.12896898167049317, 0.2947862438182701, 0.2174048548159742, 0.2809613576738944, 0.4478353761711165, 0.1634684262829931, 0.10897895085532874, 0.02965337207741452, 0.9390234491181264, 0.02224002905806089, 0.009884457359138173, 0.021325086834692294, 0.9084486991578917, 0.04265017366938459, 0.025590104201630753, 0.9739000889531155, 0.9842978022522251, 0.9931361958151408, 0.40723794326438345, 0.3039089128838683, 0.18639746656877254, 0.10130297096128942, 0.9793492062312777, 0.9858262647767786, 0.42097646884848106, 0.15284415362756057, 0.42184986401206714, 0.003493580654344241, 0.2214965478856646, 0.13232261302260484, 0.3969678390678145, 0.24738575478139166, 0.9486394241566672, 0.9691926829614597, 0.05176474589182815, 0.9399388069831953, 0.0027244603100962184, 0.005448920620192437, 0.7314307488702295, 0.10756334542209257, 0.15462230904425808, 0.006050438179992707, 0.6665472035019973, 0.23563169905881742, 0.09037928183077928, 0.006455662987912806, 0.9826033526240799, 0.010200013012779832, 0.9894012622396436, 0.085625000701773, 0.8990625073686165, 0.9547232026184224, 0.9364731345028507, 0.00800404388463975, 0.05202628525015837, 0.004002021942319875, 0.9703032987869177, 0.9765745503229575, 0.9911679407715828, 0.0035101255321240057, 0.9828351489947216, 0.0035101255321240057, 0.010530376596372017, 0.9839644322872277, 0.010523683767777837, 0.21413587146361146, 0.3552708776555372, 0.30660363414108005, 0.12410147096186575, 0.03823708673327273, 0.9391984428860115, 0.006372847788878789, 0.01593211947219697, 0.9266183872568289, 0.977415959448714, 0.6578547387920272, 0.20438205477033852, 0.11815837541410196, 0.020757552437612507, 0.3056409252198991, 0.1483445494791142, 0.489792779745696, 0.05626862221621573, 0.9940589544616677, 0.9799411684790161, 0.01884502247075031, 0.08920561107466322, 0.80125754233135, 0.08442673905280626, 0.025487317449903776, 0.5955653767982433, 0.1632751032997795, 0.21303513478161706, 0.027990017708533627, 0.9441181922726568, 0.11491593339758693, 0.20893806072288534, 0.6790486973493773, 0.005325349596409953, 0.9851896753358413, 0.005325349596409953, 0.005325349596409953, 0.6635353098509247, 0.19601152479184866, 0.12777047541987172, 0.011615497765442883, 0.03600623756138622, 0.00600103959356437, 0.9181590578153487, 0.04200727715495059, 0.02861670026716983, 0.00953890008905661, 0.9443511088166043, 0.01907780017811322, 0.09353389621877023, 0.8885720140783171, 0.005196327567709457, 0.015588982703128371, 0.495579784749826, 0.3926516756094775, 0.10546954393393733, 0.006353586983972128, 0.5778123595466202, 0.2612577381583886, 0.15306818401304365, 0.008014041047803332, 0.46845992850223706, 0.334831164456218, 0.15868415730464755, 0.038721971399698685, 0.9565039662651231, 0.11743514968331878, 0.19572524947219797, 0.6850383731526929, 0.08769816535846156, 0.36833229450553856, 0.5437286252224617, 0.12072713760273455, 0.654944721494835, 0.2233452045650589, 0.075579294847118, 0.0016430281488503914, 0.8412304122114004, 0.08379443559136997, 0.1143951501425872, 0.7974014877586225, 0.08747864422668433, 0.9698888391401751, 0.9841342450804025, 0.055235863706420404, 0.27617931853210204, 0.4750284278752155, 0.1905637297871504, 0.21602796983278272, 0.6859655914121536, 0.07985868079126565, 0.018428926336445918, 0.9874527936371437, 0.25565853004439837, 0.003043553929099981, 0.5995801240326962, 0.1430470346676991, 0.9905250990259578, 0.007391978350939983, 0.9511025613584054, 0.031355029495332046, 0.010451676498444015, 0.43811370674266653, 0.36509475561888877, 0.18872590444299484, 0.008986947830618802, 0.19507114067437173, 0.022682690776089736, 0.7281143739124806, 0.05670672694022434, 0.4572172635521616, 0.31613307937035173, 0.19856292588551017, 0.027433035813129693, 0.9069123373229768, 0.032389726332963456, 0.05783879702314903, 0.004627103761851922, 0.12072021913832198, 0.8795330251506316, 0.9489862410576876, 0.015949348589204833, 0.031898697178409666, 0.003968884781590781, 0.9644390019265596, 0.019844423907953903, 0.01190665434477234, 0.9850841748494336, 0.010051879335198301, 0.7908779424720079, 0.005343769881567622, 0.19771948561800198, 0.008015654822351432, 0.24556799721389683, 0.5829139327804622, 0.10666084727472287, 0.0657328477390734, 0.2313134390628098, 0.24768961173982287, 0.4810500723872593, 0.03889341010790607, 0.021986601590039543, 0.9674104699617398, 0.40881194259015713, 0.3352639996475354, 0.20822664365573423, 0.04775840450819593, 0.29855261866512933, 0.057169650382684345, 0.27314388516171406, 0.36842663579952134, 0.9799427574041756, 0.9706032431652958, 0.01673453867526372], \"Term\": [\"-gayane\", \"-zinaida\", \"/pub\", \"0/0\", \"1916\", \"1916\", \"1917\", \"1918\", \"1918\", \"1918\", \"1976\", \"1976\", \"1976\", \"1983\", \"1983\", \"1983\", \"1983\", \"adl\", \"adl\", \"aerospace\", \"agdam\", \"aiu\", \"ames\", \"amp\", \"anania\", \"ankara\", \"ankara\", \"ankara\", \"apartment\", \"apartment\", \"arab\", \"arab\", \"arab\", \"arab\", \"arabs\", \"arabs\", \"arabs\", \"arabs\", \"armenia\", \"armenia\", \"armenia\", \"armenian\", \"armenian\", \"armenian\", \"armenian\", \"armenians\", \"armenians\", \"armenians\", \"armenians\", \"askeri\", \"askeri\", \"assault\", \"assault\", \"assault\", \"assault\", \"atf\", \"atf\", \"attack\", \"attack\", \"attack\", \"attack\", \"available\", \"available\", \"available\", \"available\", \"azerbaijan\", \"azerbaijan\", \"azerbaijan\", \"azerbaijani\", \"azerbaijani\", \"azerbaijanis\", \"azeri\", \"azeri\", \"azeri\", \"babiali\", \"balcony\", \"ban\", \"ban\", \"ban\", \"batf\", \"batf\", \"bedouin\", \"belgeleri\", \"belgeleri\", \"birinci\", \"bobbs\", \"body\", \"body\", \"body\", \"body\", \"book\", \"book\", \"book\", \"book\", \"bosnia\", \"bosnia\", \"bosnia\", \"bosnian\", \"british\", \"british\", \"british\", \"british\", \"build\", \"build\", \"build\", \"build\", \"bullock\", \"capacitor\", \"child\", \"child\", \"child\", \"child\", \"chip\", \"chip\", \"chip\", \"chip\", \"circuit\", \"circuit\", \"co.\", \"co.\", \"co.\", \"co.\", \"come\", \"come\", \"come\", \"come\", \"component\", \"component\", \"component\", \"compound\", \"compound\", \"compound\", \"computer\", \"computer\", \"computer\", \"computer\", \"cost\", \"cost\", \"cost\", \"cost\", \"country\", \"country\", \"country\", \"country\", \"courtyard\", \"crime\", \"crime\", \"crime\", \"crime\", \"criminal\", \"criminal\", \"criminal\", \"criminal\", \"croatia\", \"croats\", \"cruelty\", \"cult\", \"cult\", \"current\", \"current\", \"current\", \"current\", \"dahiliye\", \"data\", \"data\", \"data\", \"data\", \"datum\", \"datum\", \"datum\", \"datum\", \"daughter\", \"daughter\", \"daughter\", \"day\", \"day\", \"day\", \"day\", \"death\", \"death\", \"death\", \"death\", \"defterleri\", \"design\", \"design\", \"design\", \"design\", \"devleti\", \"dialing\", \"door\", \"door\", \"door\", \"door\", \"electronic\", \"electronic\", \"electronic\", \"electronic\", \"email\", \"email\", \"email\", \"email\", \"empire\", \"empire\", \"empire\", \"entryway\", \"ermeni\", \"ermeni\", \"ermeni\", \"fact\", \"fact\", \"fact\", \"fact\", \"fadeley\", \"fbi\", \"fbi\", \"fbi\", \"fbi\", \"file\", \"file\", \"file\", \"file\", \"find\", \"find\", \"find\", \"find\", \"fire\", \"fire\", \"fire\", \"fire\", \"firearm\", \"firearm\", \"firearm\", \"firearm\", \"force\", \"force\", \"force\", \"force\", \"foreign\", \"foreign\", \"foreign\", \"foreign\", \"frequency\", \"frequency\", \"frequency\", \"frequency\", \"ftp\", \"ftp\", \"gaza\", \"gazans\", \"genocide\", \"genocide\", \"genocide\", \"gerard\", \"get\", \"get\", \"get\", \"get\", \"gfci\", \"good\", \"good\", \"good\", \"good\", \"government\", \"government\", \"government\", \"government\", \"greece\", \"greece\", \"greece\", \"greek\", \"greek\", \"greek\", \"ground\", \"ground\", \"ground\", \"ground\", \"gun\", \"gun\", \"gun\", \"gun\", \"handgun\", \"handgun\", \"happen\", \"happen\", \"happen\", \"happen\", \"harbi\", \"harris\", \"harris\", \"harris\", \"hear\", \"hear\", \"hear\", \"hear\", \"henrik\", \"henrik\", \"high\", \"high\", \"high\", \"high\", \"history\", \"history\", \"history\", \"history\", \"hojali\", \"homicide\", \"hst\", \"hst\", \"human\", \"human\", \"human\", \"human\", \"husband\", \"ics.uci.edu\", \"igor\", \"imparatorlugu'nun\", \"incoming\", \"information\", \"information\", \"information\", \"information\", \"input\", \"input\", \"input\", \"interface\", \"irgun\", \"israel\", \"israel\", \"israel\", \"israel\", \"israeli\", \"israeli\", \"israeli\", \"israeli\", \"israelis\", \"israelis\", \"istanbul\", \"istanbul\", \"istanbul\", \"jerusalem\", \"jerusalem\", \"jew\", \"jewish\", \"jewish\", \"jewish\", \"jewish\", \"jews\", \"jews\", \"jews\", \"jews\", \"judaism\", \"karabagh\", \"karabakh\", \"karabakh\", \"karina\", \"kill\", \"kill\", \"kill\", \"kill\", \"know\", \"know\", \"know\", \"know\", \"koresh\", \"koresh\", \"kuwait\", \"kuwait\", \"larson\", \"larson\", \"larson\", \"launch\", \"launch\", \"launch\", \"launch\", \"law\", \"law\", \"law\", \"law\", \"leave\", \"leave\", \"leave\", \"leave\", \"lebanese\", \"lebanon\", \"lebanon\", \"like\", \"like\", \"like\", \"like\", \"london\", \"london\", \"london\", \"london\", \"look\", \"look\", \"look\", \"look\", \"low\", \"low\", \"low\", \"low\", \"lunar\", \"lunar\", \"lunar\", \"lunar\", \"lyuda\", \"mamma\", \"management\", \"marina\", \"mecmuasi\", \"mezalimi\", \"mezalimi\", \"mhz\", \"microdistrict\", \"mission\", \"mission\", \"mission\", \"mission\", \"module\", \"muharrerat\", \"muslim\", \"muslim\", \"muslim\", \"muslims\", \"muslims\", \"muslims\", \"muslims\", \"nagorno\", \"nasa\", \"nasa\", \"nasa\", \"nasa\", \"nazi\", \"nazi\", \"nazi\", \"nazi\", \"nazis\", \"nazis\", \"nazis\", \"nec\", \"need\", \"need\", \"need\", \"need\", \"negev\", \"negev\", \"new\", \"new\", \"new\", \"new\", \"nezareti\", \"occupy\", \"occupy\", \"occupy\", \"office\", \"office\", \"office\", \"office\", \"oil\", \"oil\", \"oil\", \"oil\", \"orbeli\", \"orbit\", \"orbit\", \"orbit\", \"orbit\", \"osmanli\", \"osmanli\", \"ottoman\", \"ottoman\", \"outlet\", \"outlet\", \"output\", \"output\", \"palestine\", \"palestine\", \"palestine\", \"palestinian\", \"palestinian\", \"palestinian\", \"palestinians\", \"palestinians\", \"palestinians\", \"payload\", \"payload\", \"payload\", \"peace\", \"peace\", \"peace\", \"peace\", \"people\", \"people\", \"people\", \"people\", \"percent\", \"percent\", \"percent\", \"percent\", \"pistol\", \"pkk\", \"policy\", \"policy\", \"policy\", \"policy\", \"population\", \"population\", \"population\", \"population\", \"power\", \"power\", \"power\", \"power\", \"press\", \"press\", \"press\", \"press\", \"problem\", \"problem\", \"problem\", \"problem\", \"program\", \"program\", \"program\", \"program\", \"project\", \"project\", \"project\", \"project\", \"rabin\", \"racism\", \"redesign\", \"report\", \"report\", \"report\", \"report\", \"resistor\", \"revolver\", \"right\", \"right\", \"right\", \"right\", \"russian\", \"russian\", \"russian\", \"russian\", \"sabah\", \"salonica\", \"satellite\", \"satellite\", \"satellite\", \"satellite\", \"say\", \"say\", \"say\", \"say\", \"see\", \"see\", \"see\", \"see\", \"serbia\", \"serbs\", \"serbs\", \"sheikh\", \"sheikh\", \"shirak\", \"shoot\", \"shoot\", \"shoot\", \"shoot\", \"shooting\", \"shostack\", \"shout\", \"shuttle\", \"shuttle\", \"shuttle\", \"shuttle\", \"software\", \"software\", \"source\", \"source\", \"source\", \"source\", \"space\", \"space\", \"space\", \"space\", \"spence\", \"ssf\", \"start\", \"start\", \"start\", \"start\", \"state\", \"state\", \"state\", \"state\", \"sumgait\", \"syria\", \"syria\", \"system\", \"system\", \"system\", \"system\", \"take\", \"take\", \"take\", \"take\", \"tarihi\", \"tartar\", \"tartar\", \"tartar\", \"technology\", \"technology\", \"technology\", \"technology\", \"tell\", \"tell\", \"tell\", \"tell\", \"territory\", \"territory\", \"territory\", \"territory\", \"terrorist\", \"terrorist\", \"terrorist\", \"terrorist\", \"test\", \"test\", \"test\", \"test\", \"thing\", \"thing\", \"thing\", \"thing\", \"think\", \"think\", \"think\", \"think\", \"time\", \"time\", \"time\", \"time\", \"transcaucasia\", \"turan\", \"turan\", \"turan\", \"turk\", \"turk\", \"turk\", \"turkey\", \"turkey\", \"turkey\", \"turkish\", \"turkish\", \"turkish\", \"turkish\", \"turks\", \"turks\", \"turks\", \"tyukhik\", \"umumiye\", \"university\", \"university\", \"university\", \"university\", \"use\", \"use\", \"use\", \"use\", \"vancouver\", \"village\", \"village\", \"village\", \"village\", \"voltage\", \"voltage\", \"waco\", \"waco\", \"waco\", \"want\", \"want\", \"want\", \"want\", \"war\", \"war\", \"war\", \"war\", \"way\", \"way\", \"way\", \"way\", \"weapon\", \"weapon\", \"weapon\", \"weapon\", \"weaver\", \"weaver\", \"wife\", \"wife\", \"wife\", \"wire\", \"wire\", \"wire\", \"wire\", \"wiring\", \"wiring\", \"woman\", \"woman\", \"woman\", \"woman\", \"work\", \"work\", \"work\", \"work\", \"world\", \"world\", \"world\", \"world\", \"yassin\", \"yassin\", \"year\", \"year\", \"year\", \"year\", \"york\", \"york\", \"york\", \"york\", \"zionism\", \"zionist\", \"zionist\"]}, \"R\": 30, \"lambda.step\": 0.01, \"plot.opts\": {\"xlab\": \"PC1\", \"ylab\": \"PC2\"}, \"topic.order\": [1, 2, 4, 3]};\n",
              "\n",
              "function LDAvis_load_lib(url, callback){\n",
              "  var s = document.createElement('script');\n",
              "  s.src = url;\n",
              "  s.async = true;\n",
              "  s.onreadystatechange = s.onload = callback;\n",
              "  s.onerror = function(){console.warn(\"failed to load library \" + url);};\n",
              "  document.getElementsByTagName(\"head\")[0].appendChild(s);\n",
              "}\n",
              "\n",
              "if(typeof(LDAvis) !== \"undefined\"){\n",
              "   // already loaded: just create the visualization\n",
              "   !function(LDAvis){\n",
              "       new LDAvis(\"#\" + \"ldavis_el10561403402473050407579544029\", ldavis_el10561403402473050407579544029_data);\n",
              "   }(LDAvis);\n",
              "}else if(typeof define === \"function\" && define.amd){\n",
              "   // require.js is available: use it to load d3/LDAvis\n",
              "   require.config({paths: {d3: \"https://cdnjs.cloudflare.com/ajax/libs/d3/3.5.5/d3.min\"}});\n",
              "   require([\"d3\"], function(d3){\n",
              "      window.d3 = d3;\n",
              "      LDAvis_load_lib(\"https://cdn.rawgit.com/bmabey/pyLDAvis/files/ldavis.v1.0.0.js\", function(){\n",
              "        new LDAvis(\"#\" + \"ldavis_el10561403402473050407579544029\", ldavis_el10561403402473050407579544029_data);\n",
              "      });\n",
              "    });\n",
              "}else{\n",
              "    // require.js not available: dynamically load d3 & LDAvis\n",
              "    LDAvis_load_lib(\"https://cdnjs.cloudflare.com/ajax/libs/d3/3.5.5/d3.min.js\", function(){\n",
              "         LDAvis_load_lib(\"https://cdn.rawgit.com/bmabey/pyLDAvis/files/ldavis.v1.0.0.js\", function(){\n",
              "                 new LDAvis(\"#\" + \"ldavis_el10561403402473050407579544029\", ldavis_el10561403402473050407579544029_data);\n",
              "            })\n",
              "         });\n",
              "}\n",
              "</script>"
            ]
          },
          "metadata": {},
          "execution_count": 33
        }
      ]
    },
    {
      "cell_type": "code",
      "source": [
        "pyLDAvis.enable_notebook()\n",
        "vis = pyLDAvis.gensim.prepare(lda_multicore_6_topics, corpus, id2word)\n",
        "vis"
      ],
      "metadata": {
        "colab": {
          "base_uri": "https://localhost:8080/",
          "height": 881
        },
        "id": "OX0Sgj7NfLu7",
        "outputId": "202b8d67-3da1-47d0-8b24-a490e81b9319"
      },
      "execution_count": null,
      "outputs": [
        {
          "output_type": "execute_result",
          "data": {
            "text/plain": [
              "PreparedData(topic_coordinates=              x         y  topics  cluster       Freq\n",
              "topic                                                \n",
              "4      0.000700  0.120784       1        1  32.075279\n",
              "1     -0.169812  0.024082       2        1  22.705904\n",
              "0      0.057552  0.146952       3        1  15.853483\n",
              "5      0.116358 -0.028302       4        1  13.066792\n",
              "3     -0.151833 -0.125765       5        1  11.236061\n",
              "2      0.147036 -0.137753       6        1   5.062481, topic_info=          Term         Freq        Total Category  logprob  loglift\n",
              "228      email  1201.000000  1201.000000  Default  30.0000  30.0000\n",
              "199      space  1219.000000  1219.000000  Default  29.0000  29.0000\n",
              "824   armenian   954.000000   954.000000  Default  28.0000  28.0000\n",
              "2010   turkish   584.000000   584.000000  Default  27.0000  27.0000\n",
              "788        say  1439.000000  1439.000000  Default  26.0000  26.0000\n",
              "...        ...          ...          ...      ...      ...      ...\n",
              "26       group    49.298640   463.608098   Topic6  -5.9713   0.7422\n",
              "788        say    64.341083  1439.152850   Topic6  -5.7050  -0.1243\n",
              "1475      arab    45.666799   346.638186   Topic6  -6.0478   0.9564\n",
              "211       year    47.390644  1034.619841   Topic6  -6.0108  -0.1001\n",
              "131       file    41.579066   389.758249   Topic6  -6.1416   0.7454\n",
              "\n",
              "[480 rows x 6 columns], token_table=       Topic      Freq      Term\n",
              "term                            \n",
              "29614      3  0.981441   -gayane\n",
              "212        5  0.955406    -tommy\n",
              "29615      3  0.976296  -zinaida\n",
              "29743      4  0.937992       0/0\n",
              "5594       1  0.032424      1983\n",
              "...      ...       ...       ...\n",
              "1386       4  0.323406      york\n",
              "1386       5  0.057072      york\n",
              "1386       6  0.374136      york\n",
              "2550       1  0.986275   zionism\n",
              "4742       5  0.941574       |_|\n",
              "\n",
              "[1278 rows x 3 columns], R=30, lambda_step=0.01, plot_opts={'xlab': 'PC1', 'ylab': 'PC2'}, topic_order=[5, 2, 1, 6, 4, 3])"
            ],
            "text/html": [
              "\n",
              "<link rel=\"stylesheet\" type=\"text/css\" href=\"https://cdn.rawgit.com/bmabey/pyLDAvis/files/ldavis.v1.0.0.css\">\n",
              "\n",
              "\n",
              "<div id=\"ldavis_el10561403402473049124205715808\"></div>\n",
              "<script type=\"text/javascript\">\n",
              "\n",
              "var ldavis_el10561403402473049124205715808_data = {\"mdsDat\": {\"x\": [0.0006999557258629127, -0.16981247022839277, 0.05755208182019305, 0.11635775411013187, -0.1518328312950104, 0.14703550986721525], \"y\": [0.1207842588086475, 0.024082308101164723, 0.1469523898407114, -0.028301842064817135, -0.12576450413032256, -0.137752610555384], \"topics\": [1, 2, 3, 4, 5, 6], \"cluster\": [1, 1, 1, 1, 1, 1], \"Freq\": [32.075278646888876, 22.70590421088229, 15.853483063360727, 13.066792150249926, 11.236060775350468, 5.0624811532677185]}, \"tinfo\": {\"Term\": [\"email\", \"space\", \"armenian\", \"turkish\", \"say\", \"armenians\", \"gun\", \"israel\", \"earth\", \"people\", \"orbit\", \"genocide\", \"azerbaijan\", \"system\", \"jews\", \"turkey\", \"turks\", \"planet\", \"russian\", \"arab\", \"israeli\", \"greek\", \"istanbul\", \"launch\", \"mission\", \"police\", \"spacecraft\", \"government\", \"kill\", \"moon\", \"koresh\", \"batf\", \"atf\", \"israelis\", \"suicide\", \"ics.uci.edu\", \"cult\", \"zionism\", \"gaza\", \"vancouver\", \"bds\", \"gazans\", \"dictionary\", \"stat\", \"militia\", \"reno\", \"judaism\", \"davidians\", \"nejm\", \"homicide\", \"shostack\", \"iraqis\", \"infringe\", \"waco\", \"palestinean\", \"ordnance\", \"lebanese\", \"fuck\", \"libertarian\", \"adam\", \"israel\", \"grenade\", \"israeli\", \"arabs\", \"amendment\", \"compound\", \"fbi\", \"violent\", \"palestinians\", \"federal\", \"gun\", \"jew\", \"clinton\", \"lebanon\", \"warrant\", \"palestinian\", \"law\", \"weapon\", \"citizen\", \"arab\", \"right\", \"firearm\", \"argument\", \"state\", \"country\", \"crime\", \"action\", \"believe\", \"people\", \"think\", \"jews\", \"claim\", \"fire\", \"question\", \"government\", \"case\", \"point\", \"fact\", \"mean\", \"like\", \"know\", \"kill\", \"time\", \"way\", \"want\", \"good\", \"say\", \"thing\", \"use\", \"voltage\", \"output\", \"amp\", \"circuit\", \"hst\", \"wiring\", \"capacitor\", \"resistor\", \"gfci\", \"ssf\", \"mhz\", \"nec\", \"spec\", \"breaker\", \"shack\", \"amplifier\", \"manual\", \"205\", \"dryden\", \"servicing\", \"transformer\", \"ttl\", \"cec\", \"upgrade\", \"connector\", \"redesign\", \"transistor\", \"sdio\", \"diode\", \"cpu\", \"wire\", \"outlet\", \"chip\", \"pin\", \"module\", \"input\", \"instal\", \"analog\", \"cable\", \"digital\", \"audio\", \"software\", \"cheap\", \"cost\", \"switch\", \"hardware\", \"receiver\", \"engine\", \"user\", \"conductor\", \"program\", \"commercial\", \"current\", \"signal\", \"company\", \"shuttle\", \"build\", \"low\", \"ground\", \"device\", \"use\", \"design\", \"board\", \"technology\", \"launch\", \"work\", \"need\", \"space\", \"high\", \"radio\", \"power\", \"satellite\", \"system\", \"like\", \"line\", \"good\", \"know\", \"look\", \"thing\", \"time\", \"get\", \"want\", \"problem\", \"think\", \"new\", \"email\", \"year\", \"sumgait\", \"azerbaijani\", \"mamma\", \"apartment\", \"azerbaijanis\", \"balcony\", \"karina\", \"igor\", \"hojali\", \"courtyard\", \"revolver\", \"agdam\", \"shout\", \"marina\", \"-zinaida\", \"lyuda\", \"entryway\", \"-gayane\", \"henrik\", \"microdistrict\", \"husband\", \"nagorno\", \"gaya\", \"congress/102nd\", \"shagen\", \"bandit\", \"rasulov\", \"sadikov\", \"baku\", \"aunt\", \"turan\", \"daughter\", \"karabagh\", \"azerbaijan\", \"o'clock\", \"weaver\", \"karabakh\", \"wife\", \"azeri\", \"helicopter\", \"cry\", \"ira\", \"floor\", \"woman\", \"door\", \"say\", \"beat\", \"son\", \"town\", \"neighbor\", \"file\", \"father\", \"come\", \"armenians\", \"tell\", \"kill\", \"soldier\", \"leave\", \"people\", \"child\", \"see\", \"dead\", \"know\", \"armenian\", \"start\", \"take\", \"home\", \"time\", \"man\", \"think\", \"look\", \"happen\", \"like\", \"hear\", \"day\", \"year\", \"want\", \"get\", \"anania\", \"shirak\", \"erzincan\", \"aiu\", \"venera\", \"salonica\", \"orbeli\", \"het\", \"thrace\", \"ahmet\", \"anatolia\", \"vega\", \"cruelty\", \"greek\", \"berlin\", \"luna\", \"bubblejet\", \"0/0\", \"ibid\", \"een\", \"yalcin\", \"onur\", \"macedonia\", \"macedonian\", \"gunduz\", \"pts\", \"tyukhik\", \"kelbajar\", \"mutlu\", \"reparation\", \"genocide\", \"turkish\", \"kurds\", \"greece\", \"kurdish\", \"turks\", \"greeks\", \"ottoman\", \"tartar\", \"sdpa\", \"erzurum\", \"asala\", \"argic\", \"muslim\", \"serdar\", \"2.5\", \"armenian\", \"russian\", \"empire\", \"turkey\", \"professor\", \"soviet\", \"armenia\", \"van\", \"armenians\", \"history\", \"army\", \"population\", \"muslims\", \"republic\", \"massacre\", \"million\", \"university\", \"government\", \"jews\", \"war\", \"village\", \"book\", \"people\", \"world\", \"year\", \"jupiter\", \"physicist\", \"uranus\", \"neptune\", \"pluto\", \"voyager\", \"larson\", \"gravitational\", \"asteroid\", \"mercury\", \"cassini\", \"charon\", \"atom\", \"planet\", \"dwarf\", \"2178\", \"mcwilliams\", \"355\", \"517\", \"relativity\", \"sci.space.shuttle\", \"planetary\", \"-tommy\", \"star\", \"rotation\", \"ephemeris\", \"seds\", \"rra\", \"|_|\", \"astronomical\", \"universe\", \"galileo\", \"interstellar\", \"sarajevo\", \"propulsion\", \"mars\", \"probe\", \"comet\", \"saturn\", \"sun\", \"venus\", \"spacecraft\", \"astronomy\", \"mariner\", \"surface\", \"earth\", \"atmosphere\", \"flyby\", \"solar\", \"email\", \"moon\", \"lunar\", \"space\", \"orbit\", \"mission\", \"cloud\", \"system\", \"nasa\", \"degree\", \"satellite\", \"image\", \"launch\", \"theory\", \"science\", \"information\", \"1993\", \"year\", \"available\", \"time\", \"send\", \"datum\", \"bullock\", \"adl\", \"osmanli\", \"umumiye\", \"nezareti\", \"mecmuasi\", \"gurvitz\", \"negev\", \"gerard\", \"bedouin\", \"muharrerat\", \"mezalimi\", \"dialing\", \"beep\", \"defterleri\", \"harbi\", \"tarihi\", \"imparatorlugu'nun\", \"devleti\", \"babiali\", \"birinci\", \"dahiliye\", \"iki\", \"gao\", \"djul\", \"fpu\", \"cassette\", \"uae\", \"stepper\", \"pkk\", \"ermeni\", \"spy\", \"kuwait\", \"francisco\", \"istanbul\", \"ankara\", \"sheikh\", \"san\", \"iran\", \"co.\", \"angeles\", \"defamation\", \"ermeniler\", \"los\", \"intelligence\", \"1983\", \"york\", \"turk\", \"foreign\", \"office\", \"police\", \"new\", \"university\", \"turkey\", \"information\", \"press\", \"report\", \"source\", \"british\", \"group\", \"say\", \"arab\", \"year\", \"file\"], \"Freq\": [1201.0, 1219.0, 954.0, 584.0, 1439.0, 772.0, 1141.0, 777.0, 395.0, 1972.0, 360.0, 282.0, 320.0, 621.0, 601.0, 324.0, 283.0, 222.0, 348.0, 346.0, 447.0, 225.0, 169.0, 554.0, 356.0, 319.0, 228.0, 775.0, 788.0, 277.0, 156.19213728786812, 200.79921250715498, 119.69031423090352, 108.43649370593123, 88.31859554522862, 54.028234012289936, 64.72096785799172, 45.78898217189027, 96.45212156122534, 49.35480903958593, 36.067227483841535, 33.66010119931041, 35.36181372191226, 32.31189024753574, 126.95380808357989, 41.42887882292757, 31.465880525306815, 32.075927940099525, 28.66171578182896, 107.82142513411466, 28.69219017805998, 22.045726676434843, 23.68667215178985, 98.39061602654763, 21.619548401317722, 21.067388619382026, 75.57717974295, 21.679543922307882, 28.35857189013884, 56.33316246777198, 738.4051797182838, 43.88790583910912, 417.11658697799294, 194.8944316287865, 143.05355473590262, 125.52279614993914, 320.58672835550544, 83.73196638549342, 135.86982921454066, 148.3915613788543, 978.244148231035, 78.46244561598706, 110.26827878450949, 80.78617579216312, 69.14722646528718, 161.36159840732773, 544.0311951131964, 383.5231150000275, 210.95755840206226, 296.35263605190175, 883.5149499281148, 279.2375679730489, 114.83338360895434, 566.8620433011365, 313.29816079039483, 257.70288389633447, 190.21258935807657, 333.8064049097668, 1048.4503149745003, 706.2434324002932, 391.56617466243466, 296.604684592699, 337.40726940404767, 354.31883985998337, 449.00724170753864, 319.72013866037884, 354.76751534183694, 313.1411899425688, 306.9100231667547, 579.2094283495984, 584.9017169987131, 379.71678575814724, 488.7779128232989, 371.28209722966926, 384.3876235342584, 362.49247098680087, 398.90799713923053, 340.76509421839455, 316.89557568921856, 132.46862156078078, 147.80077972876623, 113.16378626329562, 231.3472301027936, 88.52413065078697, 95.96990459293254, 52.867502527433395, 56.533245881500314, 46.73465944163318, 41.47740379163172, 40.79349923569228, 40.64974968916901, 34.65059572500157, 35.764606149077665, 32.74724809757553, 35.98356670555205, 34.84771749053389, 26.60667806056178, 28.487609204643565, 25.925384472466288, 32.34620343674541, 28.349285930422067, 25.86313496278782, 33.195300270293664, 24.027606909773997, 45.20418324906509, 30.157967684116784, 24.48286131746263, 22.173161322594233, 21.658619024791186, 238.00180258532188, 82.42683204510386, 164.49912745176502, 77.82451560535664, 64.705353237718, 113.42282454550602, 47.4082185104924, 48.25832441373879, 95.14905666558381, 63.690663021355924, 77.16457897742235, 167.2812032444253, 139.32346410629958, 287.8198763035719, 115.80994036761598, 82.50192701203969, 71.38037451767917, 85.90720929562184, 111.38459457152915, 66.77774526632552, 303.45722760176085, 121.66107137508851, 224.0908282708986, 131.70733901771345, 183.4622917494588, 211.22020481526118, 223.18210046353857, 239.54269237717483, 259.68366300793554, 135.22292775534814, 568.0283802368359, 230.88154443710042, 130.01225328528722, 143.85211845808234, 328.15261413369797, 417.62206145909965, 369.16479895437186, 534.5636331303955, 286.9402500663063, 168.83861150723683, 313.3920434962258, 218.84299985455206, 300.02082056333944, 477.26389286083696, 231.9352553786897, 325.26457593203565, 437.5744369632774, 294.3127554576697, 281.7027545236688, 328.68600837613656, 262.40859518358997, 275.1297754169324, 236.48054928979482, 282.40748880085215, 229.7614367093733, 232.87536525366198, 229.23510595482168, 113.91605221590292, 153.24343986481972, 98.02911713337356, 163.47608502410813, 91.91391565496276, 72.76925460050715, 63.73575448116088, 59.57787007379789, 51.77190452529493, 42.72479617194054, 50.027461379402716, 45.140918216761094, 121.31814947439095, 40.461447073654725, 35.08309817716063, 38.15273954381612, 34.735818722534326, 30.8207900367657, 94.02695770467028, 31.091267338183414, 41.4841676829486, 60.04500273724063, 24.001044523734453, 22.601073231509584, 21.43498707638474, 21.1318965131376, 20.39693562722462, 20.4243863555467, 137.73790169649953, 20.23729691623692, 51.55854798868216, 107.69276690735057, 69.94291281707818, 291.68588383458405, 36.16394352399885, 60.33837413982808, 112.04711292761345, 103.812944198977, 125.51646051739387, 55.832047783087894, 69.08965576077269, 63.54533784096561, 93.0151363643438, 248.43006006043836, 158.60707791864806, 794.695558915116, 98.76251745815125, 124.68391700392236, 127.90702881396311, 132.18495313384494, 237.9833045043048, 107.03763418370987, 422.87410692359583, 362.422463522495, 297.26515409656776, 324.5032656514207, 170.09001788691756, 220.36144816470642, 533.4586675915617, 237.6247488505949, 252.71787615383684, 157.7550608567435, 403.903827127196, 294.2197842112263, 237.19137080746427, 232.80483425073595, 175.51062522896208, 289.6416121561699, 181.18445915486345, 244.49964417142164, 204.84321414462198, 176.81912932056036, 236.48026220021268, 171.3323654590563, 181.12918076810308, 206.31026842939576, 192.32356840293428, 167.8192358676488, 34.388557261355174, 28.426978603022672, 33.86801254934954, 32.71373320636799, 28.420390568799824, 26.923832506399794, 22.477382675954026, 21.199054335997165, 22.7051576441035, 27.295279754598685, 42.479136556990824, 20.054369598167405, 32.10149316214914, 216.9862825206717, 20.03859054484697, 23.208194270448594, 17.3333982277559, 17.36748818360009, 17.903816304171357, 17.040928995817794, 18.307072811483696, 18.305581865880598, 16.767895771410647, 14.969297099895064, 14.141229976829079, 16.17888805677933, 13.541512714277543, 15.798754997924798, 17.824182097635404, 13.476658758165307, 263.73320803995733, 539.3993233388098, 92.67946664414129, 129.1985924310677, 48.33680777559962, 250.71848110404153, 76.75081936194567, 147.64773624411959, 96.39374749534186, 55.62416952547041, 64.32553711692852, 53.09961390609781, 125.24350716986001, 212.97186139900646, 118.36874683172917, 81.60354969161348, 635.2180623293068, 255.48128433104293, 82.69217516511637, 221.3259881950272, 96.91796803428717, 186.85473353801967, 199.5614691481431, 67.34423304847309, 404.2640323134271, 186.79163474571868, 139.64892777161378, 165.07796173466997, 156.85413226072265, 90.62442387714418, 134.58553132864805, 137.5013737898047, 157.4799984153901, 232.76448802004552, 193.32717374655385, 159.9717212930298, 138.29194951053373, 146.7047733977176, 251.5457454102443, 154.9918294178248, 139.87213699105658, 88.2871045015587, 52.68778065713455, 35.834620389140355, 31.51580789991104, 57.87404177282001, 62.76826383164763, 89.67841581920085, 20.442154745534303, 66.76223061951956, 62.87922718843133, 22.587591950881457, 17.75853752001464, 16.257745885682603, 210.9996941297844, 13.352055889616597, 15.835804750438976, 15.828054992103619, 15.808559506291235, 15.80658336784973, 13.700555331460192, 12.942321123091258, 87.91751293393641, 15.779534114690819, 139.12302248100815, 13.146712260734576, 12.3390671012265, 11.686218620736248, 11.708680186736261, 11.966530675370775, 51.82648889409818, 94.34553800103616, 48.556685091295115, 27.48532686730503, 14.628651309631598, 71.71451594505048, 147.28484625280257, 155.51336188820974, 83.9865378995442, 67.71805245668392, 114.27104551981397, 126.15639847530208, 191.9257212685099, 90.01588983166012, 52.53749426756029, 137.84757803992116, 305.23186195476, 101.33565024389485, 58.58718931530652, 176.77827931474715, 693.8437733117087, 192.06413834393265, 137.60501859346607, 570.5942133147001, 214.98205126035623, 196.9429707409113, 70.13940253039405, 221.39491636205256, 154.94238645868992, 97.59493377399606, 130.73176192055845, 99.41540793306258, 150.32041460859966, 85.91905399000811, 94.76462415926417, 116.76747637079886, 102.44106938129694, 123.41410254640718, 101.71101418306074, 121.05510007744915, 105.05059077788698, 101.6193952617095, 85.27228683364172, 121.98082066581836, 47.866168010045456, 22.402012018107907, 22.398999522934297, 22.397519148158914, 23.822008650865595, 20.316312447033862, 61.77254317244257, 19.14679837600441, 17.944929791837005, 21.470716796191784, 14.747507011215637, 13.596784475613815, 13.491692490324656, 13.491145786570222, 13.491042295324526, 13.49087130978816, 13.490880309026917, 13.490834187928291, 13.490588958672186, 13.48975765399209, 14.080415940321144, 11.781612145692419, 11.134164163192851, 10.426570893371583, 10.27018437207737, 9.934506017044923, 10.931767908853116, 10.76223687445074, 52.731885419944696, 38.51788927914704, 89.55344069165947, 51.34854493645039, 119.05538412793297, 69.08245382850475, 20.725559578897613, 60.00572712707235, 46.39492746200072, 27.237926199056556, 38.94687849103204, 17.648805340947405, 17.279521578589907, 38.68136045115202, 33.61447855771779, 34.122883801815874, 59.22587559456364, 31.547254423810056, 47.556643692647995, 62.132665709746334, 67.36090395407784, 83.34234608695864, 56.995166789792805, 53.75001429661865, 56.55929316025937, 47.6149722586458, 55.098451232597334, 49.400538217964396, 36.97757282422, 49.29863983752882, 64.34108340011825, 45.66679905424282, 47.39064373455255, 41.5790658348104], \"Total\": [1201.0, 1219.0, 954.0, 584.0, 1439.0, 772.0, 1141.0, 777.0, 395.0, 1972.0, 360.0, 282.0, 320.0, 621.0, 601.0, 324.0, 283.0, 222.0, 348.0, 346.0, 447.0, 225.0, 169.0, 554.0, 356.0, 319.0, 228.0, 775.0, 788.0, 277.0, 157.20764421919804, 202.29956166929568, 120.9208453784922, 109.55646746323899, 89.37049505018096, 54.7977243397683, 65.68399502124531, 46.64014174359565, 98.24979552634022, 50.40052223697232, 36.852546527890006, 34.439541053093606, 36.220298745885344, 33.09956784465474, 130.152573759845, 42.49352840792244, 32.28002494042444, 32.93838024575699, 29.46846412439152, 111.01303676600492, 29.603176889640846, 22.78768404385918, 24.49038397245646, 101.7412624501958, 22.38607611384832, 21.819597821328216, 78.30573535686278, 22.47108771409158, 29.42177039400316, 58.490351826977964, 777.7446529258227, 45.6995541719433, 447.5738834125769, 206.3471301490919, 151.370076527895, 132.88446277486915, 345.9785787132098, 88.20925793729555, 145.4191421700635, 159.50277372269636, 1141.5339281027013, 83.12258971476528, 118.53765701464353, 85.97188012540276, 72.98935470991802, 178.15273326144083, 649.8984934044864, 452.31412187483556, 239.10376262049334, 346.6381862767184, 1174.6734199669, 345.22249455359236, 127.23088835783432, 806.9725718383264, 409.10519166132605, 334.8994775716703, 234.8832712651662, 470.95794316343876, 1972.473148815289, 1271.7154441084872, 601.6703210519441, 428.01856726440525, 515.0830702353766, 556.0929802687249, 775.969853614282, 504.94745013327565, 607.7787293188628, 515.9414612934717, 499.7684964472527, 1439.8383376731786, 1540.4665024017158, 788.1388117296116, 1320.3829654786105, 775.9235766395169, 893.5651315430194, 822.0110617117061, 1439.1528499461492, 795.8999060385289, 982.0432885813561, 133.53116456157272, 149.26997827209973, 114.33013131621045, 233.7502993077705, 89.6421514042285, 97.19983769749189, 53.66350663873232, 57.47112515451668, 47.606880700332155, 42.295444634318045, 41.62821897898587, 41.509083978284814, 35.45923866105783, 36.61288543662118, 33.53718880831139, 36.89172640168705, 35.79931692886295, 27.354902063130336, 29.329353203771024, 26.693823936418354, 33.308268138469025, 29.19473057079983, 26.67456036964311, 34.28796291779911, 24.82043251984051, 46.73858311923555, 31.182295218157098, 25.331211196343297, 22.941672662501308, 22.413538631706064, 246.5907929580656, 85.33008046778558, 171.6431639436317, 80.62793812320575, 67.01872321257783, 118.3704380761027, 49.24522232522534, 50.20680086447276, 100.8982055411435, 67.2683372364157, 82.77859807343324, 187.43647713640394, 155.86221114201257, 338.0251211863636, 128.85181816017746, 90.66615410653048, 77.48616528703249, 94.79167823883841, 127.76090672919615, 72.37340657228523, 400.9429259519929, 143.18126465713647, 291.04182516268133, 158.73071581117844, 235.09614387009822, 279.86731121220765, 301.4177772426284, 329.8872722771783, 366.2189705490763, 166.7833636871789, 982.0432885813561, 323.67096297564314, 161.71841500553182, 184.54585823886066, 554.7361467077509, 806.0773649117875, 694.5132387036685, 1219.0581064638147, 501.1762844582715, 232.06739477600522, 585.2317878983899, 359.53520855446516, 621.4792954053567, 1439.8383376731786, 418.77724408794427, 822.0110617117061, 1540.4665024017158, 744.511703780088, 795.8999060385289, 1320.3829654786105, 757.653194928938, 893.5651315430194, 607.1623955111708, 1271.7154441084872, 704.6714961047777, 1201.8885334087329, 1034.6198414934652, 114.86577826956194, 154.76315209943292, 99.01197237679918, 165.31675550733547, 92.96442942878691, 73.60966615306225, 64.54283840485745, 60.40639565654726, 52.58228214173329, 43.53613743319322, 50.990769661014944, 46.013161835372195, 123.66949606667637, 41.33086861154535, 35.849766889414674, 39.02758693008727, 35.55591582885766, 31.586210446657393, 96.37382231649359, 31.907502291792234, 42.60513451134033, 61.951212418840996, 24.764473151357052, 23.395788922567565, 22.208679338942964, 21.914852111026825, 21.157430938847423, 21.21807945596407, 143.15334247146603, 21.033290168117702, 53.61853500007219, 113.27990673392617, 73.3461159305656, 320.077022796595, 37.988082209960346, 64.76748239544922, 126.0725093333793, 116.51439415699656, 143.43191427338186, 60.620389180274756, 76.62032260617599, 69.93756432540982, 107.69373426191311, 355.03948109124553, 208.95640473200265, 1439.1528499461492, 119.75602173925988, 159.38795027714153, 170.36781856047747, 177.71809397084087, 389.7582491112181, 140.12443176047842, 953.9232366751601, 772.1268088168886, 677.3203742829867, 788.1388117296116, 297.9758677986567, 454.24317408490435, 1972.473148815289, 541.4030234216, 612.5223250518247, 272.021349468412, 1540.4665024017158, 954.4413837867268, 623.0415739767574, 632.6752875895125, 351.1317504167879, 1320.3829654786105, 441.07248764807383, 1271.7154441084872, 744.511703780088, 490.3572372167211, 1439.8383376731786, 453.6705536884877, 573.695520201245, 1034.6198414934652, 893.5651315430194, 757.653194928938, 35.19537620603405, 29.22897548808555, 34.840200040549036, 33.66145192625107, 29.257350024964452, 27.822101361173157, 23.2606773565129, 21.951627098076827, 23.51992382933005, 28.276634581350965, 44.138554970201184, 20.84077511014592, 33.37450491221887, 225.68914462381167, 20.85182796252785, 24.178133587698646, 18.086375142029553, 18.12381433298454, 18.68923188342745, 17.79275608431213, 19.141697663318297, 19.141683293603514, 17.561793908668907, 15.748349883628485, 14.894411923358303, 17.064254443489183, 14.309192107949626, 16.715268335751166, 18.888513857190404, 14.32758296464717, 282.65542871117015, 584.8647914806767, 99.95089045436552, 140.3905429696862, 51.95502640736181, 283.9019641233909, 83.87744966963734, 165.92843606967537, 107.11409262201443, 60.62959151674376, 71.38816954940884, 59.05797085511226, 147.8448099128836, 262.9138838794759, 142.76293184426146, 95.61446063571378, 954.4413837867268, 348.53597704628805, 101.13662587755812, 324.739628269082, 125.50862492825519, 287.212940470133, 321.5959142217954, 84.22555945469855, 772.1268088168886, 319.67249602247034, 224.59232574908805, 292.93682184373154, 274.01433749828607, 134.38032151828278, 257.76429798935936, 269.87080488521724, 358.9525870336019, 775.969853614282, 601.6703210519441, 438.3105598128264, 322.12738528165875, 385.99397159444516, 1972.473148815289, 485.13978585439617, 1034.6198414934652, 90.23108744860025, 53.86511020307859, 36.76986021871398, 32.38247356821659, 59.51823920261893, 65.07017625977129, 93.17112638390827, 21.266014032196747, 69.59195818988432, 65.59586713274525, 23.59166897039927, 18.586828374485233, 17.068807745300614, 222.6887260306402, 14.115388793966725, 16.74291805008, 16.743044732267556, 16.744854509501653, 16.745036147881134, 14.52316590377196, 13.725466460859767, 93.28662403990114, 16.746798394022875, 147.88574920752808, 13.975152252259797, 13.13341763253937, 12.443939823802967, 12.46868325024232, 12.744623293034685, 55.24650549583424, 101.86128790070318, 52.10443967557649, 29.41850156577801, 15.613452928355494, 80.20479919232942, 169.35554969717685, 180.92616256283083, 95.34714559894789, 76.4194049298653, 132.1243745836476, 146.7427680203341, 228.65144296094473, 103.33812242957693, 59.152659572902365, 167.84041718361476, 395.62795281782786, 121.18838086694915, 67.13600989343107, 235.36569792508587, 1201.8885334087329, 277.1983338927623, 198.78944184538048, 1219.0581064638147, 360.75843898755943, 356.72401126761355, 85.6759829729039, 621.4792954053567, 343.8105407121101, 177.8359074694855, 359.53520855446516, 196.29796431437475, 554.7361467077509, 140.2648721141674, 197.20394890402835, 437.0158339927796, 265.0539486060985, 1034.6198414934652, 263.209697571135, 1320.3829654786105, 393.0709965090388, 301.39119839266664, 86.64325333030347, 124.09658054572834, 48.7971616701145, 23.206631129388448, 23.20692160986105, 23.207233749082167, 24.744503368948862, 21.15361914565205, 64.48200782018915, 19.992503425054842, 18.745174427077018, 22.597620971003746, 15.534393555582575, 14.388144763042417, 14.28264008997938, 14.282629571733777, 14.282841149590942, 14.282855976056185, 14.28296207797543, 14.282974541911367, 14.282877284379406, 14.283002264138448, 14.982193767909475, 12.575457933475164, 11.951545140852115, 11.224436364955436, 11.05734856802856, 10.748064340900894, 11.840496572526256, 11.6578899103369, 58.92696745222575, 43.03577418035939, 107.04625461860603, 62.78656602637587, 169.81409598845184, 95.54023313100423, 24.555425202410483, 91.4867746547115, 77.18911207356359, 38.95728491023568, 66.26054136996645, 21.380607461615725, 20.739502492628077, 70.86489472615872, 59.76565767623758, 61.68354484298575, 157.69648802328354, 57.15738998098817, 128.0366229181489, 235.1100829068677, 319.3040058098369, 704.6714961047777, 358.9525870336019, 324.739628269082, 437.0158339927796, 276.251396397303, 487.8192354194261, 409.49770080254166, 140.93770780413178, 463.6080975511046, 1439.1528499461492, 346.6381862767184, 1034.6198414934652, 389.7582491112181], \"Category\": [\"Default\", \"Default\", \"Default\", \"Default\", \"Default\", \"Default\", \"Default\", \"Default\", \"Default\", \"Default\", \"Default\", \"Default\", \"Default\", \"Default\", \"Default\", \"Default\", \"Default\", \"Default\", \"Default\", \"Default\", \"Default\", \"Default\", \"Default\", \"Default\", \"Default\", \"Default\", \"Default\", \"Default\", \"Default\", \"Default\", \"Topic1\", \"Topic1\", \"Topic1\", \"Topic1\", \"Topic1\", \"Topic1\", \"Topic1\", \"Topic1\", \"Topic1\", \"Topic1\", \"Topic1\", \"Topic1\", \"Topic1\", \"Topic1\", \"Topic1\", \"Topic1\", \"Topic1\", \"Topic1\", \"Topic1\", \"Topic1\", \"Topic1\", \"Topic1\", \"Topic1\", \"Topic1\", \"Topic1\", \"Topic1\", \"Topic1\", \"Topic1\", \"Topic1\", \"Topic1\", \"Topic1\", \"Topic1\", \"Topic1\", \"Topic1\", \"Topic1\", \"Topic1\", \"Topic1\", \"Topic1\", \"Topic1\", \"Topic1\", \"Topic1\", \"Topic1\", \"Topic1\", \"Topic1\", \"Topic1\", \"Topic1\", \"Topic1\", \"Topic1\", \"Topic1\", \"Topic1\", \"Topic1\", \"Topic1\", \"Topic1\", \"Topic1\", \"Topic1\", \"Topic1\", \"Topic1\", \"Topic1\", \"Topic1\", \"Topic1\", \"Topic1\", \"Topic1\", \"Topic1\", \"Topic1\", \"Topic1\", \"Topic1\", \"Topic1\", \"Topic1\", \"Topic1\", \"Topic1\", \"Topic1\", \"Topic1\", \"Topic1\", \"Topic1\", \"Topic1\", \"Topic1\", \"Topic1\", \"Topic1\", \"Topic1\", \"Topic2\", \"Topic2\", \"Topic2\", \"Topic2\", \"Topic2\", \"Topic2\", \"Topic2\", \"Topic2\", \"Topic2\", \"Topic2\", \"Topic2\", \"Topic2\", \"Topic2\", \"Topic2\", \"Topic2\", \"Topic2\", \"Topic2\", \"Topic2\", \"Topic2\", \"Topic2\", \"Topic2\", \"Topic2\", \"Topic2\", \"Topic2\", \"Topic2\", \"Topic2\", \"Topic2\", \"Topic2\", \"Topic2\", \"Topic2\", \"Topic2\", \"Topic2\", \"Topic2\", \"Topic2\", \"Topic2\", \"Topic2\", \"Topic2\", \"Topic2\", \"Topic2\", \"Topic2\", \"Topic2\", \"Topic2\", \"Topic2\", \"Topic2\", \"Topic2\", \"Topic2\", \"Topic2\", \"Topic2\", \"Topic2\", \"Topic2\", \"Topic2\", \"Topic2\", \"Topic2\", \"Topic2\", \"Topic2\", \"Topic2\", \"Topic2\", \"Topic2\", \"Topic2\", \"Topic2\", \"Topic2\", \"Topic2\", \"Topic2\", \"Topic2\", \"Topic2\", \"Topic2\", \"Topic2\", \"Topic2\", \"Topic2\", \"Topic2\", \"Topic2\", \"Topic2\", \"Topic2\", \"Topic2\", \"Topic2\", \"Topic2\", \"Topic2\", \"Topic2\", \"Topic2\", \"Topic2\", \"Topic2\", \"Topic2\", \"Topic2\", \"Topic2\", \"Topic2\", \"Topic2\", \"Topic2\", \"Topic3\", \"Topic3\", \"Topic3\", \"Topic3\", \"Topic3\", \"Topic3\", \"Topic3\", \"Topic3\", \"Topic3\", \"Topic3\", \"Topic3\", \"Topic3\", \"Topic3\", \"Topic3\", \"Topic3\", \"Topic3\", \"Topic3\", \"Topic3\", \"Topic3\", \"Topic3\", \"Topic3\", \"Topic3\", \"Topic3\", \"Topic3\", \"Topic3\", \"Topic3\", \"Topic3\", \"Topic3\", \"Topic3\", \"Topic3\", \"Topic3\", \"Topic3\", \"Topic3\", \"Topic3\", \"Topic3\", \"Topic3\", \"Topic3\", \"Topic3\", \"Topic3\", \"Topic3\", \"Topic3\", \"Topic3\", \"Topic3\", \"Topic3\", \"Topic3\", \"Topic3\", \"Topic3\", \"Topic3\", \"Topic3\", \"Topic3\", \"Topic3\", \"Topic3\", \"Topic3\", \"Topic3\", \"Topic3\", \"Topic3\", \"Topic3\", \"Topic3\", \"Topic3\", \"Topic3\", \"Topic3\", \"Topic3\", \"Topic3\", \"Topic3\", \"Topic3\", \"Topic3\", \"Topic3\", \"Topic3\", \"Topic3\", \"Topic3\", \"Topic3\", \"Topic3\", \"Topic3\", \"Topic3\", \"Topic3\", \"Topic3\", \"Topic3\", \"Topic3\", \"Topic4\", \"Topic4\", \"Topic4\", \"Topic4\", \"Topic4\", \"Topic4\", \"Topic4\", \"Topic4\", \"Topic4\", \"Topic4\", \"Topic4\", \"Topic4\", \"Topic4\", \"Topic4\", \"Topic4\", \"Topic4\", \"Topic4\", \"Topic4\", \"Topic4\", \"Topic4\", \"Topic4\", \"Topic4\", \"Topic4\", \"Topic4\", \"Topic4\", \"Topic4\", \"Topic4\", \"Topic4\", \"Topic4\", \"Topic4\", \"Topic4\", \"Topic4\", \"Topic4\", \"Topic4\", \"Topic4\", \"Topic4\", \"Topic4\", \"Topic4\", \"Topic4\", \"Topic4\", \"Topic4\", \"Topic4\", \"Topic4\", \"Topic4\", \"Topic4\", \"Topic4\", \"Topic4\", \"Topic4\", \"Topic4\", \"Topic4\", \"Topic4\", \"Topic4\", \"Topic4\", \"Topic4\", \"Topic4\", \"Topic4\", \"Topic4\", \"Topic4\", \"Topic4\", \"Topic4\", \"Topic4\", \"Topic4\", \"Topic4\", \"Topic4\", \"Topic4\", \"Topic4\", \"Topic4\", \"Topic4\", \"Topic4\", \"Topic4\", \"Topic4\", \"Topic5\", \"Topic5\", \"Topic5\", \"Topic5\", \"Topic5\", \"Topic5\", \"Topic5\", \"Topic5\", \"Topic5\", \"Topic5\", \"Topic5\", \"Topic5\", \"Topic5\", \"Topic5\", \"Topic5\", \"Topic5\", \"Topic5\", \"Topic5\", \"Topic5\", \"Topic5\", \"Topic5\", \"Topic5\", \"Topic5\", \"Topic5\", \"Topic5\", \"Topic5\", \"Topic5\", \"Topic5\", \"Topic5\", \"Topic5\", \"Topic5\", \"Topic5\", \"Topic5\", \"Topic5\", \"Topic5\", \"Topic5\", \"Topic5\", \"Topic5\", \"Topic5\", \"Topic5\", \"Topic5\", \"Topic5\", \"Topic5\", \"Topic5\", \"Topic5\", \"Topic5\", \"Topic5\", \"Topic5\", \"Topic5\", \"Topic5\", \"Topic5\", \"Topic5\", \"Topic5\", \"Topic5\", \"Topic5\", \"Topic5\", \"Topic5\", \"Topic5\", \"Topic5\", \"Topic5\", \"Topic5\", \"Topic5\", \"Topic5\", \"Topic5\", \"Topic5\", \"Topic5\", \"Topic5\", \"Topic5\", \"Topic5\", \"Topic5\", \"Topic5\", \"Topic6\", \"Topic6\", \"Topic6\", \"Topic6\", \"Topic6\", \"Topic6\", \"Topic6\", \"Topic6\", \"Topic6\", \"Topic6\", \"Topic6\", \"Topic6\", \"Topic6\", \"Topic6\", \"Topic6\", \"Topic6\", \"Topic6\", \"Topic6\", \"Topic6\", \"Topic6\", \"Topic6\", \"Topic6\", \"Topic6\", \"Topic6\", \"Topic6\", \"Topic6\", \"Topic6\", \"Topic6\", \"Topic6\", \"Topic6\", \"Topic6\", \"Topic6\", \"Topic6\", \"Topic6\", \"Topic6\", \"Topic6\", \"Topic6\", \"Topic6\", \"Topic6\", \"Topic6\", \"Topic6\", \"Topic6\", \"Topic6\", \"Topic6\", \"Topic6\", \"Topic6\", \"Topic6\", \"Topic6\", \"Topic6\", \"Topic6\", \"Topic6\", \"Topic6\", \"Topic6\", \"Topic6\", \"Topic6\", \"Topic6\", \"Topic6\", \"Topic6\", \"Topic6\", \"Topic6\", \"Topic6\", \"Topic6\", \"Topic6\", \"Topic6\"], \"logprob\": [30.0, 29.0, 28.0, 27.0, 26.0, 25.0, 24.0, 23.0, 22.0, 21.0, 20.0, 19.0, 18.0, 17.0, 16.0, 15.0, 14.0, 13.0, 12.0, 11.0, 10.0, 9.0, 8.0, 7.0, 6.0, 5.0, 4.0, 3.0, 2.0, 1.0, -6.664299964904785, -6.413099765777588, -6.930500030517578, -7.029300212860107, -7.234499931335449, -7.725900173187256, -7.545300006866455, -7.89139986038208, -7.146399974822998, -7.816400051116943, -8.130000114440918, -8.19909954071045, -8.149800300598145, -8.239999771118164, -6.871600151062012, -7.991399765014648, -8.266500473022461, -8.247300148010254, -8.35990047454834, -7.034900188446045, -8.358799934387207, -8.622300148010254, -8.55049991607666, -7.126500129699707, -8.641799926757812, -8.667699813842773, -7.3902997970581055, -8.639100074768066, -8.370499610900879, -7.684100151062012, -5.110899925231934, -7.933800220489502, -5.68209981918335, -6.442999839782715, -6.752200126647949, -6.882900238037109, -5.945300102233887, -7.287799835205078, -6.803699970245361, -6.71560001373291, -4.829699993133545, -7.352799892425537, -7.012499809265137, -7.323599815368652, -7.4791998863220215, -6.631800174713135, -5.416399955749512, -5.765999794006348, -6.363800048828125, -6.023900032043457, -4.93149995803833, -6.083399772644043, -6.97189998626709, -5.37529993057251, -5.968299865722656, -6.163599967956543, -6.467299938201904, -5.904900074005127, -4.76039981842041, -5.1554999351501465, -5.745299816131592, -6.0229997634887695, -5.894100189208984, -5.845200061798096, -5.608399868011475, -5.947999954223633, -5.843999862670898, -5.968800067901611, -5.988900184631348, -5.353799819946289, -5.343999862670898, -5.776000022888184, -5.523499965667725, -5.798500061035156, -5.763800144195557, -5.822400093078613, -5.7266998291015625, -5.884200096130371, -5.9567999839782715, -6.48360013961792, -6.374100208282471, -6.64109992980957, -5.926000118255615, -6.88670015335083, -6.8059000968933105, -7.402200222015381, -7.335100173950195, -7.5254998207092285, -7.644800186157227, -7.661399841308594, -7.664999961853027, -7.8246002197265625, -7.793000221252441, -7.881100177764893, -7.786900043487549, -7.818999767303467, -8.088800430297852, -8.020500183105469, -8.114700317382812, -7.893499851226807, -8.025400161743164, -8.11709976196289, -7.867599964141846, -8.190799713134766, -7.558800220489502, -7.963500022888184, -8.17199993133545, -8.271100044250488, -8.294599533081055, -5.89769983291626, -6.958000183105469, -6.267099857330322, -7.015500068664551, -7.200099945068359, -6.638800144195557, -7.511199951171875, -7.4934000968933105, -6.814499855041504, -7.21589994430542, -7.02400016784668, -6.25029993057251, -6.433199882507324, -5.707600116729736, -6.618000030517578, -6.957099914550781, -7.101900100708008, -6.9166998863220215, -6.6570000648498535, -7.168600082397461, -5.654699802398682, -6.568699836730957, -5.957900047302246, -6.4893999099731445, -6.1579999923706055, -6.017099857330322, -5.961999893188477, -5.891200065612793, -5.810500144958496, -6.4629998207092285, -5.0278000831604, -5.928100109100342, -6.502299785614014, -6.401199817657471, -5.576499938964844, -5.335400104522705, -5.458700180053711, -5.088500022888184, -5.710700035095215, -6.241000175476074, -5.622499942779541, -5.981599807739258, -5.666100025177002, -5.201900005340576, -5.923500061035156, -5.585299968719482, -5.288700103759766, -5.685299873352051, -5.729100227355957, -5.574900150299072, -5.800099849700928, -5.752699851989746, -5.904099941253662, -5.726600170135498, -5.9328999519348145, -5.91949987411499, -5.935200214385986, -6.275300025939941, -5.978700160980225, -6.42549991607666, -5.914100170135498, -6.4899001121521, -6.723400115966797, -6.855999946594238, -6.923399925231934, -7.063899993896484, -7.255899906158447, -7.098199844360352, -7.200900077819824, -6.212299823760986, -7.310400009155273, -7.453000068664551, -7.369100093841553, -7.4629998207092285, -7.582499980926514, -6.467100143432617, -7.573800086975098, -7.285399913787842, -6.915599822998047, -7.832600116729736, -7.8927001953125, -7.945700168609619, -7.95989990234375, -7.995299816131592, -7.99399995803833, -6.085400104522705, -8.003199577331543, -7.067999839782715, -6.331399917602539, -6.763000011444092, -5.335000038146973, -7.422699928283691, -6.910799980163574, -6.291800022125244, -6.368100166320801, -6.178299903869629, -6.988399982452393, -6.775300025939941, -6.859000205993652, -6.478000164031982, -5.49560022354126, -5.944300174713135, -4.332799911499023, -6.418000221252441, -6.184899806976318, -6.15939998626709, -6.126500129699707, -5.53849983215332, -6.337500095367432, -4.963699817657471, -5.1178998947143555, -5.316100120544434, -5.228400230407715, -5.8744001388549805, -5.615499973297119, -4.731299877166748, -5.539999961853027, -5.478499889373779, -5.949699878692627, -5.009500026702881, -5.326399803161621, -5.541900157928467, -5.560500144958496, -5.8429999351501465, -5.342100143432617, -5.811200141906738, -5.511499881744385, -5.688499927520752, -5.835599899291992, -5.544899940490723, -5.867099761962891, -5.811500072479248, -5.681300163269043, -5.751500129699707, -5.887800216674805, -7.279699802398682, -7.470099925994873, -7.294899940490723, -7.329599857330322, -7.470300197601318, -7.524400234222412, -7.704899787902832, -7.763500213623047, -7.694799900054932, -7.510700225830078, -7.068399906158447, -7.818999767303467, -7.348499774932861, -5.437600135803223, -7.819699764251709, -7.672900199890137, -7.964799880981445, -7.962800025939941, -7.932400226593018, -7.981800079345703, -7.910099983215332, -7.910200119018555, -7.997900009155273, -8.11139965057373, -8.168299674987793, -8.033699989318848, -8.211600303649902, -8.057499885559082, -7.9369001388549805, -8.216400146484375, -5.242499828338623, -4.5269999504089355, -6.288300037384033, -5.956099987030029, -6.939199924468994, -5.293099880218506, -6.476799964904785, -5.8225998878479, -6.249000072479248, -6.798799991607666, -6.653500080108643, -6.845200061798096, -5.987100124359131, -5.456200122833252, -6.043600082397461, -6.415500164031982, -4.363399982452393, -5.2743000984191895, -6.402299880981445, -5.417799949645996, -6.243500232696533, -5.587100028991699, -5.521299839019775, -6.607600212097168, -4.815299987792969, -5.587399959564209, -5.878300189971924, -5.710999965667725, -5.7621002197265625, -6.310699939727783, -5.915200233459473, -5.893799781799316, -5.7581000328063965, -5.367400169372559, -5.552999973297119, -5.742400169372559, -5.888000011444092, -5.828999996185303, -5.28980016708374, -5.77400016784668, -5.876699924468994, -6.1859002113342285, -6.702099800109863, -7.087500095367432, -7.216000080108643, -6.6082000732421875, -6.5269999504089355, -6.170199871063232, -7.648900032043457, -6.4653000831604, -6.525199890136719, -7.549099922180176, -7.789599895477295, -7.877900123596191, -5.314599990844727, -8.074799537658691, -7.904200077056885, -7.904699802398682, -7.905900001525879, -7.906000137329102, -8.048999786376953, -8.105999946594238, -6.190100193023682, -7.907800197601318, -5.731100082397461, -8.090299606323242, -8.15369987487793, -8.208100318908691, -8.206100463867188, -8.184399604797363, -6.718599796295166, -6.119500160217285, -6.783699989318848, -7.352799892425537, -7.983500003814697, -6.393799781799316, -5.674099922180176, -5.619699954986572, -6.235799789428711, -6.451099872589111, -5.9278998374938965, -5.82889986038208, -5.40939998626709, -6.166500091552734, -6.704899787902832, -5.740300178527832, -4.945400238037109, -6.047999858856201, -6.595900058746338, -5.491600036621094, -4.124199867248535, -5.408599853515625, -5.742099761962891, -4.319799900054932, -5.295899868011475, -5.383500099182129, -6.415999889373779, -5.266499996185303, -5.6234002113342285, -6.085599899291992, -5.793300151824951, -6.067200183868408, -5.65369987487793, -6.213099956512451, -6.115099906921387, -5.906300067901611, -6.037199974060059, -5.850900173187256, -6.044300079345703, -5.870200157165527, -6.01200008392334, -6.045199871063232, -5.423299789428711, -5.065299987792969, -6.000800132751465, -6.760000228881836, -6.760200023651123, -6.760200023651123, -6.698599815368652, -6.857800006866455, -5.745699882507324, -6.917099952697754, -6.981900215148926, -6.802499771118164, -7.178100109100342, -7.259399890899658, -7.267099857330322, -7.267199993133545, -7.267199993133545, -7.267199993133545, -7.267199993133545, -7.267199993133545, -7.267199993133545, -7.267300128936768, -7.224400043487549, -7.402699947357178, -7.459199905395508, -7.524799823760986, -7.539899826049805, -7.573200225830078, -7.477499961853027, -7.493100166320801, -5.9039998054504395, -6.218100070953369, -5.3744001388549805, -5.930600166320801, -5.089600086212158, -5.633900165557861, -6.837800025939941, -5.774799823760986, -6.0320000648498535, -6.564599990844727, -6.206999778747559, -6.998499870300293, -7.019700050354004, -6.213799953460693, -6.3541998863220215, -6.339200019836426, -5.787799835205078, -6.417699813842773, -6.007299900054932, -5.7399001121521, -5.65910005569458, -5.446199893951416, -5.826200008392334, -5.884799957275391, -5.833899974822998, -6.00600004196167, -5.860099792480469, -5.969200134277344, -6.258900165557861, -5.97130012512207, -5.704999923706055, -6.047800064086914, -6.010799884796143, -6.141600131988525], \"loglift\": [30.0, 29.0, 28.0, 27.0, 26.0, 25.0, 24.0, 23.0, 22.0, 21.0, 20.0, 19.0, 18.0, 17.0, 16.0, 15.0, 14.0, 13.0, 12.0, 11.0, 10.0, 9.0, 8.0, 7.0, 6.0, 5.0, 4.0, 3.0, 2.0, 1.0, 1.1306, 1.1296, 1.1269, 1.1268, 1.1252, 1.1229, 1.1223, 1.1187, 1.1186, 1.1161, 1.1155, 1.1142, 1.1131, 1.113, 1.1122, 1.1117, 1.1115, 1.1106, 1.1093, 1.1079, 1.1058, 1.104, 1.1037, 1.1036, 1.1022, 1.102, 1.1016, 1.1012, 1.1003, 1.0995, 1.0852, 1.0966, 1.0666, 1.08, 1.0806, 1.0801, 1.0609, 1.085, 1.0692, 1.0649, 0.9827, 1.0794, 1.0648, 1.0749, 1.083, 1.0381, 0.9593, 0.9721, 1.0118, 0.9804, 0.8522, 0.925, 1.0346, 0.7839, 0.8703, 0.8751, 0.9261, 0.7929, 0.5051, 0.5489, 0.7075, 0.7703, 0.714, 0.6863, 0.59, 0.6801, 0.5987, 0.6377, 0.6495, 0.2265, 0.1687, 0.4068, 0.1433, 0.4, 0.2935, 0.3183, -0.146, 0.2888, 0.006, 1.4746, 1.4727, 1.4723, 1.4722, 1.47, 1.4698, 1.4676, 1.4661, 1.4641, 1.463, 1.4623, 1.4616, 1.4595, 1.4591, 1.4587, 1.4576, 1.4556, 1.4548, 1.4534, 1.4533, 1.4532, 1.4532, 1.4517, 1.4502, 1.4501, 1.4492, 1.4491, 1.4485, 1.4485, 1.4483, 1.4471, 1.4479, 1.44, 1.4472, 1.4474, 1.4398, 1.4445, 1.443, 1.4239, 1.4279, 1.4123, 1.3688, 1.3704, 1.3218, 1.3758, 1.3882, 1.4005, 1.3841, 1.3454, 1.4021, 1.204, 1.3197, 1.2211, 1.2959, 1.2346, 1.2011, 1.182, 1.1625, 1.1388, 1.2728, 0.9351, 1.1447, 1.2643, 1.2334, 0.9575, 0.8249, 0.8506, 0.6582, 0.9249, 1.1645, 0.858, 0.9861, 0.7543, 0.3783, 0.8917, 0.5554, 0.224, 0.5545, 0.4439, 0.092, 0.4222, 0.3046, 0.5396, -0.0222, 0.3619, -0.1586, -0.0245, 1.8335, 1.8319, 1.8318, 1.8306, 1.8304, 1.8303, 1.8292, 1.828, 1.8262, 1.823, 1.8227, 1.8226, 1.8226, 1.8205, 1.8202, 1.8191, 1.8184, 1.8172, 1.8171, 1.8159, 1.8151, 1.8105, 1.8105, 1.8072, 1.8063, 1.8054, 1.8052, 1.8037, 1.8032, 1.8032, 1.8026, 1.7912, 1.7943, 1.7489, 1.7926, 1.7709, 1.7238, 1.7264, 1.7084, 1.7595, 1.7383, 1.7459, 1.6953, 1.4847, 1.5661, 1.2479, 1.649, 1.5962, 1.5551, 1.5458, 1.3485, 1.5724, 1.0283, 1.0854, 1.0183, 0.9544, 1.2811, 1.1184, 0.5341, 1.0183, 0.9565, 1.2969, 0.5031, 0.665, 0.876, 0.842, 1.1483, 0.3247, 0.9521, 0.1929, 0.5513, 0.8218, 0.0354, 0.868, 0.6889, 0.2294, 0.3057, 0.3344, 2.0119, 2.0073, 2.0068, 2.0065, 2.0061, 2.0023, 2.0008, 2.0002, 1.9998, 1.9998, 1.9968, 1.9966, 1.9962, 1.9958, 1.9953, 1.9942, 1.9926, 1.9925, 1.9922, 1.9919, 1.9905, 1.9904, 1.9888, 1.9844, 1.9832, 1.9818, 1.98, 1.9787, 1.9771, 1.9739, 1.9658, 1.9542, 1.9596, 1.952, 1.9629, 1.9108, 1.9463, 1.9184, 1.9296, 1.9489, 1.9309, 1.9287, 1.8692, 1.8244, 1.8477, 1.8766, 1.6279, 1.7245, 1.8337, 1.6517, 1.7766, 1.6052, 1.5579, 1.8114, 1.388, 1.4978, 1.5599, 1.4616, 1.4772, 1.6411, 1.3853, 1.3608, 1.2112, 0.831, 0.8998, 1.0272, 1.1895, 1.0677, -0.0243, 0.894, 0.034, 2.1643, 2.1639, 2.1603, 2.1589, 2.158, 2.15, 2.1478, 2.1465, 2.1445, 2.1437, 2.1425, 2.1405, 2.1374, 2.1321, 2.1304, 2.1303, 2.1298, 2.1285, 2.1284, 2.1277, 2.1273, 2.1268, 2.1265, 2.125, 2.1249, 2.1237, 2.1232, 2.1232, 2.123, 2.1221, 2.1094, 2.1155, 2.1181, 2.1209, 2.0742, 2.0464, 2.0347, 2.0592, 2.0652, 2.0409, 2.0349, 2.011, 2.048, 2.0674, 1.9892, 1.9266, 2.0071, 2.0498, 1.8998, 1.6366, 1.8191, 1.8182, 1.4269, 1.6684, 1.592, 1.986, 1.1539, 1.389, 1.586, 1.1744, 1.5057, 0.8803, 1.6959, 1.4532, 0.8663, 1.2354, 0.0598, 1.2352, -0.2034, 0.8665, 1.0989, 2.9674, 2.9661, 2.9641, 2.948, 2.9479, 2.9478, 2.9453, 2.9429, 2.9404, 2.9401, 2.9397, 2.9322, 2.9313, 2.9267, 2.9263, 2.9263, 2.9263, 2.9263, 2.9263, 2.9263, 2.9262, 2.9262, 2.9212, 2.9181, 2.9125, 2.9096, 2.9095, 2.9046, 2.9035, 2.9034, 2.8722, 2.8724, 2.8049, 2.7822, 2.6282, 2.6591, 2.8137, 2.5616, 2.4742, 2.6255, 2.4519, 2.7915, 2.8008, 2.3779, 2.4078, 2.3913, 2.004, 2.389, 1.9929, 1.6525, 1.4272, 0.8485, 1.1431, 1.1846, 0.9386, 1.2251, 0.8025, 0.8683, 1.6453, 0.7422, -0.1243, 0.9564, -0.1001, 0.7454]}, \"token.table\": {\"Topic\": [3, 5, 3, 4, 1, 2, 3, 4, 5, 6, 1, 2, 3, 4, 5, 6, 2, 4, 6, 2, 5, 5, 5, 1, 2, 3, 4, 5, 6, 1, 5, 2, 6, 3, 4, 4, 1, 2, 3, 2, 2, 1, 2, 4, 4, 6, 1, 2, 3, 4, 6, 3, 4, 6, 1, 3, 1, 3, 5, 6, 1, 3, 5, 6, 3, 4, 6, 1, 2, 3, 4, 5, 6, 3, 4, 6, 1, 3, 4, 5, 6, 1, 3, 4, 6, 1, 2, 3, 4, 6, 3, 4, 6, 2, 4, 5, 2, 5, 2, 4, 5, 6, 1, 1, 2, 4, 5, 5, 2, 5, 6, 3, 1, 2, 3, 4, 5, 6, 3, 4, 6, 3, 4, 3, 3, 4, 6, 6, 3, 4, 3, 3, 1, 3, 1, 1, 2, 3, 4, 6, 6, 6, 1, 2, 3, 4, 5, 6, 4, 6, 2, 3, 4, 5, 6, 1, 2, 3, 4, 5, 6, 2, 1, 2, 3, 4, 5, 6, 4, 1, 2, 3, 4, 5, 6, 2, 6, 2, 3, 4, 5, 2, 1, 2, 3, 4, 5, 6, 6, 5, 2, 5, 1, 2, 3, 4, 5, 6, 1, 2, 3, 4, 5, 6, 1, 2, 6, 2, 6, 1, 2, 3, 4, 5, 1, 2, 3, 4, 5, 6, 1, 2, 3, 4, 5, 1, 2, 3, 4, 5, 6, 1, 2, 4, 5, 6, 1, 2, 3, 4, 5, 6, 1, 2, 4, 5, 1, 2, 3, 4, 5, 1, 2, 3, 4, 5, 6, 1, 2, 3, 5, 2, 3, 3, 2, 1, 2, 3, 4, 5, 6, 1, 2, 3, 4, 5, 6, 3, 2, 1, 3, 4, 6, 1, 4, 1, 2, 3, 4, 1, 1, 2, 3, 4, 5, 6, 6, 1, 2, 4, 5, 6, 3, 4, 1, 1, 2, 3, 4, 5, 6, 1, 2, 3, 4, 6, 3, 6, 6, 1, 2, 3, 4, 5, 1, 2, 3, 4, 5, 6, 1, 2, 3, 5, 6, 6, 1, 2, 5, 2, 6, 1, 2, 3, 4, 2, 5, 1, 2, 3, 4, 5, 6, 4, 1, 2, 3, 4, 5, 6, 1, 4, 6, 1, 2, 4, 5, 3, 5, 3, 4, 6, 4, 6, 4, 3, 4, 6, 1, 2, 3, 4, 5, 6, 1, 2, 3, 4, 5, 6, 1, 2, 3, 6, 1, 2, 3, 5, 6, 1, 2, 3, 4, 5, 6, 1, 2, 3, 4, 5, 6, 1, 3, 1, 2, 3, 5, 2, 4, 5, 1, 2, 3, 4, 6, 6, 2, 3, 4, 5, 6, 1, 1, 2, 4, 5, 6, 3, 1, 5, 1, 3, 4, 6, 2, 4, 6, 1, 2, 3, 4, 5, 6, 2, 1, 2, 3, 4, 5, 6, 1, 2, 3, 4, 5, 6, 5, 3, 4, 6, 1, 3, 4, 1, 3, 4, 1, 3, 1, 2, 3, 4, 5, 6, 1, 2, 3, 4, 5, 6, 1, 2, 3, 4, 5, 6, 4, 6, 1, 2, 3, 4, 5, 6, 6, 1, 2, 3, 5, 1, 2, 3, 4, 5, 6, 1, 2, 3, 5, 3, 4, 4, 1, 2, 3, 4, 5, 6, 1, 2, 3, 4, 5, 6, 3, 1, 2, 3, 4, 5, 6, 1, 3, 2, 1, 3, 4, 1, 3, 6, 1, 2, 3, 4, 5, 6, 1, 2, 3, 4, 5, 6, 1, 1, 2, 5, 2, 6, 1, 2, 4, 5, 6, 1, 2, 5, 1, 3, 1, 3, 4, 6, 1, 1, 3, 4, 5, 6, 1, 3, 4, 5, 6, 1, 4, 6, 1, 4, 1, 2, 3, 4, 5, 6, 1, 2, 4, 5, 3, 4, 3, 4, 3, 4, 1, 2, 3, 4, 5, 6, 1, 2, 3, 4, 5, 6, 1, 3, 4, 6, 1, 3, 4, 1, 4, 6, 1, 5, 1, 2, 3, 4, 5, 6, 1, 2, 3, 4, 5, 6, 1, 2, 3, 4, 5, 6, 1, 6, 1, 3, 6, 1, 1, 2, 3, 4, 5, 6, 1, 2, 3, 4, 5, 6, 1, 2, 3, 4, 5, 6, 1, 2, 3, 4, 5, 6, 1, 2, 3, 4, 5, 6, 4, 2, 4, 5, 3, 4, 4, 3, 1, 2, 3, 4, 5, 6, 2, 3, 4, 5, 2, 4, 5, 1, 3, 4, 6, 5, 1, 2, 3, 4, 5, 6, 6, 2, 4, 5, 6, 2, 3, 1, 2, 4, 1, 2, 3, 4, 5, 6, 2, 3, 4, 5, 6, 2, 5, 1, 2, 3, 4, 5, 6, 1, 3, 4, 5, 6, 1, 3, 4, 5, 6, 4, 3, 4, 2, 4, 5, 2, 1, 2, 3, 4, 5, 6, 6, 1, 2, 3, 4, 5, 6, 1, 5, 1, 2, 3, 4, 5, 6, 6, 3, 6, 1, 2, 3, 4, 5, 6, 4, 4, 2, 3, 4, 5, 1, 6, 4, 6, 1, 2, 2, 1, 1, 4, 5, 6, 1, 6, 1, 2, 3, 4, 5, 6, 1, 5, 1, 2, 6, 1, 2, 4, 5, 2, 4, 5, 2, 5, 1, 2, 3, 4, 5, 6, 1, 2, 3, 4, 6, 1, 3, 4, 5, 6, 1, 2, 3, 4, 5, 6, 1, 2, 3, 4, 5, 6, 2, 4, 5, 6, 1, 2, 3, 4, 5, 6, 1, 2, 3, 4, 5, 6, 1, 2, 3, 4, 5, 6, 2, 4, 5, 4, 1, 2, 3, 4, 5, 6, 1, 2, 3, 4, 5, 6, 3, 2, 3, 5, 2, 4, 5, 1, 4, 1, 2, 3, 4, 5, 6, 1, 3, 4, 6, 2, 3, 1, 2, 3, 4, 5, 6, 5, 5, 1, 2, 3, 4, 5, 6, 3, 4, 2, 3, 4, 5, 6, 5, 1, 2, 3, 4, 5, 6, 2, 4, 5, 1, 2, 3, 4, 5, 6, 5, 1, 2, 3, 4, 5, 2, 3, 4, 5, 1, 2, 3, 4, 5, 6, 1, 2, 3, 4, 5, 6, 3, 4, 6, 2, 2, 3, 1, 6, 4, 1, 1, 2, 3, 2, 4, 5, 1, 2, 3, 5, 1, 2, 4, 5, 2, 3, 4, 5, 1, 3, 4, 5, 6, 1, 2, 3, 4, 5, 6, 1, 2, 3, 4, 5, 6, 1, 2, 3, 4, 5, 6, 1, 2, 3, 4, 5, 6, 1, 2, 3, 4, 5, 2, 3, 5, 6, 2, 1, 2, 3, 5, 1, 2, 3, 4, 5, 6, 1, 1, 2, 3, 4, 5, 6, 6, 1, 3, 1, 2, 3, 5, 1, 2, 3, 4, 5, 6, 1, 2, 3, 4, 1, 2, 3, 4, 5, 6, 1, 2, 3, 4, 5, 6, 6, 4, 6, 1, 2, 4, 5, 1, 2, 3, 4, 5, 6, 1, 2, 4, 5, 1, 2, 3, 4, 5, 6, 1, 2, 3, 4, 5, 6, 4, 1, 2, 3, 4, 5, 6, 1, 3, 4, 6, 2, 2, 2, 3, 4, 3, 4, 6, 1, 3, 4, 6, 1, 3, 4, 6, 1, 3, 4, 6, 4, 6, 6, 1, 3, 4, 5, 1, 2, 3, 4, 5, 6, 2, 5, 1, 2, 3, 4, 5, 6, 1, 2, 3, 4, 5, 2, 3, 4, 5, 6, 1, 4, 4, 4, 5, 1, 3, 4, 6, 1, 3, 5, 2, 2, 4, 5, 1, 3, 1, 2, 3, 4, 5, 6, 1, 2, 3, 4, 5, 6, 1, 2, 6, 1, 2, 3, 4, 5, 6, 1, 2, 3, 4, 5, 1, 3, 4, 1, 3, 4, 6, 1, 2, 4, 6, 2, 1, 3, 4, 5, 6, 1, 2, 3, 4, 5, 6, 1, 2, 3, 4, 5, 6, 4, 1, 2, 3, 4, 5, 6, 1, 2, 3, 4, 5, 6, 1, 5], \"Freq\": [0.9814409377266898, 0.9554064976210966, 0.9762964458866374, 0.9379923942975267, 0.03242355809950548, 0.01621177904975274, 0.03242355809950548, 0.2918120228955493, 0.0810588952487637, 0.5512004876915931, 0.1471398566408781, 0.1358214061300413, 0.15468549031476925, 0.12073013878225893, 0.38482731736845033, 0.056592252554183875, 0.052293345240420744, 0.8576108619429003, 0.08366935238467318, 0.9870260159472959, 0.9556279229308866, 0.9555174092985403, 0.9555070445174638, 0.808912439683726, 0.029802037251505695, 0.04257433893072242, 0.08940611175451708, 0.008514867786144483, 0.02128716946536121, 0.9574228612208601, 0.017096836807515357, 0.00805823976456394, 0.9831052512768007, 0.9779810429242588, 0.9548519616902029, 0.9803498694084781, 0.9447045498034577, 0.006606325523101103, 0.039637953138606616, 0.9883658725753439, 0.9758285532106117, 0.01991762037775281, 0.9560457781321349, 0.9660359872547943, 0.9515490488611382, 0.022655929734789006, 0.07545969134303394, 0.04527581480582037, 0.03018387653721358, 0.25656295056631545, 0.5885855924756648, 0.0209335892791638, 0.24073627671038367, 0.722208830131151, 0.006048993623974357, 0.9859859607078203, 0.8539163073156217, 0.00865455716873941, 0.002884852389579803, 0.13270320992067094, 0.9450095082936542, 0.004846202606634124, 0.004846202606634124, 0.04361582345970712, 0.10822158728079719, 0.845481150631228, 0.040583095230298946, 0.9038685611984789, 0.05501808633382045, 0.007859726619117208, 0.015719453238234416, 0.007859726619117208, 0.007859726619117208, 0.35448211547046427, 0.621898448193797, 0.021766445686782893, 0.0010477332783208964, 0.3080335838263435, 0.6653106317337691, 0.0010477332783208964, 0.024097865401380616, 0.001295124050325718, 0.4688349062179099, 0.52323011633159, 0.005180496201302872, 0.2626982012996923, 0.008905023772870925, 0.06678767829653194, 0.6233516641009648, 0.0356200950914837, 0.06773006153247722, 0.8974233153053233, 0.03386503076623861, 0.014369476387939275, 0.014369476387939275, 0.9627549179919314, 0.03620138472198583, 0.9412360027716317, 0.09676970865050137, 0.009676970865050137, 0.8709273778545124, 0.019353941730100275, 0.992384725928686, 0.024754848431333146, 0.09901939372533258, 0.041258080718888576, 0.8334132305215493, 0.9373824017910755, 0.9301921244388915, 0.036241251601515256, 0.02416083440101017, 0.9508735837399341, 0.14817083245749282, 0.4027207241152369, 0.022795512685768127, 0.026594764800062815, 0.38752371565805815, 0.015197008457178751, 0.9122804175342584, 0.08435469614186636, 0.0031242480052543096, 0.9886074167169966, 0.0064614863837712195, 0.9896258231808361, 0.8784655816546061, 0.11852313403276432, 0.006971949060750843, 0.9101745551567946, 0.9640012424265034, 0.027942064997869664, 0.9917175802455819, 0.9582542420824048, 0.9935760529653539, 0.004943164442613701, 0.9768660076924454, 0.09185341864436572, 0.033401243143405715, 0.8266807677992914, 0.033401243143405715, 0.016700621571702857, 0.9503562208317031, 0.9730232931740157, 0.7091928373827011, 0.10616659242256005, 0.12952324275552324, 0.006369995545353602, 0.038219973272121614, 0.010616659242256004, 0.9591485233784471, 0.9101807528807633, 0.8038663994793243, 0.09893740301283992, 0.018550763064907484, 0.04946870150641996, 0.02473435075320998, 0.13989855794104614, 0.2228014070912957, 0.03626999650323418, 0.38083496328395894, 0.21502926498345978, 0.007772142107835897, 0.9832603896329856, 0.21285999657162374, 0.03547666609527063, 0.021285999657162376, 0.4611966592385181, 0.007095333219054125, 0.26252732910500265, 0.9399340590085955, 0.08625901311411739, 0.7398369201710838, 0.05640012395923061, 0.026541234804343814, 0.05640012395923061, 0.03649419785597274, 0.011541579540968716, 0.9810342609823408, 0.9415430085251777, 0.009910979037107134, 0.019821958074214267, 0.019821958074214267, 0.9876357942241996, 0.6337293116650838, 0.18813838940057176, 0.08317697215604225, 0.03168646558325419, 0.03762767788011435, 0.02574525328639403, 0.9043759395370967, 0.9749204275822265, 0.9747114718932428, 0.9684277294295787, 0.057743310158738376, 0.8918133457849594, 0.019247770052912793, 0.012831846701941861, 0.006415923350970931, 0.006415923350970931, 0.4377515265840028, 0.009235264273924109, 0.4395985794387876, 0.10343495986795002, 0.007388211419139287, 0.0018470528547848218, 0.023304161424766188, 0.9554706184154136, 0.017478121068574638, 0.9882340287224648, 0.0042780693884089385, 0.8824620645343011, 0.004182284666039341, 0.04182284666039342, 0.0710988393226688, 0.004182284666039341, 0.6938951314617398, 0.058408681099473045, 0.10046293149109364, 0.10279927873507257, 0.018690777951831376, 0.02569981968376814, 0.927975149588212, 0.0168722754470584, 0.0168722754470584, 0.0168722754470584, 0.0253084131705876, 0.0700312945565804, 0.046687529704386936, 0.011671882426096734, 0.0350156472782902, 0.8170317698267714, 0.011671882426096734, 0.0770074199706812, 0.05133827998045413, 0.12834569995113532, 0.025669139990227064, 0.6930667797361307, 0.3176356213484091, 0.13732761187010428, 0.44343190703094737, 0.06184984046058131, 0.032497373801322386, 0.006289814284126913, 0.010487990948425776, 0.052439954742128876, 0.06292794569055465, 0.8809912396677652, 0.027936615936298977, 0.8520667860571188, 0.006984153984074744, 0.055873231872597955, 0.055873231872597955, 0.05955010477643421, 0.7784049410062471, 0.04678936803862688, 0.08932515716465131, 0.017014315650409773, 0.004253578912602443, 0.9481921164362707, 0.007525334257430719, 0.007525334257430719, 0.0376266712871536, 0.9257544058407922, 0.055268919751689086, 0.983082899068824, 0.9669452770742538, 0.06804228016922859, 0.8520076821190363, 0.04141704010300871, 0.008875080022073295, 0.02958360007357765, 0.0029583600073577647, 0.7650843997577869, 0.021999231941917195, 0.03666538656986199, 0.1442171871747905, 0.014666154627944796, 0.014666154627944796, 0.9876852319750247, 0.9815496054192409, 0.770380419434326, 0.08659314792091262, 0.13138270719035017, 0.011943882471850015, 0.029962991290213452, 0.9588157212868305, 0.03915410295803407, 0.013051367652678024, 0.9005443680347835, 0.03915410295803407, 0.9895865800942213, 0.11338576502382175, 0.7696488292526082, 0.044667119554838874, 0.027487458187593152, 0.044667119554838874, 0.003435932273449144, 0.9101727885768253, 0.06967688542994614, 0.5474612426638625, 0.013271787700942122, 0.3384305863740241, 0.029861522327119774, 0.9533906154572699, 0.04413845441931805, 0.9715110385284392, 0.34338772582866767, 0.14293296202005457, 0.31549836738573017, 0.10632817906369912, 0.08366807532881243, 0.008715424513417962, 0.20954237640313975, 0.06984745880104658, 0.5808367626613348, 0.13234255351777247, 0.007352364084320693, 0.14031406756734363, 0.8418844054040617, 0.9101958684179634, 0.179941162925664, 0.163071678901383, 0.016869484024281, 0.089970581462832, 0.551069811459846, 0.10195539228053434, 0.7136877459637403, 0.02471645873467499, 0.012358229367337496, 0.14520919506621557, 0.003089557341834374, 0.1379034424748688, 0.8094332493090126, 0.011991603693466853, 0.03597481108040056, 0.9101753494148263, 0.9655993294060372, 0.966308981755045, 0.9514134380201925, 0.04459750490719652, 0.9589536178832988, 0.9203830860664538, 0.14835630446340756, 0.07178530861132623, 0.7609242712800581, 0.014357061722265247, 0.9546749908006801, 0.9209806537923014, 0.042969663490455834, 0.13901949952794534, 0.010110509056577843, 0.030331527169733526, 0.7709263155640605, 0.007582881792433382, 0.9554450091624027, 0.16640478250738489, 0.1938615716211034, 0.007488215212832321, 0.051585482577289316, 0.5774245953006256, 0.003328095650147698, 0.039550459245522314, 0.820672029344588, 0.1384266073593281, 0.010549449261573219, 0.9072526364952967, 0.021098898523146437, 0.042197797046292874, 0.9843650257376729, 0.913699718972523, 0.08485079440162406, 0.016970158880324812, 0.899418420657215, 0.14465149301755717, 0.8196917937661573, 0.9758841786335566, 0.08404753949948679, 0.8965070879945258, 0.014007923249914466, 0.6066579708777525, 0.062022540153636035, 0.13179789782647658, 0.1395507153456811, 0.038764087596022526, 0.023258452557613513, 0.14986679864576602, 0.0071365142212269535, 0.763607021671284, 0.028546056884907814, 0.0071365142212269535, 0.04281908532736172, 0.9278031061746307, 0.0028903523556842075, 0.005780704711368415, 0.06358775182505257, 0.9278835505224848, 0.01880845034842875, 0.01880845034842875, 0.01880845034842875, 0.012538966898952498, 0.07440509614903572, 0.10262771882625617, 0.6106349270162242, 0.03078831564787685, 0.07697078911969213, 0.10775910476756898, 0.6542633984184371, 0.06600877016684528, 0.2407378676673181, 0.02329721300006304, 0.013590040916703442, 0.0019414344166719202, 0.8081744509747989, 0.18828437029878828, 0.027856773846321882, 0.09285591282107294, 0.8635599892359784, 0.009285591282107295, 0.014895136031875573, 0.10426595222312901, 0.8788130258806588, 0.2030668991997801, 0.007810265353837696, 0.09372318424605236, 0.31241061415350785, 0.37489273698420944, 0.8909133318463696, 0.047780921777753164, 0.01592697392591772, 0.06370789570367089, 0.06370789570367089, 0.8122756702218038, 0.9790358295029856, 0.019192222509759403, 0.019192222509759403, 0.019192222509759403, 0.9404189029782107, 0.9542396041146679, 0.9691302477268667, 0.9771012701422156, 0.010178138230648079, 0.9872373138650138, 0.038916641545350565, 0.9339993970884136, 0.021227259024736673, 0.015508201959041705, 0.015508201959041705, 0.9615085214605857, 0.399919121344719, 0.34580465277992206, 0.22173733460697292, 0.009239055608623871, 0.01451851595640894, 0.009239055608623871, 0.9872522481749593, 0.44038336813399215, 0.3953718084075896, 0.07785783304026381, 0.017031400977557707, 0.06447601798646846, 0.0036495859237623655, 0.5786307263209587, 0.03092903659622051, 0.06701291262514444, 0.3002693969549741, 0.0025774197163517094, 0.021908067588989527, 0.9404677326799464, 0.01424597382198208, 0.9188653115178441, 0.05698389528792832, 0.00443087327778588, 0.031016112944501163, 0.961499501279536, 0.011922155524978823, 0.07153293314987294, 0.9180059754233694, 0.9628102680050494, 0.021882051545569305, 0.13106912492281067, 0.7099577599985578, 0.08737941661520711, 0.030036674461477442, 0.03276728123070267, 0.008191820307675667, 0.3774739934966501, 0.06686682170512089, 0.16393156288997376, 0.11432069517327119, 0.16824555138707833, 0.10569271817906203, 0.8567419468867609, 0.004380071303102049, 0.13578221039616353, 0.0008760142606204098, 0.0008760142606204098, 0.0017520285212408197, 0.9399498330004131, 0.9699123737563827, 0.5098323855053221, 0.08361251122287282, 0.360961328937768, 0.034668602214361896, 0.008157318168085152, 0.004078659084042576, 0.9101965387191598, 0.033088422350804406, 0.9154463517055885, 0.022058948233869603, 0.022058948233869603, 0.3857424701188861, 0.18295214297067172, 0.3769254993733116, 0.02645091223672362, 0.024246669550329985, 0.002204242686393635, 0.03299219993544316, 0.01649609996772158, 0.9237815981924085, 0.01649609996772158, 0.9753685984488827, 0.020752523371252822, 0.9566489037999284, 0.22546956730433343, 0.5726527948349, 0.035915506296265505, 0.03791081220161359, 0.12370896613158118, 0.003990611810696167, 0.21271770592118805, 0.00312820155766453, 0.04066662024963889, 0.5849736912832671, 0.04379482180730342, 0.11261525607592308, 0.988926267213664, 0.30188098875758074, 0.13100495738536524, 0.5012363586918323, 0.05126280941166466, 0.002847933856203592, 0.008543801568610777, 0.9728587123298335, 0.02702385312027315, 0.9928365016438214, 0.02347134943873554, 0.9623253269881571, 0.9631214440632725, 0.9854423819715198, 0.9932723074745611, 0.9344425934462784, 0.07132014867754179, 0.3464121507194887, 0.02037718533644051, 0.05603725967521141, 0.5043353370769027, 0.9101821107622475, 0.16933024902988442, 0.3112015387576254, 0.041188438953215126, 0.08237687790643025, 0.26772485319589834, 0.13043005668518123, 0.9799764686005749, 0.03379222097183015, 0.9546302424542018, 0.008448055242957537, 0.9544073065525536, 0.020306538437288375, 0.23424823794026958, 0.08366008497866771, 0.050196050987200626, 0.050196050987200626, 0.5688885778549404, 0.03399221397337522, 0.03399221397337522, 0.917789777281131, 0.08579080581192146, 0.9151019286604956, 0.2979694853605816, 0.025910390031354924, 0.06477597507838731, 0.5959389707211632, 0.9654337824614764, 0.9488975555456332, 0.0012857690454547875, 0.002571538090909575, 0.003857307136364362, 0.042430378500007984, 0.9316897510206295, 0.0022342679880590632, 0.0022342679880590632, 0.0044685359761181265, 0.05809096768953565, 0.9857930115922983, 0.29443963240484017, 0.7007663251235196, 0.938373073645282, 0.04812169608437344, 0.6515195885258854, 0.0016620397666476667, 0.0033240795332953334, 0.3207736749629997, 0.0033240795332953334, 0.02160651696641967, 0.9603462220742754, 0.011082654861825152, 0.011082654861825152, 0.9752736278406133, 0.9543790984960504, 0.040901961364116446, 0.888377653401292, 0.10311526334122141, 0.9915894866375043, 0.9572086836188369, 0.4821485686843289, 0.021569804388509452, 0.41236390742738654, 0.06851584923408885, 0.0063440601142674856, 0.00888168415997448, 0.37975509307598454, 0.28432945430304485, 0.2622582181242697, 0.028562776231356102, 0.03959839432074369, 0.00584238604732284, 0.9923181584127411, 0.03849483174772496, 0.9238759619453991, 0.01924741587386248, 0.0300147401024877, 0.0400196534699836, 0.9304569431771188, 0.14946809729127125, 0.009341756080704453, 0.8407580472634008, 0.03219881648353813, 0.9659644945061439, 0.021631905674828696, 0.5912720884453176, 0.005407976418707174, 0.10815952837414347, 0.27039882093535866, 0.0018026588062357246, 0.8370537945860772, 0.023080527424248452, 0.09539951335356027, 0.018464421939398762, 0.012309614626265841, 0.01384831645454907, 0.2905932494548116, 0.07044684835268158, 0.48432208242468594, 0.10567027252902238, 0.0330219601653195, 0.013208784066127797, 0.9705547065441011, 0.025540913330107922, 0.9421685309411573, 0.011631710258532806, 0.03489513077559842, 0.9516762460258696, 0.40212847848994016, 0.3312871921238367, 0.16390729002353346, 0.05278370356690061, 0.03542064318305173, 0.013195925891725153, 0.24117833866538782, 0.5539938076274254, 0.07163713029664985, 0.0740250346398715, 0.04775808686443323, 0.014327426059329969, 0.24714185024329643, 0.3948896954974411, 0.27534825706454225, 0.025520082362079522, 0.04298119134666025, 0.013431622295831329, 0.07055679711825387, 0.07055679711825387, 0.02822271884730155, 0.2681158290493647, 0.014111359423650775, 0.5503430175223802, 0.12125354131999112, 0.7275212479199468, 0.04850141652799645, 0.009094015598999335, 0.08487747892399379, 0.009094015598999335, 0.9512727653925257, 0.28673555029313336, 0.015091344752270176, 0.6942018586044281, 0.9736702417208614, 0.9680104486141594, 0.9524807431154138, 0.9897792928218011, 0.27886572716396707, 0.07255043308330851, 0.4103633871274638, 0.1768416806405645, 0.009068804135413564, 0.05214562377862799, 0.9776722854670307, 0.9677996457308041, 0.10143246378643946, 0.8959867634468818, 0.05314263403881845, 0.07085684538509127, 0.867996355967368, 0.03879513213429117, 0.42674645347720286, 0.5237342838129307, 0.007759026426858234, 0.9556206924039602, 0.6142844180503519, 0.1840852327707895, 0.13406207169177062, 0.022010190874768312, 0.042019455306375866, 0.0020009264431607556, 0.9479802822630718, 0.015244862881015305, 0.015244862881015305, 0.9604263615039642, 0.929301364375757, 0.9849088192001921, 0.9715583412486136, 0.9757778607923492, 0.007683290242459442, 0.015366580484918884, 0.20009574589947787, 0.144513594260734, 0.05928762841466011, 0.5113557950764435, 0.04817119808691134, 0.03705476775916257, 0.3728372517661103, 0.011213150429055949, 0.05606575214527974, 0.5522476586310054, 0.008409862821791961, 0.9698782203568008, 0.029842406780209257, 0.003607525290490608, 0.23809666917238015, 0.007215050580981216, 0.05772040464784973, 0.6926448557741968, 0.9602471329367505, 0.11410580360888244, 0.041838794656590225, 0.8101512056230653, 0.011410580360888243, 0.01901763393481374, 0.2700588614289676, 0.06933943739392412, 0.5729627195182151, 0.05474166110046641, 0.02919555258691542, 0.952960097130555, 0.9685040479006416, 0.016141734131677358, 0.5177270005489691, 0.029085786547694895, 0.4508296914892709, 0.9877356007530511, 0.31532876235558965, 0.5313073667087332, 0.10510958745186322, 0.02015800307296007, 0.02447757516002294, 0.002879714724708581, 0.9454646915164316, 0.16317978294747063, 0.011253778134308319, 0.7427493568643491, 0.056268890671541595, 0.022507556268616637, 0.005626889067154159, 0.9841028659514099, 0.9881888711370095, 0.2000932360389311, 0.32639322190747627, 0.11210897622039402, 0.16319661095373814, 0.0808887549944615, 0.11778538007965447, 0.9479930328480877, 0.9476656336855279, 0.026324045380153552, 0.17438639590902194, 0.2977328710641838, 0.13610645534362686, 0.05954657421283676, 0.06805322767181343, 0.26370625722827706, 0.940356170557632, 0.9458022078553135, 0.37698355825486285, 0.00277193792834458, 0.02217550342675664, 0.5959666545940847, 0.9624375376650125, 0.9836637697187475, 0.8919507921948532, 0.10245380721157098, 0.023438393460264627, 0.9609741318708498, 0.9914920717025582, 0.982753738891762, 0.9037189441473849, 0.0056131611437725765, 0.01683948343131773, 0.06735793372527092, 0.9352276321431735, 0.055013390126069026, 0.5313126825728665, 0.06033035231504876, 0.27021914104135286, 0.12775839313775034, 0.006083733006559539, 0.004055822004373026, 0.018564892863485616, 0.9839393217647376, 0.024805297599745695, 0.9674066063900821, 0.9435669820699235, 0.0314340116124103, 0.004490573087487186, 0.013471719262461558, 0.9475109214597962, 0.02143930087066445, 0.03215895130599668, 0.9433292383092359, 0.016801572314592228, 0.9744911942463492, 0.5840941495235417, 0.22870165291203462, 0.10036547358010152, 0.029616041384292253, 0.052650740238741785, 0.004936006897382042, 0.4447172519488177, 0.006263623266884757, 0.32570840987800737, 0.009395434900327135, 0.20983137944063937, 0.3345431256582641, 0.04437816973017789, 0.5632613850368732, 0.01365482145543935, 0.04096446436631805, 0.24093017999986174, 0.534830825106076, 0.029048319574451417, 0.08031005999995391, 0.08714495872335425, 0.02563087021275125, 0.34388966441049806, 0.06877793288209962, 0.09411717131234684, 0.24977249309815122, 0.07239782408642065, 0.17375477780740956, 0.03868981633636919, 0.0829067492922197, 0.8622301926390848, 0.01658134985844394, 0.41833947865983545, 0.38869337387291797, 0.03788113389439455, 0.12187843079066073, 0.02799909896542206, 0.004941017464486245, 0.023902739765612902, 0.015935159843741935, 0.03187031968748387, 0.7728552524214838, 0.023902739765612902, 0.13544885867180645, 0.057364773166627504, 0.7557185334560058, 0.004988241144924131, 0.034917688014468914, 0.1371766314854136, 0.004988241144924131, 0.08727657285462616, 0.012468081836375166, 0.897701892219012, 0.9376325261080922, 0.636584191062678, 0.2229842929146104, 0.0377634689613453, 0.03057042725442239, 0.046754771094998954, 0.025175645974230203, 0.09480004729330768, 0.7282367269349546, 0.04309093058786713, 0.017236372235146853, 0.09910914035209441, 0.017236372235146853, 0.9452943534499622, 0.9162926018727892, 0.0387165888115263, 0.025811059207684204, 0.9628019720923028, 0.02139559937982895, 0.9639771447053371, 0.9648528031472202, 0.9073407588758734, 0.32799034638810887, 0.09839710391643267, 0.20499396649256804, 0.10864680224106107, 0.147595655874649, 0.11274668157091243, 0.022324697292764272, 0.20092227563487844, 0.6771824845471829, 0.09674035493531184, 0.9918024024542758, 0.9805696272560397, 0.7525495895062556, 0.06640143436819902, 0.1387619718207236, 0.02979551542162777, 0.0076617039655614266, 0.005959103084325554, 0.9302224237233542, 0.9624111671749132, 0.0028691442658936553, 0.057382885317873104, 0.19510181008076855, 0.7316317878028821, 0.0028691442658936553, 0.011476577063574621, 0.9425923793672246, 0.9704515000322573, 0.07651379148974628, 0.05465270820696163, 0.05465270820696163, 0.15302758297949257, 0.6558324984835395, 0.9607099767636019, 0.0027813687678059835, 0.6091197601495103, 0.005562737535611967, 0.019469581374641883, 0.3643593085825838, 0.0027813687678059835, 0.06542840793629318, 0.039257044761775904, 0.8898263479335872, 0.27724643703754603, 0.0826875338533032, 0.552408314398118, 0.029878688703294434, 0.013202211287502192, 0.04447060644211265, 0.947144495021095, 0.08113427793368677, 0.29918264988046994, 0.025354461854277116, 0.1115596321588193, 0.4817347752312652, 0.9474477873945694, 0.06597438478363063, 0.9236413869708288, 0.9643248175345728, 0.31509055606041875, 0.20080900723021503, 0.41304616934345045, 0.031019277539626713, 0.03754965175849549, 0.003265187109434391, 0.20861371286170277, 0.21624592186883826, 0.14755604080461904, 0.15773231948079966, 0.26712731524974137, 0.005088139338090312, 0.12608314894818778, 0.8265450875492311, 0.0420277163160626, 0.9740080725013035, 0.9839822946585713, 0.9455762623028402, 0.12217259425446662, 0.8552081597812664, 0.9579535215462304, 0.9796245892158987, 0.008086068366130078, 0.008086068366130078, 0.9784142723017395, 0.7539287067363525, 0.039304340161610794, 0.20366794447380138, 0.031499889447659635, 0.8315970814182143, 0.031499889447659635, 0.10079964623251082, 0.005335140818253139, 0.8909685166482744, 0.01600542245475942, 0.08536225309205023, 0.2081866662473311, 0.008497414948870657, 0.029740952321047297, 0.7520212229750531, 0.2684781173422281, 0.5705159993522347, 0.15437491747178117, 0.0033559764667778513, 0.0033559764667778513, 0.0878359999965932, 0.006273999999756657, 0.7842499999695821, 0.07528799999707989, 0.01882199999926997, 0.02509599999902663, 0.25396967991805264, 0.20512935685688868, 0.03174620998975658, 0.22222346992829609, 0.1684991145610157, 0.11965879149985173, 0.01044521181771741, 0.0034817372725724697, 0.2541668208977903, 0.6510848699710519, 0.0696347454514494, 0.013926949090289879, 0.013124887087139785, 0.4388634119762366, 0.00492183265767742, 0.0738274898651613, 0.4683944079223011, 0.0016406108858924731, 0.004373469010518368, 0.1224571322945143, 0.004373469010518368, 0.03498775208414694, 0.8397060500195266, 0.9870488290668751, 0.023236482183615015, 0.06970944655084504, 0.9062228051609855, 0.9693715329034055, 0.027047907059569342, 0.020285930294677006, 0.0067619767648923355, 0.9399147703200347, 0.3723668045443381, 0.14605766902385678, 0.3803919511940006, 0.030495557268717347, 0.06741123185716466, 0.003210058659864984, 0.9667799939317845, 0.7026261112051725, 0.06567757300506903, 0.06072077504242231, 0.11524555263153623, 0.021066391341248557, 0.03345838624786536, 0.9290150909315343, 0.9846650166879859, 0.9924626961780543, 0.007568626176291965, 0.09839214029179554, 0.022705878528875893, 0.862823384097284, 0.023832161925718187, 0.11916080962859092, 0.005958040481429547, 0.023832161925718187, 0.8222095864372774, 0.005958040481429547, 0.05432596993934695, 0.9002589304234637, 0.023282558545434408, 0.01552170569695627, 0.11746167658310504, 0.4827192188346782, 0.012872512502258087, 0.02413596094173391, 0.3556031578748796, 0.006436256251129043, 0.30031203008402363, 0.13276952908977888, 0.36827738426093426, 0.14225306688190592, 0.04267592006457178, 0.01580589632021177, 0.9101830555871104, 0.8962406126966507, 0.09335839715590111, 0.005418707358393728, 0.7802938596086968, 0.0379309515087561, 0.1733986354685993, 0.339573426007565, 0.1535462448034207, 0.4384926414097687, 0.02066968680046048, 0.016240468200361804, 0.029528124000657824, 0.1639754819102487, 0.12832863801671637, 0.0998111629018905, 0.613125714968756, 0.42844583522729107, 0.35431591065717327, 0.17967083412757368, 0.015077272793922266, 0.021359469791389876, 0.0012564393994935223, 0.5551556389998301, 0.22174771982712763, 0.19186682141070618, 0.014154109776199636, 0.013367770344188545, 0.0023590182960332726, 0.977894323421163, 0.3703470983683495, 0.24917013366704907, 0.21963324852110708, 0.051500209998052694, 0.09164007955535847, 0.01817654470519507, 0.09391445013026502, 0.7513156010421201, 0.1115234095296897, 0.041087571931990946, 0.9607224208406665, 0.9620844068762244, 0.9590771845658072, 0.9698138899156791, 0.01865026711376306, 0.03499110089990542, 0.4023976603489123, 0.5598576143984867, 0.006158780222359506, 0.14473133522544837, 0.6805452145707254, 0.16628706600370666, 0.0017097968873598008, 0.05129390662079403, 0.9215805222869327, 0.023937156423037214, 0.0035223426617977715, 0.09158090920674206, 0.8841080081112406, 0.021134055970786627, 0.9783920639532228, 0.9304000871994973, 0.9480048990023204, 0.03926908919411363, 0.019634544597056814, 0.009817272298528407, 0.9228235960616702, 0.1225788630292867, 0.1253647462799523, 0.01671529950399364, 0.43738367035450026, 0.13929416253328034, 0.1587953452879396, 0.9624368784787001, 0.9790627374122527, 0.32279636110332066, 0.5783859088538995, 0.02749369637157621, 0.02545712626997797, 0.04073140203196476, 0.005091425253995595, 0.05478984283382788, 0.8688103649364135, 0.007827120404832555, 0.007827120404832555, 0.06261696323866044, 0.11872880470896233, 0.023745760941792465, 0.7954829915500475, 0.023745760941792465, 0.035618641412688695, 0.9722121483109367, 0.9596572053725293, 0.9570244733753538, 0.1294782717835006, 0.8586453813011093, 0.22661842282105552, 0.29491438586301744, 0.42840194999048853, 0.049669791303245045, 0.952280995943898, 0.022673357046283288, 0.022673357046283288, 0.9885332793539242, 0.015368023532129816, 0.015368023532129816, 0.9681854825241784, 0.9632276781308152, 0.01965770771695541, 0.4297392394182884, 0.307755965729243, 0.2148696197091442, 0.026858702463643025, 0.014548463834473306, 0.0044764504106071705, 0.4608604458132629, 0.004562974711022405, 0.10722990570902652, 0.3650379768817924, 0.020533386199600823, 0.04334825975471285, 0.945343334986685, 0.01370062804328529, 0.02740125608657058, 0.4781398724946353, 0.24486947647973237, 0.15980955307098324, 0.05928418904246152, 0.05026268201426085, 0.007732720309886285, 0.8489675237384265, 0.002210852926402152, 0.1348620285105313, 0.008843411705608609, 0.004421705852804304, 0.046319540131002375, 0.9263908026200475, 0.015439846710334125, 0.06007841392169877, 0.8925935782652389, 0.017165261120485362, 0.034330522240970725, 0.004055301449028783, 0.9651617448688503, 0.024331808694172695, 0.004055301449028783, 0.9876559701547439, 0.15772893715335265, 0.698513864536276, 0.12956305551882538, 0.002816588163452726, 0.008449764490358178, 0.17864290236677038, 0.5185606471479862, 0.15259081243828304, 0.08063742120722274, 0.034736119904649795, 0.034736119904649795, 0.3710270838393431, 0.1257369561899996, 0.0783279399216391, 0.3194955444172121, 0.08451172465229481, 0.020612615768852392, 0.9403554646301744, 0.2783631131452828, 0.22133733649399223, 0.199106948985862, 0.13531540222340135, 0.1188842462391312, 0.045427313603570454, 0.10780202028018523, 0.012682590621198263, 0.13316720152258177, 0.32340606084055573, 0.05707165779539219, 0.37413642332534874, 0.9862748756829507, 0.9415735345083409], \"Term\": [\"-gayane\", \"-tommy\", \"-zinaida\", \"0/0\", \"1983\", \"1983\", \"1983\", \"1983\", \"1983\", \"1983\", \"1993\", \"1993\", \"1993\", \"1993\", \"1993\", \"1993\", \"2.5\", \"2.5\", \"2.5\", \"205\", \"2178\", \"355\", \"517\", \"action\", \"action\", \"action\", \"action\", \"action\", \"action\", \"adam\", \"adam\", \"adl\", \"adl\", \"agdam\", \"ahmet\", \"aiu\", \"amendment\", \"amendment\", \"amendment\", \"amp\", \"amplifier\", \"analog\", \"analog\", \"anania\", \"anatolia\", \"anatolia\", \"angeles\", \"angeles\", \"angeles\", \"angeles\", \"angeles\", \"ankara\", \"ankara\", \"ankara\", \"apartment\", \"apartment\", \"arab\", \"arab\", \"arab\", \"arab\", \"arabs\", \"arabs\", \"arabs\", \"arabs\", \"argic\", \"argic\", \"argic\", \"argument\", \"argument\", \"argument\", \"argument\", \"argument\", \"argument\", \"armenia\", \"armenia\", \"armenia\", \"armenian\", \"armenian\", \"armenian\", \"armenian\", \"armenian\", \"armenians\", \"armenians\", \"armenians\", \"armenians\", \"army\", \"army\", \"army\", \"army\", \"army\", \"asala\", \"asala\", \"asala\", \"asteroid\", \"asteroid\", \"asteroid\", \"astronomical\", \"astronomical\", \"astronomy\", \"astronomy\", \"astronomy\", \"astronomy\", \"atf\", \"atmosphere\", \"atmosphere\", \"atmosphere\", \"atmosphere\", \"atom\", \"audio\", \"audio\", \"audio\", \"aunt\", \"available\", \"available\", \"available\", \"available\", \"available\", \"available\", \"azerbaijan\", \"azerbaijan\", \"azerbaijan\", \"azerbaijani\", \"azerbaijani\", \"azerbaijanis\", \"azeri\", \"azeri\", \"azeri\", \"babiali\", \"baku\", \"baku\", \"balcony\", \"bandit\", \"batf\", \"batf\", \"bds\", \"beat\", \"beat\", \"beat\", \"beat\", \"beat\", \"bedouin\", \"beep\", \"believe\", \"believe\", \"believe\", \"believe\", \"believe\", \"believe\", \"berlin\", \"birinci\", \"board\", \"board\", \"board\", \"board\", \"board\", \"book\", \"book\", \"book\", \"book\", \"book\", \"book\", \"breaker\", \"british\", \"british\", \"british\", \"british\", \"british\", \"british\", \"bubblejet\", \"build\", \"build\", \"build\", \"build\", \"build\", \"build\", \"bullock\", \"bullock\", \"cable\", \"cable\", \"cable\", \"cable\", \"capacitor\", \"case\", \"case\", \"case\", \"case\", \"case\", \"case\", \"cassette\", \"cassini\", \"cec\", \"charon\", \"cheap\", \"cheap\", \"cheap\", \"cheap\", \"cheap\", \"cheap\", \"child\", \"child\", \"child\", \"child\", \"child\", \"child\", \"chip\", \"chip\", \"chip\", \"circuit\", \"circuit\", \"citizen\", \"citizen\", \"citizen\", \"citizen\", \"citizen\", \"claim\", \"claim\", \"claim\", \"claim\", \"claim\", \"claim\", \"clinton\", \"clinton\", \"clinton\", \"clinton\", \"clinton\", \"cloud\", \"cloud\", \"cloud\", \"cloud\", \"cloud\", \"cloud\", \"co.\", \"co.\", \"co.\", \"co.\", \"co.\", \"come\", \"come\", \"come\", \"come\", \"come\", \"come\", \"comet\", \"comet\", \"comet\", \"comet\", \"commercial\", \"commercial\", \"commercial\", \"commercial\", \"commercial\", \"company\", \"company\", \"company\", \"company\", \"company\", \"company\", \"compound\", \"compound\", \"compound\", \"compound\", \"conductor\", \"conductor\", \"congress/102nd\", \"connector\", \"cost\", \"cost\", \"cost\", \"cost\", \"cost\", \"cost\", \"country\", \"country\", \"country\", \"country\", \"country\", \"country\", \"courtyard\", \"cpu\", \"crime\", \"crime\", \"crime\", \"crime\", \"cruelty\", \"cruelty\", \"cry\", \"cry\", \"cry\", \"cry\", \"cult\", \"current\", \"current\", \"current\", \"current\", \"current\", \"current\", \"dahiliye\", \"datum\", \"datum\", \"datum\", \"datum\", \"datum\", \"daughter\", \"daughter\", \"davidians\", \"day\", \"day\", \"day\", \"day\", \"day\", \"day\", \"dead\", \"dead\", \"dead\", \"dead\", \"dead\", \"defamation\", \"defamation\", \"defterleri\", \"degree\", \"degree\", \"degree\", \"degree\", \"degree\", \"design\", \"design\", \"design\", \"design\", \"design\", \"design\", \"device\", \"device\", \"device\", \"device\", \"devleti\", \"dialing\", \"dictionary\", \"digital\", \"digital\", \"diode\", \"djul\", \"door\", \"door\", \"door\", \"door\", \"dryden\", \"dwarf\", \"earth\", \"earth\", \"earth\", \"earth\", \"earth\", \"earth\", \"een\", \"email\", \"email\", \"email\", \"email\", \"email\", \"email\", \"empire\", \"empire\", \"empire\", \"engine\", \"engine\", \"engine\", \"engine\", \"entryway\", \"ephemeris\", \"ermeni\", \"ermeni\", \"ermeni\", \"ermeniler\", \"ermeniler\", \"erzincan\", \"erzurum\", \"erzurum\", \"erzurum\", \"fact\", \"fact\", \"fact\", \"fact\", \"fact\", \"fact\", \"father\", \"father\", \"father\", \"father\", \"father\", \"father\", \"fbi\", \"fbi\", \"fbi\", \"fbi\", \"federal\", \"federal\", \"federal\", \"federal\", \"federal\", \"file\", \"file\", \"file\", \"file\", \"file\", \"file\", \"fire\", \"fire\", \"fire\", \"fire\", \"fire\", \"fire\", \"firearm\", \"firearm\", \"floor\", \"floor\", \"floor\", \"floor\", \"flyby\", \"flyby\", \"flyby\", \"foreign\", \"foreign\", \"foreign\", \"foreign\", \"foreign\", \"fpu\", \"francisco\", \"francisco\", \"francisco\", \"francisco\", \"francisco\", \"fuck\", \"galileo\", \"galileo\", \"galileo\", \"galileo\", \"gao\", \"gaya\", \"gaza\", \"gaza\", \"gazans\", \"genocide\", \"genocide\", \"genocide\", \"gerard\", \"gerard\", \"gerard\", \"get\", \"get\", \"get\", \"get\", \"get\", \"get\", \"gfci\", \"good\", \"good\", \"good\", \"good\", \"good\", \"good\", \"government\", \"government\", \"government\", \"government\", \"government\", \"government\", \"gravitational\", \"greece\", \"greece\", \"greece\", \"greek\", \"greek\", \"greek\", \"greeks\", \"greeks\", \"greeks\", \"grenade\", \"grenade\", \"ground\", \"ground\", \"ground\", \"ground\", \"ground\", \"ground\", \"group\", \"group\", \"group\", \"group\", \"group\", \"group\", \"gun\", \"gun\", \"gun\", \"gun\", \"gun\", \"gun\", \"gunduz\", \"gurvitz\", \"happen\", \"happen\", \"happen\", \"happen\", \"happen\", \"happen\", \"harbi\", \"hardware\", \"hardware\", \"hardware\", \"hardware\", \"hear\", \"hear\", \"hear\", \"hear\", \"hear\", \"hear\", \"helicopter\", \"helicopter\", \"helicopter\", \"helicopter\", \"henrik\", \"henrik\", \"het\", \"high\", \"high\", \"high\", \"high\", \"high\", \"high\", \"history\", \"history\", \"history\", \"history\", \"history\", \"history\", \"hojali\", \"home\", \"home\", \"home\", \"home\", \"home\", \"home\", \"homicide\", \"homicide\", \"hst\", \"husband\", \"husband\", \"ibid\", \"ics.uci.edu\", \"igor\", \"iki\", \"image\", \"image\", \"image\", \"image\", \"image\", \"imparatorlugu'nun\", \"information\", \"information\", \"information\", \"information\", \"information\", \"information\", \"infringe\", \"input\", \"input\", \"input\", \"instal\", \"instal\", \"intelligence\", \"intelligence\", \"intelligence\", \"intelligence\", \"intelligence\", \"interstellar\", \"interstellar\", \"interstellar\", \"ira\", \"ira\", \"iran\", \"iran\", \"iran\", \"iran\", \"iraqis\", \"israel\", \"israel\", \"israel\", \"israel\", \"israel\", \"israeli\", \"israeli\", \"israeli\", \"israeli\", \"israeli\", \"israelis\", \"istanbul\", \"istanbul\", \"jew\", \"jew\", \"jews\", \"jews\", \"jews\", \"jews\", \"jews\", \"jews\", \"judaism\", \"jupiter\", \"jupiter\", \"jupiter\", \"karabagh\", \"karabagh\", \"karabakh\", \"karabakh\", \"karina\", \"kelbajar\", \"kill\", \"kill\", \"kill\", \"kill\", \"kill\", \"kill\", \"know\", \"know\", \"know\", \"know\", \"know\", \"know\", \"koresh\", \"kurdish\", \"kurdish\", \"kurdish\", \"kurds\", \"kurds\", \"kurds\", \"kuwait\", \"kuwait\", \"kuwait\", \"larson\", \"larson\", \"launch\", \"launch\", \"launch\", \"launch\", \"launch\", \"launch\", \"law\", \"law\", \"law\", \"law\", \"law\", \"law\", \"leave\", \"leave\", \"leave\", \"leave\", \"leave\", \"leave\", \"lebanese\", \"lebanese\", \"lebanon\", \"lebanon\", \"lebanon\", \"libertarian\", \"like\", \"like\", \"like\", \"like\", \"like\", \"like\", \"line\", \"line\", \"line\", \"line\", \"line\", \"line\", \"look\", \"look\", \"look\", \"look\", \"look\", \"look\", \"los\", \"los\", \"los\", \"los\", \"los\", \"los\", \"low\", \"low\", \"low\", \"low\", \"low\", \"low\", \"luna\", \"lunar\", \"lunar\", \"lunar\", \"lyuda\", \"macedonia\", \"macedonian\", \"mamma\", \"man\", \"man\", \"man\", \"man\", \"man\", \"man\", \"manual\", \"marina\", \"mariner\", \"mariner\", \"mars\", \"mars\", \"mars\", \"massacre\", \"massacre\", \"massacre\", \"massacre\", \"mcwilliams\", \"mean\", \"mean\", \"mean\", \"mean\", \"mean\", \"mean\", \"mecmuasi\", \"mercury\", \"mercury\", \"mercury\", \"mezalimi\", \"mhz\", \"microdistrict\", \"militia\", \"militia\", \"militia\", \"million\", \"million\", \"million\", \"million\", \"million\", \"million\", \"mission\", \"mission\", \"mission\", \"mission\", \"mission\", \"module\", \"module\", \"moon\", \"moon\", \"moon\", \"moon\", \"moon\", \"muharrerat\", \"muslim\", \"muslim\", \"muslim\", \"muslim\", \"muslim\", \"muslims\", \"muslims\", \"muslims\", \"muslims\", \"muslims\", \"mutlu\", \"nagorno\", \"nagorno\", \"nasa\", \"nasa\", \"nasa\", \"nec\", \"need\", \"need\", \"need\", \"need\", \"need\", \"need\", \"negev\", \"neighbor\", \"neighbor\", \"neighbor\", \"neighbor\", \"neighbor\", \"neighbor\", \"nejm\", \"neptune\", \"new\", \"new\", \"new\", \"new\", \"new\", \"new\", \"nezareti\", \"o'clock\", \"o'clock\", \"office\", \"office\", \"office\", \"office\", \"office\", \"office\", \"onur\", \"orbeli\", \"orbit\", \"orbit\", \"orbit\", \"orbit\", \"ordnance\", \"osmanli\", \"ottoman\", \"ottoman\", \"outlet\", \"outlet\", \"output\", \"palestinean\", \"palestinian\", \"palestinian\", \"palestinian\", \"palestinian\", \"palestinians\", \"palestinians\", \"people\", \"people\", \"people\", \"people\", \"people\", \"people\", \"physicist\", \"physicist\", \"pin\", \"pin\", \"pkk\", \"planet\", \"planet\", \"planet\", \"planet\", \"planetary\", \"planetary\", \"planetary\", \"pluto\", \"pluto\", \"point\", \"point\", \"point\", \"point\", \"point\", \"point\", \"police\", \"police\", \"police\", \"police\", \"police\", \"population\", \"population\", \"population\", \"population\", \"population\", \"power\", \"power\", \"power\", \"power\", \"power\", \"power\", \"press\", \"press\", \"press\", \"press\", \"press\", \"press\", \"probe\", \"probe\", \"probe\", \"probe\", \"problem\", \"problem\", \"problem\", \"problem\", \"problem\", \"problem\", \"professor\", \"professor\", \"professor\", \"professor\", \"professor\", \"professor\", \"program\", \"program\", \"program\", \"program\", \"program\", \"program\", \"propulsion\", \"propulsion\", \"propulsion\", \"pts\", \"question\", \"question\", \"question\", \"question\", \"question\", \"question\", \"radio\", \"radio\", \"radio\", \"radio\", \"radio\", \"radio\", \"rasulov\", \"receiver\", \"receiver\", \"receiver\", \"redesign\", \"redesign\", \"relativity\", \"reno\", \"reparation\", \"report\", \"report\", \"report\", \"report\", \"report\", \"report\", \"republic\", \"republic\", \"republic\", \"republic\", \"resistor\", \"revolver\", \"right\", \"right\", \"right\", \"right\", \"right\", \"right\", \"rotation\", \"rra\", \"russian\", \"russian\", \"russian\", \"russian\", \"russian\", \"russian\", \"sadikov\", \"salonica\", \"san\", \"san\", \"san\", \"san\", \"san\", \"sarajevo\", \"satellite\", \"satellite\", \"satellite\", \"satellite\", \"satellite\", \"satellite\", \"saturn\", \"saturn\", \"saturn\", \"say\", \"say\", \"say\", \"say\", \"say\", \"say\", \"sci.space.shuttle\", \"science\", \"science\", \"science\", \"science\", \"science\", \"sdio\", \"sdpa\", \"sdpa\", \"seds\", \"see\", \"see\", \"see\", \"see\", \"see\", \"see\", \"send\", \"send\", \"send\", \"send\", \"send\", \"send\", \"serdar\", \"serdar\", \"serdar\", \"servicing\", \"shack\", \"shagen\", \"sheikh\", \"sheikh\", \"shirak\", \"shostack\", \"shout\", \"shout\", \"shout\", \"shuttle\", \"shuttle\", \"shuttle\", \"signal\", \"signal\", \"signal\", \"signal\", \"software\", \"software\", \"software\", \"software\", \"solar\", \"solar\", \"solar\", \"solar\", \"soldier\", \"soldier\", \"soldier\", \"soldier\", \"soldier\", \"son\", \"son\", \"son\", \"son\", \"son\", \"son\", \"source\", \"source\", \"source\", \"source\", \"source\", \"source\", \"soviet\", \"soviet\", \"soviet\", \"soviet\", \"soviet\", \"soviet\", \"space\", \"space\", \"space\", \"space\", \"space\", \"space\", \"spacecraft\", \"spacecraft\", \"spacecraft\", \"spacecraft\", \"spacecraft\", \"spec\", \"spy\", \"spy\", \"spy\", \"ssf\", \"star\", \"star\", \"star\", \"star\", \"start\", \"start\", \"start\", \"start\", \"start\", \"start\", \"stat\", \"state\", \"state\", \"state\", \"state\", \"state\", \"state\", \"stepper\", \"suicide\", \"sumgait\", \"sun\", \"sun\", \"sun\", \"sun\", \"surface\", \"surface\", \"surface\", \"surface\", \"surface\", \"surface\", \"switch\", \"switch\", \"switch\", \"switch\", \"system\", \"system\", \"system\", \"system\", \"system\", \"system\", \"take\", \"take\", \"take\", \"take\", \"take\", \"take\", \"tarihi\", \"tartar\", \"tartar\", \"technology\", \"technology\", \"technology\", \"technology\", \"tell\", \"tell\", \"tell\", \"tell\", \"tell\", \"tell\", \"theory\", \"theory\", \"theory\", \"theory\", \"thing\", \"thing\", \"thing\", \"thing\", \"thing\", \"thing\", \"think\", \"think\", \"think\", \"think\", \"think\", \"think\", \"thrace\", \"time\", \"time\", \"time\", \"time\", \"time\", \"time\", \"town\", \"town\", \"town\", \"town\", \"transformer\", \"transistor\", \"ttl\", \"turan\", \"turan\", \"turk\", \"turk\", \"turk\", \"turkey\", \"turkey\", \"turkey\", \"turkey\", \"turkish\", \"turkish\", \"turkish\", \"turkish\", \"turks\", \"turks\", \"turks\", \"turks\", \"tyukhik\", \"uae\", \"umumiye\", \"universe\", \"universe\", \"universe\", \"universe\", \"university\", \"university\", \"university\", \"university\", \"university\", \"university\", \"upgrade\", \"uranus\", \"use\", \"use\", \"use\", \"use\", \"use\", \"use\", \"user\", \"user\", \"user\", \"user\", \"user\", \"van\", \"van\", \"van\", \"van\", \"van\", \"vancouver\", \"vega\", \"venera\", \"venus\", \"venus\", \"village\", \"village\", \"village\", \"village\", \"violent\", \"violent\", \"violent\", \"voltage\", \"voyager\", \"voyager\", \"voyager\", \"waco\", \"waco\", \"want\", \"want\", \"want\", \"want\", \"want\", \"want\", \"war\", \"war\", \"war\", \"war\", \"war\", \"war\", \"warrant\", \"warrant\", \"warrant\", \"way\", \"way\", \"way\", \"way\", \"way\", \"way\", \"weapon\", \"weapon\", \"weapon\", \"weapon\", \"weapon\", \"weaver\", \"weaver\", \"weaver\", \"wife\", \"wife\", \"wife\", \"wife\", \"wire\", \"wire\", \"wire\", \"wire\", \"wiring\", \"woman\", \"woman\", \"woman\", \"woman\", \"woman\", \"work\", \"work\", \"work\", \"work\", \"work\", \"work\", \"world\", \"world\", \"world\", \"world\", \"world\", \"world\", \"yalcin\", \"year\", \"year\", \"year\", \"year\", \"year\", \"year\", \"york\", \"york\", \"york\", \"york\", \"york\", \"york\", \"zionism\", \"|_|\"]}, \"R\": 30, \"lambda.step\": 0.01, \"plot.opts\": {\"xlab\": \"PC1\", \"ylab\": \"PC2\"}, \"topic.order\": [5, 2, 1, 6, 4, 3]};\n",
              "\n",
              "function LDAvis_load_lib(url, callback){\n",
              "  var s = document.createElement('script');\n",
              "  s.src = url;\n",
              "  s.async = true;\n",
              "  s.onreadystatechange = s.onload = callback;\n",
              "  s.onerror = function(){console.warn(\"failed to load library \" + url);};\n",
              "  document.getElementsByTagName(\"head\")[0].appendChild(s);\n",
              "}\n",
              "\n",
              "if(typeof(LDAvis) !== \"undefined\"){\n",
              "   // already loaded: just create the visualization\n",
              "   !function(LDAvis){\n",
              "       new LDAvis(\"#\" + \"ldavis_el10561403402473049124205715808\", ldavis_el10561403402473049124205715808_data);\n",
              "   }(LDAvis);\n",
              "}else if(typeof define === \"function\" && define.amd){\n",
              "   // require.js is available: use it to load d3/LDAvis\n",
              "   require.config({paths: {d3: \"https://cdnjs.cloudflare.com/ajax/libs/d3/3.5.5/d3.min\"}});\n",
              "   require([\"d3\"], function(d3){\n",
              "      window.d3 = d3;\n",
              "      LDAvis_load_lib(\"https://cdn.rawgit.com/bmabey/pyLDAvis/files/ldavis.v1.0.0.js\", function(){\n",
              "        new LDAvis(\"#\" + \"ldavis_el10561403402473049124205715808\", ldavis_el10561403402473049124205715808_data);\n",
              "      });\n",
              "    });\n",
              "}else{\n",
              "    // require.js not available: dynamically load d3 & LDAvis\n",
              "    LDAvis_load_lib(\"https://cdnjs.cloudflare.com/ajax/libs/d3/3.5.5/d3.min.js\", function(){\n",
              "         LDAvis_load_lib(\"https://cdn.rawgit.com/bmabey/pyLDAvis/files/ldavis.v1.0.0.js\", function(){\n",
              "                 new LDAvis(\"#\" + \"ldavis_el10561403402473049124205715808\", ldavis_el10561403402473049124205715808_data);\n",
              "            })\n",
              "         });\n",
              "}\n",
              "</script>"
            ]
          },
          "metadata": {},
          "execution_count": 34
        }
      ]
    },
    {
      "cell_type": "code",
      "source": [
        "pyLDAvis.enable_notebook()\n",
        "vis = pyLDAvis.gensim.prepare(lda_multicore_3_topics, corpus, id2word)\n",
        "vis"
      ],
      "metadata": {
        "colab": {
          "base_uri": "https://localhost:8080/",
          "height": 881
        },
        "id": "aH6yGarOh1sZ",
        "outputId": "5723e8ae-ae15-4f5c-e5c1-e3042c33b853"
      },
      "execution_count": null,
      "outputs": [
        {
          "output_type": "execute_result",
          "data": {
            "text/plain": [
              "PreparedData(topic_coordinates=              x         y  topics  cluster       Freq\n",
              "topic                                                \n",
              "1     -0.137923  0.042890       1        1  39.543164\n",
              "0      0.003503 -0.089223       2        1  33.103632\n",
              "2      0.134420  0.046333       3        1  27.353204, topic_info=          Term         Freq        Total Category  logprob  loglift\n",
              "616        gun  1096.000000  1096.000000  Default  30.0000  30.0000\n",
              "605     israel   728.000000   728.000000  Default  29.0000  29.0000\n",
              "199      space  1215.000000  1215.000000  Default  28.0000  28.0000\n",
              "446       jews   582.000000   582.000000  Default  27.0000  27.0000\n",
              "824   armenian   986.000000   986.000000  Default  26.0000  26.0000\n",
              "...        ...          ...          ...      ...      ...      ...\n",
              "1482    attack   209.869728   379.331395   Topic3  -6.2097   0.7044\n",
              "211       year   237.723346  1039.598564   Topic3  -6.0851  -0.1791\n",
              "1362       new   221.128539   716.921299   Topic3  -6.1574   0.1201\n",
              "35        like   228.021427  1416.810499   Topic3  -6.1267  -0.5304\n",
              "988       time   226.428748  1310.247165   Topic3  -6.1337  -0.4592\n",
              "\n",
              "[257 rows x 6 columns], token_table=       Topic      Freq     Term\n",
              "term                           \n",
              "7574       3  0.976762     1923\n",
              "12417      1  0.006804      adl\n",
              "12417      2  0.006804      adl\n",
              "12417      3  0.986508      adl\n",
              "4755       2  0.980957    agdam\n",
              "...      ...       ...      ...\n",
              "211        1  0.375145     year\n",
              "211        2  0.395345     year\n",
              "211        3  0.228935     year\n",
              "2551       2  0.016898  zionist\n",
              "2551       3  0.980106  zionist\n",
              "\n",
              "[491 rows x 3 columns], R=30, lambda_step=0.01, plot_opts={'xlab': 'PC1', 'ylab': 'PC2'}, topic_order=[2, 1, 3])"
            ],
            "text/html": [
              "\n",
              "<link rel=\"stylesheet\" type=\"text/css\" href=\"https://cdn.rawgit.com/bmabey/pyLDAvis/files/ldavis.v1.0.0.css\">\n",
              "\n",
              "\n",
              "<div id=\"ldavis_el10561403402520891682589167502\"></div>\n",
              "<script type=\"text/javascript\">\n",
              "\n",
              "var ldavis_el10561403402520891682589167502_data = {\"mdsDat\": {\"x\": [-0.13792280143060912, 0.0035025031237893526, 0.13442029830681976], \"y\": [0.042890494135462635, -0.08922339477067508, 0.046332900635212476], \"topics\": [1, 2, 3], \"cluster\": [1, 1, 1], \"Freq\": [39.54316386670544, 33.103632438320204, 27.353203694974347]}, \"tinfo\": {\"Term\": [\"gun\", \"israel\", \"space\", \"jews\", \"armenian\", \"turkish\", \"israeli\", \"jewish\", \"arab\", \"weapon\", \"firearm\", \"village\", \"launch\", \"nasa\", \"armenians\", \"genocide\", \"turkey\", \"greek\", \"satellite\", \"government\", \"turks\", \"arabs\", \"muslim\", \"people\", \"law\", \"istanbul\", \"shuttle\", \"fbi\", \"war\", \"russian\", \"voltage\", \"shuttle\", \"amp\", \"mamma\", \"software\", \"hst\", \"balcony\", \"audio\", \"disk\", \"igor\", \"wiring\", \"karina\", \"module\", \"nasa\", \"output\", \"circuit\", \"capacitor\", \"laser\", \"gamma\", \"resistor\", \"digital\", \"propulsion\", \"astronaut\", \"input\", \"volt\", \"conductor\", \"ray\", \"redesign\", \"ames\", \"marina\", \"technology\", \"sumgait\", \"expensive\", \"space\", \"chip\", \"satellite\", \"wire\", \"data\", \"apartment\", \"payload\", \"electronic\", \"antenna\", \"detector\", \"frequency\", \"launch\", \"signal\", \"program\", \"cost\", \"mission\", \"orbit\", \"project\", \"cheap\", \"system\", \"datum\", \"lunar\", \"design\", \"build\", \"low\", \"current\", \"spacecraft\", \"work\", \"use\", \"know\", \"look\", \"ground\", \"high\", \"need\", \"email\", \"like\", \"power\", \"time\", \"come\", \"say\", \"get\", \"thing\", \"good\", \"think\", \"want\", \"find\", \"run\", \"year\", \"start\", \"tell\", \"people\", \"way\", \"firearm\", \"handgun\", \"homicide\", \"nra\", \"hojali\", \"batf\", \"koresh\", \"rkba\", \"vancouver\", \"agdam\", \"hci\", \"amendment\", \"henrik\", \"cult\", \"gun\", \"senate\", \"brady\", \"waco\", \"serbs\", \"ban\", \"shooting\", \"reno\", \"nejm\", \"congress/102nd\", \"stat\", \"strict\", \"venera\", \"atf\", \"legislation\", \"fid\", \"assault\", \"revolver\", \"cop\", \"weapon\", \"clinton\", \"militia\", \"bill\", \"federal\", \"compound\", \"fbi\", \"suicide\", \"azeris\", \"auto\", \"shoot\", \"crime\", \"criminal\", \"law\", \"fire\", \"file\", \"right\", \"people\", \"death\", \"believe\", \"think\", \"government\", \"say\", \"control\", \"kill\", \"child\", \"state\", \"time\", \"year\", \"like\", \"know\", \"point\", \"thing\", \"want\", \"good\", \"come\", \"way\", \"get\", \"use\", \"arab\", \"israel\", \"istanbul\", \"kuwait\", \"arabs\", \"israeli\", \"palestinians\", \"ottoman\", \"palestinian\", \"adl\", \"ankara\", \"jews\", \"lebanese\", \"bullock\", \"osmanli\", \"lebanon\", \"jerusalem\", \"gaza\", \"ics.uci.edu\", \"turan\", \"palestine\", \"jewish\", \"greece\", \"syria\", \"parliament\", \"zionist\", \"yassin\", \"1923\", \"plo\", \"saudi\", \"greek\", \"gerard\", \"israelis\", \"greeks\", \"jew\", \"turkish\", \"occupy\", \"territory\", \"terrorist\", \"village\", \"genocide\", \"muslim\", \"tartar\", \"armenian\", \"turkey\", \"turks\", \"russian\", \"army\", \"argic\", \"armenians\", \"war\", \"population\", \"history\", \"peace\", \"soldier\", \"armenia\", \"government\", \"people\", \"state\", \"email\", \"university\", \"kill\", \"right\", \"country\", \"say\", \"attack\", \"year\", \"new\", \"like\", \"time\"], \"Freq\": [1096.0, 728.0, 1215.0, 582.0, 986.0, 599.0, 422.0, 374.0, 335.0, 434.0, 335.0, 327.0, 549.0, 342.0, 801.0, 288.0, 341.0, 232.0, 355.0, 758.0, 292.0, 193.0, 266.0, 1944.0, 623.0, 190.0, 275.0, 331.0, 434.0, 358.0, 129.7215442448847, 273.5567476846217, 110.84247558351315, 104.10782641870543, 181.95308416314728, 86.649103642514, 77.45096519982903, 80.80920876995724, 80.32986136435916, 62.97679816495985, 94.86053540449653, 66.86347141893651, 65.17291379693312, 338.7690828280228, 144.299956204416, 226.79031647771083, 51.40139832438508, 60.814568284163194, 55.279069646018826, 55.19493738424881, 65.02056630652065, 80.35275939821531, 70.5055811942734, 113.75180873548676, 57.29798911538269, 70.65587699976439, 81.41200873721263, 45.64329846225307, 47.48532490874967, 42.475887949801326, 178.80816310489925, 120.0300788218261, 78.04641951999933, 1145.7675653511544, 164.7064889131858, 340.56574375310754, 234.64126675965403, 109.57630042052796, 169.21914134136819, 88.30236628957402, 140.2618536659125, 85.2487913402932, 111.38206432453632, 98.15496146890823, 499.91149189283243, 150.0603581712565, 356.1939769663224, 298.34479193312296, 316.50147419562666, 317.0837485270079, 208.28142976812734, 145.16545970821446, 505.1975460631555, 262.15090839981787, 178.67001924907174, 268.8450071324513, 255.9727447216609, 274.42467630635736, 244.95223558909333, 201.87266900611738, 548.9220007109199, 628.2046592460349, 862.3380571043514, 483.39362700967604, 280.6995986755443, 352.2264488744546, 435.0013475323864, 642.2184668458214, 699.8881931516693, 374.70159839698215, 608.5560725458859, 494.9544805359573, 631.761850353604, 416.6051409402899, 418.559364238018, 422.09462384424216, 525.9691732480409, 423.05655214602126, 382.55894536681757, 301.96725034517544, 390.42901541916405, 333.1962321016503, 340.42596557867023, 407.2579631843785, 331.05636426849907, 333.3344204656632, 163.5974717408618, 104.21967553277791, 75.19674291113866, 55.29570176653159, 188.23702870054603, 146.15413609622047, 48.749351513679684, 46.89537802161887, 49.173014322872284, 40.33834351586134, 141.5497343197676, 101.25943500208392, 61.62033078481708, 1076.7849736894248, 55.81601568832552, 34.48378484658365, 94.52318456669293, 93.19322494769044, 103.4863422498684, 41.92527688719287, 39.233841861529264, 27.43908499495068, 25.06257246129976, 30.30691317430796, 25.591792379104344, 29.570144747779228, 110.49545489629834, 34.74164129106324, 21.556817147913627, 145.58963975440753, 52.88921815648552, 57.632960244670734, 410.99049817936213, 107.65117069111501, 117.14526770284665, 246.25154366094415, 143.16242759035936, 118.5219290923812, 298.722707781277, 80.10927045004499, 78.19525550232693, 83.94856938193647, 214.94683711859577, 265.7408861528825, 223.43227445412535, 465.39678830134704, 372.4392715809253, 303.8920766686898, 664.2971648150836, 1007.0885430202441, 213.79889597680474, 283.7259446818526, 581.5253564736537, 376.26747801479155, 576.5244346716377, 287.08803081408473, 380.81875643531714, 299.6900206859937, 364.08288383780626, 475.26234423733416, 411.4462027136197, 488.9008795016347, 467.8701505533332, 283.8562006202022, 315.6843730308987, 332.90955131053147, 299.7421583690196, 312.652649147546, 286.9305585344265, 272.7903304748247, 263.9512866637846, 334.5602502094067, 724.9276587624064, 189.81222474568105, 121.60479526000934, 191.92986009759025, 419.09625832002087, 135.99722755921292, 171.84975864534974, 167.0048890343384, 145.4669067785054, 106.75714520782337, 575.9062778581583, 72.78887865481357, 100.67471007187405, 56.07510689411943, 79.20605346347908, 70.33094226183768, 89.36604132802597, 49.25197954685947, 54.94710944268355, 104.33845444920722, 368.0534968913074, 143.64805366197737, 50.51041083960866, 42.38317300414796, 58.14001561166736, 42.553089521750714, 43.22604244315283, 39.62228183002848, 39.95800917745172, 225.65533493461209, 74.09452383755912, 98.75288350988794, 84.52678170935071, 74.90129908426952, 550.7101065153445, 103.7059171768178, 153.55853362252833, 96.16941822014392, 289.76511175164785, 256.6213985900755, 231.92479007509127, 105.10518176579583, 728.1630987627747, 278.68703618140586, 241.80384678496236, 273.80137104649447, 183.1155349559197, 134.14665944809155, 466.6209042082076, 293.6873169243215, 216.63590166577663, 232.82392050440913, 156.4950090475695, 209.00691988853313, 217.9759543963169, 334.068880523147, 530.6295188232481, 331.2240856229134, 380.93010075210583, 220.36735494302732, 279.9491203510716, 292.85246740393796, 214.7576786628577, 272.08793473069977, 209.86972820062414, 237.72334622723912, 221.12853912526003, 228.0214266968291, 226.42874804921772], \"Total\": [1096.0, 728.0, 1215.0, 582.0, 986.0, 599.0, 422.0, 374.0, 335.0, 434.0, 335.0, 327.0, 549.0, 342.0, 801.0, 288.0, 341.0, 232.0, 355.0, 758.0, 292.0, 193.0, 266.0, 1944.0, 623.0, 190.0, 275.0, 331.0, 434.0, 358.0, 130.54589221029798, 275.4147491434119, 111.63710042626398, 105.0023563897301, 183.64913544197933, 87.46898350909265, 78.20694464132345, 81.62690006292416, 81.19691034822303, 63.65711005256185, 95.92797995253912, 67.61835837911886, 65.92521042031031, 342.8220510655719, 146.02882639867389, 229.6891198989114, 52.05847961088441, 61.60851864700279, 56.0030271348099, 55.92754557733425, 65.89200065872741, 81.42993038537924, 71.48403765568766, 115.37428488752481, 58.122161978653125, 71.68975585757312, 82.65811801291227, 46.34911337934541, 48.229069701934236, 43.17467010469986, 182.52582466722413, 122.08714451853643, 79.33640223813077, 1215.0010591433468, 169.06168271755402, 355.21206556391934, 243.22597715279448, 112.01741907523119, 174.63042767324458, 89.99323508947997, 144.56508189481661, 86.82934632811414, 114.41888300885803, 100.47092684075149, 549.7377816720591, 157.5041402940127, 395.5146005717048, 333.3032698368162, 356.04254703767555, 360.25102163610796, 228.2993744201227, 154.31692925930756, 612.5423374456061, 298.55184347442946, 198.1413046070439, 317.69185711694024, 300.6619636371372, 326.4031035422725, 285.8856427420289, 229.478933089667, 803.0577895352105, 956.5030928684513, 1524.8730818520694, 744.6165227892546, 361.5644671490943, 490.9053061533213, 678.7254640246176, 1195.4293468314004, 1416.8104993501331, 574.869473034047, 1310.2471648324379, 966.9865500235562, 1480.3742197559416, 746.5296147931238, 780.3292924849378, 798.6124933955806, 1239.572202115448, 878.1040971864153, 782.1736820374475, 426.6480960080049, 1039.598564360023, 626.1119077871355, 686.6171231349456, 1944.9760250278705, 760.1483102618483, 335.10549313424826, 164.58503839623376, 104.96320335528941, 75.99180062992971, 55.973532299801214, 190.60689555457483, 148.18677245478793, 49.44308224746014, 47.58535156018474, 49.95121254596668, 40.99202231067378, 143.8602963408187, 102.92402865459117, 62.70831896920274, 1096.1265732065037, 56.835346875933425, 35.12383312055923, 96.51221004898537, 95.23653850351485, 105.80672918323121, 42.92712929150236, 40.19231319358442, 28.124050788662768, 25.71193922773722, 31.102359359583353, 26.263740155929874, 30.386946061709335, 113.59500930981687, 35.72161613426664, 22.187977892795885, 151.6802193402823, 54.60027326077185, 59.6089692039158, 434.45702986285903, 112.2938866244673, 123.02364252456351, 262.95420033409823, 152.25291152817994, 125.9519608574724, 331.6049117068817, 84.23559072124733, 82.36562563811867, 89.38315356726675, 251.00307973955074, 323.7139658575083, 267.7455199702378, 623.4720570275126, 506.8384867862217, 418.1696075508134, 1130.8591430208594, 1944.9760250278705, 292.77106783296335, 454.6856446149626, 1239.572202115448, 758.7501565435912, 1480.3742197559416, 507.1668841085768, 787.4607738341223, 544.4568886111267, 783.7325950054487, 1310.2471648324379, 1039.598564360023, 1416.8104993501331, 1524.8730818520694, 588.0244189152043, 780.3292924849378, 878.1040971864153, 798.6124933955806, 966.9865500235562, 760.1483102618483, 746.5296147931238, 956.5030928684513, 335.99626914396475, 728.811884113217, 190.8915453866751, 122.39505170171351, 193.26980667086116, 422.37679750639984, 137.2140328598995, 173.48905119938675, 168.66596873714096, 146.98308311054004, 107.88819284521405, 582.0197314039966, 73.58773808917434, 101.84663028616062, 56.764028663534866, 80.23733752287855, 71.30578180628744, 90.62056183044963, 49.981318298524705, 55.78758360390667, 105.95924294839183, 374.05907402302336, 146.10007522274526, 51.37427560747622, 43.12413553191929, 59.17727835666496, 43.317414236807416, 44.0230074817444, 40.3803341298965, 40.733506115101626, 232.02962417110717, 75.74436163237048, 101.58976567834338, 86.87321567213961, 76.84679092773312, 599.1252186558461, 107.54730202153854, 162.49652765060617, 100.88559987017348, 327.20098223875755, 288.82473224130285, 266.2987392711009, 111.79750315537616, 986.732037424505, 341.65884766047793, 292.69501909560586, 358.7775951893109, 226.68435154300346, 152.37105141526686, 801.9475146900058, 434.67144983206856, 291.91214944996784, 328.2800839908469, 193.27637794725305, 304.1210938453482, 333.45593797761546, 758.7501565435912, 1944.9760250278705, 783.7325950054487, 1195.4293468314004, 371.0618690837557, 787.4607738341223, 1130.8591430208594, 394.08715338129, 1480.3742197559416, 379.331395033337, 1039.598564360023, 716.9212988568502, 1416.8104993501331, 1310.2471648324379], \"Category\": [\"Default\", \"Default\", \"Default\", \"Default\", \"Default\", \"Default\", \"Default\", \"Default\", \"Default\", \"Default\", \"Default\", \"Default\", \"Default\", \"Default\", \"Default\", \"Default\", \"Default\", \"Default\", \"Default\", \"Default\", \"Default\", \"Default\", \"Default\", \"Default\", \"Default\", \"Default\", \"Default\", \"Default\", \"Default\", \"Default\", \"Topic1\", \"Topic1\", \"Topic1\", \"Topic1\", \"Topic1\", \"Topic1\", \"Topic1\", \"Topic1\", \"Topic1\", \"Topic1\", \"Topic1\", \"Topic1\", \"Topic1\", \"Topic1\", \"Topic1\", \"Topic1\", \"Topic1\", \"Topic1\", \"Topic1\", \"Topic1\", \"Topic1\", \"Topic1\", \"Topic1\", \"Topic1\", \"Topic1\", \"Topic1\", \"Topic1\", \"Topic1\", \"Topic1\", \"Topic1\", \"Topic1\", \"Topic1\", \"Topic1\", \"Topic1\", \"Topic1\", \"Topic1\", \"Topic1\", \"Topic1\", \"Topic1\", \"Topic1\", \"Topic1\", \"Topic1\", \"Topic1\", \"Topic1\", \"Topic1\", \"Topic1\", \"Topic1\", \"Topic1\", \"Topic1\", \"Topic1\", \"Topic1\", \"Topic1\", \"Topic1\", \"Topic1\", \"Topic1\", \"Topic1\", \"Topic1\", \"Topic1\", \"Topic1\", \"Topic1\", \"Topic1\", \"Topic1\", \"Topic1\", \"Topic1\", \"Topic1\", \"Topic1\", \"Topic1\", \"Topic1\", \"Topic1\", \"Topic1\", \"Topic1\", \"Topic1\", \"Topic1\", \"Topic1\", \"Topic1\", \"Topic1\", \"Topic1\", \"Topic1\", \"Topic1\", \"Topic1\", \"Topic1\", \"Topic1\", \"Topic1\", \"Topic1\", \"Topic1\", \"Topic2\", \"Topic2\", \"Topic2\", \"Topic2\", \"Topic2\", \"Topic2\", \"Topic2\", \"Topic2\", \"Topic2\", \"Topic2\", \"Topic2\", \"Topic2\", \"Topic2\", \"Topic2\", \"Topic2\", \"Topic2\", \"Topic2\", \"Topic2\", \"Topic2\", \"Topic2\", \"Topic2\", \"Topic2\", \"Topic2\", \"Topic2\", \"Topic2\", \"Topic2\", \"Topic2\", \"Topic2\", \"Topic2\", \"Topic2\", \"Topic2\", \"Topic2\", \"Topic2\", \"Topic2\", \"Topic2\", \"Topic2\", \"Topic2\", \"Topic2\", \"Topic2\", \"Topic2\", \"Topic2\", \"Topic2\", \"Topic2\", \"Topic2\", \"Topic2\", \"Topic2\", \"Topic2\", \"Topic2\", \"Topic2\", \"Topic2\", \"Topic2\", \"Topic2\", \"Topic2\", \"Topic2\", \"Topic2\", \"Topic2\", \"Topic2\", \"Topic2\", \"Topic2\", \"Topic2\", \"Topic2\", \"Topic2\", \"Topic2\", \"Topic2\", \"Topic2\", \"Topic2\", \"Topic2\", \"Topic2\", \"Topic2\", \"Topic2\", \"Topic2\", \"Topic2\", \"Topic3\", \"Topic3\", \"Topic3\", \"Topic3\", \"Topic3\", \"Topic3\", \"Topic3\", \"Topic3\", \"Topic3\", \"Topic3\", \"Topic3\", \"Topic3\", \"Topic3\", \"Topic3\", \"Topic3\", \"Topic3\", \"Topic3\", \"Topic3\", \"Topic3\", \"Topic3\", \"Topic3\", \"Topic3\", \"Topic3\", \"Topic3\", \"Topic3\", \"Topic3\", \"Topic3\", \"Topic3\", \"Topic3\", \"Topic3\", \"Topic3\", \"Topic3\", \"Topic3\", \"Topic3\", \"Topic3\", \"Topic3\", \"Topic3\", \"Topic3\", \"Topic3\", \"Topic3\", \"Topic3\", \"Topic3\", \"Topic3\", \"Topic3\", \"Topic3\", \"Topic3\", \"Topic3\", \"Topic3\", \"Topic3\", \"Topic3\", \"Topic3\", \"Topic3\", \"Topic3\", \"Topic3\", \"Topic3\", \"Topic3\", \"Topic3\", \"Topic3\", \"Topic3\", \"Topic3\", \"Topic3\", \"Topic3\", \"Topic3\", \"Topic3\", \"Topic3\", \"Topic3\", \"Topic3\", \"Topic3\", \"Topic3\", \"Topic3\"], \"logprob\": [30.0, 29.0, 28.0, 27.0, 26.0, 25.0, 24.0, 23.0, 22.0, 21.0, 20.0, 19.0, 18.0, 17.0, 16.0, 15.0, 14.0, 13.0, 12.0, 11.0, 10.0, 9.0, 8.0, 7.0, 6.0, 5.0, 4.0, 3.0, 2.0, 1.0, -7.059299945831299, -6.313199996948242, -7.216599941253662, -7.279300212860107, -6.7210001945495605, -7.462900161743164, -7.575099945068359, -7.532599925994873, -7.538599967956543, -7.7820000648498535, -7.372300148010254, -7.722099781036377, -7.747700214385986, -6.099400043487549, -6.9527997970581055, -6.500699996948242, -7.985099792480469, -7.81689977645874, -7.912300109863281, -7.913899898529053, -7.75, -7.538300037384033, -7.669000148773193, -7.190700054168701, -7.876500129699707, -7.666900157928467, -7.525199890136719, -8.103899955749512, -8.064299583435059, -8.175800323486328, -6.738399982452393, -7.13700008392334, -7.567399978637695, -4.880899906158447, -6.8206000328063965, -6.094099998474121, -6.466700077056885, -7.228099822998047, -6.793499946594238, -7.443999767303467, -6.981200218200684, -7.4791998863220215, -7.2118000984191895, -7.338200092315674, -5.710299968719482, -6.913700103759766, -6.049300193786621, -6.226500034332275, -6.167399883270264, -6.165599822998047, -6.5858001708984375, -6.946899890899658, -5.69980001449585, -6.355800151824951, -6.739200115203857, -6.330599784851074, -6.379700183868408, -6.310100078582764, -6.423699855804443, -6.617099761962891, -5.616799831390381, -5.481900215148926, -5.16510009765625, -5.743899822235107, -6.287399768829346, -6.060500144958496, -5.849400043487549, -5.459799766540527, -5.373799800872803, -5.998600006103516, -5.513599872589111, -5.720300197601318, -5.476200103759766, -5.892600059509277, -5.887899875640869, -5.879499912261963, -5.6595001220703125, -5.877200126647949, -5.977799892425537, -6.214399814605713, -5.957499980926514, -6.116000175476074, -6.0945000648498535, -5.915299892425537, -6.122399806976318, -5.93779993057251, -6.649600028991699, -7.100500106811523, -7.4268999099731445, -7.734300136566162, -6.509300231933594, -6.76230001449585, -7.860300064086914, -7.899099826812744, -7.851600170135498, -8.049699783325195, -6.794300079345703, -7.129300117492676, -7.625999927520752, -4.765200138092041, -7.724899768829346, -8.206500053405762, -7.1981000900268555, -7.212299823760986, -7.107500076293945, -8.011099815368652, -8.077400207519531, -8.4350004196167, -8.52560043334961, -8.335599899291992, -8.50469970703125, -8.360199928283691, -7.041999816894531, -8.199000358581543, -8.676300048828125, -6.766200065612793, -7.778800010681152, -7.69290018081665, -5.728400230407715, -7.0680999755859375, -6.98360013961792, -6.240600109100342, -6.7829999923706055, -6.97189998626709, -6.047500133514404, -7.36359977722168, -7.387800216674805, -7.316800117492676, -6.3765997886657715, -6.1645002365112305, -6.337900161743164, -5.604100227355957, -5.826900005340576, -6.030300140380859, -5.248199939727783, -4.832200050354004, -6.381899833679199, -6.098999977111816, -5.38129997253418, -5.816699981689453, -5.389999866485596, -6.087200164794922, -5.804699897766113, -6.0441999435424805, -5.849599838256836, -5.583099842071533, -5.72730016708374, -5.554800033569336, -5.598800182342529, -6.098499774932861, -5.992199897766113, -5.9390997886657715, -6.044099807739258, -6.0019001960754395, -6.087699890136719, -6.138299942016602, -6.171199798583984, -5.7434000968933105, -4.970099925994873, -6.310100078582764, -6.75540018081665, -6.298999786376953, -5.518099784851074, -6.643499851226807, -6.4095001220703125, -6.4380998611450195, -6.576200008392334, -6.8856000900268555, -5.200200080871582, -7.268599987030029, -6.944300174713135, -7.5295000076293945, -7.184100151062012, -7.302999973297119, -7.063399791717529, -7.659200191497803, -7.549799919128418, -6.9085001945495605, -5.647900104522705, -6.588799953460693, -7.633999824523926, -7.8094000816345215, -7.493299961090088, -7.8053998947143555, -7.789700031280518, -7.876800060272217, -7.868299961090088, -6.137199878692627, -7.250800132751465, -6.963500022888184, -7.119100093841553, -7.239999771118164, -5.244999885559082, -6.914599895477295, -6.52209997177124, -6.990099906921387, -5.8871002197265625, -6.008600234985352, -6.109799861907959, -6.901199817657471, -4.96560001373291, -5.92609977722168, -6.067999839782715, -5.94379997253418, -6.346099853515625, -6.657199859619141, -5.410699844360352, -5.873700141906738, -6.177999973297119, -6.105899810791016, -6.5030999183654785, -6.213799953460693, -6.171800136566162, -5.744800090789795, -5.282100200653076, -5.753399848937988, -5.61359977722168, -6.160900115966797, -5.921599864959717, -5.876500129699707, -6.186699867248535, -5.949999809265137, -6.209700107574463, -6.085100173950195, -6.157400131225586, -6.126699924468994, -6.133699893951416], \"loglift\": [30.0, 29.0, 28.0, 27.0, 26.0, 25.0, 24.0, 23.0, 22.0, 21.0, 20.0, 19.0, 18.0, 17.0, 16.0, 15.0, 14.0, 13.0, 12.0, 11.0, 10.0, 9.0, 8.0, 7.0, 6.0, 5.0, 4.0, 3.0, 2.0, 1.0, 0.9214, 0.921, 0.9206, 0.9192, 0.9185, 0.9184, 0.9181, 0.9177, 0.917, 0.917, 0.9166, 0.9166, 0.9163, 0.9159, 0.9159, 0.9151, 0.9151, 0.9148, 0.9148, 0.9146, 0.9145, 0.9145, 0.914, 0.9136, 0.9135, 0.9133, 0.9126, 0.9124, 0.9122, 0.9115, 0.9072, 0.9108, 0.9114, 0.8691, 0.9017, 0.8857, 0.8918, 0.9057, 0.8963, 0.9088, 0.8976, 0.9094, 0.9009, 0.9045, 0.8328, 0.8794, 0.8231, 0.817, 0.8101, 0.8001, 0.836, 0.8666, 0.7351, 0.7978, 0.8243, 0.7608, 0.7669, 0.7543, 0.7732, 0.7996, 0.5473, 0.5074, 0.3578, 0.4957, 0.6746, 0.5958, 0.4829, 0.3064, 0.2225, 0.4998, 0.1609, 0.2581, 0.0762, 0.3445, 0.3049, 0.2901, 0.0705, 0.1975, 0.2126, 0.5821, -0.0516, 0.297, 0.2262, -0.6358, 0.0966, 1.1002, 1.0995, 1.0984, 1.095, 1.0933, 1.093, 1.0917, 1.0914, 1.0909, 1.0898, 1.0895, 1.0893, 1.0892, 1.088, 1.0877, 1.0874, 1.0871, 1.0847, 1.0838, 1.0834, 1.0819, 1.0814, 1.0809, 1.0799, 1.0796, 1.0796, 1.0783, 1.0779, 1.0777, 1.0767, 1.0645, 1.0737, 1.0718, 1.05, 1.0633, 1.0566, 1.0399, 1.044, 1.0447, 1.0011, 1.0553, 1.0536, 1.0428, 0.9505, 0.9082, 0.9246, 0.8131, 0.7974, 0.7863, 0.5735, 0.4473, 0.7912, 0.6339, 0.3487, 0.4042, 0.1625, 0.5365, 0.379, 0.5085, 0.3388, 0.0914, 0.1786, 0.0415, -0.0759, 0.3772, 0.2006, 0.1356, 0.1256, -0.0236, 0.1313, 0.0988, -0.182, 1.2921, 1.291, 1.2907, 1.2899, 1.2894, 1.2885, 1.2874, 1.2868, 1.2864, 1.286, 1.2858, 1.2858, 1.2854, 1.2848, 1.2841, 1.2834, 1.2826, 1.2824, 1.2816, 1.2812, 1.2809, 1.2802, 1.2794, 1.2794, 1.279, 1.2787, 1.2785, 1.2781, 1.2774, 1.2771, 1.2685, 1.2743, 1.268, 1.269, 1.2707, 1.2121, 1.26, 1.2398, 1.2485, 1.1748, 1.1781, 1.1581, 1.2346, 0.9925, 1.0926, 1.1053, 1.026, 1.0829, 1.169, 0.7548, 0.9043, 0.9981, 0.9528, 1.0852, 0.9213, 0.8712, 0.476, -0.0026, 0.4351, 0.1527, 0.7753, 0.2621, -0.0547, 0.6893, -0.3976, 0.7044, -0.1791, 0.1201, -0.5304, -0.4592]}, \"token.table\": {\"Topic\": [3, 1, 2, 3, 2, 1, 2, 3, 1, 1, 2, 3, 1, 2, 1, 2, 3, 1, 2, 3, 1, 2, 3, 2, 3, 1, 2, 3, 1, 2, 3, 1, 2, 3, 1, 2, 3, 1, 2, 3, 1, 2, 1, 2, 1, 2, 3, 1, 1, 2, 3, 2, 3, 1, 1, 2, 3, 1, 2, 1, 2, 3, 1, 2, 3, 2, 1, 2, 3, 2, 3, 1, 1, 2, 3, 1, 2, 3, 1, 2, 3, 1, 2, 3, 1, 2, 3, 1, 2, 3, 1, 2, 3, 1, 3, 2, 1, 2, 3, 1, 2, 3, 1, 2, 3, 1, 2, 3, 1, 2, 3, 1, 2, 3, 1, 2, 1, 2, 3, 1, 2, 3, 1, 2, 3, 1, 2, 3, 1, 2, 3, 1, 2, 1, 1, 2, 1, 2, 3, 1, 2, 3, 1, 2, 3, 1, 2, 3, 1, 2, 3, 2, 1, 2, 3, 1, 2, 3, 1, 2, 3, 1, 2, 3, 1, 2, 1, 2, 3, 1, 2, 3, 1, 2, 3, 1, 2, 3, 1, 2, 3, 1, 2, 3, 2, 3, 1, 2, 3, 2, 3, 1, 2, 3, 1, 2, 3, 2, 2, 2, 3, 1, 2, 3, 1, 2, 3, 2, 2, 1, 3, 1, 1, 2, 3, 1, 2, 3, 1, 2, 3, 1, 2, 3, 2, 3, 2, 3, 1, 2, 3, 1, 2, 3, 1, 2, 3, 1, 1, 2, 3, 1, 2, 3, 1, 2, 3, 1, 1, 2, 3, 1, 2, 3, 3, 1, 3, 1, 2, 1, 2, 3, 1, 2, 3, 1, 2, 3, 1, 2, 3, 1, 2, 1, 1, 2, 3, 1, 2, 3, 1, 1, 2, 3, 1, 2, 3, 1, 2, 3, 2, 1, 2, 3, 2, 1, 2, 3, 1, 2, 3, 3, 1, 2, 3, 1, 2, 3, 1, 2, 3, 1, 2, 3, 1, 2, 3, 3, 1, 2, 1, 2, 3, 1, 2, 3, 3, 1, 2, 3, 1, 2, 3, 1, 2, 3, 1, 2, 3, 1, 2, 3, 1, 2, 1, 3, 1, 1, 2, 1, 1, 2, 3, 1, 2, 3, 2, 1, 2, 3, 1, 2, 3, 1, 2, 3, 3, 1, 2, 3, 2, 3, 1, 2, 3, 1, 2, 3, 2, 3, 1, 2, 3, 1, 2, 3, 1, 2, 3, 1, 2, 3, 1, 2, 3, 1, 2, 3, 1, 2, 3, 2, 1, 2, 3, 2, 1, 2, 3, 1, 2, 3, 1, 2, 3, 2, 3, 1, 2, 3, 1, 2, 3, 1, 2, 3, 1, 2, 3, 1, 2, 3, 1, 2, 3, 1, 2, 3, 2, 3, 1, 2, 3, 1, 2, 3, 1, 2, 3, 1, 2, 3, 1, 2, 3, 2, 1, 2, 1, 2, 3, 1, 1, 1, 2, 1, 2, 3, 1, 2, 3, 1, 2, 3, 1, 2, 3, 1, 2, 3, 1, 3, 1, 2, 3, 3, 1, 2, 3, 2, 3], \"Freq\": [0.9767619810580042, 0.0068035040416722, 0.0068035040416722, 0.986508086042469, 0.9809571680549026, 0.013902376478231422, 0.9870687299544311, 0.006951188239115711, 0.9745159981411596, 0.9942931120225146, 0.009268854854531565, 0.9917674694348776, 0.9789317044815548, 0.011516843582135937, 0.9677580376555006, 0.017179136763115395, 0.01145275784207693, 0.002976223523397305, 0.002976223523397305, 0.9970348803380972, 0.005174113935463297, 0.005174113935463297, 0.993429875608953, 0.11813267568091668, 0.8794321411801574, 0.026990072675221518, 0.3178830781748312, 0.6537595381331434, 0.044591640213533096, 0.21789096922521853, 0.7377889562602749, 0.12469643981458707, 0.2930366335642796, 0.5823323739341216, 0.02205710260088892, 0.1676339797667558, 0.8072899551925345, 0.0065928174705271285, 0.9625513506969609, 0.032964087352635646, 0.9932287308948735, 0.013989137054857373, 0.026409610934736198, 0.9683524009403273, 0.03690704271595983, 0.40861368721241237, 0.5536056407393974, 0.9923199329823759, 0.05593895270474171, 0.9397744054396607, 0.011187790540948343, 0.9469969953570259, 0.048563948479847484, 0.9845672958218891, 0.01890238943627576, 0.9734730559682018, 0.00945119471813788, 0.010492799823327258, 0.9863231833927623, 0.23752674244082783, 0.6246073597518066, 0.13855726642381624, 0.03802943625655887, 0.9355241319113482, 0.026620605379591208, 0.968003688074084, 0.8514545601417052, 0.046563921257749497, 0.1031058256421596, 0.009818685185658857, 0.9916872037515446, 0.9796674889701714, 0.9396247106261959, 0.012960340836223392, 0.04536119292678187, 0.1983628130328203, 0.5510078139800564, 0.2516269017175591, 0.9759751432006049, 0.0059150008678824535, 0.01774500260364736, 0.9882923496764021, 0.008707421583052, 0.004353710791526, 0.026715612845716045, 0.9617620624457777, 0.008905204281905348, 0.5118995708760805, 0.3236859912812388, 0.16442834700868042, 0.05557674491404878, 0.9448046635388292, 0.007939534987721254, 0.9903785994341582, 0.013948994358227579, 0.9723109477884422, 0.3292801743030363, 0.5658886827842601, 0.1045020912458738, 0.016775998869886656, 0.9730079344534261, 0.016775998869886656, 0.8940806375704009, 0.09300838847208868, 0.012001082383495315, 0.060900234362065965, 0.39585152335342877, 0.5455645994935077, 0.0030891469181783086, 0.8217130802354301, 0.17608137433616358, 0.007469779513854488, 0.8328804157947753, 0.15686536979094423, 0.015946847506646114, 0.9887045454120591, 0.8569860229779976, 0.09794125976891402, 0.045472727749852934, 0.9819901307146143, 0.017854366012992985, 0.008927183006496493, 0.8775695267895404, 0.08708705227682462, 0.03684452211711811, 0.04098765663158506, 0.7309465432632669, 0.22884774952634993, 0.846732435767099, 0.12276046466511845, 0.02832933799964272, 0.9701195911116057, 0.026219448408421775, 0.9864626866719782, 0.9852591638882572, 0.012315739548603216, 0.9684219603034009, 0.020751899149358592, 0.013834599432905728, 0.5370455407521008, 0.14388135982766562, 0.318713942408957, 0.9831552452540069, 0.012604554426333422, 0.012604554426333422, 0.021109458131873416, 0.9016754259185931, 0.07539092189954792, 0.039408113380409684, 0.9392267022330976, 0.019704056690204842, 0.9915279394226854, 0.148265198810428, 0.7269777490059696, 0.12674283124117233, 0.4896610673505931, 0.30300175708117644, 0.20839361351996522, 0.17954437631012557, 0.733961626234799, 0.08483965034434506, 0.002984134908225408, 0.9937169244390608, 0.002984134908225408, 0.9754065487554627, 0.01990625609705026, 0.982089769319158, 0.01103502317576658, 0.9821170626432256, 0.0034623073731945343, 0.10733152856903057, 0.8898129949109953, 0.013202302830850382, 0.013202302830850382, 0.9769704094829283, 0.5585846719765537, 0.3656921233803337, 0.07635330048600374, 0.5284164766891127, 0.3756515237126394, 0.09641722441957744, 0.06326193093476132, 0.49555179232229696, 0.4401976027543808, 0.013689246887455637, 0.9856257758968059, 0.00430979450823298, 0.02585876704939788, 0.9740135588606534, 0.023022055584404982, 0.9784373623372117, 0.7771781398090957, 0.15488247626088741, 0.06914396261646759, 0.008210730603558184, 0.982550762225796, 0.009123034003953538, 0.9964453731521739, 0.9757996250305643, 0.9813063219566722, 0.009715904177788833, 0.7170425652112672, 0.2138905379181337, 0.06925979323063376, 0.05483122759436688, 0.23760198624225648, 0.7097597794159712, 0.9826072741919011, 0.9908234188315589, 0.9946382878789954, 0.9803662982103921, 0.9896773502281321, 0.9880884645234026, 0.008667442671257918, 0.008667442671257918, 0.0013720961770769579, 0.004116288531230874, 0.9947697283807945, 0.0023675542925268, 0.0047351085850536, 0.9920052485687293, 0.009843511236813268, 0.019687022473626536, 0.9745076124445136, 0.005238576690101035, 0.9953295711191967, 0.014024108209298454, 0.9816875746508917, 0.013012905131463486, 0.013012905131463486, 0.9759678848597614, 0.0053467490535382654, 0.010693498107076531, 0.9838018258510408, 0.0017181548082359965, 0.008590774041179982, 0.989657169543934, 0.9908551701942854, 0.16127787468274885, 0.48383362404824654, 0.3555732670170841, 0.5652929481534543, 0.30691078855663184, 0.12787949523192993, 0.01349648127743793, 0.9852431332529689, 0.9967723229311893, 0.990122816448657, 0.9095245345503109, 0.07640006090222612, 0.012733343483704354, 0.09302742496034681, 0.7458233208027805, 0.16039211200059797, 0.9920130975018948, 0.012463025704396835, 0.98457903064735, 0.027994254130084863, 0.9797988945529702, 0.4940674849043525, 0.3451414287403262, 0.16092483794027482, 0.6486560332971569, 0.2739665233801657, 0.07654946976798747, 0.8394528024593805, 0.13786633617033622, 0.021445874515385634, 0.9033956870072842, 0.09589116230803575, 0.005046903279370303, 0.990453962899559, 0.009523595797111144, 0.9727926096053253, 0.016257037744599946, 0.9510367080590968, 0.03251407548919989, 0.8903430296111656, 0.08987689888819338, 0.0196605716317923, 0.9859657570387479, 0.007510362255091017, 0.12392097720900178, 0.8712020215905579, 0.9888512099682851, 0.008750895663436151, 0.002916965221145384, 0.6409071459034317, 0.26962300620765056, 0.0898743354025502, 0.9600324008404973, 0.4156662669600817, 0.2747860892320003, 0.30826256710798006, 0.9869485836404949, 0.009298234183501224, 0.027894702550503674, 0.9670163550841273, 0.8799419875627831, 0.11936121597854786, 0.0027758422320592526, 0.9865402671106451, 0.005764052504101393, 0.005764052504101393, 0.9914170307054396, 0.9861066718900077, 0.006847962999236164, 0.006847962999236164, 0.009437591022493967, 0.009437591022493967, 0.9815094663393726, 0.005928878288177144, 0.005928878288177144, 0.9901226741255831, 0.007287884330468125, 0.007287884330468125, 0.991152268943665, 0.973932566576616, 0.9778512786266867, 0.01111194634803053, 0.005173938018814226, 0.18626176867731215, 0.8071343309350192, 0.20925707811445537, 0.5177441711578785, 0.2730110773434295, 0.9905812039921951, 0.35882863570403384, 0.48297313999974223, 0.1581566972534367, 0.04453394634137395, 0.21239266716655267, 0.7433743350829344, 0.652321992366066, 0.17743158192356995, 0.17047348067166523, 0.9000931937415518, 0.06573714336314705, 0.032868571681573526, 0.9110844062902808, 0.026281280950681177, 0.06132298888492275, 0.9824397444697315, 0.012280496805871644, 0.9799400463889917, 0.012098025264061627, 0.9924677441726213, 0.024880379369645787, 0.9703347954161857, 0.9834152282607919, 0.018314926652912206, 0.9706911126043469, 0.018314926652912206, 0.15386531653729615, 0.5871641964411761, 0.2590950445139527, 0.9910385391177164, 0.7078433088667382, 0.2086028294342374, 0.08437867258014098, 0.17838349121613925, 0.05853208305529569, 0.7637043217690961, 0.9599899132329391, 0.03659785592970149, 0.002815219686900115, 0.9819925612828677, 0.4269190800311243, 0.389766311990441, 0.18373732558301553, 0.985302335221831, 0.017594684557532696, 0.010500171632792947, 0.9765159618497442, 0.021000343265585895, 0.019920074308204378, 0.8565631952527883, 0.12350446071086715, 0.978402252682527, 0.023295291730536356, 0.9948632048653459, 0.0036308876089976125, 0.0036308876089976125, 0.9523559172476055, 0.04444327613822159, 0.00634903944831737, 0.9910201840155118, 0.005445165846239075, 0.005445165846239075, 0.1742726863495749, 0.14139104741569286, 0.6872262537181351, 0.9432090543262597, 0.05349789575148942, 0.003292178200091657, 0.8802550947936914, 0.11765785920509736, 0.00435769848907768, 0.5318538041816205, 0.34019477564770323, 0.12617552711816224, 0.9645570502598, 0.11228319526430848, 0.46444412586600325, 0.4223379276418876, 0.9899580122875101, 0.011871466578885912, 0.949717326310873, 0.03561439973665774, 0.9829044693708965, 0.016381741156181608, 0.9927147273017363, 0.8244328091767928, 0.09631987275530847, 0.07999447059339178, 0.0536684615546485, 0.9391980772063487, 0.9806831462142285, 0.01643603038347869, 0.005478676794492897, 0.4951813587864418, 0.33206279353914336, 0.17185705981411806, 0.006153977653911238, 0.049231821231289906, 0.9477125587023307, 0.009912217415437572, 0.03964886966175029, 0.9515728718820069, 0.5369528018943204, 0.40495724438807934, 0.058949472284340665, 0.4243399449441759, 0.4695168212119969, 0.10648835120272093, 0.46479780025159034, 0.3625270199006657, 0.17248653999484304, 0.01792513558393256, 0.9858824571162907, 0.011707585000037768, 0.17268687875055708, 0.8166040537526342, 0.0016691001628065792, 0.08011680781471579, 0.9196741897064251, 0.003416525512083826, 0.1708262756041913, 0.8267991739242858, 0.2560219950235757, 0.1509182286454762, 0.592893041107228, 0.6565582533734362, 0.2760053803990241, 0.06691039524824827, 0.9876989127747768, 0.03290886810307346, 0.9872660430922038, 0.006112451088366862, 0.1069678940464201, 0.8863054078131951, 0.9806930447792829, 0.9958183884528623, 0.020722766570000703, 0.9843314120750335, 0.48171965186742555, 0.3792261089169095, 0.13893569155514401, 0.04141058725378476, 0.28297234623419587, 0.6763729251451511, 0.4354413415534403, 0.3775579003801733, 0.18680565105917982, 0.00920689441085265, 0.9460084007151098, 0.046034472054263254, 0.9661796932667808, 0.004111402950071407, 0.028779820650499853, 0.9903262848545519, 0.010424487208995283, 0.6836369775053763, 0.12701452041083497, 0.1892765402200678, 0.9926723641657792, 0.37514480432173747, 0.395344909169831, 0.22893452161172698, 0.016898377684302086, 0.980105905689521], \"Term\": [\"1923\", \"adl\", \"adl\", \"adl\", \"agdam\", \"amendment\", \"amendment\", \"amendment\", \"ames\", \"amp\", \"ankara\", \"ankara\", \"antenna\", \"antenna\", \"apartment\", \"apartment\", \"apartment\", \"arab\", \"arab\", \"arab\", \"arabs\", \"arabs\", \"arabs\", \"argic\", \"argic\", \"armenia\", \"armenia\", \"armenia\", \"armenian\", \"armenian\", \"armenian\", \"armenians\", \"armenians\", \"armenians\", \"army\", \"army\", \"army\", \"assault\", \"assault\", \"assault\", \"astronaut\", \"astronaut\", \"atf\", \"atf\", \"attack\", \"attack\", \"attack\", \"audio\", \"auto\", \"auto\", \"auto\", \"azeris\", \"azeris\", \"balcony\", \"ban\", \"ban\", \"ban\", \"batf\", \"batf\", \"believe\", \"believe\", \"believe\", \"bill\", \"bill\", \"bill\", \"brady\", \"build\", \"build\", \"build\", \"bullock\", \"bullock\", \"capacitor\", \"cheap\", \"cheap\", \"cheap\", \"child\", \"child\", \"child\", \"chip\", \"chip\", \"chip\", \"circuit\", \"circuit\", \"circuit\", \"clinton\", \"clinton\", \"clinton\", \"come\", \"come\", \"come\", \"compound\", \"compound\", \"compound\", \"conductor\", \"conductor\", \"congress/102nd\", \"control\", \"control\", \"control\", \"cop\", \"cop\", \"cop\", \"cost\", \"cost\", \"cost\", \"country\", \"country\", \"country\", \"crime\", \"crime\", \"crime\", \"criminal\", \"criminal\", \"criminal\", \"cult\", \"cult\", \"current\", \"current\", \"current\", \"data\", \"data\", \"data\", \"datum\", \"datum\", \"datum\", \"death\", \"death\", \"death\", \"design\", \"design\", \"design\", \"detector\", \"detector\", \"digital\", \"disk\", \"disk\", \"electronic\", \"electronic\", \"electronic\", \"email\", \"email\", \"email\", \"expensive\", \"expensive\", \"expensive\", \"fbi\", \"fbi\", \"fbi\", \"federal\", \"federal\", \"federal\", \"fid\", \"file\", \"file\", \"file\", \"find\", \"find\", \"find\", \"fire\", \"fire\", \"fire\", \"firearm\", \"firearm\", \"firearm\", \"frequency\", \"frequency\", \"gamma\", \"gaza\", \"gaza\", \"genocide\", \"genocide\", \"genocide\", \"gerard\", \"gerard\", \"gerard\", \"get\", \"get\", \"get\", \"good\", \"good\", \"good\", \"government\", \"government\", \"government\", \"greece\", \"greece\", \"greek\", \"greek\", \"greek\", \"greeks\", \"greeks\", \"ground\", \"ground\", \"ground\", \"gun\", \"gun\", \"gun\", \"handgun\", \"hci\", \"henrik\", \"henrik\", \"high\", \"high\", \"high\", \"history\", \"history\", \"history\", \"hojali\", \"homicide\", \"hst\", \"ics.uci.edu\", \"igor\", \"input\", \"input\", \"input\", \"israel\", \"israel\", \"israel\", \"israeli\", \"israeli\", \"israeli\", \"israelis\", \"israelis\", \"israelis\", \"istanbul\", \"istanbul\", \"jerusalem\", \"jerusalem\", \"jew\", \"jew\", \"jew\", \"jewish\", \"jewish\", \"jewish\", \"jews\", \"jews\", \"jews\", \"karina\", \"kill\", \"kill\", \"kill\", \"know\", \"know\", \"know\", \"koresh\", \"koresh\", \"kuwait\", \"laser\", \"launch\", \"launch\", \"launch\", \"law\", \"law\", \"law\", \"lebanese\", \"lebanon\", \"lebanon\", \"legislation\", \"legislation\", \"like\", \"like\", \"like\", \"look\", \"look\", \"look\", \"low\", \"low\", \"low\", \"lunar\", \"lunar\", \"lunar\", \"mamma\", \"mamma\", \"marina\", \"militia\", \"militia\", \"militia\", \"mission\", \"mission\", \"mission\", \"module\", \"muslim\", \"muslim\", \"muslim\", \"nasa\", \"nasa\", \"nasa\", \"need\", \"need\", \"need\", \"nejm\", \"new\", \"new\", \"new\", \"nra\", \"occupy\", \"occupy\", \"occupy\", \"orbit\", \"orbit\", \"orbit\", \"osmanli\", \"ottoman\", \"ottoman\", \"ottoman\", \"output\", \"output\", \"output\", \"palestine\", \"palestine\", \"palestine\", \"palestinian\", \"palestinian\", \"palestinian\", \"palestinians\", \"palestinians\", \"palestinians\", \"parliament\", \"payload\", \"payload\", \"peace\", \"peace\", \"peace\", \"people\", \"people\", \"people\", \"plo\", \"point\", \"point\", \"point\", \"population\", \"population\", \"population\", \"power\", \"power\", \"power\", \"program\", \"program\", \"program\", \"project\", \"project\", \"project\", \"propulsion\", \"propulsion\", \"ray\", \"ray\", \"redesign\", \"reno\", \"reno\", \"resistor\", \"revolver\", \"revolver\", \"revolver\", \"right\", \"right\", \"right\", \"rkba\", \"run\", \"run\", \"run\", \"russian\", \"russian\", \"russian\", \"satellite\", \"satellite\", \"satellite\", \"saudi\", \"say\", \"say\", \"say\", \"senate\", \"senate\", \"serbs\", \"serbs\", \"serbs\", \"shoot\", \"shoot\", \"shoot\", \"shooting\", \"shooting\", \"shuttle\", \"shuttle\", \"shuttle\", \"signal\", \"signal\", \"signal\", \"software\", \"software\", \"software\", \"soldier\", \"soldier\", \"soldier\", \"space\", \"space\", \"space\", \"spacecraft\", \"spacecraft\", \"spacecraft\", \"start\", \"start\", \"start\", \"stat\", \"state\", \"state\", \"state\", \"strict\", \"suicide\", \"suicide\", \"suicide\", \"sumgait\", \"sumgait\", \"syria\", \"system\", \"system\", \"system\", \"tartar\", \"tartar\", \"technology\", \"technology\", \"technology\", \"tell\", \"tell\", \"tell\", \"territory\", \"territory\", \"territory\", \"terrorist\", \"terrorist\", \"terrorist\", \"thing\", \"thing\", \"thing\", \"think\", \"think\", \"think\", \"time\", \"time\", \"time\", \"turan\", \"turan\", \"turkey\", \"turkey\", \"turkey\", \"turkish\", \"turkish\", \"turkish\", \"turks\", \"turks\", \"turks\", \"university\", \"university\", \"university\", \"use\", \"use\", \"use\", \"vancouver\", \"venera\", \"venera\", \"village\", \"village\", \"village\", \"volt\", \"voltage\", \"waco\", \"waco\", \"want\", \"want\", \"want\", \"war\", \"war\", \"war\", \"way\", \"way\", \"way\", \"weapon\", \"weapon\", \"weapon\", \"wire\", \"wire\", \"wire\", \"wiring\", \"wiring\", \"work\", \"work\", \"work\", \"yassin\", \"year\", \"year\", \"year\", \"zionist\", \"zionist\"]}, \"R\": 30, \"lambda.step\": 0.01, \"plot.opts\": {\"xlab\": \"PC1\", \"ylab\": \"PC2\"}, \"topic.order\": [2, 1, 3]};\n",
              "\n",
              "function LDAvis_load_lib(url, callback){\n",
              "  var s = document.createElement('script');\n",
              "  s.src = url;\n",
              "  s.async = true;\n",
              "  s.onreadystatechange = s.onload = callback;\n",
              "  s.onerror = function(){console.warn(\"failed to load library \" + url);};\n",
              "  document.getElementsByTagName(\"head\")[0].appendChild(s);\n",
              "}\n",
              "\n",
              "if(typeof(LDAvis) !== \"undefined\"){\n",
              "   // already loaded: just create the visualization\n",
              "   !function(LDAvis){\n",
              "       new LDAvis(\"#\" + \"ldavis_el10561403402520891682589167502\", ldavis_el10561403402520891682589167502_data);\n",
              "   }(LDAvis);\n",
              "}else if(typeof define === \"function\" && define.amd){\n",
              "   // require.js is available: use it to load d3/LDAvis\n",
              "   require.config({paths: {d3: \"https://cdnjs.cloudflare.com/ajax/libs/d3/3.5.5/d3.min\"}});\n",
              "   require([\"d3\"], function(d3){\n",
              "      window.d3 = d3;\n",
              "      LDAvis_load_lib(\"https://cdn.rawgit.com/bmabey/pyLDAvis/files/ldavis.v1.0.0.js\", function(){\n",
              "        new LDAvis(\"#\" + \"ldavis_el10561403402520891682589167502\", ldavis_el10561403402520891682589167502_data);\n",
              "      });\n",
              "    });\n",
              "}else{\n",
              "    // require.js not available: dynamically load d3 & LDAvis\n",
              "    LDAvis_load_lib(\"https://cdnjs.cloudflare.com/ajax/libs/d3/3.5.5/d3.min.js\", function(){\n",
              "         LDAvis_load_lib(\"https://cdn.rawgit.com/bmabey/pyLDAvis/files/ldavis.v1.0.0.js\", function(){\n",
              "                 new LDAvis(\"#\" + \"ldavis_el10561403402520891682589167502\", ldavis_el10561403402520891682589167502_data);\n",
              "            })\n",
              "         });\n",
              "}\n",
              "</script>"
            ]
          },
          "metadata": {},
          "execution_count": 37
        }
      ]
    },
    {
      "cell_type": "code",
      "source": [
        "pyLDAvis.enable_notebook()\n",
        "vis = pyLDAvis.gensim.prepare(lda_multicore_5_topics, corpus, id2word)\n",
        "vis"
      ],
      "metadata": {
        "colab": {
          "base_uri": "https://localhost:8080/",
          "height": 881
        },
        "id": "fLxyw8OKh2Ip",
        "outputId": "c441a77f-bfab-4b5b-df8d-1db669148b81"
      },
      "execution_count": null,
      "outputs": [
        {
          "output_type": "execute_result",
          "data": {
            "text/plain": [
              "PreparedData(topic_coordinates=              x         y  topics  cluster       Freq\n",
              "topic                                                \n",
              "4      0.025372 -0.114864       1        1  33.470241\n",
              "1     -0.136728 -0.049851       2        1  24.931569\n",
              "0      0.120437 -0.078888       3        1  19.250289\n",
              "3     -0.157464  0.099877       4        1  12.050963\n",
              "2      0.148384  0.143725       5        1  10.296938, topic_info=            Term         Freq        Total Category  logprob  loglift\n",
              "228        email  1174.000000  1174.000000  Default  30.0000  30.0000\n",
              "199        space  1192.000000  1192.000000  Default  29.0000  29.0000\n",
              "824     armenian   929.000000   929.000000  Default  28.0000  28.0000\n",
              "825    armenians   759.000000   759.000000  Default  27.0000  27.0000\n",
              "446         jews   583.000000   583.000000  Default  26.0000  26.0000\n",
              "...          ...          ...          ...      ...      ...      ...\n",
              "1930     russian    97.691196   341.777081   Topic5  -5.9974   1.0210\n",
              "2026     village    93.599066   314.463911   Topic5  -6.0402   1.0615\n",
              "824     armenian   106.727287   929.007679   Topic5  -5.9089   0.1095\n",
              "469      muslims    84.338466   267.308761   Topic5  -6.1443   1.1198\n",
              "25    government    89.455474   771.449341   Topic5  -6.0854   0.1188\n",
              "\n",
              "[413 rows x 6 columns], token_table=       Topic      Freq      Term\n",
              "term                            \n",
              "29614      3  0.989222   -gayane\n",
              "29615      3  0.980502  -zinaida\n",
              "29743      5  0.954494       0/0\n",
              "7571       5  0.933755      1913\n",
              "4813       1  0.093341      1948\n",
              "...      ...       ...       ...\n",
              "1386       1  0.119577      york\n",
              "1386       2  0.053810      york\n",
              "1386       3  0.221217      york\n",
              "1386       4  0.083704      york\n",
              "1386       5  0.526138      york\n",
              "\n",
              "[983 rows x 3 columns], R=30, lambda_step=0.01, plot_opts={'xlab': 'PC1', 'ylab': 'PC2'}, topic_order=[5, 2, 1, 4, 3])"
            ],
            "text/html": [
              "\n",
              "<link rel=\"stylesheet\" type=\"text/css\" href=\"https://cdn.rawgit.com/bmabey/pyLDAvis/files/ldavis.v1.0.0.css\">\n",
              "\n",
              "\n",
              "<div id=\"ldavis_el10561403402506286885112747213\"></div>\n",
              "<script type=\"text/javascript\">\n",
              "\n",
              "var ldavis_el10561403402506286885112747213_data = {\"mdsDat\": {\"x\": [0.025371698117124933, -0.13672832930087842, 0.12043694113950155, -0.15746388086343613, 0.1483835709076879], \"y\": [-0.11486400597238194, -0.04985052592294014, -0.07888803351236882, 0.09987746882306829, 0.14372509658462265], \"topics\": [1, 2, 3, 4, 5], \"cluster\": [1, 1, 1, 1, 1], \"Freq\": [33.470241212761536, 24.931569170385398, 19.250288883729798, 12.050962652558225, 10.296938080565042]}, \"tinfo\": {\"Term\": [\"email\", \"space\", \"armenian\", \"armenians\", \"jews\", \"gun\", \"say\", \"israel\", \"turkish\", \"jewish\", \"people\", \"earth\", \"launch\", \"orbit\", \"turkey\", \"system\", \"planet\", \"mission\", \"arab\", \"israeli\", \"armenia\", \"istanbul\", \"state\", \"moon\", \"azerbaijan\", \"spacecraft\", \"woman\", \"nasa\", \"solar\", \"university\", \"batf\", \"koresh\", \"atf\", \"homicide\", \"suicide\", \"waco\", \"cult\", \"ics.uci.edu\", \"vancouver\", \"firearm\", \"fbi\", \"handgun\", \"shotgun\", \"weaver\", \"stat\", \"bds\", \"dictionary\", \"gazans\", \"reno\", \"davidians\", \"nejm\", \"amendment\", \"evil\", \"cop\", \"militia\", \"alcohol\", \"ban\", \"abide\", \"nra\", \"kratz\", \"gun\", \"violent\", \"compound\", \"warrant\", \"weapon\", \"vote\", \"federal\", \"revolver\", \"assault\", \"law\", \"israelis\", \"clinton\", \"agent\", \"right\", \"israel\", \"crime\", \"citizen\", \"self\", \"bill\", \"fire\", \"state\", \"believe\", \"israeli\", \"people\", \"think\", \"criminal\", \"action\", \"claim\", \"case\", \"question\", \"point\", \"government\", \"like\", \"mean\", \"country\", \"know\", \"time\", \"fact\", \"want\", \"thing\", \"way\", \"good\", \"kill\", \"say\", \"get\", \"come\", \"use\", \"year\", \"voltage\", \"output\", \"bullock\", \"circuit\", \"adl\", \"gerard\", \"amp\", \"hst\", \"capacitor\", \"resistor\", \"redesign\", \"ssf\", \"mhz\", \"spec\", \"shack\", \"gfci\", \"wiring\", \"pad\", \"amplifier\", \"dryden\", \"manual\", \"gurvitz\", \"nec\", \"205\", \"chip\", \"transformer\", \"breaker\", \"servicing\", \"connector\", \"ttl\", \"wire\", \"audio\", \"led\", \"input\", \"cable\", \"outlet\", \"module\", \"digital\", \"cost\", \"cheap\", \"commercial\", \"engine\", \"hardware\", \"technology\", \"program\", \"file\", \"company\", \"software\", \"signal\", \"device\", \"build\", \"space\", \"shuttle\", \"use\", \"low\", \"design\", \"ground\", \"launch\", \"current\", \"work\", \"need\", \"high\", \"power\", \"project\", \"system\", \"line\", \"like\", \"satellite\", \"know\", \"good\", \"look\", \"nasa\", \"time\", \"new\", \"want\", \"thing\", \"get\", \"year\", \"problem\", \"think\", \"email\", \"azerbaijani\", \"sumgait\", \"mamma\", \"azerbaijanis\", \"karabakh\", \"balcony\", \"karabagh\", \"karina\", \"daughter\", \"igor\", \"nagorno\", \"hojali\", \"apartment\", \"agdam\", \"courtyard\", \"marina\", \"corpse\", \"lyuda\", \"-zinaida\", \"entryway\", \"-gayane\", \"microdistrict\", \"erzincan\", \"anania\", \"azeri\", \"yerevan\", \"shout\", \"gaya\", \"dro\", \"shirak\", \"armenians\", \"azeris\", \"erzurum\", \"henrik\", \"sdpa\", \"armenian\", \"bayonet\", \"girl\", \"armenia\", \"genocide\", \"azerbaijan\", \"kurds\", \"baku\", \"massacre\", \"woman\", \"turks\", \"turkish\", \"town\", \"argic\", \"say\", \"serdar\", \"soviet\", \"neighbor\", \"son\", \"soldier\", \"door\", \"people\", \"come\", \"child\", \"kill\", \"dead\", \"tell\", \"man\", \"leave\", \"russian\", \"take\", \"village\", \"know\", \"see\", \"live\", \"start\", \"time\", \"like\", \"year\", \"think\", \"government\", \"look\", \"venus\", \"mariner\", \"jupiter\", \"lander\", \"flyby\", \"uranus\", \"pluto\", \"voyager\", \"neptune\", \"asteroid\", \"venera\", \"meteor\", \"cassini\", \"celestial\", \"planet\", \"yalcin\", \"onur\", \"magellan\", \"gravitational\", \"vega\", \"crater\", \"charon\", \"fahrenheit\", \"croats\", \"planetary\", \"isas\", \"astronomical\", \"astronomy\", \"halley\", \"eclipse\", \"mars\", \"probe\", \"interplanetary\", \"galileo\", \"mercury\", \"kilometer\", \"larson\", \"comet\", \"saturn\", \"martian\", \"atmosphere\", \"star\", \"sun\", \"spacecraft\", \"solar\", \"earth\", \"surface\", \"propulsion\", \"email\", \"moon\", \"universe\", \"orbit\", \"mission\", \"space\", \"image\", \"lunar\", \"system\", \"launch\", \"nasa\", \"satellite\", \"element\", \"available\", \"degree\", \"1993\", \"datum\", \"year\", \"time\", \"send\", \"information\", \"osmanli\", \"aiu\", \"salonica\", \"umumiye\", \"nezareti\", \"mecmuasi\", \"negev\", \"het\", \"mezalimi\", \"bedouin\", \"muharrerat\", \"0/0\", \"sabah\", \"een\", \"evrak\", \"sheikh\", \"dialing\", \"gurion\", \"kuwait\", \"istanbul\", \"1913\", \"defterleri\", \"harbi\", \"babiali\", \"devleti\", \"tarihi\", \"imparatorlugu'nun\", \"birinci\", \"dahiliye\", \"parliamentary\", \"hakkinda\", \"parliament\", \"ermeniler\", \"askeri\", \"othman\", \"belgeleri\", \"irgun\", \"yassin\", \"ankara\", \"ermeni\", \"ottoman\", \"jews\", \"empire\", \"jewish\", \"greece\", \"1948\", \"shaw\", \"greek\", \"professor\", \"paris\", \"minister\", \"turkey\", \"british\", \"university\", \"palestine\", \"foreign\", \"london\", \"independence\", \"arab\", \"history\", \"york\", \"van\", \"1983\", \"turkish\", \"muslim\", \"arabs\", \"israel\", \"war\", \"new\", \"state\", \"population\", \"press\", \"israeli\", \"russian\", \"village\", \"armenian\", \"muslims\", \"government\"], \"Freq\": [1174.0, 1192.0, 929.0, 759.0, 583.0, 1141.0, 1455.0, 758.0, 577.0, 380.0, 1955.0, 389.0, 545.0, 354.0, 331.0, 609.0, 218.0, 351.0, 346.0, 440.0, 315.0, 183.0, 802.0, 271.0, 312.0, 222.0, 355.0, 339.0, 228.0, 367.0, 199.2844582055535, 154.15289270507523, 117.16316773527988, 109.29291996717686, 86.56741526696331, 99.53895572797023, 64.68918954928309, 50.42177127083143, 49.70406370813673, 345.39667901868216, 338.4265071283848, 168.23972016636918, 50.372083137669804, 69.24334754793442, 31.97678284984363, 35.0781226050696, 34.68815517231054, 33.40501361112076, 40.924949256450915, 31.971996992383744, 28.65215699973991, 146.88450276904894, 50.961688133437036, 59.91389295589625, 127.58048826085354, 28.086849434153642, 106.13740742914153, 38.81748000429146, 76.86498359394092, 25.052658568657204, 1101.8610748262145, 83.96608791715408, 125.2583619598425, 70.09185367340618, 415.43783309565623, 92.75241648187189, 149.03595951762875, 55.125945634398676, 146.90931336809507, 552.3744309806167, 100.25470729919337, 109.07450339859571, 142.08021585339537, 885.2086766822756, 562.034857178995, 268.34908911827256, 196.16394527156825, 189.2101947849561, 217.84184920108677, 380.4351649068404, 532.9482674080527, 338.2318896955793, 319.8455698628935, 1059.7521929372235, 744.03339321783, 213.37128566684746, 187.72996291200914, 290.3123595602011, 325.5380851490744, 344.8005106675018, 360.6150958882695, 425.86863731909284, 632.516711752695, 308.38884439400755, 268.60400761134963, 618.7132130028103, 555.8909912828287, 307.92348204283417, 417.5459307937448, 383.41758335548735, 376.06900520635696, 385.34709828849924, 376.60183810745434, 461.8449876503305, 342.06715017474716, 340.3051216597565, 315.8839954705963, 312.76363128120965, 130.2389103274196, 144.1354742165618, 102.04240022019746, 230.97443689473326, 150.70472169573344, 76.57174284913252, 112.57723049203133, 88.05199041334433, 50.641866490061965, 55.02464812398612, 46.06590297913078, 42.59004186768058, 40.66225337536325, 34.2190552566212, 31.990364288304466, 46.95317347385262, 95.79990716360126, 34.073405727545705, 34.964379645879696, 28.563567307326945, 34.85652331932038, 27.894973312593585, 40.32094009377101, 25.975854764858166, 164.96588860897415, 32.562818846440656, 35.67652279994753, 25.03873624371582, 24.8861756885279, 26.98389509465079, 235.32458851358552, 79.1077265688961, 46.44299570933791, 111.27867776998588, 96.86120809864023, 81.4978557832586, 62.92132782750708, 62.020972087352334, 282.3599408742932, 137.31249928572765, 125.86673206341864, 84.03411095815605, 81.5519141342045, 155.8802741983869, 313.48243817004715, 325.12633440068055, 185.19090265383906, 151.14612990301646, 129.63633532922472, 135.90463324324108, 226.03421937344706, 679.0506680862427, 203.55370124091945, 568.1904300952737, 230.93288763954834, 226.45808825514138, 248.44743879237654, 330.0114631494923, 205.07657562175783, 437.5872712973997, 359.472765823947, 280.53664875876586, 305.74656516389314, 167.30457984541775, 294.7250656961282, 230.01871538706945, 453.8937252266703, 208.57921107324918, 441.5840658905568, 313.8390083381433, 281.8061280819833, 198.14813206156236, 327.36219400049185, 256.2938882163293, 273.010826627224, 261.69150209829365, 255.20449998478534, 274.6932944671779, 237.02372037481896, 267.07156557486786, 242.11149869091915, 156.71025980909366, 117.83903629157231, 101.8010610343509, 93.99845482102381, 122.99408632354874, 73.08554563828355, 73.17143775900658, 65.4589455550058, 110.46798665492584, 59.42164912982779, 61.676475566161315, 49.56868506894616, 168.2195473362169, 45.48584930733417, 42.553138129176745, 42.986427091758394, 69.52633100087816, 40.21611532870907, 35.95265374131165, 35.20545645346205, 31.587879659923946, 32.25532731138111, 31.124235446609674, 30.50998059730646, 136.71268345151677, 30.327453424525938, 122.29260263600627, 24.604221453221776, 53.07070958413705, 25.24344190823216, 722.7949257125683, 73.98085978192381, 62.9599168690668, 88.6625779209475, 54.814909929269774, 820.6989397488273, 67.9956076512098, 76.62606334044588, 274.91747729584097, 239.50957978672858, 267.4516212366992, 89.19807765169035, 126.81077628080878, 203.75061962164105, 278.6370338727535, 218.72144516382352, 399.4287486940537, 141.18302613546643, 121.84734951696733, 803.229098353194, 117.26065894040478, 201.63361838559723, 141.8026128835984, 125.96214672907944, 196.27095580524363, 154.72579251072324, 703.0437759025439, 432.64261581821887, 278.8979269119536, 343.1413492463667, 173.87396936728146, 293.9578099219376, 230.83471513348124, 232.6569113416251, 197.83361066293975, 270.9410656360014, 189.25343266229822, 398.60052279849214, 250.43156710591992, 207.00297096977604, 224.66825971501478, 279.62831791781514, 257.64116693158184, 226.32341114733813, 228.85784466809906, 201.04269086101328, 197.56156191403613, 142.60466916185095, 56.90776147198856, 87.07042425217674, 50.23482078038891, 63.876805183925406, 35.21916182580432, 56.50539362267037, 62.13727424770478, 31.128399709609823, 65.90440581503863, 28.814807337118992, 23.991413973703583, 22.55362009673195, 21.24664758573785, 210.0160411414894, 18.66581593123223, 18.66564589251032, 30.019610676221262, 19.658260989981983, 20.338157472321903, 26.54125573641913, 16.947146202303625, 15.901037190696455, 39.2468676928091, 87.43908962347973, 13.870021057381702, 51.970929519970134, 95.4958348895131, 14.612509194923124, 14.367487413312917, 152.7644694071234, 164.9502314851184, 22.648972991984056, 47.04047067280442, 59.00886703091976, 62.60454601106494, 77.30604035193775, 86.078919092504, 68.8929314136322, 35.42203810435707, 105.45912928331036, 123.9929536608253, 112.27909054164655, 185.49492575462062, 182.61192591906718, 292.5871872564132, 134.85599121551692, 67.79454553669439, 672.8704823505802, 186.4265772841809, 78.66994370147007, 219.4960292543391, 203.7970690263137, 478.8984488316122, 127.68583052329969, 120.97942835344817, 219.3595269883847, 194.97566364451183, 140.27059180947643, 138.3483776970956, 83.27202698221255, 109.75013542508692, 94.54750617632988, 107.25545583042421, 108.76358950498864, 140.35753381298804, 117.67771017352163, 102.28745457568078, 102.14388298333513, 53.41260278360539, 33.62191398348827, 27.668348891143022, 24.959338302947994, 24.954320667567544, 24.952485672777247, 24.256226415101313, 21.385923903281356, 24.276814049918134, 22.86378111649918, 19.99926043988506, 19.161788952199718, 19.503697445333422, 17.319759633869403, 17.852207854124753, 27.24211529452254, 17.254685959516742, 17.254165434186575, 115.95630438141524, 174.70153473098242, 16.312657521171054, 15.045632514869318, 15.044642944736147, 15.044415286404933, 15.044398126229211, 15.043835272465605, 15.043783791938445, 15.043746039551863, 15.043023024148203, 21.97186611131369, 21.195077581020186, 38.895588337770775, 21.531455921525282, 21.171321033753788, 27.320637970592617, 20.26356146632041, 34.01969829678886, 40.349888061760545, 90.78863239313596, 58.622697542834565, 143.24353720994011, 442.74640814322396, 87.22374545679031, 260.17676353100956, 109.46915392117029, 37.475753110696516, 31.833297428103197, 155.09363154658504, 94.91152248341878, 33.732311113951894, 55.52730843813399, 175.37886288280436, 93.92362718339767, 186.7640491628034, 72.65273365802426, 80.0730865062364, 59.56367005836763, 53.47589408770663, 146.0063529570985, 139.13467727932573, 87.7853819919332, 56.011724182538096, 47.545689714574515, 176.28839795641886, 107.09678479617472, 89.91408577380227, 190.7925445584871, 133.77065345586712, 155.18348680270046, 157.06817746188173, 97.71980583216418, 96.00679014692997, 114.44921995691156, 97.69119638720424, 93.59906648390489, 106.72728731653054, 84.33846554360217, 89.45547435763379], \"Total\": [1174.0, 1192.0, 929.0, 759.0, 583.0, 1141.0, 1455.0, 758.0, 577.0, 380.0, 1955.0, 389.0, 545.0, 354.0, 331.0, 609.0, 218.0, 351.0, 346.0, 440.0, 315.0, 183.0, 802.0, 271.0, 312.0, 222.0, 355.0, 339.0, 228.0, 367.0, 200.4823125998509, 155.1268017939956, 118.17982969367453, 110.42353174204585, 87.56587292067448, 100.78461335459122, 65.6043517476045, 51.161482423764745, 50.47554294978564, 351.60147239687774, 344.83343238036696, 171.44380275031136, 51.47007421078513, 70.8310433390515, 32.73237934185145, 35.911804665925644, 35.52096257187389, 34.21135990322948, 41.93665014317891, 32.78838937021862, 29.396664413281254, 150.71209832357712, 52.31026449882203, 61.53249888295468, 131.10700610585994, 28.879440210355455, 109.33465459823509, 39.998344531034206, 79.26304221452808, 25.868878496845408, 1141.9544468432493, 87.06255983990596, 130.87886148695895, 72.74956629491552, 452.4017573094428, 97.2832431253166, 159.2058460043337, 57.25375966634114, 158.0608851266631, 642.0223766924905, 107.15720779095209, 117.12111703569327, 155.27281264089027, 1166.86449657682, 758.4715572276015, 331.1057002974077, 235.26750643360606, 225.93466625820088, 268.19648185180284, 518.0232860517013, 802.4439030844118, 465.9611042483944, 440.78055961636363, 1955.3206572034323, 1265.3705852828393, 272.48740907646436, 232.8737992597137, 423.48484472737397, 502.51730944065514, 549.4325121833053, 601.7416049642137, 771.449341056622, 1434.9877423579862, 496.62169554591355, 405.1819072002297, 1540.2498859063899, 1316.6418004593713, 511.5382067327639, 889.9295054557209, 793.1002550382002, 769.4367861653484, 816.1554807193514, 784.1869581474944, 1455.7345791735065, 756.39489888503, 959.815230035388, 970.3374278885871, 1036.1729006971982, 131.34203951000325, 145.4206798170469, 103.10578683409393, 233.60388754101564, 152.4658897002326, 77.48964382382299, 114.0891801876898, 89.36787547541536, 51.42384475387199, 55.991242235522414, 46.90269666004997, 43.371544273021705, 41.54247430555039, 35.03329373054895, 32.76628043160609, 48.120879678285775, 98.22973641993603, 34.982476210722474, 35.91182836683395, 29.339352690165867, 35.82561236870323, 28.680977560790982, 41.45952464651913, 26.713065945112525, 169.67879562097806, 33.51401281760425, 36.75167091903832, 25.7952533788008, 25.672791559231975, 27.852122713118735, 245.19513635429576, 81.81164142467321, 47.94461409513629, 116.84730526935735, 101.4280123855829, 85.57124927613019, 65.96617003255156, 66.07170552100781, 335.3319811408167, 154.86790763892768, 141.72339573703178, 91.93908238571431, 89.9564677930806, 183.03237387767888, 399.4694183829605, 424.8171900584238, 233.46218629271416, 185.37636325250946, 156.20061135952963, 165.2111905509679, 301.63239603046617, 1192.7860597441668, 275.04164290556105, 970.3374278885871, 326.8079078283733, 320.391292981181, 365.5494085418685, 545.0697877466861, 288.49223545840533, 804.1005550639662, 688.0776858612885, 496.4049460425822, 579.0968350579525, 227.9945898954288, 609.2840543329851, 412.6323955743551, 1434.9877423579862, 351.14708823605054, 1540.2498859063899, 816.1554807193514, 743.9781457693315, 339.9458852586545, 1316.6418004593713, 713.5584669766448, 889.9295054557209, 793.1002550382002, 756.39489888503, 1036.1729006971982, 593.3232350225683, 1265.3705852828393, 1174.6546446906762, 157.80970872695661, 118.77963299421441, 102.75686827425575, 94.91038908542113, 124.3331499760388, 73.91458965767102, 74.02042468575962, 66.25422724404451, 111.92388623287636, 60.227235829375076, 62.56417653988631, 50.335594856275996, 171.04639411743796, 46.32769084619475, 43.373499701902794, 43.82889587117301, 70.93172376173861, 41.06845312154644, 36.715874888531594, 36.00640070510989, 32.3486449272465, 33.05663970951714, 31.905538381769162, 31.33174210464466, 140.44400148525696, 31.195402518473703, 125.8957146683579, 25.361059843625615, 54.72314595816955, 26.038864363241302, 759.3649048363676, 76.61176966622271, 65.25736177185804, 93.41089723898251, 57.059054222926875, 929.0076789519146, 71.37455738007608, 81.46311779943836, 315.5884176756765, 273.53605383566673, 312.9840916698442, 96.10515243169482, 141.52423046512482, 249.06584139166688, 355.28871103241715, 278.12886209354014, 577.6507151368683, 170.9670239718851, 143.8516699151682, 1455.7345791735065, 139.7016953844969, 283.47531531520923, 179.75187102045174, 155.43514256185625, 291.5850867156238, 209.59033371261202, 1955.3206572034323, 959.815230035388, 537.4119478119294, 784.1869581474944, 268.2014038527859, 682.7327863532831, 443.68676083421786, 458.46268487876296, 341.77708135796007, 632.6533416152369, 314.4639110668424, 1540.2498859063899, 616.1694729480145, 485.18669202589444, 623.101556869573, 1316.6418004593713, 1434.9877423579862, 1036.1729006971982, 1265.3705852828393, 771.449341056622, 743.9781457693315, 144.55264694000684, 57.724872069031434, 88.35719950093538, 51.16306925279015, 65.19212806380868, 36.10919825857582, 57.98737260792298, 63.8033968933189, 31.973019217001053, 67.72859461435321, 29.688696665325566, 24.769446215412547, 23.359201326648773, 22.038883290466384, 218.29647264346897, 19.41372692308829, 19.41370346647033, 31.227244224396085, 20.49074039144548, 21.211517198305973, 27.707812153313704, 17.79616771709139, 16.721868505419618, 41.369828864681274, 92.17964662405348, 14.648635615811672, 54.945486022769096, 100.97178521038316, 15.457653063189241, 15.20548774395338, 163.22743017545233, 176.95642829849, 23.998159492308247, 50.302028521237425, 63.4504195301712, 67.68396047492638, 84.54270564280185, 94.90461839341975, 75.5682845853431, 37.827623221781046, 119.31878232205781, 142.12670294460636, 129.299475958964, 222.2760506090536, 228.97936837816403, 389.58169195852497, 165.2487526845898, 78.22334650274895, 1174.6546446906762, 271.6390847682142, 95.86339368886367, 354.999892357197, 351.3180427095039, 1192.7860597441668, 191.6839848741583, 193.04338762917237, 609.2840543329851, 545.0697877466861, 339.9458852586545, 351.14708823605054, 120.52250697803123, 257.8527150630286, 174.9531784222478, 266.67419203836334, 295.74473511574615, 1036.1729006971982, 1316.6418004593713, 387.2928759874774, 442.99218442337065, 54.26170443509272, 34.50423821650866, 28.524712851740638, 25.73290811702317, 25.7326520594388, 25.732669100270627, 25.055936084357814, 22.131369968340817, 25.123077383631042, 23.69169275783647, 20.768800593202016, 19.905835366703936, 20.28491986669641, 18.0613141436909, 18.635961170427034, 28.442100283108537, 18.06345257482207, 18.095584231431253, 121.7378480965494, 183.50355379748834, 17.135113371709128, 15.804406538598359, 15.804314466054146, 15.804561270899203, 15.804572174908854, 15.804458503573315, 15.804447313659505, 15.804438516283032, 15.804420888410823, 23.106972434280046, 22.306113605054332, 41.187786355095405, 22.673735762050075, 22.30544767984313, 28.96034385480723, 21.401434330053515, 36.3264375690049, 43.50970267677275, 102.91564483531232, 65.44893184500901, 169.88861861742535, 583.9409042779137, 104.66937470244523, 380.13085831567525, 144.51703568923682, 42.853730628643866, 35.60073748262596, 230.14187814354477, 130.85274008836075, 38.77950039986685, 72.92104643959317, 331.66988520159015, 147.79141504920807, 367.0562560592566, 106.55309733911574, 133.0311322159455, 90.41544498671617, 77.73209437415264, 346.8965879653683, 324.6282339773052, 167.25654208445377, 85.31754994749141, 66.38667677456985, 577.6507151368683, 261.0821055473523, 198.3949877550288, 758.4715572276015, 430.35492401702015, 713.5584669766448, 802.4439030844118, 290.99990696428074, 281.78528751235785, 440.78055961636363, 341.77708135796007, 314.4639110668424, 929.0076789519146, 267.3087614284647, 771.449341056622], \"Category\": [\"Default\", \"Default\", \"Default\", \"Default\", \"Default\", \"Default\", \"Default\", \"Default\", \"Default\", \"Default\", \"Default\", \"Default\", \"Default\", \"Default\", \"Default\", \"Default\", \"Default\", \"Default\", \"Default\", \"Default\", \"Default\", \"Default\", \"Default\", \"Default\", \"Default\", \"Default\", \"Default\", \"Default\", \"Default\", \"Default\", \"Topic1\", \"Topic1\", \"Topic1\", \"Topic1\", \"Topic1\", \"Topic1\", \"Topic1\", \"Topic1\", \"Topic1\", \"Topic1\", \"Topic1\", \"Topic1\", \"Topic1\", \"Topic1\", \"Topic1\", \"Topic1\", \"Topic1\", \"Topic1\", \"Topic1\", \"Topic1\", \"Topic1\", \"Topic1\", \"Topic1\", \"Topic1\", \"Topic1\", \"Topic1\", \"Topic1\", \"Topic1\", \"Topic1\", \"Topic1\", \"Topic1\", \"Topic1\", \"Topic1\", \"Topic1\", \"Topic1\", \"Topic1\", \"Topic1\", \"Topic1\", \"Topic1\", \"Topic1\", \"Topic1\", \"Topic1\", \"Topic1\", \"Topic1\", \"Topic1\", \"Topic1\", \"Topic1\", \"Topic1\", \"Topic1\", \"Topic1\", \"Topic1\", \"Topic1\", \"Topic1\", \"Topic1\", \"Topic1\", \"Topic1\", \"Topic1\", \"Topic1\", \"Topic1\", \"Topic1\", \"Topic1\", \"Topic1\", \"Topic1\", \"Topic1\", \"Topic1\", \"Topic1\", \"Topic1\", \"Topic1\", \"Topic1\", \"Topic1\", \"Topic1\", \"Topic1\", \"Topic1\", \"Topic1\", \"Topic1\", \"Topic1\", \"Topic1\", \"Topic1\", \"Topic2\", \"Topic2\", \"Topic2\", \"Topic2\", \"Topic2\", \"Topic2\", \"Topic2\", \"Topic2\", \"Topic2\", \"Topic2\", \"Topic2\", \"Topic2\", \"Topic2\", \"Topic2\", \"Topic2\", \"Topic2\", \"Topic2\", \"Topic2\", \"Topic2\", \"Topic2\", \"Topic2\", \"Topic2\", \"Topic2\", \"Topic2\", \"Topic2\", \"Topic2\", \"Topic2\", \"Topic2\", \"Topic2\", \"Topic2\", \"Topic2\", \"Topic2\", \"Topic2\", \"Topic2\", \"Topic2\", \"Topic2\", \"Topic2\", \"Topic2\", \"Topic2\", \"Topic2\", \"Topic2\", \"Topic2\", \"Topic2\", \"Topic2\", \"Topic2\", \"Topic2\", \"Topic2\", \"Topic2\", \"Topic2\", \"Topic2\", \"Topic2\", \"Topic2\", \"Topic2\", \"Topic2\", \"Topic2\", \"Topic2\", \"Topic2\", \"Topic2\", \"Topic2\", \"Topic2\", \"Topic2\", \"Topic2\", \"Topic2\", \"Topic2\", \"Topic2\", \"Topic2\", \"Topic2\", \"Topic2\", \"Topic2\", \"Topic2\", \"Topic2\", \"Topic2\", \"Topic2\", \"Topic2\", \"Topic2\", \"Topic2\", \"Topic2\", \"Topic2\", \"Topic2\", \"Topic2\", \"Topic2\", \"Topic3\", \"Topic3\", \"Topic3\", \"Topic3\", \"Topic3\", \"Topic3\", \"Topic3\", \"Topic3\", \"Topic3\", \"Topic3\", \"Topic3\", \"Topic3\", \"Topic3\", \"Topic3\", \"Topic3\", \"Topic3\", \"Topic3\", \"Topic3\", \"Topic3\", \"Topic3\", \"Topic3\", \"Topic3\", \"Topic3\", \"Topic3\", \"Topic3\", \"Topic3\", \"Topic3\", \"Topic3\", \"Topic3\", \"Topic3\", \"Topic3\", \"Topic3\", \"Topic3\", \"Topic3\", \"Topic3\", \"Topic3\", \"Topic3\", \"Topic3\", \"Topic3\", \"Topic3\", \"Topic3\", \"Topic3\", \"Topic3\", \"Topic3\", \"Topic3\", \"Topic3\", \"Topic3\", \"Topic3\", \"Topic3\", \"Topic3\", \"Topic3\", \"Topic3\", \"Topic3\", \"Topic3\", \"Topic3\", \"Topic3\", \"Topic3\", \"Topic3\", \"Topic3\", \"Topic3\", \"Topic3\", \"Topic3\", \"Topic3\", \"Topic3\", \"Topic3\", \"Topic3\", \"Topic3\", \"Topic3\", \"Topic3\", \"Topic3\", \"Topic3\", \"Topic3\", \"Topic3\", \"Topic3\", \"Topic3\", \"Topic3\", \"Topic3\", \"Topic4\", \"Topic4\", \"Topic4\", \"Topic4\", \"Topic4\", \"Topic4\", \"Topic4\", \"Topic4\", \"Topic4\", \"Topic4\", \"Topic4\", \"Topic4\", \"Topic4\", \"Topic4\", \"Topic4\", \"Topic4\", \"Topic4\", \"Topic4\", \"Topic4\", \"Topic4\", \"Topic4\", \"Topic4\", \"Topic4\", \"Topic4\", \"Topic4\", \"Topic4\", \"Topic4\", \"Topic4\", \"Topic4\", \"Topic4\", \"Topic4\", \"Topic4\", \"Topic4\", \"Topic4\", \"Topic4\", \"Topic4\", \"Topic4\", \"Topic4\", \"Topic4\", \"Topic4\", \"Topic4\", \"Topic4\", \"Topic4\", \"Topic4\", \"Topic4\", \"Topic4\", \"Topic4\", \"Topic4\", \"Topic4\", \"Topic4\", \"Topic4\", \"Topic4\", \"Topic4\", \"Topic4\", \"Topic4\", \"Topic4\", \"Topic4\", \"Topic4\", \"Topic4\", \"Topic4\", \"Topic4\", \"Topic4\", \"Topic4\", \"Topic4\", \"Topic4\", \"Topic4\", \"Topic4\", \"Topic4\", \"Topic4\", \"Topic5\", \"Topic5\", \"Topic5\", \"Topic5\", \"Topic5\", \"Topic5\", \"Topic5\", \"Topic5\", \"Topic5\", \"Topic5\", \"Topic5\", \"Topic5\", \"Topic5\", \"Topic5\", \"Topic5\", \"Topic5\", \"Topic5\", \"Topic5\", \"Topic5\", \"Topic5\", \"Topic5\", \"Topic5\", \"Topic5\", \"Topic5\", \"Topic5\", \"Topic5\", \"Topic5\", \"Topic5\", \"Topic5\", \"Topic5\", \"Topic5\", \"Topic5\", \"Topic5\", \"Topic5\", \"Topic5\", \"Topic5\", \"Topic5\", \"Topic5\", \"Topic5\", \"Topic5\", \"Topic5\", \"Topic5\", \"Topic5\", \"Topic5\", \"Topic5\", \"Topic5\", \"Topic5\", \"Topic5\", \"Topic5\", \"Topic5\", \"Topic5\", \"Topic5\", \"Topic5\", \"Topic5\", \"Topic5\", \"Topic5\", \"Topic5\", \"Topic5\", \"Topic5\", \"Topic5\", \"Topic5\", \"Topic5\", \"Topic5\", \"Topic5\", \"Topic5\", \"Topic5\", \"Topic5\", \"Topic5\", \"Topic5\", \"Topic5\", \"Topic5\", \"Topic5\", \"Topic5\", \"Topic5\", \"Topic5\", \"Topic5\", \"Topic5\", \"Topic5\"], \"logprob\": [30.0, 29.0, 28.0, 27.0, 26.0, 25.0, 24.0, 23.0, 22.0, 21.0, 20.0, 19.0, 18.0, 17.0, 16.0, 15.0, 14.0, 13.0, 12.0, 11.0, 10.0, 9.0, 8.0, 7.0, 6.0, 5.0, 4.0, 3.0, 2.0, 1.0, -6.4633002281188965, -6.71999979019165, -6.9944000244140625, -7.064000129699707, -7.297100067138672, -7.157400131225586, -7.588399887084961, -7.837600231170654, -7.851900100708008, -5.913300037384033, -5.933700084686279, -6.632599830627441, -7.838600158691406, -7.520400047302246, -8.293000221252441, -8.200400352478027, -8.211600303649902, -8.249300003051758, -8.046299934387207, -8.293100357055664, -8.402799606323242, -6.7683000564575195, -7.826900005340576, -7.66510009765625, -6.909200191497803, -8.422699928283691, -7.093299865722656, -8.099100112915039, -7.415900230407715, -8.536999702453613, -4.753200054168701, -7.327600002288818, -6.927599906921387, -7.508200168609619, -5.728700160980225, -7.228099822998047, -6.753799915313721, -7.7484002113342285, -6.768199920654297, -5.44379997253418, -7.150300025939941, -7.065999984741211, -6.801599979400635, -4.9721999168396, -5.426400184631348, -6.1656999588012695, -6.479000091552734, -6.515100002288818, -6.374199867248535, -5.816699981689453, -5.479599952697754, -5.934299945831299, -5.990200042724609, -4.792200088500977, -5.145899772644043, -6.394999980926514, -6.5229997634887695, -6.086999893188477, -5.972499847412109, -5.914999961853027, -5.870200157165527, -5.70389986038208, -5.308300018310547, -6.026599884033203, -6.16480016708374, -5.330399990081787, -5.437399864196777, -6.02810001373291, -5.723599910736084, -5.808899879455566, -5.828199863433838, -5.803800106048584, -5.8267998695373535, -5.622799873352051, -5.922999858856201, -5.928100109100342, -6.002600193023682, -6.012499809265137, -6.594099998474121, -6.492700099945068, -6.838099956512451, -6.021200180053711, -6.4481000900268555, -7.125199794769287, -6.739799976348877, -6.985499858856201, -7.538700103759766, -7.455699920654297, -7.633399963378906, -7.7118000984191895, -7.758200168609619, -7.930699825286865, -7.998000144958496, -7.614299774169922, -6.901199817657471, -7.934999942779541, -7.90910005569458, -8.111300468444824, -7.912199974060059, -8.135000228881836, -7.766600131988525, -8.206299781799316, -6.357699871063232, -7.980299949645996, -7.888999938964844, -8.243000030517578, -8.249199867248535, -8.16819953918457, -6.002500057220459, -7.092700004577637, -7.625199794769287, -6.751399993896484, -6.890200138092041, -7.062900066375732, -7.321599960327148, -7.335999965667725, -5.820300102233887, -6.541200160980225, -6.628200054168701, -7.032199859619141, -7.06220006942749, -6.414400100708008, -5.715700149536133, -5.679299831390381, -6.242099761962891, -6.445199966430664, -6.598700046539307, -6.551499843597412, -6.042799949645996, -4.942800045013428, -6.147500038146973, -5.120999813079834, -6.021299839019775, -6.040900230407715, -5.948200225830078, -5.664299964904785, -6.140100002288818, -5.382199764251709, -5.578800201416016, -5.8267998695373535, -5.740699768066406, -6.343699932098389, -5.777400016784668, -6.025300025939941, -5.345600128173828, -6.123199939727783, -5.3730998039245605, -5.714600086212158, -5.822299957275391, -6.174499988555908, -5.672399997711182, -5.917099952697754, -5.854000091552734, -5.896299839019775, -5.92140007019043, -5.847799777984619, -5.995299816131592, -5.875999927520752, -5.974100112915039, -6.1504998207092285, -6.435500144958496, -6.5817999839782715, -6.661600112915039, -6.3927001953125, -6.9131999015808105, -6.912099838256836, -7.023399829864502, -6.500100135803223, -7.120200157165527, -7.083000183105469, -7.301499843597412, -6.079599857330322, -7.387499809265137, -7.454100131988525, -7.443999767303467, -6.963200092315674, -7.5106000900268555, -7.622700214385986, -7.643700122833252, -7.752099990844727, -7.731200218200684, -7.766900062561035, -7.786799907684326, -6.2870001792907715, -7.792799949645996, -6.398399829864502, -8.001899719238281, -7.2332000732421875, -7.97629976272583, -4.621699810028076, -6.901100158691406, -7.062399864196777, -6.71999979019165, -7.200900077819824, -4.494699954986572, -6.985400199890137, -6.865900039672852, -5.588399887084961, -5.72629976272583, -5.615900039672852, -6.714000225067139, -6.362199783325195, -5.888000011444092, -5.574999809265137, -5.8171000480651855, -5.214799880981445, -6.254799842834473, -6.402100086212158, -4.516200065612793, -6.440499782562256, -5.898399829864502, -6.250400066375732, -6.368899822235107, -5.9253997802734375, -6.1631999015808105, -4.649400234222412, -5.134900093078613, -5.573999881744385, -5.366700172424316, -6.046500205993652, -5.521399974822998, -5.763199806213379, -5.755300045013428, -5.917399883270264, -5.603000164031982, -5.9618000984191895, -5.216899871826172, -5.681700229644775, -5.872099876403809, -5.790200233459473, -5.571400165557861, -5.653299808502197, -5.782899856567383, -5.7718000411987305, -5.901299953460693, -5.918799877166748, -5.776400089263916, -6.695000171661377, -6.269800186157227, -6.819799900054932, -6.579500198364258, -7.174900054931641, -6.702099800109863, -6.607100009918213, -7.298399925231934, -6.548299789428711, -7.3755998611450195, -7.558800220489502, -7.62060022354126, -7.680300235748291, -5.3892998695373535, -7.809800148010254, -7.809800148010254, -7.33459997177124, -7.757999897003174, -7.723999977111816, -7.457799911499023, -7.906400203704834, -7.970099925994873, -7.0665998458862305, -6.265500068664551, -8.106800079345703, -6.785799980163574, -6.1774001121521, -8.05459976196289, -8.071499824523926, -5.707600116729736, -5.630799770355225, -7.616399765014648, -6.885499954223633, -6.65880012512207, -6.599599838256836, -6.388700008392334, -6.281199932098389, -6.503900051116943, -7.169099807739258, -6.078199863433838, -5.916299819946289, -6.015500068664551, -5.513500213623047, -5.529099941253662, -5.057700157165527, -5.832300186157227, -6.519999980926514, -4.224899768829346, -5.508399963378906, -6.371200084686279, -5.345099925994873, -5.419400215148926, -4.565000057220459, -5.886899948120117, -5.940899848937988, -5.345799922943115, -5.463600158691406, -5.792900085449219, -5.806700229644775, -6.3144001960754395, -6.038300037384033, -6.187399864196777, -6.061299800872803, -6.047299861907959, -5.792300224304199, -5.968500137329102, -6.108699798583984, -6.110099792480469, -6.601099967956543, -7.064000129699707, -7.258900165557861, -7.3618998527526855, -7.362100124359131, -7.362199783325195, -7.390500068664551, -7.51639986038208, -7.389699935913086, -7.4496002197265625, -7.583499908447266, -7.626299858093262, -7.60860013961792, -7.72730016708374, -7.6971001625061035, -7.274400234222412, -7.731100082397461, -7.731100082397461, -5.826000213623047, -5.416100025177002, -7.787199974060059, -7.868100166320801, -7.868199825286865, -7.868199825286865, -7.868199825286865, -7.868199825286865, -7.868199825286865, -7.868199825286865, -7.868299961090088, -7.4893999099731445, -7.525400161743164, -6.918300151824951, -7.509699821472168, -7.526500225067139, -7.271500110626221, -7.570400238037109, -7.052199840545654, -6.8815999031066895, -6.0706000328063965, -6.5081000328063965, -5.61460018157959, -4.486199855804443, -6.1107001304626465, -5.0177998542785645, -5.883500099182129, -6.95550012588501, -7.11870002746582, -5.535200119018555, -6.026199817657471, -7.060699939727783, -6.562300205230713, -5.412199974060059, -6.0366997718811035, -5.349299907684326, -6.293499946594238, -6.196199893951416, -6.492099761962891, -6.599999904632568, -5.5954999923706055, -5.643700122833252, -6.104300022125244, -6.553599834442139, -6.71750020980835, -5.407100200653076, -5.905399799346924, -6.0802998542785645, -5.328000068664551, -5.68310022354126, -5.534599781036377, -5.522500038146973, -5.997099876403809, -6.014800071716309, -5.839099884033203, -5.997399806976318, -6.040200233459473, -5.908899784088135, -6.1442999839782715, -6.085400104522705], \"loglift\": [30.0, 29.0, 28.0, 27.0, 26.0, 25.0, 24.0, 23.0, 22.0, 21.0, 20.0, 19.0, 18.0, 17.0, 16.0, 15.0, 14.0, 13.0, 12.0, 11.0, 10.0, 9.0, 8.0, 7.0, 6.0, 5.0, 4.0, 3.0, 2.0, 1.0, 1.0885, 1.0882, 1.0859, 1.0842, 1.083, 1.0821, 1.0805, 1.0799, 1.0791, 1.0767, 1.0758, 1.0756, 1.0729, 1.0718, 1.0712, 1.071, 1.0708, 1.0707, 1.0701, 1.0693, 1.0689, 1.0688, 1.0684, 1.0679, 1.0672, 1.0667, 1.0648, 1.0645, 1.0638, 1.0625, 1.0588, 1.0583, 1.0506, 1.0573, 1.0093, 1.0468, 1.0285, 1.0566, 1.0213, 0.9441, 1.0279, 1.0233, 1.0057, 0.8183, 0.7948, 0.8844, 0.9127, 0.9171, 0.8866, 0.7858, 0.6853, 0.7741, 0.7738, 0.482, 0.5635, 0.85, 0.879, 0.717, 0.6604, 0.6286, 0.5825, 0.5004, 0.2753, 0.618, 0.6834, 0.1825, 0.2322, 0.5869, 0.3378, 0.3677, 0.3786, 0.3441, 0.3611, -0.0535, 0.301, 0.0576, -0.0278, -0.1033, 1.3806, 1.3802, 1.3787, 1.3777, 1.3774, 1.3771, 1.3757, 1.3742, 1.3737, 1.3716, 1.371, 1.3709, 1.3676, 1.3655, 1.3651, 1.3645, 1.364, 1.3627, 1.3623, 1.3622, 1.3616, 1.3612, 1.3612, 1.361, 1.3609, 1.3602, 1.3593, 1.3593, 1.3579, 1.3574, 1.3479, 1.3554, 1.3572, 1.3402, 1.343, 1.3403, 1.3418, 1.3258, 1.2171, 1.2687, 1.2704, 1.2991, 1.2909, 1.2285, 1.1466, 1.1216, 1.1574, 1.1849, 1.2026, 1.1938, 1.1005, 0.8257, 1.088, 0.8538, 1.0418, 1.0421, 1.0029, 0.8872, 1.0478, 0.7806, 0.7398, 0.8183, 0.7503, 1.0795, 0.6628, 0.8046, 0.238, 0.8681, 0.1397, 0.4333, 0.4182, 0.8493, -0.0027, 0.3651, 0.2074, 0.2803, 0.3025, 0.0614, 0.4715, -0.1666, -0.1903, 1.6407, 1.6397, 1.6383, 1.638, 1.6368, 1.6364, 1.6361, 1.6356, 1.6346, 1.6342, 1.6334, 1.6323, 1.631, 1.6293, 1.6285, 1.6282, 1.6276, 1.6267, 1.6266, 1.6251, 1.6238, 1.6231, 1.6229, 1.6211, 1.6207, 1.6194, 1.6186, 1.6173, 1.617, 1.6166, 1.5983, 1.6127, 1.6118, 1.5955, 1.6075, 1.5237, 1.5991, 1.5864, 1.5097, 1.5148, 1.4904, 1.5731, 1.5379, 1.4468, 1.4046, 1.4074, 1.2787, 1.4562, 1.4816, 1.053, 1.4725, 1.307, 1.4105, 1.4374, 1.2518, 1.3441, 0.6248, 0.8508, 0.9917, 0.8211, 1.2142, 0.805, 0.9942, 0.9693, 1.1009, 0.7996, 1.1399, 0.2959, 0.7473, 0.7958, 0.6276, 0.0983, -0.0697, 0.1263, -0.0624, 0.3029, 0.3217, 2.1025, 2.1018, 2.1014, 2.0977, 2.0956, 2.0911, 2.0901, 2.0896, 2.0893, 2.0887, 2.0861, 2.0841, 2.0809, 2.0794, 2.0774, 2.0767, 2.0767, 2.0766, 2.0746, 2.074, 2.073, 2.0671, 2.0657, 2.0633, 2.0632, 2.0614, 2.0604, 2.0603, 2.0598, 2.0593, 2.0498, 2.0458, 2.0582, 2.049, 2.0435, 2.038, 2.0265, 2.0184, 2.0235, 2.0503, 1.9926, 1.9795, 1.9749, 1.9351, 1.8898, 1.8297, 1.9128, 1.9729, 1.5588, 1.7396, 1.9184, 1.6352, 1.5715, 1.2035, 1.7098, 1.6487, 1.0945, 1.088, 1.2308, 1.1846, 1.7463, 1.2618, 1.5006, 1.2052, 1.1157, 0.1169, -0.2989, 0.7846, 0.6489, 2.2576, 2.2474, 2.2428, 2.2428, 2.2426, 2.2425, 2.2409, 2.2391, 2.2391, 2.2378, 2.2356, 2.2352, 2.234, 2.2314, 2.2304, 2.2302, 2.2275, 2.2257, 2.2247, 2.2242, 2.2241, 2.2241, 2.2241, 2.224, 2.224, 2.224, 2.224, 2.224, 2.2239, 2.223, 2.2222, 2.2161, 2.2216, 2.2211, 2.215, 2.2187, 2.2077, 2.1979, 2.1479, 2.1632, 2.1027, 1.9965, 2.091, 1.8942, 1.9956, 2.1392, 2.1615, 1.8787, 1.9522, 2.1339, 2.0008, 1.6361, 1.82, 1.5977, 1.8904, 1.7657, 1.856, 1.8993, 1.4079, 1.4261, 1.6287, 1.8525, 1.9395, 1.0865, 1.3822, 1.4819, 0.8932, 1.1048, 0.7477, 0.6423, 1.1821, 1.1966, 0.9249, 1.021, 1.0615, 0.1095, 1.1198, 0.1188]}, \"token.table\": {\"Topic\": [3, 3, 5, 5, 1, 4, 5, 1, 2, 3, 4, 5, 1, 2, 3, 4, 5, 2, 1, 1, 2, 3, 4, 5, 1, 2, 3, 1, 2, 3, 4, 5, 5, 1, 1, 2, 1, 2, 2, 3, 3, 5, 1, 3, 1, 2, 3, 4, 5, 1, 2, 3, 4, 5, 3, 5, 1, 3, 5, 1, 3, 4, 5, 1, 3, 5, 3, 5, 1, 2, 3, 5, 2, 4, 2, 4, 2, 4, 1, 1, 2, 4, 2, 5, 1, 2, 3, 4, 5, 3, 5, 3, 3, 3, 5, 1, 3, 5, 5, 3, 5, 3, 1, 2, 1, 3, 5, 1, 5, 3, 5, 1, 2, 3, 4, 5, 1, 2, 3, 4, 5, 5, 2, 1, 2, 3, 4, 5, 1, 2, 3, 4, 5, 2, 2, 3, 4, 2, 1, 2, 3, 4, 5, 4, 4, 4, 1, 2, 3, 4, 5, 1, 2, 3, 4, 5, 1, 2, 5, 1, 2, 5, 1, 2, 3, 4, 5, 1, 2, 3, 4, 5, 1, 2, 3, 4, 1, 2, 3, 4, 5, 1, 2, 3, 4, 1, 2, 3, 4, 5, 1, 2, 3, 4, 5, 1, 2, 4, 2, 1, 3, 3, 5, 1, 2, 3, 4, 1, 2, 3, 4, 5, 3, 3, 4, 1, 2, 3, 5, 1, 2, 3, 5, 1, 4, 1, 1, 2, 3, 4, 5, 5, 1, 2, 4, 5, 1, 3, 1, 1, 2, 3, 4, 5, 5, 1, 2, 3, 4, 5, 1, 2, 3, 4, 5, 1, 2, 4, 5, 5, 1, 2, 4, 1, 2, 3, 5, 3, 5, 2, 1, 2, 3, 4, 5, 4, 5, 1, 2, 3, 4, 5, 1, 2, 3, 4, 5, 1, 3, 5, 1, 2, 3, 4, 3, 3, 5, 3, 5, 3, 3, 5, 1, 5, 1, 2, 3, 4, 5, 4, 1, 2, 3, 1, 2, 4, 1, 2, 3, 4, 5, 1, 2, 3, 4, 5, 1, 2, 3, 4, 2, 4, 1, 2, 3, 4, 5, 1, 2, 4, 3, 1, 1, 3, 4, 5, 2, 1, 2, 3, 4, 5, 2, 5, 1, 3, 5, 1, 2, 3, 4, 5, 1, 2, 3, 4, 5, 4, 1, 3, 5, 1, 3, 4, 5, 1, 2, 3, 4, 5, 1, 2, 3, 4, 5, 5, 2, 3, 5, 4, 1, 2, 3, 5, 1, 2, 3, 4, 1, 3, 5, 5, 1, 2, 3, 4, 5, 1, 2, 3, 4, 5, 3, 1, 3, 2, 1, 3, 1, 2, 3, 4, 5, 5, 1, 2, 3, 5, 1, 2, 3, 4, 5, 1, 2, 4, 4, 1, 5, 4, 1, 2, 3, 4, 5, 1, 2, 3, 4, 5, 1, 5, 3, 5, 1, 2, 3, 4, 5, 1, 2, 3, 4, 5, 4, 3, 3, 3, 1, 2, 3, 4, 5, 2, 3, 4, 5, 1, 2, 3, 4, 5, 1, 1, 1, 3, 5, 1, 3, 4, 5, 4, 1, 4, 1, 2, 3, 4, 5, 1, 2, 3, 4, 5, 1, 2, 3, 4, 5, 2, 5, 1, 2, 3, 4, 5, 1, 2, 3, 4, 5, 1, 2, 3, 4, 5, 3, 4, 5, 1, 2, 3, 4, 5, 1, 2, 3, 4, 5, 2, 4, 3, 2, 4, 3, 1, 2, 3, 4, 5, 2, 3, 4, 1, 2, 4, 2, 4, 1, 3, 5, 1, 2, 3, 4, 5, 5, 2, 4, 4, 5, 2, 3, 1, 2, 3, 5, 1, 3, 5, 1, 2, 3, 4, 5, 2, 4, 1, 2, 3, 4, 5, 1, 3, 4, 5, 1, 3, 4, 5, 3, 1, 2, 4, 2, 5, 1, 2, 3, 4, 5, 5, 1, 2, 3, 4, 5, 1, 4, 1, 2, 3, 4, 5, 5, 1, 2, 3, 4, 1, 2, 3, 4, 5, 3, 5, 3, 5, 1, 2, 5, 2, 2, 1, 2, 4, 5, 3, 4, 5, 3, 5, 5, 1, 2, 3, 4, 5, 1, 2, 3, 4, 2, 4, 2, 4, 1, 2, 3, 4, 5, 1, 3, 4, 5, 1, 2, 3, 4, 5, 1, 2, 3, 4, 5, 2, 4, 1, 2, 3, 4, 5, 1, 2, 3, 4, 5, 1, 2, 3, 4, 5, 1, 2, 3, 4, 5, 2, 4, 1, 2, 3, 4, 5, 2, 1, 2, 1, 2, 3, 1, 2, 3, 4, 5, 1, 2, 3, 4, 5, 5, 5, 1, 2, 3, 4, 5, 2, 4, 1, 2, 3, 4, 5, 3, 5, 1, 2, 3, 4, 5, 1, 2, 3, 4, 5, 1, 2, 3, 4, 5, 3, 5, 2, 2, 3, 5, 1, 5, 3, 1, 1, 2, 3, 1, 2, 4, 5, 1, 2, 3, 4, 1, 2, 4, 1, 2, 3, 4, 1, 3, 4, 5, 1, 2, 3, 4, 5, 1, 2, 3, 4, 5, 1, 2, 3, 4, 5, 1, 2, 3, 4, 2, 2, 1, 2, 4, 1, 2, 3, 4, 5, 1, 1, 2, 3, 4, 5, 1, 3, 1, 2, 3, 4, 1, 2, 4, 5, 1, 2, 3, 4, 5, 1, 2, 3, 4, 5, 5, 1, 2, 4, 1, 2, 3, 4, 5, 1, 2, 3, 4, 5, 1, 2, 3, 4, 5, 1, 2, 3, 4, 5, 1, 2, 3, 5, 2, 2, 1, 3, 5, 1, 2, 3, 4, 5, 1, 3, 5, 5, 1, 3, 4, 1, 2, 3, 4, 5, 4, 1, 2, 3, 4, 5, 1, 2, 3, 4, 5, 1, 4, 4, 3, 4, 1, 3, 5, 1, 4, 5, 2, 1, 2, 3, 5, 2, 4, 1, 1, 2, 3, 4, 5, 1, 2, 3, 4, 5, 1, 2, 1, 2, 3, 4, 5, 1, 2, 3, 4, 5, 1, 4, 1, 2, 3, 5, 2, 5, 1, 2, 3, 4, 5, 1, 2, 3, 4, 5, 4, 1, 3, 5, 1, 2, 3, 4, 5, 3, 1, 2, 3, 4, 5], \"Freq\": [0.9892222710400818, 0.9805023061358344, 0.9544939787747312, 0.9337551291850071, 0.09334076500043055, 0.023335191250107638, 0.8634020762539826, 0.06025305369001758, 0.04518979026751318, 0.015063263422504395, 0.16569589764754833, 0.7230366442802109, 0.2249936506468106, 0.26249259242127904, 0.06749809519404318, 0.4012386769868122, 0.04124883595191527, 0.9733064730728526, 0.9750403537261497, 0.8073042162649308, 0.05153005635733601, 0.08588342726222668, 0.012882514089334003, 0.04294171363111334, 0.006558844092709049, 0.9903854579990664, 0.9713413118171029, 0.9145194035250255, 0.03220138744806428, 0.03864166493767713, 0.006440277489612856, 0.012880554979225712, 0.9853861947815035, 0.9695478789079814, 0.9753696062567765, 0.019905502168505642, 0.008765073062624213, 0.9904532560765361, 0.9746092469166493, 0.9894119483194813, 0.10688365231158412, 0.8842193054867413, 0.01169273406972163, 0.9821896618566168, 0.559244474377383, 0.005765406952344154, 0.008648110428516232, 0.005765406952344154, 0.42087470752112327, 0.5342876914354565, 0.00504044991920242, 0.00504044991920242, 0.00504044991920242, 0.45364049272821777, 0.8480958203123085, 0.1459837067750695, 0.0031686840960927745, 0.871388126425513, 0.1235786797476182, 0.0010764173673227086, 0.8837386585719438, 0.0010764173673227086, 0.11517665830352981, 0.0013168899347744888, 0.9521114228419554, 0.04609114771710711, 0.04483209726849261, 0.9414740426383448, 0.9300213641230758, 0.006326675946415482, 0.03796005567849289, 0.025306703785661928, 0.014764812494545362, 0.9744776246399939, 0.036399714421876464, 0.9463925749687881, 0.03961502702626942, 0.9408568918738988, 0.9900166576924955, 0.025142730604663623, 0.08380910201554541, 0.8799955711632268, 0.9656327464440133, 0.024446398644152236, 0.1590055004461679, 0.39169647670885266, 0.007756365875422825, 0.42660012314825535, 0.01551273175084565, 0.8530785017714217, 0.1437772755794531, 0.9948690816712831, 0.9904079090372102, 0.9754777601831681, 0.02136082686532485, 0.013052824707701393, 0.9659090283699031, 0.026105649415402787, 0.9490930967896822, 0.8973728356099138, 0.09892298975227395, 0.9876263987677283, 0.9695004789607766, 0.018292461867184466, 0.9926062674525832, 0.9527204440357331, 0.04203178429569411, 0.9746098901347947, 0.9708044180335033, 0.046725840173979565, 0.9345168034795913, 0.725382434109391, 0.11159729755529091, 0.11159729755529091, 0.040775935645202446, 0.012876611256379721, 0.8128369115612043, 0.1491443874424228, 0.01118582905818171, 0.014914438744242281, 0.0074572193721211405, 0.9491004684883786, 0.9795472994766904, 0.10149439326367947, 0.10826068614792476, 0.13532585768490596, 0.020298878652735892, 0.636031531119058, 0.06299058141646337, 0.7492563894800379, 0.059675287657702136, 0.04972940638141844, 0.07625175645150828, 0.9892752204503008, 0.9563432992381865, 0.029577627811490304, 0.009859209270496768, 0.991757816711282, 0.648733872198086, 0.20098810150922297, 0.06765936090409486, 0.025869755639800974, 0.05571947368572518, 0.9846227051333735, 0.9528613461592319, 0.9552618445865313, 0.038742694283627276, 0.8846248528094894, 0.019371347141813638, 0.012914231427875757, 0.038742694283627276, 0.45030632643226864, 0.01302538960754496, 0.5191548143578635, 0.005582309831804983, 0.01302538960754496, 0.023573953276607676, 0.9724255726600666, 0.005893488319151919, 0.0042807506781085665, 0.9888534066430789, 0.008561501356217133, 0.8330942210046011, 0.01275144215823369, 0.042504807194112294, 0.004250480719411229, 0.11051249870469197, 0.6847942815679573, 0.06375670897356844, 0.20307692487877355, 0.01652951714129552, 0.030697674690977395, 0.930660522703021, 0.017076339866110478, 0.017076339866110478, 0.025614509799165717, 0.35423484579158465, 0.13752646954261522, 0.45112849478751804, 0.029172281418130497, 0.029172281418130497, 0.010536895010257324, 0.07375826507180126, 0.010536895010257324, 0.9061729708821298, 0.028223992088236532, 0.8890557507794508, 0.0211679940661774, 0.056447984176473065, 0.007055998022059133, 0.05996688466905233, 0.7924195474124772, 0.055683535764120023, 0.021416744524661545, 0.06853358247891694, 0.9550816578004483, 0.0076406532624035866, 0.030562613049614346, 0.9737935955394754, 0.9750944799776496, 0.01625157466629416, 0.9868644985300471, 0.014098064264714959, 0.08648146204647855, 0.8409576654174811, 0.032803313190043586, 0.03876755195186969, 0.6638993380991901, 0.029616327350149747, 0.09131700932962838, 0.0271483000709706, 0.18757007321761507, 0.9913887580096192, 0.03609090441593763, 0.9744544192303162, 0.8094092000206444, 0.0030201835821665837, 0.15100917910832917, 0.036242202985999006, 0.7816874941925437, 0.01100968301679639, 0.1834947169466065, 0.018349471694660648, 0.04834441076712945, 0.9427160099590243, 0.9907879320272902, 0.12825301846064638, 0.7105910482279056, 0.03466297796233686, 0.11785412507194531, 0.003466297796233686, 0.9491015270922901, 0.07438847555947131, 0.5545322723524225, 0.3685610834537442, 0.0033812943436123326, 0.008934643297850941, 0.9828107627636036, 0.9759552272813161, 0.24235518183819088, 0.06711374266288363, 0.6487661790745417, 0.007457082518098181, 0.029828330072392724, 0.9491023888411251, 0.2000535246952064, 0.2000535246952064, 0.028579074956458058, 0.5430024241727031, 0.03429488994774967, 0.13421088819203872, 0.7053874588697849, 0.012484733785305928, 0.13421088819203872, 0.012484733785305928, 0.1392157512048463, 0.8231887897330041, 0.036317152488220775, 0.9490924419842137, 0.9411268377173712, 0.9853336583765218, 0.9383744450230183, 0.045405215081758946, 0.17653485895362903, 0.07156818606228203, 0.739537922643581, 0.014313637212456407, 0.968511569866858, 0.018273803205035057, 0.9884335317909173, 0.06417139335865277, 0.161711911263805, 0.017967990140422777, 0.7520887301634105, 0.005133711468692222, 0.9207202186307536, 0.9412382656518029, 0.11616087609720822, 0.09956646522617849, 0.04978323261308924, 0.6886680511477346, 0.04148602717757437, 0.16260098307472862, 0.2060179994978237, 0.045970958565630084, 0.5729343539753528, 0.012769710712675023, 0.04776946469981341, 0.11464671527955218, 0.8311886857767533, 0.021753534493735214, 0.913648448736879, 0.021753534493735214, 0.04350706898747043, 0.9720493944020607, 0.09167452899321146, 0.9014662017665794, 0.044103892296113785, 0.9702856305145033, 0.9716181444445837, 0.9654083200643345, 0.030647883176645543, 0.9749520574714063, 0.9658745173049499, 0.602105563076551, 0.0742857512886654, 0.2091730365233473, 0.04300754021975365, 0.07037597490505142, 0.9568308705940572, 0.9801833820659553, 0.014499754172573303, 0.0028999508345146606, 0.935895281106349, 0.04396823468284861, 0.012562352766528175, 0.1247595465539214, 0.7650349552834803, 0.06355675013124297, 0.028247444502774655, 0.016477675959951883, 0.7335577574056663, 0.059842869683093824, 0.18338943935141658, 0.013512906057472799, 0.007721660604270171, 0.981224559863543, 0.008532387477074287, 0.008532387477074287, 0.002844129159024762, 0.015339275303625938, 0.98171361943206, 0.150340748566543, 0.052619261998290055, 0.18792593570817875, 0.0075170374283271505, 0.601362994266172, 0.03975982795913695, 0.019879913979568474, 0.9343559570397183, 0.9857632194454063, 0.9645918809817575, 0.0036558252046758476, 0.8773980491222034, 0.0036558252046758476, 0.11698640654962712, 0.9936811708034661, 0.452144773192056, 0.33712548878355053, 0.1890546858668538, 0.014542668143604139, 0.007932364441965895, 0.97670699941939, 0.020780999987646594, 0.012275493830987333, 0.9452130249860246, 0.04910197532394933, 0.47172384318324345, 0.3847306149598401, 0.06983963392583084, 0.0612628367770446, 0.01225256735540892, 0.5522073548167473, 0.06610933121045567, 0.26054854065297234, 0.005185045585133778, 0.11536726426922657, 0.976050626669871, 0.006919599445357825, 0.23526638114216603, 0.7542363395440028, 0.0043451457338689005, 0.31719563857242977, 0.0043451457338689005, 0.6734975887496796, 0.15045845709171904, 0.678430861068115, 0.10395311580882408, 0.03829851635061939, 0.02735608310758528, 0.9650122236016533, 0.007005533383678064, 0.025395058515832982, 0.000875691672959758, 0.001751383345919516, 0.939455713757599, 0.9762568218134263, 0.04483075885408431, 0.9414459359357705, 0.9703931081051953, 0.9799129353463603, 0.011665630182694765, 0.005832815091347383, 0.9491079181079495, 0.055582440292132024, 0.9115520207909652, 0.011116488058426405, 0.02223297611685281, 0.03211616726391994, 0.952779628829625, 0.010705389087973314, 0.9488793522516115, 0.24979606063264956, 0.566070105143343, 0.048347624638577336, 0.11482560851662117, 0.022159327959347944, 0.19098770073195306, 0.024643574287993946, 0.2803206575259311, 0.07701116964998107, 0.4281821032538948, 0.9933328520854035, 0.9871084385765592, 0.009056040720885864, 0.9846938794489788, 0.9772977175652512, 0.9796232416700668, 0.08868763872558577, 0.19824295715130938, 0.0365184394752412, 0.6677657504044106, 0.010433839850068915, 0.9490999401817591, 0.1286469904164217, 0.012864699041642167, 0.18010578658299034, 0.6818290492070349, 0.17607534115196685, 0.4898506285894462, 0.07675078973290862, 0.23025236919872588, 0.029345890191994475, 0.03423271072258935, 0.9499577225518544, 0.008558177680647337, 0.9584068314643808, 0.05505632079118256, 0.9359574534501036, 0.9557204074957303, 0.7409638431983488, 0.0013184410021322933, 0.0013184410021322933, 0.003955323006396881, 0.25182223140726806, 0.7259848308158467, 0.002268702596299521, 0.006806107788898563, 0.004537405192599042, 0.2586320959781454, 0.9332083399847937, 0.055992500399087625, 0.043595885934877725, 0.9536600048254502, 0.2893740342139016, 0.007892019114924589, 0.013153365191540983, 0.0026306730383081965, 0.6839749899601311, 0.21406275718014958, 0.0017125020574411966, 0.022262526746735557, 0.0017125020574411966, 0.7586384114464501, 0.9846396274598879, 0.9862142822053285, 0.9892775983211579, 0.9810694759230286, 0.4807527032719303, 0.021678503861068475, 0.43739569554979335, 0.006376030547373081, 0.053558656597933886, 0.014774549139606737, 0.044323647418820215, 0.9307965957952244, 0.014774549139606737, 0.4018828410013077, 0.2869664228151502, 0.25904887489421935, 0.04025320863017945, 0.012984906009735305, 0.9927362533039779, 0.9664122085172203, 0.02081053876296037, 0.9260689749517365, 0.05202634690740092, 0.041071861201575834, 0.008214372240315166, 0.008214372240315166, 0.9528671798765594, 0.9772674065536691, 0.08279839102353113, 0.9107823012588425, 0.0183462745960291, 0.6054270616689603, 0.00550388237880873, 0.35775235462256744, 0.01100776475761746, 0.8597831166629126, 0.03738187463751794, 0.0654182806156564, 0.007787890549482904, 0.029593984088035034, 0.30754956651987153, 0.07416088838067823, 0.5082202056675891, 0.043624051988634255, 0.0676172805823831, 0.9594404057298782, 0.02085740012456257, 0.44111875057542166, 0.31637900910148725, 0.1797924765378496, 0.03693411339731019, 0.026481062435807303, 0.23749952997168566, 0.557396856055997, 0.12359669416893845, 0.06301007938024314, 0.019387716732382505, 0.3648080273202413, 0.08656461665226065, 0.4266398963575703, 0.010305311506221505, 0.11129736426719226, 0.29862154639582694, 0.03318017182175855, 0.663603436435171, 0.2997399873478818, 0.37904339207220933, 0.2661368497528278, 0.04570026712927346, 0.009408878526615124, 0.14381536943923204, 0.7068372412864383, 0.05201832511631797, 0.0887371428454836, 0.009179704432291408, 0.3677929654673684, 0.6268020960781912, 0.9739836044375901, 0.032023318894683524, 0.9606995668405056, 0.9926343777601738, 0.2997610290420521, 0.09240753526860253, 0.5206375767572483, 0.018030738588995614, 0.069869112032358, 0.9769546892818928, 0.9810879134712999, 0.9874426387958976, 0.0061264212695446175, 0.055137791425901556, 0.9373424542403265, 0.052871415903508454, 0.9252497783113979, 0.008030005193907393, 0.819060529778554, 0.16863010907205525, 0.6201903838724356, 0.18323806796231054, 0.13088433425879323, 0.04631291827618838, 0.02013605142442973, 0.9715276679066719, 0.0630413483412504, 0.9298598880334433, 0.968935671442918, 0.9552969818752067, 0.9869416948648647, 0.96803547732612, 0.976301753825793, 0.007627357451764008, 0.015254714903528015, 0.007627357451764008, 0.16456154410703144, 0.05485384803567715, 0.7679538724994801, 0.002846423691443809, 0.3871136220363581, 0.014232118457219048, 0.5806704330545371, 0.014232118457219048, 0.9550349818537611, 0.030318570852500355, 0.007362710714868487, 0.28346436252243673, 0.02208813214460546, 0.6847320964827692, 0.9629829084374927, 0.026811488996247638, 0.5017578655012058, 0.05745319070624494, 0.4098327603712139, 0.13467572034534328, 0.3404302930951733, 0.2094955649816451, 0.3142433474724677, 0.9909824348199223, 0.002941644665706515, 0.58244564380989, 0.41183025319891203, 0.9647963969929002, 0.024119909924822505, 0.34298452754588515, 0.5217434126651388, 0.09737272604056908, 0.027613161115982277, 0.00871994561557335, 0.9578568495384603, 0.1613335084378646, 0.011126448857783765, 0.7899778689026473, 0.027816122144459412, 0.011126448857783765, 0.9865064822421811, 0.969567490314344, 0.20040404061897352, 0.35876527551368687, 0.11491700231297783, 0.10790986802560112, 0.2172211629086776, 0.9715283112775754, 0.971448960936888, 0.012616220271907636, 0.012616220271907636, 0.9786901315771696, 0.002816902262589452, 0.3746480009243971, 0.002816902262589452, 0.6169015955070899, 0.9767477920528288, 0.034529976750742424, 0.9323093722700455, 0.15304144687025667, 0.8417279577864116, 0.02337233611661076, 0.9465796127227358, 0.01168616805830538, 0.990230551673708, 0.9719151896279619, 0.300319754179992, 0.00938499231812475, 0.00938499231812475, 0.6851044392231068, 0.051573640180440986, 0.051573640180440986, 0.8767518830674967, 0.04855808425238607, 0.9468826429215284, 0.9520935753297645, 0.54211057204093, 0.06546240869928212, 0.35953182277808854, 0.007159950951483982, 0.02608267846612022, 0.03206648240914408, 0.004580926058449154, 0.004580926058449154, 0.9619944722743224, 0.043393527166725274, 0.9438092158762746, 0.017245133811483765, 0.9829726272545746, 0.5999252785944045, 0.227672474148015, 0.10469610125054704, 0.053178972063769925, 0.014956585892935291, 0.28865988610199356, 0.3676977120584918, 0.01030928164649977, 0.3367698671189925, 0.2538435562081584, 0.5284090353720848, 0.04317067282451673, 0.08116086491009146, 0.09324865330095615, 0.31939211871043127, 0.07807362901810541, 0.1774400659502396, 0.08162243033711021, 0.34068492662446, 0.06216219498646981, 0.9324329247970471, 0.4196700639753789, 0.39944500065126426, 0.12303580188836409, 0.03033759498617197, 0.02865217304249575, 0.06113742818528562, 0.038210892615803516, 0.15284357046321406, 0.02292653556948211, 0.7260069597002667, 0.04005312863439582, 0.7835393289103683, 0.005006641079299478, 0.15019923237898433, 0.02002656431719791, 0.030702482910715537, 0.7324735208699279, 0.01315820696173523, 0.18860096645153832, 0.03508855189796062, 0.12783907167214556, 0.8693056873705898, 0.6279206132688755, 0.22932752832428496, 0.0400413144693196, 0.03822125472071416, 0.0655221509497957, 0.9807538430765996, 0.9776651177435245, 0.9822964771641816, 0.9606356040288809, 0.0174661018914342, 0.0174661018914342, 0.758442820564244, 0.07113079560094039, 0.14226159120188078, 0.011140967985689459, 0.016282953209853825, 0.0029258837252245434, 0.11996123273420627, 0.5793249775944596, 0.011703534900898174, 0.2867366050720052, 0.9859541044002748, 0.981604973397353, 0.0028478094607686825, 0.5951921773006547, 0.005695618921537365, 0.39299770558607816, 0.0028478094607686825, 0.07939838826464157, 0.9130814650433782, 0.3173655463087925, 0.10304076178856898, 0.551611544774806, 0.014425706650399658, 0.01305182982655207, 0.963913628591139, 0.03505140467604142, 0.3554216974628939, 0.19475161504816105, 0.40573253135033555, 0.04057325313503355, 0.0016229301254013422, 0.8365250146429876, 0.06639087417801488, 0.05311269934241191, 0.004426058278534326, 0.03540846622827461, 0.20914404839870857, 0.24271037715405686, 0.22721822542081918, 0.2633665794650404, 0.05422253106633185, 0.837498783948071, 0.15032029455478196, 0.969170553701389, 0.9766137498210831, 0.08426791724368278, 0.8988577839326163, 0.03515914753292285, 0.9492969833889171, 0.9601033152310646, 0.9714382729512931, 0.023829246356023962, 0.007943082118674654, 0.9690560184783078, 0.00363581306974436, 0.7417058662278494, 0.2545069148821052, 0.00363581306974436, 0.038412141590084416, 0.8322630677851622, 0.03201011799173701, 0.10243237757355844, 0.005394430996781694, 0.8145590805140358, 0.1780162228937959, 0.004367205687931149, 0.1921570502689706, 0.004367205687931149, 0.7991986408914005, 0.1680470031987218, 0.6721880127948872, 0.0034295306775249342, 0.15432888048862206, 0.11580392762747847, 0.01286710306971983, 0.8106274933923493, 0.02573420613943966, 0.03216775767429957, 0.010582932050588469, 0.017638220084314114, 0.7125840914062902, 0.21871392904549503, 0.042331728202353876, 0.018444212874787154, 0.5692554791809308, 0.009222106437393577, 0.40158081668286577, 0.0016767466249806504, 0.004498910239136976, 0.1529629481306572, 0.004498910239136976, 0.8322983942403406, 0.9705053787264109, 0.9914334552931099, 0.0914676815170104, 0.035179877506542466, 0.8724609621622531, 0.41405770400603303, 0.1396241094904065, 0.3610968348889823, 0.06259011804742359, 0.022468247504203342, 0.9776252335889609, 0.6642208856610029, 0.06729442368798154, 0.04984772125035669, 0.022431474562660512, 0.19565230590765, 0.9935377459071629, 0.9934363074328375, 0.015467966789244711, 0.09280780073546827, 0.015467966789244711, 0.8662061401977038, 0.05446334603915768, 0.1149781749715551, 0.8169501905873652, 0.006051482893239742, 0.1247365649232379, 0.48417482437309445, 0.0049238117732857065, 0.3594382594498566, 0.026260329457523768, 0.34458049244380956, 0.13277413470311927, 0.42835464886363483, 0.056903200587051124, 0.03635482259728266, 0.9490992681975513, 0.00546351434346966, 0.852308237581267, 0.14205137293021114, 0.36178136591229815, 0.18162303389929138, 0.4306223545676747, 0.016111720749130688, 0.010252913203992256, 0.48291498781771613, 0.3303491561572888, 0.16013107951135758, 0.022695743552790835, 0.003782623925465139, 0.5879700450233707, 0.21100537906080644, 0.18097465095477405, 0.014225081734436389, 0.0055319762300585955, 0.422286456199411, 0.24835912082231548, 0.21266224412919982, 0.08962194574016277, 0.027342288530897117, 0.08773621749692909, 0.005849081166461939, 0.8247204444711334, 0.08188713633046714, 0.984662749268442, 0.9694054660789867, 0.009045138355496427, 0.458287010011819, 0.5276330707372916, 0.0017311499385282687, 0.0017311499385282687, 0.6907288254727793, 0.0017311499385282687, 0.3046823891809753, 0.003595455690836144, 0.7874047962931155, 0.20853643006849637, 0.9715186439989529, 0.14604114731676104, 0.03129453156787737, 0.8240893312874373, 0.10080198713198561, 0.198879596233377, 0.05721193864247832, 0.13621890152971028, 0.5094586917211165, 0.9692821133653281, 0.3256599105814176, 0.5853633835767252, 0.026794802769357143, 0.041222773491318684, 0.020611386745659342, 0.023441835838357964, 0.11720917919178983, 0.1406510150301478, 0.058604589595894915, 0.656371403474023, 0.9905787452299677, 0.9428839914194007, 0.9768027315887559, 0.006917894768229504, 0.9892589518568191, 0.09858046951979378, 0.6010228625561621, 0.29892142370518116, 0.9648234574593544, 0.02297198708236558, 0.01148599354118279, 0.9897821024021708, 0.9559714192525521, 0.010279262572608088, 0.020558525145216177, 0.020558525145216177, 0.015673146708348906, 0.9717350959176323, 0.9922149490038653, 0.46970012505198133, 0.3067658711463897, 0.20226321174487233, 0.011236845096937353, 0.010113160587243616, 0.3462258514651204, 0.016265644028562704, 0.29278159251412866, 0.03485495148977722, 0.3113708999753432, 0.9622050489789973, 0.02749157282797135, 0.4886691236506586, 0.24043560605152087, 0.19104883291661387, 0.05198607698411262, 0.027292690416659125, 0.9173262333641644, 0.0066312739761264896, 0.06852316441997372, 0.0066312739761264896, 0.00221042465870883, 0.9741491406488716, 0.014118103487664804, 0.00407838432225281, 0.9584203157294106, 0.020391921611264054, 0.012235152966758433, 0.9773008001324179, 0.01018021666804602, 0.19983747807152205, 0.002814612367204536, 0.7852768504500656, 0.002814612367204536, 0.011258449468818144, 0.1865438334240019, 0.5447079935980856, 0.1741075778624018, 0.04352689446560045, 0.052232273358720535, 0.978688949075705, 0.022983379303436167, 0.045966758606872334, 0.9193351721374468, 0.3020731383627145, 0.2653997222036629, 0.21811031715646478, 0.1351125858491375, 0.07913737171163766, 0.9616801700902627, 0.11957678755490048, 0.053809554399705216, 0.22121705697656588, 0.08370375128843034, 0.5261378652415621], \"Term\": [\"-gayane\", \"-zinaida\", \"0/0\", \"1913\", \"1948\", \"1948\", \"1948\", \"1983\", \"1983\", \"1983\", \"1983\", \"1983\", \"1993\", \"1993\", \"1993\", \"1993\", \"1993\", \"205\", \"abide\", \"action\", \"action\", \"action\", \"action\", \"action\", \"adl\", \"adl\", \"agdam\", \"agent\", \"agent\", \"agent\", \"agent\", \"agent\", \"aiu\", \"alcohol\", \"amendment\", \"amendment\", \"amp\", \"amp\", \"amplifier\", \"anania\", \"ankara\", \"ankara\", \"apartment\", \"apartment\", \"arab\", \"arab\", \"arab\", \"arab\", \"arab\", \"arabs\", \"arabs\", \"arabs\", \"arabs\", \"arabs\", \"argic\", \"argic\", \"armenia\", \"armenia\", \"armenia\", \"armenian\", \"armenian\", \"armenian\", \"armenian\", \"armenians\", \"armenians\", \"armenians\", \"askeri\", \"askeri\", \"assault\", \"assault\", \"assault\", \"assault\", \"asteroid\", \"asteroid\", \"astronomical\", \"astronomical\", \"astronomy\", \"astronomy\", \"atf\", \"atmosphere\", \"atmosphere\", \"atmosphere\", \"audio\", \"audio\", \"available\", \"available\", \"available\", \"available\", \"available\", \"azerbaijan\", \"azerbaijan\", \"azerbaijani\", \"azerbaijanis\", \"azeri\", \"azeri\", \"azeris\", \"azeris\", \"azeris\", \"babiali\", \"baku\", \"baku\", \"balcony\", \"ban\", \"ban\", \"batf\", \"bayonet\", \"bayonet\", \"bds\", \"bedouin\", \"belgeleri\", \"belgeleri\", \"believe\", \"believe\", \"believe\", \"believe\", \"believe\", \"bill\", \"bill\", \"bill\", \"bill\", \"bill\", \"birinci\", \"breaker\", \"british\", \"british\", \"british\", \"british\", \"british\", \"build\", \"build\", \"build\", \"build\", \"build\", \"bullock\", \"cable\", \"cable\", \"cable\", \"capacitor\", \"case\", \"case\", \"case\", \"case\", \"case\", \"cassini\", \"celestial\", \"charon\", \"cheap\", \"cheap\", \"cheap\", \"cheap\", \"cheap\", \"child\", \"child\", \"child\", \"child\", \"child\", \"chip\", \"chip\", \"chip\", \"circuit\", \"circuit\", \"circuit\", \"citizen\", \"citizen\", \"citizen\", \"citizen\", \"citizen\", \"claim\", \"claim\", \"claim\", \"claim\", \"claim\", \"clinton\", \"clinton\", \"clinton\", \"clinton\", \"come\", \"come\", \"come\", \"come\", \"come\", \"comet\", \"comet\", \"comet\", \"comet\", \"commercial\", \"commercial\", \"commercial\", \"commercial\", \"commercial\", \"company\", \"company\", \"company\", \"company\", \"company\", \"compound\", \"compound\", \"compound\", \"connector\", \"cop\", \"cop\", \"corpse\", \"corpse\", \"cost\", \"cost\", \"cost\", \"cost\", \"country\", \"country\", \"country\", \"country\", \"country\", \"courtyard\", \"crater\", \"crater\", \"crime\", \"crime\", \"crime\", \"crime\", \"criminal\", \"criminal\", \"criminal\", \"criminal\", \"croats\", \"croats\", \"cult\", \"current\", \"current\", \"current\", \"current\", \"current\", \"dahiliye\", \"datum\", \"datum\", \"datum\", \"datum\", \"daughter\", \"daughter\", \"davidians\", \"dead\", \"dead\", \"dead\", \"dead\", \"dead\", \"defterleri\", \"degree\", \"degree\", \"degree\", \"degree\", \"degree\", \"design\", \"design\", \"design\", \"design\", \"design\", \"device\", \"device\", \"device\", \"devleti\", \"dialing\", \"dictionary\", \"digital\", \"digital\", \"door\", \"door\", \"door\", \"door\", \"dro\", \"dro\", \"dryden\", \"earth\", \"earth\", \"earth\", \"earth\", \"earth\", \"eclipse\", \"een\", \"element\", \"element\", \"element\", \"element\", \"element\", \"email\", \"email\", \"email\", \"email\", \"email\", \"empire\", \"empire\", \"empire\", \"engine\", \"engine\", \"engine\", \"engine\", \"entryway\", \"ermeni\", \"ermeni\", \"ermeniler\", \"ermeniler\", \"erzincan\", \"erzurum\", \"erzurum\", \"evil\", \"evrak\", \"fact\", \"fact\", \"fact\", \"fact\", \"fact\", \"fahrenheit\", \"fbi\", \"fbi\", \"fbi\", \"federal\", \"federal\", \"federal\", \"file\", \"file\", \"file\", \"file\", \"file\", \"fire\", \"fire\", \"fire\", \"fire\", \"fire\", \"firearm\", \"firearm\", \"firearm\", \"firearm\", \"flyby\", \"flyby\", \"foreign\", \"foreign\", \"foreign\", \"foreign\", \"foreign\", \"galileo\", \"galileo\", \"galileo\", \"gaya\", \"gazans\", \"genocide\", \"genocide\", \"genocide\", \"genocide\", \"gerard\", \"get\", \"get\", \"get\", \"get\", \"get\", \"gfci\", \"gfci\", \"girl\", \"girl\", \"girl\", \"good\", \"good\", \"good\", \"good\", \"good\", \"government\", \"government\", \"government\", \"government\", \"government\", \"gravitational\", \"greece\", \"greece\", \"greece\", \"greek\", \"greek\", \"greek\", \"greek\", \"ground\", \"ground\", \"ground\", \"ground\", \"ground\", \"gun\", \"gun\", \"gun\", \"gun\", \"gun\", \"gurion\", \"gurvitz\", \"hakkinda\", \"hakkinda\", \"halley\", \"handgun\", \"handgun\", \"handgun\", \"harbi\", \"hardware\", \"hardware\", \"hardware\", \"hardware\", \"henrik\", \"henrik\", \"henrik\", \"het\", \"high\", \"high\", \"high\", \"high\", \"high\", \"history\", \"history\", \"history\", \"history\", \"history\", \"hojali\", \"homicide\", \"homicide\", \"hst\", \"ics.uci.edu\", \"igor\", \"image\", \"image\", \"image\", \"image\", \"image\", \"imparatorlugu'nun\", \"independence\", \"independence\", \"independence\", \"independence\", \"information\", \"information\", \"information\", \"information\", \"information\", \"input\", \"input\", \"input\", \"interplanetary\", \"irgun\", \"irgun\", \"isas\", \"israel\", \"israel\", \"israel\", \"israel\", \"israel\", \"israeli\", \"israeli\", \"israeli\", \"israeli\", \"israeli\", \"israelis\", \"israelis\", \"istanbul\", \"istanbul\", \"jewish\", \"jewish\", \"jewish\", \"jewish\", \"jewish\", \"jews\", \"jews\", \"jews\", \"jews\", \"jews\", \"jupiter\", \"karabagh\", \"karabakh\", \"karina\", \"kill\", \"kill\", \"kill\", \"kill\", \"kill\", \"kilometer\", \"kilometer\", \"kilometer\", \"kilometer\", \"know\", \"know\", \"know\", \"know\", \"know\", \"koresh\", \"kratz\", \"kurds\", \"kurds\", \"kurds\", \"kuwait\", \"kuwait\", \"kuwait\", \"kuwait\", \"lander\", \"larson\", \"larson\", \"launch\", \"launch\", \"launch\", \"launch\", \"launch\", \"law\", \"law\", \"law\", \"law\", \"law\", \"leave\", \"leave\", \"leave\", \"leave\", \"leave\", \"led\", \"led\", \"like\", \"like\", \"like\", \"like\", \"like\", \"line\", \"line\", \"line\", \"line\", \"line\", \"live\", \"live\", \"live\", \"live\", \"live\", \"london\", \"london\", \"london\", \"look\", \"look\", \"look\", \"look\", \"look\", \"low\", \"low\", \"low\", \"low\", \"low\", \"lunar\", \"lunar\", \"lyuda\", \"magellan\", \"magellan\", \"mamma\", \"man\", \"man\", \"man\", \"man\", \"man\", \"manual\", \"marina\", \"mariner\", \"mars\", \"mars\", \"mars\", \"martian\", \"martian\", \"massacre\", \"massacre\", \"massacre\", \"mean\", \"mean\", \"mean\", \"mean\", \"mean\", \"mecmuasi\", \"mercury\", \"mercury\", \"meteor\", \"mezalimi\", \"mhz\", \"microdistrict\", \"militia\", \"militia\", \"militia\", \"militia\", \"minister\", \"minister\", \"minister\", \"mission\", \"mission\", \"mission\", \"mission\", \"mission\", \"module\", \"module\", \"moon\", \"moon\", \"moon\", \"moon\", \"muharrerat\", \"muslim\", \"muslim\", \"muslim\", \"muslim\", \"muslims\", \"muslims\", \"muslims\", \"muslims\", \"nagorno\", \"nasa\", \"nasa\", \"nasa\", \"nec\", \"nec\", \"need\", \"need\", \"need\", \"need\", \"need\", \"negev\", \"neighbor\", \"neighbor\", \"neighbor\", \"neighbor\", \"neighbor\", \"nejm\", \"neptune\", \"new\", \"new\", \"new\", \"new\", \"new\", \"nezareti\", \"nra\", \"nra\", \"nra\", \"onur\", \"orbit\", \"orbit\", \"orbit\", \"orbit\", \"osmanli\", \"othman\", \"othman\", \"ottoman\", \"ottoman\", \"outlet\", \"outlet\", \"outlet\", \"output\", \"pad\", \"palestine\", \"palestine\", \"palestine\", \"palestine\", \"paris\", \"paris\", \"paris\", \"parliament\", \"parliament\", \"parliamentary\", \"people\", \"people\", \"people\", \"people\", \"people\", \"planet\", \"planet\", \"planet\", \"planet\", \"planetary\", \"planetary\", \"pluto\", \"pluto\", \"point\", \"point\", \"point\", \"point\", \"point\", \"population\", \"population\", \"population\", \"population\", \"power\", \"power\", \"power\", \"power\", \"power\", \"press\", \"press\", \"press\", \"press\", \"press\", \"probe\", \"probe\", \"problem\", \"problem\", \"problem\", \"problem\", \"problem\", \"professor\", \"professor\", \"professor\", \"professor\", \"professor\", \"program\", \"program\", \"program\", \"program\", \"program\", \"project\", \"project\", \"project\", \"project\", \"project\", \"propulsion\", \"propulsion\", \"question\", \"question\", \"question\", \"question\", \"question\", \"redesign\", \"reno\", \"resistor\", \"revolver\", \"revolver\", \"revolver\", \"right\", \"right\", \"right\", \"right\", \"right\", \"russian\", \"russian\", \"russian\", \"russian\", \"russian\", \"sabah\", \"salonica\", \"satellite\", \"satellite\", \"satellite\", \"satellite\", \"satellite\", \"saturn\", \"saturn\", \"say\", \"say\", \"say\", \"say\", \"say\", \"sdpa\", \"sdpa\", \"see\", \"see\", \"see\", \"see\", \"see\", \"self\", \"self\", \"self\", \"self\", \"self\", \"send\", \"send\", \"send\", \"send\", \"send\", \"serdar\", \"serdar\", \"servicing\", \"shack\", \"shaw\", \"shaw\", \"sheikh\", \"sheikh\", \"shirak\", \"shotgun\", \"shout\", \"shout\", \"shout\", \"shuttle\", \"shuttle\", \"shuttle\", \"shuttle\", \"signal\", \"signal\", \"signal\", \"signal\", \"software\", \"software\", \"software\", \"solar\", \"solar\", \"solar\", \"solar\", \"soldier\", \"soldier\", \"soldier\", \"soldier\", \"son\", \"son\", \"son\", \"son\", \"son\", \"soviet\", \"soviet\", \"soviet\", \"soviet\", \"soviet\", \"space\", \"space\", \"space\", \"space\", \"space\", \"spacecraft\", \"spacecraft\", \"spacecraft\", \"spacecraft\", \"spec\", \"ssf\", \"star\", \"star\", \"star\", \"start\", \"start\", \"start\", \"start\", \"start\", \"stat\", \"state\", \"state\", \"state\", \"state\", \"state\", \"suicide\", \"sumgait\", \"sun\", \"sun\", \"sun\", \"sun\", \"surface\", \"surface\", \"surface\", \"surface\", \"system\", \"system\", \"system\", \"system\", \"system\", \"take\", \"take\", \"take\", \"take\", \"take\", \"tarihi\", \"technology\", \"technology\", \"technology\", \"tell\", \"tell\", \"tell\", \"tell\", \"tell\", \"thing\", \"thing\", \"thing\", \"thing\", \"thing\", \"think\", \"think\", \"think\", \"think\", \"think\", \"time\", \"time\", \"time\", \"time\", \"time\", \"town\", \"town\", \"town\", \"town\", \"transformer\", \"ttl\", \"turkey\", \"turkey\", \"turkey\", \"turkish\", \"turkish\", \"turkish\", \"turkish\", \"turkish\", \"turks\", \"turks\", \"turks\", \"umumiye\", \"universe\", \"universe\", \"universe\", \"university\", \"university\", \"university\", \"university\", \"university\", \"uranus\", \"use\", \"use\", \"use\", \"use\", \"use\", \"van\", \"van\", \"van\", \"van\", \"van\", \"vancouver\", \"vega\", \"venera\", \"venus\", \"venus\", \"village\", \"village\", \"village\", \"violent\", \"violent\", \"violent\", \"voltage\", \"vote\", \"vote\", \"vote\", \"vote\", \"voyager\", \"voyager\", \"waco\", \"want\", \"want\", \"want\", \"want\", \"want\", \"war\", \"war\", \"war\", \"war\", \"war\", \"warrant\", \"warrant\", \"way\", \"way\", \"way\", \"way\", \"way\", \"weapon\", \"weapon\", \"weapon\", \"weapon\", \"weapon\", \"weaver\", \"weaver\", \"wire\", \"wire\", \"wire\", \"wire\", \"wiring\", \"wiring\", \"woman\", \"woman\", \"woman\", \"woman\", \"woman\", \"work\", \"work\", \"work\", \"work\", \"work\", \"yalcin\", \"yassin\", \"yassin\", \"yassin\", \"year\", \"year\", \"year\", \"year\", \"year\", \"yerevan\", \"york\", \"york\", \"york\", \"york\", \"york\"]}, \"R\": 30, \"lambda.step\": 0.01, \"plot.opts\": {\"xlab\": \"PC1\", \"ylab\": \"PC2\"}, \"topic.order\": [5, 2, 1, 4, 3]};\n",
              "\n",
              "function LDAvis_load_lib(url, callback){\n",
              "  var s = document.createElement('script');\n",
              "  s.src = url;\n",
              "  s.async = true;\n",
              "  s.onreadystatechange = s.onload = callback;\n",
              "  s.onerror = function(){console.warn(\"failed to load library \" + url);};\n",
              "  document.getElementsByTagName(\"head\")[0].appendChild(s);\n",
              "}\n",
              "\n",
              "if(typeof(LDAvis) !== \"undefined\"){\n",
              "   // already loaded: just create the visualization\n",
              "   !function(LDAvis){\n",
              "       new LDAvis(\"#\" + \"ldavis_el10561403402506286885112747213\", ldavis_el10561403402506286885112747213_data);\n",
              "   }(LDAvis);\n",
              "}else if(typeof define === \"function\" && define.amd){\n",
              "   // require.js is available: use it to load d3/LDAvis\n",
              "   require.config({paths: {d3: \"https://cdnjs.cloudflare.com/ajax/libs/d3/3.5.5/d3.min\"}});\n",
              "   require([\"d3\"], function(d3){\n",
              "      window.d3 = d3;\n",
              "      LDAvis_load_lib(\"https://cdn.rawgit.com/bmabey/pyLDAvis/files/ldavis.v1.0.0.js\", function(){\n",
              "        new LDAvis(\"#\" + \"ldavis_el10561403402506286885112747213\", ldavis_el10561403402506286885112747213_data);\n",
              "      });\n",
              "    });\n",
              "}else{\n",
              "    // require.js not available: dynamically load d3 & LDAvis\n",
              "    LDAvis_load_lib(\"https://cdnjs.cloudflare.com/ajax/libs/d3/3.5.5/d3.min.js\", function(){\n",
              "         LDAvis_load_lib(\"https://cdn.rawgit.com/bmabey/pyLDAvis/files/ldavis.v1.0.0.js\", function(){\n",
              "                 new LDAvis(\"#\" + \"ldavis_el10561403402506286885112747213\", ldavis_el10561403402506286885112747213_data);\n",
              "            })\n",
              "         });\n",
              "}\n",
              "</script>"
            ]
          },
          "metadata": {},
          "execution_count": 38
        }
      ]
    },
    {
      "cell_type": "markdown",
      "metadata": {
        "id": "GOC-5qivVKlA"
      },
      "source": [
        "###3.2 What is topic coherence?\n",
        "\n",
        "\n",
        "_Topic Coherence measures score a single topic by\n",
        "measuring the degree of semantic similarity between\n",
        "high scoring words in the topic._ <br>\n",
        "-- From \"Exploring Topic Coherence over many models and many topics\", by Keith Stevens, Philip Kegelmeyer, David Andrzejewski, and David Buttler, Proceedings of the 2012 Joint Conference on Empirical Methods in Natural Language Processing and Computational Natural\n",
        "Language Learning, pages 952–961, Jeju Island, Korea, 12–14 July 2012. \n",
        "c 2012 Association for Computational Linguistics\n",
        "\n",
        "_A set of statements or facts is said to be coherent, if they\n",
        "support each other. Thus, a coherent fact set can be interpreted\n",
        "in a context that covers all or most of the facts. An\n",
        "example of a coherent fact set is 'the game is a team sport',\n",
        "'the game is played with a ball', and 'the game demands great\n",
        "physical e\u000bfforts'_ -- from \"Exploring the Space of Topic Coherence Measures\", by Michael Roder, Andreas Both and Alexander Hinneburg https://dl.acm.org/doi/10.1145/2684822.2685324\n",
        "\n",
        "We expect that documents in a topic category should be coherent, i.e., they should relate to each other. The same is true for words within a topic.\n"
      ]
    },
    {
      "cell_type": "markdown",
      "metadata": {
        "id": "HXmKcnbucstY"
      },
      "source": [
        "### Let's tune the \"number of topics\" hyperparameter \n",
        "and choose the model with the best Topic Coherence score."
      ]
    },
    {
      "cell_type": "code",
      "metadata": {
        "id": "rjtXk8J3LaXC"
      },
      "source": [
        "def compute_coherence_values(dictionary, corpus, texts, limit=None, start=None, step=None):\n",
        "    \"\"\"\n",
        "    Compute c_v coherence for various number of topics\n",
        "\n",
        "    Parameters:\n",
        "    ----------\n",
        "    dictionary : Gensim dictionary\n",
        "    corpus : Gensim corpus\n",
        "    texts : List of input texts\n",
        "    limit : Max num of topics\n",
        "\n",
        "    Returns:\n",
        "    -------\n",
        "    model_list : List of LDA topic models\n",
        "    coherence_values : Coherence values corresponding to the LDA model with respective number of topics\n",
        "    \"\"\"\n",
        "    coherence_values = []\n",
        "    model_list = []\n",
        "    for num_topics in range(start, limit, step):\n",
        "        model = gensim.models.ldamulticore.LdaMulticore(corpus=corpus,\n",
        "                                                        id2word=id2word,\n",
        "                                                        num_topics=num_topics, \n",
        "                                                        chunksize=100,\n",
        "                                                        passes=10,\n",
        "                                                        random_state=1234,\n",
        "                                                        per_word_topics=True,\n",
        "                                                        workers=10)\n",
        "        model_list.append(model)\n",
        "        coherencemodel = CoherenceModel(model=model, texts=texts, dictionary=dictionary, coherence='c_v')\n",
        "        coherence_values.append(coherencemodel.get_coherence())\n",
        "\n",
        "    return model_list, coherence_values"
      ],
      "execution_count": null,
      "outputs": []
    },
    {
      "cell_type": "code",
      "metadata": {
        "id": "Da6R_R4AVKlB",
        "colab": {
          "base_uri": "https://localhost:8080/"
        },
        "outputId": "6e469a58-6cb2-4645-a630-eb397b62219b"
      },
      "source": [
        "%%time\n",
        "# takes about 3 min\n",
        "model_list, coherence_values = compute_coherence_values(dictionary=id2word, corpus=corpus, texts=df['lemmas'], start=2, limit=10, step=1)"
      ],
      "execution_count": null,
      "outputs": [
        {
          "output_type": "stream",
          "name": "stdout",
          "text": [
            "CPU times: user 2min 56s, sys: 13.8 s, total: 3min 10s\n",
            "Wall time: 5min 2s\n"
          ]
        }
      ]
    },
    {
      "cell_type": "code",
      "metadata": {
        "id": "YkdpAccnVKlB",
        "colab": {
          "base_uri": "https://localhost:8080/",
          "height": 198
        },
        "outputId": "9f5e2c53-0887-4f7b-dbc3-f094c89e590c"
      },
      "source": [
        "start=2; limit=10;  step=1;\n",
        "x = range(start, limit, step)\n",
        "\n",
        "plt.figure(figsize=(20,5))\n",
        "plt.grid()\n",
        "plt.title(\"Coherence Score vs. Number of Topics\")\n",
        "plt.xticks(x)\n",
        "plt.plot(x, coherence_values, \"-o\")\n",
        "\n",
        "plt.xlabel(\"Num Topics\")\n",
        "plt.ylabel(\"Coherence score\")\n",
        "\n",
        "plt.show();"
      ],
      "execution_count": null,
      "outputs": [
        {
          "output_type": "display_data",
          "data": {
            "text/plain": [
              "<Figure size 1440x360 with 1 Axes>"
            ],
            "image/png": "[encoded data removed]"
          },
          "metadata": {
            "needs_background": "light"
          }
        }
      ]
    },
    {
      "cell_type": "markdown",
      "metadata": {
        "id": "PjvsiYK6VKlC"
      },
      "source": [
        "### Select the \"best\" model as the one with the highest Topic Coherence Score\n",
        "\n",
        "Due to the probabilistic nature of this model, the modeling results can and usually do vary. Despite this, we will select 8 as the number of topics even if this particular model run doesn't show 8 as having the highest coherence score. Also, even if it doesn't, we  need to ask ourselves how many topics we actually want for our corpus. "
      ]
    },
    {
      "cell_type": "code",
      "metadata": {
        "id": "WjFf957DVKlC"
      },
      "source": [
        "lda_trained_model = model_list[3] "
      ],
      "execution_count": null,
      "outputs": []
    },
    {
      "cell_type": "code",
      "metadata": {
        "id": "l8GtS65SVKlC",
        "colab": {
          "base_uri": "https://localhost:8080/"
        },
        "outputId": "3db89fc0-48bf-416f-e21f-d16453fd7a8c"
      },
      "source": [
        "lda_trained_model"
      ],
      "execution_count": null,
      "outputs": [
        {
          "output_type": "execute_result",
          "data": {
            "text/plain": [
              "<gensim.models.ldamulticore.LdaMulticore at 0x7fa3820bda90>"
            ]
          },
          "metadata": {},
          "execution_count": 43
        }
      ]
    },
    {
      "cell_type": "markdown",
      "metadata": {
        "id": "sgTrsPLaShpm"
      },
      "source": [
        "### For each topic discovered by `gensim`, list the top ten words and their probabilities, "
      ]
    },
    {
      "cell_type": "code",
      "metadata": {
        "colab": {
          "base_uri": "https://localhost:8080/"
        },
        "id": "J37mNQAlScUC",
        "outputId": "e89b1d93-cd75-40fa-d237-8aa8e933cb44"
      },
      "source": [
        "pprint(lda_trained_model.print_topics())"
      ],
      "execution_count": null,
      "outputs": [
        {
          "output_type": "stream",
          "name": "stdout",
          "text": [
            "[(0,\n",
            "  '0.011*\"armenian\" + 0.009*\"say\" + 0.009*\"armenians\" + 0.008*\"people\" + '\n",
            "  '0.006*\"turkish\" + 0.005*\"come\" + 0.004*\"know\" + 0.004*\"kill\" + '\n",
            "  '0.004*\"azerbaijan\" + 0.004*\"armenia\"'),\n",
            " (1,\n",
            "  '0.010*\"space\" + 0.005*\"use\" + 0.005*\"launch\" + 0.004*\"system\" + '\n",
            "  '0.004*\"like\" + 0.004*\"know\" + 0.004*\"work\" + 0.003*\"time\" + 0.003*\"need\" + '\n",
            "  '0.003*\"program\"'),\n",
            " (2,\n",
            "  '0.007*\"jews\" + 0.006*\"istanbul\" + 0.005*\"wire\" + 0.005*\"university\" + '\n",
            "  '0.004*\"ground\" + 0.004*\"new\" + 0.004*\"jewish\" + 0.003*\"turkey\" + '\n",
            "  '0.003*\"kuwait\" + 0.003*\"ottoman\"'),\n",
            " (3,\n",
            "  '0.031*\"email\" + 0.006*\"muslims\" + 0.004*\"serbs\" + 0.003*\"bosnian\" + '\n",
            "  '0.003*\"muslim\" + 0.003*\"bosnia\" + 0.002*\"year\" + 0.002*\"printer\" + '\n",
            "  '0.002*\"1993\" + 0.002*\"element\"'),\n",
            " (4,\n",
            "  '0.008*\"people\" + 0.008*\"gun\" + 0.007*\"right\" + 0.006*\"think\" + '\n",
            "  '0.005*\"israel\" + 0.005*\"know\" + 0.005*\"like\" + 0.004*\"time\" + 0.004*\"state\" '\n",
            "  '+ 0.004*\"law\"')]\n"
          ]
        }
      ]
    },
    {
      "cell_type": "markdown",
      "metadata": {
        "id": "mbqJUL9nd-6x"
      },
      "source": [
        "###Visualize the topics in the best model"
      ]
    },
    {
      "cell_type": "code",
      "metadata": {
        "id": "h52Heg6aVKlD",
        "colab": {
          "base_uri": "https://localhost:8080/",
          "height": 881
        },
        "outputId": "9d71c78b-a050-4f44-c3b9-3d3efca822b8"
      },
      "source": [
        "# visualize the topics \n",
        "pyLDAvis.enable_notebook()\n",
        "vis = pyLDAvis.gensim.prepare(lda_trained_model, corpus, id2word)\n",
        "vis"
      ],
      "execution_count": null,
      "outputs": [
        {
          "output_type": "execute_result",
          "data": {
            "text/plain": [
              "PreparedData(topic_coordinates=              x         y  topics  cluster       Freq\n",
              "topic                                                \n",
              "4     -0.126077 -0.043419       1        1  36.436315\n",
              "1     -0.096384  0.129168       2        1  30.000392\n",
              "0     -0.055330 -0.142903       3        1  22.538563\n",
              "2      0.195429 -0.049872       4        1   6.740687\n",
              "3      0.082362  0.107027       5        1   4.284044, topic_info=            Term         Freq        Total Category  logprob  loglift\n",
              "228        email  1054.000000  1054.000000  Default  30.0000  30.0000\n",
              "824     armenian   953.000000   953.000000  Default  29.0000  29.0000\n",
              "199        space  1247.000000  1247.000000  Default  28.0000  28.0000\n",
              "825    armenians   778.000000   778.000000  Default  27.0000  27.0000\n",
              "616          gun  1137.000000  1137.000000  Default  26.0000  26.0000\n",
              "...          ...          ...          ...      ...      ...      ...\n",
              "272      article    21.636563   340.215458   Topic5  -6.6278   0.3951\n",
              "788          say    22.368805  1474.783577   Topic5  -6.5946  -1.0383\n",
              "1426  university    21.551782   355.952902   Topic5  -6.6318   0.3459\n",
              "236         good    21.674498   819.965431   Topic5  -6.6261  -0.4829\n",
              "520        world    21.606277   482.754656   Topic5  -6.6292   0.0437\n",
              "\n",
              "[402 rows x 6 columns], token_table=       Topic      Freq        Term\n",
              "term                              \n",
              "4698       5  0.905918         +61\n",
              "29614      3  0.982669     -gayane\n",
              "212        5  0.925721      -tommy\n",
              "29615      3  0.973825    -zinaida\n",
              "29743      4  0.943974         0/0\n",
              "...      ...       ...         ...\n",
              "3658       3  0.061032  yugoslavia\n",
              "3658       4  0.030516  yugoslavia\n",
              "3658       5  0.823934  yugoslavia\n",
              "2550       1  0.985976     zionism\n",
              "4742       5  0.894605         |_|\n",
              "\n",
              "[990 rows x 3 columns], R=30, lambda_step=0.01, plot_opts={'xlab': 'PC1', 'ylab': 'PC2'}, topic_order=[5, 2, 1, 3, 4])"
            ],
            "text/html": [
              "\n",
              "<link rel=\"stylesheet\" type=\"text/css\" href=\"https://cdn.rawgit.com/bmabey/pyLDAvis/files/ldavis.v1.0.0.css\">\n",
              "\n",
              "\n",
              "<div id=\"ldavis_el10561403402432887844049341374\"></div>\n",
              "<script type=\"text/javascript\">\n",
              "\n",
              "var ldavis_el10561403402432887844049341374_data = {\"mdsDat\": {\"x\": [-0.12607743273841585, -0.09638363157048582, -0.05533045039327493, 0.19542926783628387, 0.08236224686589272], \"y\": [-0.04341910558334466, 0.12916767776839375, -0.1429034655024304, -0.04987164243398748, 0.10702653575136896], \"topics\": [1, 2, 3, 4, 5], \"cluster\": [1, 1, 1, 1, 1], \"Freq\": [36.436314547671444, 30.000391676989523, 22.53856251721124, 6.740687094325823, 4.2840441638019815]}, \"tinfo\": {\"Term\": [\"email\", \"armenian\", \"space\", \"armenians\", \"gun\", \"jews\", \"turkish\", \"say\", \"israel\", \"launch\", \"people\", \"muslims\", \"jewish\", \"wire\", \"azerbaijan\", \"turkey\", \"university\", \"ground\", \"istanbul\", \"armenia\", \"new\", \"nasa\", \"muslim\", \"right\", \"satellite\", \"orbit\", \"turks\", \"system\", \"russian\", \"history\", \"koresh\", \"batf\", \"atf\", \"homicide\", \"suicide\", \"lebanese\", \"cult\", \"israelis\", \"waco\", \"vancouver\", \"fbi\", \"firearm\", \"amendment\", \"handgun\", \"cop\", \"shotgun\", \"gazans\", \"surrender\", \"unified\", \"stat\", \"zionism\", \"abide\", \"reno\", \"dictionary\", \"davidians\", \"larson\", \"evil\", \"nejm\", \"warrant\", \"ghetto\", \"gun\", \"israel\", \"palestinians\", \"vote\", \"israeli\", \"militia\", \"lebanon\", \"nra\", \"compound\", \"weapon\", \"ban\", \"violent\", \"arab\", \"law\", \"arabs\", \"federal\", \"agent\", \"citizen\", \"assault\", \"palestinian\", \"right\", \"state\", \"crime\", \"fire\", \"country\", \"self\", \"people\", \"believe\", \"think\", \"claim\", \"case\", \"bill\", \"criminal\", \"government\", \"question\", \"like\", \"know\", \"point\", \"time\", \"fact\", \"kill\", \"want\", \"mean\", \"way\", \"thing\", \"say\", \"good\", \"get\", \"come\", \"year\", \"jews\", \"adl\", \"bullock\", \"gerard\", \"amp\", \"hst\", \"module\", \"payload\", \"capacitor\", \"technology\", \"redesign\", \"output\", \"ssf\", \"aerospace\", \"ariane\", \"nasa\", \"ssto\", \"ames\", \"spec\", \"transmitter\", \"shack\", \"centaur\", \"telescope\", \"optical\", \"amplifier\", \"pad\", \"gurvitz\", \"dryden\", \"laboratory\", \"digital\", \"interface\", \"lunar\", \"space\", \"launch\", \"satellite\", \"antenna\", \"data\", \"chip\", \"astronaut\", \"shuttle\", \"orbit\", \"input\", \"orbiter\", \"voltage\", \"mission\", \"program\", \"solar\", \"spacecraft\", \"commercial\", \"frequency\", \"mars\", \"datum\", \"project\", \"computer\", \"system\", \"cost\", \"software\", \"file\", \"earth\", \"design\", \"signal\", \"low\", \"use\", \"probe\", \"build\", \"moon\", \"company\", \"information\", \"high\", \"work\", \"need\", \"power\", \"like\", \"know\", \"good\", \"time\", \"year\", \"look\", \"email\", \"new\", \"thing\", \"think\", \"want\", \"azerbaijan\", \"azerbaijani\", \"baku\", \"karabagh\", \"azerbaijanis\", \"azeri\", \"nagorno\", \"turan\", \"hojali\", \"corpse\", \"igor\", \"balcony\", \"agdam\", \"mamma\", \"sumgait\", \"karabakh\", \"karina\", \"armenians\", \"erzincan\", \"-zinaida\", \"sdpa\", \"entryway\", \"dro\", \"erzurum\", \"anania\", \"-gayane\", \"venera\", \"marina\", \"yerevan\", \"shirak\", \"armenian\", \"bayonet\", \"daughter\", \"apartment\", \"armenia\", \"turkish\", \"asala\", \"turks\", \"genocide\", \"kurds\", \"shout\", \"argic\", \"serdar\", \"massacre\", \"tartar\", \"russian\", \"soviet\", \"town\", \"woman\", \"greek\", \"say\", \"turkey\", \"village\", \"soldier\", \"people\", \"come\", \"muslim\", \"leave\", \"kill\", \"child\", \"take\", \"tell\", \"dead\", \"man\", \"know\", \"live\", \"see\", \"time\", \"year\", \"government\", \"start\", \"like\", \"osmanli\", \"umumiye\", \"nezareti\", \"mecmuasi\", \"salonica\", \"het\", \"mezalimi\", \"aiu\", \"bedouin\", \"muharrerat\", \"0/0\", \"een\", \"evrak\", \"defterleri\", \"babiali\", \"devleti\", \"harbi\", \"tarihi\", \"imparatorlugu'nun\", \"birinci\", \"dahiliye\", \"negev\", \"pkk\", \"fpu\", \"odasi\", \"1912\", \"harb\", \"1925\", \"hakkinda\", \"kerem\", \"askeri\", \"cec\", \"belgeleri\", \"istanbul\", \"prong\", \"ermeni\", \"wiring\", \"gfci\", \"neutral\", \"outlet\", \"ankara\", \"breaker\", \"grounding\", \"kuwait\", \"co.\", \"wire\", \"cooper\", \"ottoman\", \"conductor\", \"jews\", \"1983\", \"university\", \"ground\", \"empire\", \"jewish\", \"professor\", \"london\", \"british\", \"york\", \"turkey\", \"van\", \"new\", \"history\", \"press\", \"foreign\", \"circuit\", \"subject\", \"power\", \"office\", \"state\", \"box\", \"croats\", \"yalcin\", \"onur\", \"2178\", \"mcwilliams\", \"355\", \"517\", \"-tommy\", \"sarajevo\", \"croatia\", \"uae\", \"owen\", \"|_|\", \"+61\", \"serbian\", \"deskjet\", \"feustel\", \"n9myi\", \"secession\", \"croat\", \"serbs\", \"toner\", \"inkjet\", \"serb\", \"00000\", \"croatian\", \"netnews\", \"acetone\", \"p.o.box\", \"sideropoulos\", \"herzegovina\", \"bosnian\", \"serbia\", \"ink\", \"silver\", \"printer\", \"yugoslavia\", \"email\", \"forge\", \"bosnia\", \"solder\", \"apr\", \"muslims\", \"sci.space\", \"iran\", \"element\", \"muslim\", \"message\", \"board\", \"1993\", \"laser\", \"access\", \"update\", \"year\", \"war\", \"available\", \"school\", \"call\", \"send\", \"current\", \"time\", \"article\", \"say\", \"university\", \"good\", \"world\"], \"Freq\": [1054.0, 953.0, 1247.0, 778.0, 1137.0, 581.0, 586.0, 1474.0, 769.0, 568.0, 1972.0, 242.0, 378.0, 229.0, 321.0, 328.0, 355.0, 354.0, 171.0, 323.0, 714.0, 355.0, 250.0, 1166.0, 365.0, 372.0, 284.0, 629.0, 349.0, 318.0, 153.45338022577332, 197.83471214842282, 116.68445247503915, 108.36558100225233, 86.3328982223196, 76.92451520662584, 64.66639508303662, 106.04603846293361, 99.02812161024504, 49.055299927388894, 338.47208022579366, 344.6790631661466, 147.45694976916363, 167.880168262266, 60.38455537350348, 50.16186633482729, 32.96662605926403, 35.6173742297097, 31.791560871209267, 31.73585020287746, 45.61859696675122, 38.87781660250875, 40.808445079338505, 34.83572869736097, 31.613579818754964, 90.15974588366547, 51.07117034165963, 28.571749800404568, 70.55803507601914, 35.23445548038738, 1100.146005922656, 744.5102144534385, 140.34646787199932, 95.06924751836775, 428.8864224873638, 126.51309844259563, 82.50467418928119, 76.74931118646884, 125.70857680308639, 423.3726451018095, 105.0580869583284, 83.61600527166702, 323.50133390379875, 567.4197554472523, 186.63430128533864, 148.31293961367, 144.94596202371588, 214.24226097657024, 146.37094392592064, 160.37510488976108, 906.9089905464455, 600.1797982358453, 269.9143261305512, 394.19265843378486, 317.0732570917986, 191.97076961167676, 1127.1933613272097, 347.7130397695454, 771.2670744678243, 307.7105615199933, 345.12811657529573, 216.71095362953645, 218.28615435752647, 461.34126699759094, 351.440902017285, 673.6698855432783, 678.2163812885277, 366.22669636901804, 608.6736632248833, 327.87819588609403, 433.05644009318166, 458.7142430221575, 317.0215379013752, 401.3844758016745, 402.852432885903, 514.9527579943576, 390.5215026997781, 356.52431226349245, 377.0125278856993, 361.6477830222571, 332.8284381228957, 156.0123809451084, 106.01397795712136, 79.35919872631906, 115.41966683274667, 90.42951472512264, 67.35632596332496, 91.46145808333371, 52.3304948510002, 186.25305035335606, 47.60293542242149, 147.3573411686637, 42.509387477851355, 53.28049043268068, 41.63972644875936, 349.4922745862554, 39.04647896113361, 48.98511503143714, 35.0008832892249, 35.192853605229104, 32.85547543400893, 30.784242549057005, 92.95874322048357, 32.9380165036422, 36.18475967833135, 34.82242205718224, 29.121638622021003, 29.325808110810616, 44.700858876207846, 66.18789852663937, 36.124173786604494, 199.31888437126642, 1188.4422928300896, 545.9149820112618, 351.160108158674, 86.84696432121034, 113.03537517601977, 168.66138989420685, 72.35961336171238, 268.4220385504564, 351.821743293809, 115.38072280683828, 94.56041461263159, 127.78613494067757, 339.52265728342724, 376.08025834639665, 225.73701298246112, 219.27354459759246, 137.0756916911146, 99.21561228132748, 163.06576932804896, 276.0925584196165, 212.8221953909336, 148.3583799558184, 509.1143840923505, 295.00738248960147, 166.0653392633263, 344.6244180044299, 325.6198133557161, 269.3907995263396, 146.74128960921539, 263.8493352878914, 582.3728831681227, 165.06778024021202, 238.50500053039778, 223.9414547376008, 197.68560845552517, 311.02019000930454, 334.81825628449684, 444.86780725982044, 376.4971367449257, 326.09348790295087, 488.22748041392185, 477.9802819336159, 344.86008202427126, 391.4883068742462, 349.78940110504834, 310.5823263670988, 326.51287279818337, 291.46092963794763, 278.02733389095243, 279.7051934501848, 271.5210284108275, 319.943401254941, 158.88221451478412, 143.20366487653592, 74.41338591642604, 94.83969048606696, 142.84156456983905, 63.16858931433558, 52.28768093365376, 51.464559055870694, 72.20466018600379, 60.27100057894056, 73.98808257425968, 47.06521210954461, 101.86070635509743, 117.73480478280216, 125.9871580146488, 65.22086499523078, 763.1981082705472, 32.54698406208743, 36.08584071152145, 57.49241584741446, 35.717354995139665, 55.263822728584344, 66.34653008796721, 31.98366822784894, 31.705231812517795, 28.681424812351015, 42.3816518301842, 30.847433404022308, 26.475373441749745, 911.7070920358335, 72.1674194750885, 111.1967963268318, 165.33194906400448, 308.28944262473476, 549.666682985886, 56.429107410353986, 266.6406054508134, 259.1974714322123, 94.81857606470885, 121.12550239897061, 137.02301900368448, 132.03039988740986, 227.0682534247808, 103.59400202528565, 296.2388373693952, 250.01343934977464, 146.95079355723394, 263.9621589676401, 175.79642856994084, 781.738413227488, 230.41016150279208, 222.94180636797674, 210.46053903449987, 702.2648530644033, 436.7376226707445, 173.89046140554368, 247.09079476759248, 334.86767124405617, 270.66460549544917, 295.52711710183263, 281.32185926773195, 181.01631818935374, 225.62768496720682, 375.2881258721921, 224.51268726476752, 243.4013000434858, 291.08661806814894, 266.9873907905954, 243.4083315063859, 218.62851471154542, 257.11267273132194, 49.62313352067765, 23.202230532833376, 23.198834999051055, 23.197615782245226, 25.724719707051353, 19.302150686205838, 22.532562970853192, 30.891958240981747, 21.21410730914495, 18.59201680918506, 16.217713402392818, 15.590237631817244, 16.59800869258497, 13.986429818599646, 13.985510163662573, 13.985517652709293, 13.985746817538889, 13.98516716532285, 13.9851312178986, 13.985117737614505, 13.984614473675, 21.851329325120425, 11.48182598575561, 10.92090612227506, 11.974228560805471, 11.120084059904716, 11.9683571481779, 10.804053777416293, 19.466896233736275, 10.485895856755047, 19.450051869856257, 22.15284883068642, 18.607742309485285, 153.11695120708396, 18.094074586277273, 54.32440057214299, 76.47053622135064, 38.28987524373043, 72.88231226257045, 61.95771029573964, 76.02575274986253, 28.616009982557404, 18.659585984301145, 83.54281449467062, 32.49970379496411, 131.6809030028074, 22.237151531791085, 77.41191538514649, 41.83119380510117, 172.86105001169014, 39.91398586260281, 123.84580241318092, 113.40308765090204, 50.499726439118135, 105.85599782437008, 56.15949860641597, 44.810474388316244, 57.87232147710107, 61.24377647641372, 87.16721953595889, 42.22443466145152, 107.95914981004124, 74.10398547572174, 62.19513704167644, 45.75610133941102, 49.73652667485698, 49.83224268316116, 53.57865328235543, 44.81994353898755, 43.50279696264577, 42.54061322706497, 31.903176043694597, 14.439589310609245, 14.439532194639126, 12.15187481086716, 12.148954280928418, 12.146608718422208, 12.145534938183975, 12.13987760134371, 11.590372468293612, 18.57781459749086, 9.795416481422945, 9.191066689999126, 9.290615066251982, 9.155556739443446, 29.29530463698154, 14.855768634611074, 8.34845477342631, 8.34658422540492, 7.795145716766302, 7.4402137513885105, 66.58917922990443, 7.991518989430185, 6.762616060052279, 6.7373155891553305, 6.380650154084434, 6.367254079259492, 5.718258161893075, 5.649621900601337, 5.619834494285141, 6.480843940799633, 12.062383605019384, 57.20049794682417, 19.77352410486782, 19.955387065323027, 19.979071154265615, 36.51739249848643, 26.558436811755218, 509.40286811029955, 19.835510163372064, 42.61600732388926, 26.573050884642946, 32.3704570261617, 93.7666636760607, 21.295895076279447, 28.273147716407507, 33.51890687599671, 46.96783301195541, 29.508638496972196, 30.587642942605452, 33.891405809917366, 18.743275755193626, 21.989859824819632, 18.49465184113225, 37.34814428386408, 29.705494399583582, 24.378369732828833, 21.889310967156863, 25.518375938414618, 24.841696386298047, 23.54183209967815, 24.055377017941463, 21.636563280052908, 22.36880524790103, 21.551782237874264, 21.67449780354013, 21.60627658496459], \"Total\": [1054.0, 953.0, 1247.0, 778.0, 1137.0, 581.0, 586.0, 1474.0, 769.0, 568.0, 1972.0, 242.0, 378.0, 229.0, 321.0, 328.0, 355.0, 354.0, 171.0, 323.0, 714.0, 355.0, 250.0, 1166.0, 365.0, 372.0, 284.0, 629.0, 349.0, 318.0, 154.32877330565537, 198.9894759681094, 117.73057034196862, 109.49067332111672, 87.25893653803494, 77.92312533639867, 65.50699120880549, 107.49092489230878, 100.39338027211909, 49.854353154046436, 343.98653925986173, 350.52872655600845, 150.0950113818228, 170.89832076872392, 61.614591943752515, 51.22245403979186, 33.682615847867325, 36.40261660854535, 32.4949361376656, 32.453959264255175, 46.654279447231744, 39.76689116250036, 41.754008645269494, 35.64339377968032, 32.381644379613945, 92.35901522286272, 52.320320345161285, 29.279379480654992, 72.35938817158292, 36.154514022598555, 1137.4393925842348, 769.0177814916088, 144.54790150386395, 97.58308355990593, 447.20452524410683, 130.39352184111053, 84.94063966020734, 78.95778785312098, 130.6128039940523, 451.8987259284311, 109.49825404448721, 86.60492252860487, 353.50595503950643, 643.4044636327228, 202.61888571866388, 158.9849965328105, 155.37025303310415, 235.6120659265742, 157.1729287357429, 174.42502482053274, 1166.3929019847462, 804.7191654314615, 331.69032044841566, 520.2763710067687, 406.24527399769397, 224.8236152718149, 1972.8593437612808, 467.6347220796048, 1274.5864746773598, 425.32503480744083, 501.9281386495031, 269.4970363590202, 273.1857107048134, 776.5376267295114, 552.1846765684337, 1451.9817916389977, 1557.1735419842137, 605.8755417918225, 1331.987996064036, 512.3452074494402, 794.910950798026, 898.8920313996326, 499.2978521091072, 777.6014950503154, 801.4520150890945, 1474.7835771765915, 819.9654305017488, 762.5766287747905, 973.1463779616086, 1045.6313897019984, 581.8779211836728, 157.4156392238334, 106.97623930777648, 80.15388802302984, 116.65979299094641, 91.42904888020509, 68.16312959520283, 92.65047120167236, 53.075153016732095, 189.1149222319873, 48.37042436013047, 149.83551493072392, 43.23265566593529, 54.21047973894226, 42.37705370986878, 355.7944514918429, 39.86187774997799, 50.05716743234264, 35.787889694409536, 35.99356015614568, 33.603660365738826, 31.49297244104853, 95.11884372033958, 33.72062225902553, 37.06820019579332, 35.679759933193104, 29.84200822018105, 30.052485378471076, 45.845577664419196, 67.89754735289877, 37.057954959970274, 204.51940264602234, 1247.256844185333, 568.7227399860884, 365.28939834012, 89.10900770626455, 116.36699326818604, 174.66798626539813, 74.48373252585371, 281.80060202340553, 372.87831784456597, 119.89603418383433, 98.16087341429221, 134.1716829524741, 367.53708374630054, 409.8185656437094, 243.2681304435826, 236.8978536708516, 145.10724461972532, 103.71003924281825, 175.0916688865955, 306.74331463916417, 235.1954239345319, 160.90859204987805, 629.4847448036895, 343.57058354499475, 185.0218671392949, 435.3958510959304, 409.6416645873844, 328.43191372535694, 161.13231019101062, 336.1397915240722, 980.3757447369952, 188.16458544654526, 307.5700557350751, 283.1792089943307, 240.7953789176658, 453.2180215032013, 505.5671473221773, 814.4220585628613, 698.0685847119759, 585.4801832141462, 1451.9817916389977, 1557.1735419842137, 819.9654305017488, 1331.987996064036, 1045.6313897019984, 754.1236691792654, 1054.6438631717642, 714.3603220776929, 801.4520150890945, 1274.5864746773598, 898.8920313996326, 321.9103913162378, 160.28031951721516, 144.612442385126, 75.28292048579893, 96.0814752280852, 144.72990290997038, 64.00369200159794, 53.00944935549999, 52.177129727885635, 73.238489425504, 61.17909054662788, 75.1344195033626, 47.82697083166073, 103.51740458106593, 119.68524632319314, 128.0773009045027, 66.310987649472, 778.6653708414641, 33.26264247021157, 36.967621999330504, 58.899928201236506, 36.606465027213915, 56.64358487453334, 68.0049648393465, 32.787851087243475, 32.56438466702364, 29.472809465047646, 43.55788634889466, 31.711187009078085, 27.23307212486397, 953.2265486798528, 74.35378610766587, 115.21442056629319, 172.12910761547258, 323.1338841781097, 586.497649855081, 58.20489516611856, 284.50808997849464, 279.22896738323846, 99.12980937656222, 128.07850039045945, 147.44288533163066, 142.54962216383765, 256.7454148147747, 111.10261809475944, 349.8687133339441, 290.5999989563749, 175.02924633481976, 363.99702892653397, 225.96906573681105, 1474.7835771765915, 328.80367635543973, 323.9569420627983, 300.35228057107133, 1972.8593437612808, 973.1463779616086, 250.47001803950891, 463.9556480190854, 794.910950798026, 544.7912511715681, 641.8882007082974, 691.864259399547, 274.3554226568362, 453.0793678696506, 1557.1735419842137, 489.5652093940978, 620.5090614738456, 1331.987996064036, 1045.6313897019984, 776.5376267295114, 631.7188458384131, 1451.9817916389977, 50.44055321392549, 23.941216469481553, 23.94114478977151, 23.940789277662525, 26.58193639198812, 20.016606071157387, 23.381795590488274, 32.064480624228764, 22.0335149059652, 19.327249203798466, 16.94962247250835, 16.302726514248786, 17.386495346127244, 14.713589838110781, 14.71354777710583, 14.713844483690806, 14.7141547814778, 14.713792892943367, 14.71381418216668, 14.713802533955402, 14.713640446030167, 23.13977203854037, 12.23417817242787, 11.642231405038984, 12.773778990872607, 11.86727668358633, 12.773875211418135, 11.534039906727422, 20.801205623479515, 11.212895904922231, 20.803090377013817, 23.82261731583621, 19.99251193983193, 171.8728024918273, 19.485299794433622, 61.17551045957859, 87.41390814247801, 42.753097243491474, 87.41420758625337, 77.06715432676442, 97.67179953627053, 32.65750692493916, 20.278111307989278, 114.06584586213428, 39.75827443044557, 229.58541065833305, 25.452955624462593, 164.54023357290887, 66.82084533662875, 581.8779211836728, 63.34062314029745, 355.9529017525417, 354.44761652834285, 100.73444877777163, 378.20111560893235, 127.48585342441059, 87.72800867214454, 145.69500557580787, 163.79791729972425, 328.80367635543973, 82.26365266297182, 714.3603220776929, 318.3420055327063, 278.62720826646654, 130.541667736425, 231.1940150819236, 276.05919741591225, 585.4801832141462, 244.52372929633665, 804.7191654314615, 172.97045971783706, 32.71434124909787, 15.17777681343158, 15.177779360529609, 12.95885182248374, 12.959566716994013, 12.960652674168868, 12.961102857387214, 12.962868129604642, 12.404397077482477, 19.993518843131515, 10.591895067072212, 9.946498215294753, 10.06030412242772, 9.934668721469302, 31.86130676935493, 16.186085241868472, 9.112056097016023, 9.112509632366864, 8.535755226065948, 8.191330541842547, 73.461607010097, 8.849861311614433, 7.539140011441308, 7.512167902837068, 7.121958353729269, 7.120987530928245, 6.4626353127718374, 6.391198656940573, 6.365175369990869, 7.343418865898722, 13.676485134379075, 68.10984973922109, 23.023579150215582, 23.483339595348472, 23.729455053697258, 45.731025988700324, 32.76960704454628, 1054.6438631717642, 25.810151552583264, 73.81475040560751, 41.79065860523073, 55.910540193923545, 242.01148742210603, 45.75387691760697, 78.41434354264214, 116.11956184181702, 250.47001803950891, 126.09445964754845, 155.47307127733734, 266.56665786990425, 56.72777569540638, 103.71167251423559, 56.69455273374932, 1045.6313897019984, 427.9183608139539, 260.3963808974252, 157.34274450851834, 435.3591972254264, 391.5548536174622, 286.6281420346003, 1331.987996064036, 340.21545779143577, 1474.7835771765915, 355.9529017525417, 819.9654305017488, 482.7546561059365], \"Category\": [\"Default\", \"Default\", \"Default\", \"Default\", \"Default\", \"Default\", \"Default\", \"Default\", \"Default\", \"Default\", \"Default\", \"Default\", \"Default\", \"Default\", \"Default\", \"Default\", \"Default\", \"Default\", \"Default\", \"Default\", \"Default\", \"Default\", \"Default\", \"Default\", \"Default\", \"Default\", \"Default\", \"Default\", \"Default\", \"Default\", \"Topic1\", \"Topic1\", \"Topic1\", \"Topic1\", \"Topic1\", \"Topic1\", \"Topic1\", \"Topic1\", \"Topic1\", \"Topic1\", \"Topic1\", \"Topic1\", \"Topic1\", \"Topic1\", \"Topic1\", \"Topic1\", \"Topic1\", \"Topic1\", \"Topic1\", \"Topic1\", \"Topic1\", \"Topic1\", \"Topic1\", \"Topic1\", \"Topic1\", \"Topic1\", \"Topic1\", \"Topic1\", \"Topic1\", \"Topic1\", \"Topic1\", \"Topic1\", \"Topic1\", \"Topic1\", \"Topic1\", \"Topic1\", \"Topic1\", \"Topic1\", \"Topic1\", \"Topic1\", \"Topic1\", \"Topic1\", \"Topic1\", \"Topic1\", \"Topic1\", \"Topic1\", \"Topic1\", \"Topic1\", \"Topic1\", \"Topic1\", \"Topic1\", \"Topic1\", \"Topic1\", \"Topic1\", \"Topic1\", \"Topic1\", \"Topic1\", \"Topic1\", \"Topic1\", \"Topic1\", \"Topic1\", \"Topic1\", \"Topic1\", \"Topic1\", \"Topic1\", \"Topic1\", \"Topic1\", \"Topic1\", \"Topic1\", \"Topic1\", \"Topic1\", \"Topic1\", \"Topic1\", \"Topic1\", \"Topic1\", \"Topic1\", \"Topic1\", \"Topic1\", \"Topic1\", \"Topic1\", \"Topic1\", \"Topic2\", \"Topic2\", \"Topic2\", \"Topic2\", \"Topic2\", \"Topic2\", \"Topic2\", \"Topic2\", \"Topic2\", \"Topic2\", \"Topic2\", \"Topic2\", \"Topic2\", \"Topic2\", \"Topic2\", \"Topic2\", \"Topic2\", \"Topic2\", \"Topic2\", \"Topic2\", \"Topic2\", \"Topic2\", \"Topic2\", \"Topic2\", \"Topic2\", \"Topic2\", \"Topic2\", \"Topic2\", \"Topic2\", \"Topic2\", \"Topic2\", \"Topic2\", \"Topic2\", \"Topic2\", \"Topic2\", \"Topic2\", \"Topic2\", \"Topic2\", \"Topic2\", \"Topic2\", \"Topic2\", \"Topic2\", \"Topic2\", \"Topic2\", \"Topic2\", \"Topic2\", \"Topic2\", \"Topic2\", \"Topic2\", \"Topic2\", \"Topic2\", \"Topic2\", \"Topic2\", \"Topic2\", \"Topic2\", \"Topic2\", \"Topic2\", \"Topic2\", \"Topic2\", \"Topic2\", \"Topic2\", \"Topic2\", \"Topic2\", \"Topic2\", \"Topic2\", \"Topic2\", \"Topic2\", \"Topic2\", \"Topic2\", \"Topic2\", \"Topic2\", \"Topic2\", \"Topic2\", \"Topic2\", \"Topic2\", \"Topic2\", \"Topic2\", \"Topic2\", \"Topic2\", \"Topic2\", \"Topic2\", \"Topic2\", \"Topic3\", \"Topic3\", \"Topic3\", \"Topic3\", \"Topic3\", \"Topic3\", \"Topic3\", \"Topic3\", \"Topic3\", \"Topic3\", \"Topic3\", \"Topic3\", \"Topic3\", \"Topic3\", \"Topic3\", \"Topic3\", \"Topic3\", \"Topic3\", \"Topic3\", \"Topic3\", \"Topic3\", \"Topic3\", \"Topic3\", \"Topic3\", \"Topic3\", \"Topic3\", \"Topic3\", \"Topic3\", \"Topic3\", \"Topic3\", \"Topic3\", \"Topic3\", \"Topic3\", \"Topic3\", \"Topic3\", \"Topic3\", \"Topic3\", \"Topic3\", \"Topic3\", \"Topic3\", \"Topic3\", \"Topic3\", \"Topic3\", \"Topic3\", \"Topic3\", \"Topic3\", \"Topic3\", \"Topic3\", \"Topic3\", \"Topic3\", \"Topic3\", \"Topic3\", \"Topic3\", \"Topic3\", \"Topic3\", \"Topic3\", \"Topic3\", \"Topic3\", \"Topic3\", \"Topic3\", \"Topic3\", \"Topic3\", \"Topic3\", \"Topic3\", \"Topic3\", \"Topic3\", \"Topic3\", \"Topic3\", \"Topic3\", \"Topic3\", \"Topic3\", \"Topic3\", \"Topic4\", \"Topic4\", \"Topic4\", \"Topic4\", \"Topic4\", \"Topic4\", \"Topic4\", \"Topic4\", \"Topic4\", \"Topic4\", \"Topic4\", \"Topic4\", \"Topic4\", \"Topic4\", \"Topic4\", \"Topic4\", \"Topic4\", \"Topic4\", \"Topic4\", \"Topic4\", \"Topic4\", \"Topic4\", \"Topic4\", \"Topic4\", \"Topic4\", \"Topic4\", \"Topic4\", \"Topic4\", \"Topic4\", \"Topic4\", \"Topic4\", \"Topic4\", \"Topic4\", \"Topic4\", \"Topic4\", \"Topic4\", \"Topic4\", \"Topic4\", \"Topic4\", \"Topic4\", \"Topic4\", \"Topic4\", \"Topic4\", \"Topic4\", \"Topic4\", \"Topic4\", \"Topic4\", \"Topic4\", \"Topic4\", \"Topic4\", \"Topic4\", \"Topic4\", \"Topic4\", \"Topic4\", \"Topic4\", \"Topic4\", \"Topic4\", \"Topic4\", \"Topic4\", \"Topic4\", \"Topic4\", \"Topic4\", \"Topic4\", \"Topic4\", \"Topic4\", \"Topic4\", \"Topic4\", \"Topic4\", \"Topic4\", \"Topic4\", \"Topic4\", \"Topic5\", \"Topic5\", \"Topic5\", \"Topic5\", \"Topic5\", \"Topic5\", \"Topic5\", \"Topic5\", \"Topic5\", \"Topic5\", \"Topic5\", \"Topic5\", \"Topic5\", \"Topic5\", \"Topic5\", \"Topic5\", \"Topic5\", \"Topic5\", \"Topic5\", \"Topic5\", \"Topic5\", \"Topic5\", \"Topic5\", \"Topic5\", \"Topic5\", \"Topic5\", \"Topic5\", \"Topic5\", \"Topic5\", \"Topic5\", \"Topic5\", \"Topic5\", \"Topic5\", \"Topic5\", \"Topic5\", \"Topic5\", \"Topic5\", \"Topic5\", \"Topic5\", \"Topic5\", \"Topic5\", \"Topic5\", \"Topic5\", \"Topic5\", \"Topic5\", \"Topic5\", \"Topic5\", \"Topic5\", \"Topic5\", \"Topic5\", \"Topic5\", \"Topic5\", \"Topic5\", \"Topic5\", \"Topic5\", \"Topic5\", \"Topic5\", \"Topic5\", \"Topic5\", \"Topic5\", \"Topic5\", \"Topic5\", \"Topic5\", \"Topic5\", \"Topic5\", \"Topic5\"], \"logprob\": [30.0, 29.0, 28.0, 27.0, 26.0, 25.0, 24.0, 23.0, 22.0, 21.0, 20.0, 19.0, 18.0, 17.0, 16.0, 15.0, 14.0, 13.0, 12.0, 11.0, 10.0, 9.0, 8.0, 7.0, 6.0, 5.0, 4.0, 3.0, 2.0, 1.0, -6.809500217437744, -6.555500030517578, -7.083399772644043, -7.157400131225586, -7.384699821472168, -7.500100135803223, -7.673699855804443, -7.178999900817871, -7.247499942779541, -7.949999809265137, -6.018499851226807, -6.00029993057251, -6.849400043487549, -6.719699859619141, -7.742199897766113, -7.927599906921387, -8.347399711608887, -8.270099639892578, -8.383700370788574, -8.385499954223633, -8.022600173950195, -8.182499885559082, -8.133999824523926, -8.2923002243042, -8.389300346374512, -7.341300010681152, -7.9096999168396, -8.490500450134277, -7.58650016784668, -8.280900001525879, -4.839700222015381, -5.230199813842773, -6.898799896240234, -7.288300037384033, -5.781700134277344, -7.002600193023682, -7.429999828338623, -7.502399921417236, -7.008900165557861, -5.794600009918213, -7.188399791717529, -7.4166998863220215, -6.063700199127197, -5.501800060272217, -6.613800048828125, -6.843599796295166, -6.866499900817871, -6.475800037384033, -6.856800079345703, -6.765399932861328, -5.032899856567383, -5.445700168609619, -6.244800090789795, -5.866099834442139, -6.083799839019775, -6.585599899291992, -4.815400123596191, -5.991499900817871, -5.194900035858154, -6.113699913024902, -5.999000072479248, -6.464300155639648, -6.457099914550781, -5.708799839019775, -5.980899810791016, -5.3302001953125, -5.323400020599365, -5.939599990844727, -5.431600093841553, -6.050300121307373, -5.771999835968018, -5.7144999504089355, -6.083899974822998, -5.8480000495910645, -5.844299793243408, -5.598800182342529, -5.875400066375732, -5.9664998054504395, -5.910600185394287, -5.952199935913086, -6.035299777984619, -6.598599910736084, -6.985000133514404, -7.274600028991699, -6.900000095367432, -7.144000053405762, -7.438499927520752, -7.132599830627441, -7.690999984741211, -6.42140007019043, -7.785699844360352, -6.655700206756592, -7.898799896240234, -7.672999858856201, -7.91949987411499, -5.792099952697754, -7.983799934387207, -7.756999969482422, -8.093199729919434, -8.087699890136719, -8.156399726867676, -8.221500396728516, -7.116399765014648, -8.153900146484375, -8.059900283813477, -8.098299980163574, -8.277099609375, -8.270099639892578, -7.848599910736084, -7.455999851226807, -8.061599731445312, -6.353600025177002, -4.5680999755859375, -5.346099853515625, -5.787300109863281, -7.1844000816345215, -6.92080020904541, -6.520699977874756, -7.3668999671936035, -6.056000232696533, -5.785399913787842, -6.900300025939941, -7.099299907684326, -6.7982001304626465, -5.821000099182129, -5.718699932098389, -6.2291998863220215, -6.258200168609619, -6.728000164031982, -7.051300048828125, -6.5543999671936035, -6.0278000831604, -6.288099765777588, -6.648900032043457, -5.415900230407715, -5.96150016784668, -6.536200046539307, -5.806099891662598, -5.862800121307373, -6.0524001121521, -6.659900188446045, -6.073200225830078, -5.281400203704834, -6.542200088500977, -6.174200057983398, -6.237199783325195, -6.3618998527526855, -5.908699989318848, -5.835000038146973, -5.55079984664917, -5.717599868774414, -5.861400127410889, -5.457799911499023, -5.479000091552734, -5.8053998947143555, -5.678599834442139, -5.791200160980225, -5.910099983215332, -5.860099792480469, -5.973599910736084, -6.0208001136779785, -6.014800071716309, -6.04449987411499, -5.594399929046631, -6.294400215148926, -6.3983001708984375, -7.0528998374938965, -6.810400009155273, -6.4008002281188965, -7.216800212860107, -7.405799865722656, -7.4217000007629395, -7.083099842071533, -7.263700008392334, -7.058700084686279, -7.511000156402588, -6.738999843597412, -6.594099998474121, -6.526400089263916, -7.184800148010254, -4.724999904632568, -7.879899978637695, -7.776700019836426, -7.3109002113342285, -7.786900043487549, -7.350399971008301, -7.167699813842773, -7.897299766540527, -7.906099796295166, -8.00629997253418, -7.615799903869629, -7.933499813079834, -8.086299896240234, -4.5472002029418945, -7.083600044250488, -6.651299953460693, -6.2546000480651855, -5.631499767303467, -5.053299903869629, -7.329599857330322, -5.776700019836426, -5.804999828338623, -6.8105998039245605, -6.565700054168701, -6.442399978637695, -6.479499816894531, -5.937300205230713, -6.722099781036377, -5.67140007019043, -5.841000080108643, -6.372499942779541, -5.786799907684326, -6.19320011138916, -4.701000213623047, -5.922699928283691, -5.955699920654297, -6.013299942016602, -4.808300018310547, -5.283199787139893, -6.204100131988525, -5.852799892425537, -5.548799991607666, -5.76170015335083, -5.673799991607666, -5.723100185394287, -6.164000034332275, -5.943699836730957, -5.434899806976318, -5.948599815368652, -5.8678998947143555, -5.688899993896484, -5.775400161743164, -5.867800235748291, -5.975200176239014, -5.813000202178955, -6.250999927520752, -7.011199951171875, -7.01140022277832, -7.01140022277832, -6.9079999923706055, -7.195300102233887, -7.040500164031982, -6.724999904632568, -7.100800037384033, -7.232800006866455, -7.3694000244140625, -7.408899784088135, -7.346199989318848, -7.517399787902832, -7.517499923706055, -7.517499923706055, -7.517499923706055, -7.517499923706055, -7.517499923706055, -7.517499923706055, -7.517499923706055, -7.071199893951416, -7.714700222015381, -7.764800071716309, -7.672699928283691, -7.746699810028076, -7.6732001304626465, -7.775599956512451, -7.186800003051758, -7.805500030517578, -7.187600135803223, -7.057499885559082, -7.231900215148926, -5.124300003051758, -7.259900093078613, -6.1605000495910645, -5.818600177764893, -6.510300159454346, -5.866700172424316, -6.0289998054504395, -5.824399948120117, -6.801499843597412, -7.229100227355957, -5.730100154876709, -6.674300193786621, -5.275100231170654, -7.053699970245361, -5.806399822235107, -6.421899795532227, -5.002999782562256, -6.468800067901611, -5.33650016784668, -5.424499988555908, -6.233500003814697, -5.4934000968933105, -6.127299785614014, -6.353099822998047, -6.097300052642822, -6.040599822998047, -5.687699794769287, -6.412499904632568, -5.473700046539307, -5.849999904632568, -6.025199890136719, -6.332200050354004, -6.248799800872803, -6.246799945831299, -6.174300193786621, -6.352799892425537, -6.382699966430664, -6.40500020980835, -6.239500045776367, -7.032299995422363, -7.032299995422363, -7.204699993133545, -7.204999923706055, -7.2052001953125, -7.2052998542785645, -7.205699920654297, -7.252099990844727, -6.780300140380859, -7.420300006866455, -7.484000205993652, -7.473199844360352, -7.4878997802734375, -6.32480001449585, -7.003799915313721, -7.5802001953125, -7.580399990081787, -7.64870023727417, -7.695300102233887, -5.503699779510498, -7.623899936676025, -7.790800094604492, -7.794600009918213, -7.848999977111816, -7.851099967956543, -7.958600044250488, -7.970600128173828, -7.975900173187256, -7.833399772644043, -7.212100028991699, -5.655700206756592, -6.717899799346924, -6.708700180053711, -6.707499980926514, -6.104400157928467, -6.422900199890137, -3.4690001010894775, -6.714799880981445, -5.949999809265137, -6.422299861907959, -6.224999904632568, -5.161399841308594, -6.643700122833252, -6.360300064086914, -6.190100193023682, -5.852799892425537, -6.317500114440918, -6.281599998474121, -6.179100036621094, -6.771399974822998, -6.611700057983398, -6.784800052642822, -6.081900119781494, -6.3109002113342285, -6.508500099182129, -6.616199970245361, -6.462800025939941, -6.489699840545654, -6.543499946594238, -6.521900177001953, -6.627799987792969, -6.594600200653076, -6.631800174713135, -6.626100063323975, -6.629199981689453], \"loglift\": [30.0, 29.0, 28.0, 27.0, 26.0, 25.0, 24.0, 23.0, 22.0, 21.0, 20.0, 19.0, 18.0, 17.0, 16.0, 15.0, 14.0, 13.0, 12.0, 11.0, 10.0, 9.0, 8.0, 7.0, 6.0, 5.0, 4.0, 3.0, 2.0, 1.0, 1.0039, 1.0038, 1.0007, 0.9993, 0.9989, 0.9967, 0.9967, 0.9961, 0.9959, 0.9934, 0.9934, 0.9928, 0.9919, 0.9918, 0.9894, 0.9887, 0.9881, 0.9878, 0.9877, 0.9872, 0.9872, 0.987, 0.9867, 0.9867, 0.9856, 0.9855, 0.9854, 0.9851, 0.9844, 0.9838, 0.9763, 0.9772, 0.9801, 0.9835, 0.9678, 0.9794, 0.9805, 0.9812, 0.9713, 0.9444, 0.9682, 0.9745, 0.9209, 0.8839, 0.9274, 0.9401, 0.9402, 0.9145, 0.9384, 0.9256, 0.758, 0.7163, 0.8035, 0.7321, 0.7618, 0.8516, 0.4499, 0.7133, 0.5073, 0.6859, 0.6351, 0.7916, 0.7853, 0.4889, 0.5578, 0.2417, 0.1784, 0.5062, 0.2265, 0.5632, 0.4022, 0.3369, 0.5554, 0.3483, 0.3217, -0.0426, 0.2678, 0.2493, 0.0613, -0.0521, 0.451, 1.195, 1.1949, 1.194, 1.1933, 1.193, 1.1921, 1.191, 1.1898, 1.1887, 1.188, 1.1873, 1.1871, 1.1867, 1.1864, 1.1861, 1.1833, 1.1823, 1.1817, 1.1815, 1.1814, 1.1812, 1.181, 1.1805, 1.1798, 1.1796, 1.1795, 1.1795, 1.1787, 1.1785, 1.1784, 1.1782, 1.1557, 1.163, 1.1645, 1.1782, 1.1749, 1.169, 1.175, 1.1553, 1.1458, 1.1656, 1.1666, 1.1552, 1.1247, 1.118, 1.1292, 1.1267, 1.147, 1.1597, 1.1328, 1.0987, 1.104, 1.1228, 0.9917, 1.0516, 1.0959, 0.9702, 0.9744, 1.0058, 1.1104, 0.9618, 0.6831, 1.073, 0.9496, 0.9693, 1.0067, 0.8274, 0.7919, 0.5993, 0.5866, 0.6187, 0.1141, 0.0229, 0.3378, -0.0205, 0.1089, 0.3169, 0.0315, 0.3075, 0.1453, -0.3127, 0.0068, 1.4838, 1.4812, 1.4802, 1.4783, 1.4769, 1.4768, 1.4768, 1.4762, 1.4762, 1.4757, 1.475, 1.4746, 1.4739, 1.4738, 1.4735, 1.4735, 1.4734, 1.4699, 1.4682, 1.4658, 1.4658, 1.4654, 1.4653, 1.4653, 1.4651, 1.4632, 1.4627, 1.4626, 1.4623, 1.4617, 1.4454, 1.4601, 1.4544, 1.4497, 1.4429, 1.4251, 1.459, 1.4251, 1.4155, 1.4455, 1.4341, 1.4167, 1.4133, 1.3671, 1.42, 1.3236, 1.3395, 1.3151, 1.1686, 1.2389, 0.8552, 1.1343, 1.1162, 1.1343, 0.457, 0.6887, 1.125, 0.8599, 0.6254, 0.7904, 0.7143, 0.5901, 1.0741, 0.7928, 0.067, 0.7104, 0.5541, -0.0309, 0.1248, 0.3298, 0.4289, -0.2412, 2.6807, 2.6657, 2.6655, 2.6655, 2.6642, 2.6607, 2.66, 2.6598, 2.6591, 2.6582, 2.6529, 2.6523, 2.6506, 2.6463, 2.6463, 2.6462, 2.6462, 2.6462, 2.6462, 2.6462, 2.6462, 2.6397, 2.6335, 2.633, 2.6324, 2.632, 2.6319, 2.6316, 2.6307, 2.63, 2.6298, 2.6243, 2.6252, 2.5815, 2.6229, 2.5782, 2.5633, 2.5868, 2.5152, 2.4788, 2.4465, 2.5649, 2.6138, 2.3856, 2.4954, 2.1411, 2.5619, 1.943, 2.2286, 1.4832, 2.2352, 1.6412, 1.5574, 2.0065, 1.4237, 1.8772, 2.0252, 1.7737, 1.7132, 1.3694, 2.0301, 0.8074, 1.2394, 1.1974, 1.6486, 1.1605, 0.9851, 0.3057, 1.0003, -0.2207, 1.2943, 3.1252, 3.1004, 3.1004, 3.086, 3.0857, 3.0854, 3.0853, 3.0847, 3.0824, 3.0768, 3.0721, 3.0713, 3.0707, 3.0686, 3.0663, 3.0645, 3.0628, 3.0625, 3.0595, 3.0541, 3.0521, 3.0483, 3.0416, 3.0414, 3.0404, 3.0384, 3.0279, 3.0269, 3.0257, 3.0253, 3.0247, 2.9757, 2.9981, 2.9875, 2.9782, 2.9253, 2.9401, 2.4226, 2.887, 2.6009, 2.6975, 2.6038, 2.2021, 2.3855, 2.1302, 1.9078, 1.4764, 1.6979, 1.5244, 1.0878, 2.0428, 1.5992, 2.0301, -0.1818, 0.4827, 0.7818, 1.1778, 0.3135, 0.3927, 0.6509, -0.8638, 0.3951, -1.0383, 0.3459, -0.4829, 0.0437]}, \"token.table\": {\"Topic\": [5, 3, 5, 3, 4, 5, 4, 4, 1, 2, 3, 4, 1, 2, 3, 4, 5, 5, 5, 5, 1, 1, 2, 5, 5, 1, 2, 2, 3, 1, 2, 3, 4, 4, 1, 2, 2, 1, 2, 2, 3, 3, 4, 1, 2, 5, 1, 3, 1, 2, 3, 4, 5, 1, 2, 3, 4, 5, 1, 2, 3, 4, 5, 3, 4, 5, 2, 1, 3, 4, 1, 3, 4, 1, 3, 4, 1, 2, 3, 4, 5, 3, 4, 3, 4, 1, 2, 3, 4, 1, 2, 5, 1, 1, 2, 3, 4, 5, 3, 4, 1, 3, 1, 3, 1, 3, 4, 4, 3, 1, 3, 1, 2, 1, 3, 4, 4, 3, 4, 1, 2, 3, 4, 5, 1, 2, 3, 4, 5, 4, 1, 2, 3, 4, 5, 1, 3, 4, 5, 1, 3, 5, 1, 2, 3, 4, 5, 2, 4, 1, 2, 3, 4, 1, 2, 3, 4, 5, 2, 1, 2, 3, 4, 5, 2, 1, 2, 3, 4, 5, 2, 4, 2, 1, 2, 3, 4, 5, 1, 2, 4, 1, 2, 4, 1, 2, 3, 4, 5, 1, 2, 3, 4, 5, 1, 2, 4, 1, 2, 3, 4, 5, 1, 2, 3, 4, 1, 2, 3, 4, 1, 2, 3, 1, 2, 3, 4, 5, 1, 2, 3, 4, 1, 3, 4, 1, 3, 3, 1, 2, 3, 4, 5, 1, 2, 3, 4, 5, 1, 2, 3, 4, 1, 2, 3, 4, 5, 5, 3, 5, 5, 5, 1, 1, 2, 3, 4, 5, 4, 1, 2, 5, 1, 2, 3, 4, 5, 1, 3, 1, 1, 2, 3, 4, 4, 1, 2, 3, 4, 5, 2, 5, 4, 1, 2, 4, 5, 3, 4, 2, 1, 2, 3, 4, 5, 4, 1, 2, 3, 4, 5, 1, 2, 3, 4, 5, 1, 3, 4, 5, 3, 3, 4, 3, 3, 4, 1, 2, 4, 1, 2, 3, 4, 5, 1, 2, 3, 1, 2, 3, 5, 5, 1, 2, 3, 4, 1, 2, 3, 4, 5, 1, 2, 3, 5, 1, 2, 3, 4, 5, 3, 5, 4, 1, 2, 5, 1, 1, 3, 4, 5, 2, 1, 2, 3, 4, 5, 2, 4, 1, 1, 2, 3, 4, 5, 1, 2, 3, 4, 5, 1, 3, 4, 5, 1, 2, 3, 4, 5, 1, 2, 4, 1, 2, 3, 4, 5, 2, 3, 4, 1, 2, 3, 4, 4, 4, 5, 4, 1, 2, 3, 4, 5, 1, 2, 3, 4, 5, 3, 1, 3, 2, 3, 4, 1, 2, 3, 4, 5, 2, 5, 5, 1, 2, 2, 1, 3, 4, 5, 1, 2, 3, 4, 5, 1, 2, 3, 4, 5, 1, 5, 3, 4, 5, 1, 2, 3, 4, 5, 1, 2, 3, 4, 5, 3, 1, 3, 1, 3, 4, 1, 2, 3, 4, 5, 1, 2, 3, 4, 5, 1, 1, 3, 4, 1, 3, 4, 5, 2, 3, 1, 2, 1, 2, 4, 5, 1, 2, 3, 4, 5, 1, 2, 3, 4, 5, 1, 2, 3, 4, 5, 1, 1, 3, 4, 1, 2, 3, 4, 5, 1, 2, 3, 4, 5, 1, 2, 3, 4, 5, 1, 2, 3, 4, 5, 1, 2, 3, 4, 5, 2, 3, 4, 5, 1, 3, 1, 2, 3, 4, 5, 1, 3, 1, 2, 3, 1, 3, 4, 5, 5, 1, 2, 3, 4, 5, 4, 1, 2, 3, 4, 5, 4, 1, 2, 3, 1, 2, 3, 4, 5, 2, 1, 2, 3, 5, 4, 1, 3, 4, 5, 1, 3, 4, 5, 5, 3, 2, 3, 4, 5, 1, 2, 3, 4, 5, 4, 5, 1, 5, 1, 2, 3, 4, 1, 2, 3, 4, 5, 4, 1, 2, 3, 4, 1, 2, 3, 4, 5, 5, 2, 1, 2, 3, 5, 2, 3, 4, 3, 4, 5, 1, 2, 4, 2, 4, 5, 5, 5, 2, 1, 2, 3, 4, 5, 1, 2, 4, 5, 2, 3, 1, 2, 3, 4, 5, 4, 1, 2, 3, 4, 5, 1, 2, 3, 4, 5, 1, 2, 3, 4, 5, 2, 3, 5, 2, 3, 1, 2, 3, 4, 1, 2, 3, 4, 5, 1, 2, 3, 5, 2, 4, 1, 2, 3, 4, 5, 2, 1, 1, 2, 3, 4, 5, 1, 2, 3, 4, 5, 4, 5, 1, 2, 3, 4, 5, 1, 2, 3, 4, 5, 1, 2, 3, 4, 5, 1, 2, 5, 3, 4, 5, 1, 2, 3, 4, 5, 1, 2, 3, 4, 5, 1, 2, 3, 4, 5, 5, 3, 5, 4, 5, 1, 5, 3, 4, 5, 2, 3, 1, 1, 3, 2, 4, 5, 5, 1, 2, 3, 5, 2, 4, 5, 1, 2, 4, 5, 1, 2, 3, 4, 2, 4, 5, 1, 3, 4, 5, 1, 2, 3, 4, 5, 1, 2, 3, 4, 5, 1, 2, 3, 2, 2, 2, 1, 2, 3, 4, 5, 1, 1, 2, 3, 4, 5, 1, 2, 3, 4, 5, 1, 1, 3, 1, 1, 2, 3, 4, 5, 1, 2, 3, 4, 5, 4, 3, 4, 1, 2, 3, 5, 2, 3, 5, 1, 2, 3, 4, 5, 1, 2, 3, 4, 5, 1, 2, 3, 4, 5, 1, 2, 3, 4, 5, 5, 1, 3, 4, 2, 3, 1, 3, 4, 5, 1, 2, 3, 4, 5, 1, 3, 4, 5, 5, 4, 1, 1, 2, 3, 4, 5, 1, 2, 4, 5, 1, 2, 3, 4, 5, 1, 2, 3, 4, 5, 1, 3, 1, 3, 4, 1, 2, 3, 2, 4, 1, 2, 3, 1, 2, 1, 2, 3, 4, 5, 1, 2, 3, 4, 5, 1, 2, 1, 2, 3, 4, 5, 1, 2, 3, 5, 1, 2, 3, 4, 2, 4, 1, 2, 3, 4, 5, 1, 2, 3, 4, 5, 1, 2, 3, 4, 5, 5, 1, 2, 3, 4, 5, 3, 1, 2, 3, 4, 5, 1, 3, 4, 5, 1, 5], \"Freq\": [0.905918481262547, 0.9826686524927596, 0.9257210580268389, 0.973825148954725, 0.9439738274968307, 0.842464909508804, 0.9269186430290395, 0.9536987984222307, 0.031575312979950705, 0.12630125191980282, 0.20523953436967957, 0.6315062595990141, 0.21758160027765527, 0.5589596282994937, 0.07877954492811656, 0.01875703450669442, 0.12754783464552205, 0.9260079646238316, 0.925879298032306, 0.9258471390928411, 0.9807153352932068, 0.32783195156102723, 0.45317946245200824, 0.21212655689242937, 0.9387910346808345, 0.00635260895887272, 0.9910069975841442, 0.9776707429122287, 0.9827091112549974, 0.9332545784623612, 0.03218119236077108, 0.019308715416462643, 0.012872476944308429, 0.9668018753615982, 0.9793796519062884, 0.013324893223214809, 0.9788807979642175, 0.008571933605930594, 0.9857723646820183, 0.9711828416229784, 0.9759712496818678, 0.2150057652229662, 0.7781161027116872, 0.01122221002949961, 0.976332272566466, 0.01122221002949961, 0.03485755595389297, 0.9585827887320567, 0.12520000657694902, 0.21462858270334118, 0.053657145675835294, 0.01788571522527843, 0.5723428872089098, 0.9165333578716971, 0.0056576133201956605, 0.00848641998029349, 0.04808971322166312, 0.022630453280782642, 0.92291495601081, 0.004935374096314492, 0.004935374096314492, 0.0592244891557739, 0.014806122288943475, 0.9291733520532891, 0.06104058517138396, 0.0067822872412648845, 0.9911024085711515, 0.006189384951339892, 0.9531652825063434, 0.037136309708039356, 0.0010490685570863766, 0.9567505240627755, 0.04196274228345507, 0.00385274613760986, 0.979881767665441, 0.01541098455043944, 0.47910815416248614, 0.2792348137756821, 0.16460157443619156, 0.014696569146088532, 0.06466490424278953, 0.962118389530198, 0.017180685527324966, 0.048069781069880885, 0.9133258403277369, 0.9289131479217513, 0.006362418821381858, 0.038174512928291146, 0.025449675285527433, 0.013425750376471729, 0.9666540271059645, 0.013425750376471729, 0.9937945570139808, 0.16129256426395783, 0.7181359408895266, 0.015361196596567412, 0.01152089744742556, 0.09216717957940448, 0.9940654562021856, 0.00310645455063183, 0.00623906916964059, 0.9920119979728538, 0.010407833535300403, 0.9887441858535383, 0.006909422171187752, 0.9880473704798485, 0.006909422171187752, 0.951504029625261, 0.9888499055922739, 0.013309479285392571, 0.9849014671190502, 0.9589193993663164, 0.03653026283300253, 0.9950274959854261, 0.9683434263285862, 0.026898428509127395, 0.9530935073057548, 0.05001872716192594, 0.9503558160765928, 0.7441705749573498, 0.13472053512158919, 0.10692105962030889, 0.002138421192406178, 0.01069210596203089, 0.8052036598685101, 0.16326710154015872, 0.022263695664567096, 0.003710615944094516, 0.007421231888189032, 0.9514875551504689, 0.025727928104441217, 0.656062166663251, 0.07075180228721335, 0.05145585620888243, 0.19939144280941945, 0.3657805499800062, 0.0406422833311118, 0.013547427777037265, 0.5825393944126024, 0.11745731389263653, 0.0440464927097387, 0.8368833614850353, 0.052032006012364795, 0.6359467401511253, 0.052032006012364795, 0.24859736205907623, 0.017344002004121596, 0.09186249296050907, 0.8880040986182544, 0.21277325106295503, 0.12354575868171581, 0.2676824771437176, 0.3980918890855288, 0.09103617038752872, 0.7770587400935487, 0.07803100318931033, 0.032512917995545974, 0.02275904259688218, 0.990874241662508, 0.34913699071641596, 0.24118015806068208, 0.30090095910427955, 0.05053298549842863, 0.05972080104359747, 0.9797428183317126, 0.6873493901502777, 0.17731621948804266, 0.07770036584307487, 0.04183865853088647, 0.01394621951029549, 0.041976915749523655, 0.9234921464895204, 0.9843465890058068, 0.4809181488075876, 0.011013392720784448, 0.49743823788876423, 0.0018355654534640746, 0.007342261813856298, 0.02290059034585895, 0.9675499421125406, 0.011450295172929476, 0.0043253714835379715, 0.7785668670368349, 0.21626857417689857, 0.9082726691369476, 0.008488529618102314, 0.06366397213576735, 0.012732794427153471, 0.004244264809051157, 0.7241520597052137, 0.05877857627477384, 0.1927937301812582, 0.016458001356936675, 0.009404572203963815, 0.10060798808051219, 0.050303994040256095, 0.8048639046440975, 0.38740317853279105, 0.14386324932252187, 0.44905885681387187, 0.0154139195702702, 0.0041103785520720535, 0.02067436403924516, 0.944129291125529, 0.027565818718993548, 0.006891454679748387, 0.053987747017541554, 0.8222749161133251, 0.11212839765181708, 0.012458710850201896, 0.9646833705961755, 0.015312434453907548, 0.022968651680861322, 0.06214708532717895, 0.9197768628422485, 0.006214708532717895, 0.006214708532717895, 0.006214708532717895, 0.04489616952444493, 0.2843424069881512, 0.029930779682963288, 0.6285463733422291, 0.07857633626162532, 0.03928816813081266, 0.8643396988778784, 0.9737952992494625, 0.01622992165415771, 0.9830896372219179, 0.09605013228869243, 0.8586299704595233, 0.03201671076289748, 0.0029106100693543162, 0.01455305034677158, 0.7803167699171792, 0.041846640658019074, 0.11323208648640455, 0.039385073560488544, 0.02461567097530534, 0.8140122980826939, 0.0030148603632692366, 0.1718470407063465, 0.009044581089807711, 0.7979919573302885, 0.007321027131470537, 0.18668619185249868, 0.007321027131470537, 0.0036605135657352683, 0.8545620231344528, 0.05001620814454758, 0.9503079547464041, 0.8425797649469946, 0.9781642783616323, 0.9922605022845663, 0.11862059237677958, 0.7291677590219686, 0.03488840952258223, 0.03837725047484045, 0.08373218285419735, 0.951498036896592, 0.017187004182454776, 0.9710657363086947, 0.008593502091227388, 0.07172120450572682, 0.8997751110718455, 0.0032600547502603097, 0.0032600547502603097, 0.02282038325182217, 0.02603840721720968, 0.9634210670367582, 0.9882141754402624, 0.26607821085901556, 0.0546736049710306, 0.6597281666504359, 0.014579627992274826, 0.9515013096081788, 0.13396992850333633, 0.8190434265317609, 0.01826862661409132, 0.015223855511742766, 0.00913431330704566, 0.0617814613636968, 0.926721920455452, 0.951484842422927, 0.9819491436854391, 0.9720527850139236, 0.014728072500210963, 0.014728072500210963, 0.9709837419687699, 0.017654249853977635, 0.9649784247387055, 0.06591126424407052, 0.7958174867987774, 0.12205789674827874, 0.00488231586993115, 0.0097646317398623, 0.9814309272756186, 0.18084808164025876, 0.44781429739492645, 0.07750632070296803, 0.017223626822881786, 0.2928016559889904, 0.15834729222977673, 0.31005727280920353, 0.042668432037963784, 0.006637311650349922, 0.4826273757183015, 0.05956254362632675, 0.42686489598867505, 0.4963545302193896, 0.009927090604387791, 0.9834328437131786, 0.09807846236059559, 0.8827061612453603, 0.9921039806008565, 0.9705173755462857, 0.014704808720398269, 0.974764673907747, 0.01911303282172053, 0.9777703707139959, 0.6401933603182344, 0.08978321516658165, 0.2264098469418146, 0.015614472202883766, 0.02927713538040706, 0.9825965885969182, 0.011628361995229802, 0.0029070904988074504, 0.930905451631447, 0.05660911530191232, 0.00628990170021248, 0.00628990170021248, 0.8779577204995266, 0.1355088704944976, 0.7923823783152826, 0.059715773438253184, 0.01378056310113535, 0.7572898212493954, 0.04612932921316114, 0.18451731685264455, 0.009610276919408571, 0.0019220553838817142, 0.9842274651486372, 0.005705666464629781, 0.008558499696944671, 0.0028528332323148903, 0.25279284823164566, 0.045962336042117385, 0.3217363522948217, 0.35237790965623333, 0.022981168021058693, 0.19372222552872087, 0.7748889021148835, 0.9448360556756316, 0.028926804212040108, 0.9545845389973235, 0.009642268070680035, 0.9797338825775747, 0.0035812903273302293, 0.9275541947785294, 0.04655677425529298, 0.021487741963981375, 0.985604091685505, 0.46814967378895606, 0.337015311383086, 0.17703138924792455, 0.005245374496234801, 0.011802092616528304, 0.09356047299260735, 0.8888244934297699, 0.9680672233105686, 0.47684937127256866, 0.4207494452405018, 0.06585643490720898, 0.010976072484534829, 0.02683039940664069, 0.5936608660440075, 0.06567614787037827, 0.31292752808827295, 0.020604281684824557, 0.005151070421206139, 0.00885076899122743, 0.7788676712280139, 0.1725899953289349, 0.039828460460523435, 0.1692774819243345, 0.3949807911567805, 0.11003036325081741, 0.31880592429082993, 0.00564258273081115, 0.049314257369028974, 0.049314257369028974, 0.9369708900115505, 0.9670844944984951, 0.006154174055899514, 0.024616696223598057, 0.0017583354445427184, 0.0008791677222713592, 0.9717844652421337, 0.048074136571739985, 0.9134085948630597, 0.9830406714607441, 0.01170286513643743, 0.005851432568218715, 0.939417349973296, 0.9514647771425662, 0.07311820180217678, 0.8774184216261214, 0.9492118660104797, 0.24724707818157063, 0.6626221695266092, 0.061317275389029514, 0.01977976625452565, 0.01186785975271539, 0.22303057330178658, 0.04083658384398909, 0.45234369796418683, 0.23245440034270712, 0.05026041088490965, 0.9774397377926957, 0.986385385385796, 0.009133198012831445, 0.9843698594953394, 0.9807272299066094, 0.9514868019040345, 0.18534126185316896, 0.6862039575754232, 0.09046418733309437, 0.008825774373960427, 0.028683766715371387, 0.12775014336522364, 0.8516676224348242, 0.9284878632545468, 0.033362237768989715, 0.9591643358584544, 0.9714513399049389, 0.4080886041288891, 0.1530332265483334, 0.0765166132741667, 0.357077528612778, 0.9687682364833967, 0.0013003600489710024, 0.0013003600489710024, 0.01820504068559403, 0.010402880391768019, 0.9592926184408133, 0.0022361133296988655, 0.004472226659397731, 0.026833359956386384, 0.008944453318795462, 0.9861297603141616, 0.009303110946360015, 0.10472861173515756, 0.8901931997488393, 0.005818256207508753, 0.6319389079939438, 0.007932287548041135, 0.05552601283628795, 0.28027416003078676, 0.023796862644123406, 0.5722849894744276, 0.001718573541965248, 0.10139583897594963, 0.2973132227599879, 0.027497176671443968, 0.9829586780438343, 0.015615569549605397, 0.98378088162514, 0.015080457032040038, 0.9802297070826024, 0.8918302715724138, 0.5447151024467624, 0.020128040737062813, 0.42143085293225263, 0.010064020368531407, 0.005032010184265703, 0.43540426402060806, 0.3069664280263284, 0.24082094248927438, 0.005137513439771186, 0.01155940523948517, 0.9913899833634803, 0.030263348823803, 0.9583393794204284, 0.010087782941267666, 0.20163792085317947, 0.008766866124051281, 0.7364167544203076, 0.06136806286835897, 0.9815559600839003, 0.02181235466853112, 0.9744582029467247, 0.021654626732149438, 0.017628048830424646, 0.6169817090648626, 0.03525609766084929, 0.33493292777806827, 0.019341586376991137, 0.9600460147124692, 0.01230828223990345, 0.005274978102815764, 0.0017583260342719216, 0.8812497146797273, 0.027976181418404043, 0.08082007965316723, 0.009325393806134681, 0.0015542323010224468, 0.3664143344861422, 0.07543824533538221, 0.532378474223983, 0.012932270628922665, 0.012932270628922665, 0.988153384089595, 0.9771529898059329, 0.011772927588023287, 0.011772927588023287, 0.46419314889561286, 0.33609236893332206, 0.17699946478660608, 0.016529132898360104, 0.006198424836885038, 0.4371225648670042, 0.07149200827264088, 0.4595914817526913, 0.02859680330905635, 0.004085257615579478, 0.03419660431609184, 0.02279773621072789, 0.4331569880038299, 0.5129490647413776, 0.011398868105363945, 0.2970335094292766, 0.41239920282368314, 0.26786057546747266, 0.009282297169664893, 0.013260424528092705, 0.1457726851612298, 0.7853875282156054, 0.053549149651064006, 0.014874763791962224, 0.005949905516784889, 0.9730128165122054, 0.014668534922294554, 0.004889511640764852, 0.004889511640764852, 0.00966021128569627, 0.9853415511410196, 0.3707959618420167, 0.10373458456294514, 0.498808853430332, 0.02427830702537014, 0.004414237640976389, 0.022957955121836997, 0.9642341151171538, 0.005711294011639619, 0.930940923897258, 0.06282423412803581, 0.07400326901147301, 0.8841443192423355, 0.03505418005806617, 0.00778981779068137, 0.9259568828226546, 0.6348915755614521, 0.2102953168263485, 0.138194065343029, 0.012016875247219914, 0.006008437623609957, 0.9607034978357916, 0.15068068853387884, 0.47583375326488053, 0.12688900087063482, 0.015861125108829352, 0.23791687663244027, 0.9836712459053577, 0.9739747665896649, 0.015338185300624644, 0.015338185300624644, 0.0027208138830700115, 0.9250767202438039, 0.04897464989526021, 0.005441627766140023, 0.01632488329842007, 0.9829360887313969, 0.0035313326975922876, 0.7910185242606724, 0.18716063297239124, 0.017656663487961438, 0.9830679886026331, 0.05190241970577649, 0.6946939252927007, 0.06787239499986156, 0.1876472097054996, 0.12809309314285208, 0.3925433499539015, 0.09090477577879824, 0.38841131469122886, 0.8779140239901285, 0.9843182171182737, 0.9809034360615974, 0.0028106115646464105, 0.0028106115646464105, 0.011242446258585642, 0.3538334275591453, 0.5386290233289014, 0.09024901188755528, 0.005730095992860652, 0.011460191985721305, 0.9507440247621269, 0.04321563748918759, 0.9904581488538861, 0.9284138295940124, 0.08007851576178801, 0.04575915186387887, 0.03431936389790915, 0.8351045215157893, 0.22397660544001854, 0.40735745114403377, 0.19597952976001623, 0.15118420867201252, 0.02099780676000174, 0.9606892319462685, 0.9752046263408127, 0.012664995147283281, 0.012664995147283281, 0.9394244262856353, 0.21674788026715255, 0.4784811696463556, 0.1185978967499514, 0.18403121909475217, 0.004089582646550048, 0.9224010751142905, 0.9786296274875932, 0.0026818400323744464, 0.9440076913958052, 0.034863920420867806, 0.018772880226621127, 0.9677990496177473, 0.030562075251086757, 0.9912658925040524, 0.5165909768952403, 0.46797064965804114, 0.006077540904649885, 0.03892708931849244, 0.15570835727396976, 0.8044931792488438, 0.9810758154898396, 0.006673985139386664, 0.006673985139386664, 0.9048410611646901, 0.9426291737832523, 0.9809483041795716, 0.917299568480069, 0.005733122303000431, 0.005733122303000431, 0.005733122303000431, 0.06306434533300474, 0.968537063101242, 0.006918121879294586, 0.020754365637883757, 0.006918121879294586, 0.9821860463280345, 0.010793253256352027, 0.5712520781392152, 0.06082542091988095, 0.35582871238130354, 0.005068785076656745, 0.006589420599653769, 0.8991204676739682, 0.604084460840898, 0.26738164660170893, 0.11223427141306301, 0.006602015965474294, 0.009903023948211442, 0.2784039574237491, 0.5568079148474983, 0.06661198981304427, 0.09223198589498437, 0.006831998955184028, 0.3696695690303706, 0.10408172331923056, 0.2943000452474795, 0.22251954640663085, 0.007178049884084866, 0.1749359395955105, 0.02186699244943881, 0.809078720629236, 0.8768918955096044, 0.11691891940128059, 0.08628408332789773, 0.023532022725790292, 0.4471084317900155, 0.4392644242147521, 0.041481771264554095, 0.9174791762042552, 0.017080729344228156, 0.007320312576097781, 0.017080729344228156, 0.04251783403227931, 0.9056298648875493, 0.038266050629051376, 0.012755350209683793, 0.05132073976535227, 0.9237733157763408, 0.6356569004799242, 0.2662152831069768, 0.05795162625457999, 0.03440877808865687, 0.0072439532818224985, 0.9923419245327979, 0.9819416465691871, 0.7776110420910822, 0.06858752300693118, 0.138032390051449, 0.0008573440375866396, 0.014574848638972874, 0.002858214987190112, 0.12004502946198471, 0.8460316362082733, 0.02572393488471101, 0.005716429974380224, 0.9781078254267618, 0.9673988929122099, 0.0027375554958452494, 0.9608819790416826, 0.016425332975071497, 0.0027375554958452494, 0.019162888470916746, 0.3492037801139235, 0.10374403564549572, 0.5302472932992004, 0.0013561311849084408, 0.01491744303399285, 0.3940442261488797, 0.08262217645057156, 0.36226646597558293, 0.025422208138637402, 0.1398221447625057, 0.021856071383869566, 0.502689641829, 0.45897749906126084, 0.9677431151571995, 0.016977949388722796, 0.9372339984129474, 0.390002362616908, 0.18855486126519932, 0.3916139426277217, 0.0016115800108136694, 0.027396860183832382, 0.8540028135739625, 0.07116690113116354, 0.04892724452767493, 0.013343793962093163, 0.008895862641395443, 0.21963717013202835, 0.431612578515265, 0.2758234229565007, 0.007661761748791687, 0.06384801457326406, 0.9318215581092588, 0.13030120036623016, 0.8686746691082011, 0.06277206438763065, 0.9101949336206445, 0.08167531645714372, 0.9120410337714382, 0.9259933347861661, 0.06313590918996587, 0.007015101021107318, 0.9820358746883926, 0.9547215195108977, 0.9761344109198242, 0.04684626991812389, 0.9447331100154985, 0.9510270669249341, 0.003548608458675127, 0.04258330150410153, 0.8170581182373684, 0.0372364797158772, 0.9122937530389914, 0.031030399763231, 0.0186182398579386, 0.08428343573310937, 0.042141717866554684, 0.8428343573310936, 0.005404766557928764, 0.8971912486161748, 0.005404766557928764, 0.09188103148478899, 0.004110690529731819, 0.9290160597193913, 0.061660357945977295, 0.004110690529731819, 0.3350030956020322, 0.0239287925430023, 0.6460773986610621, 0.28633043783281714, 0.6991789761033907, 0.0066588473914608644, 0.0033294236957304322, 0.017205781204254592, 0.09979353098467664, 0.8602890602127297, 0.017205781204254592, 0.010323468722552756, 0.015233430137968233, 0.9524902633634874, 0.01362991117607684, 0.0024052784428370893, 0.015233430137968233, 0.004221228620287167, 0.9244490678428895, 0.06753965792459467, 0.9779844606335474, 0.9946185201359581, 0.9783783956344488, 0.46539691183315124, 0.16463020010424398, 0.34667320983489835, 0.01582982693310038, 0.00949789615986023, 0.9860122069988803, 0.7456017276266828, 0.07207483367057933, 0.11432559823609134, 0.054677460025956734, 0.013669365006489183, 0.3839756146226124, 0.24270156773316068, 0.13765163543074785, 0.18112057293519454, 0.05433617188055836, 0.9855724056700348, 0.008355248710435378, 0.9859193478313746, 0.9889398992145296, 0.128676668765437, 0.8085978321186104, 0.023829012734340186, 0.01906321018747215, 0.01906321018747215, 0.3754547906225202, 0.14955875477079641, 0.4611394938766223, 0.007789518477645647, 0.006231614782116517, 0.9514881785997071, 0.9360715506388733, 0.06300481590838569, 0.0052877900284002965, 0.9835289452824552, 0.0052877900284002965, 0.0052877900284002965, 0.9777242485561617, 0.010513163962969481, 0.010513163962969481, 0.4003675522137853, 0.17488979717641884, 0.40614903311217926, 0.007226851122992514, 0.010117591572189518, 0.5028373407423524, 0.3468704236386451, 0.13725088705126245, 0.003743206010488976, 0.009981882694637269, 0.6049020724114978, 0.21967909244516134, 0.16789759208308758, 0.0015691363746082952, 0.0054919773111290334, 0.4572113275792029, 0.2935461889712124, 0.21847043731617086, 0.01276287778135706, 0.018018180397209968, 0.9039689683612232, 0.1256932796129134, 0.8398596410499214, 0.02856665445748032, 0.9723961688747803, 0.9809571808842935, 0.0304132852492498, 0.6995055607327454, 0.26459558166847325, 0.00304132852492498, 0.0017050366702186994, 0.0017050366702186994, 0.9377701686202846, 0.05626621011721708, 0.0034100733404373988, 0.007029677082824519, 0.9384618905570733, 0.049207739579771634, 0.007029677082824519, 0.9441181145277506, 0.9606863556544278, 0.9847688225768844, 0.11237441752282154, 0.255651799864419, 0.22474883504564308, 0.3483606943207468, 0.06180592963755185, 0.14110703082128265, 0.4409594713165083, 0.08819189426330167, 0.317490819347886, 0.3284454982985965, 0.5936499379185812, 0.03162052933930587, 0.025500426886536993, 0.020400341509229595, 0.012156036932822896, 0.18234055399234342, 0.2917448863877495, 0.5105535511785616, 0.012156036932822896, 0.9828630179714388, 0.9839577741779806, 0.2623805480406188, 0.6883630848595057, 0.04630244965422684, 0.9699217728906289, 0.011546687772507487, 0.023093375545014973, 0.954001598424757, 0.04471882492616048, 0.9735293919225233, 0.01024767780971077, 0.01024767780971077, 0.9861207953319004, 0.00996081611446364, 0.5106286227560695, 0.3025947394110042, 0.17020954091868984, 0.0055624032979964, 0.01223728725559208, 0.4533575040598583, 0.018695154806592094, 0.38558756788596193, 0.07478061922636837, 0.07010683052472036, 0.9812133821756556, 0.013819906791206416, 0.5156883089249371, 0.26877520340476774, 0.19290086368763235, 0.012860057579175488, 0.009002040305422843, 0.9360504372543687, 0.006638655583364316, 0.05310924466691453, 0.004425770388909544, 0.004355677467189721, 0.39201097204707486, 0.026134064803138325, 0.5749494256690432, 0.11439827153936147, 0.8694268636991472, 0.2664856916169435, 0.002747275171308696, 0.7252806452254957, 0.005494550342617392, 0.002747275171308696, 0.21242057257790614, 0.5463997387119551, 0.19154687469452808, 0.0306966145343795, 0.020873697883378062, 0.3707887593335194, 0.22578756853270177, 0.3293598476761429, 0.03107168374303235, 0.04557180282311411, 0.9224012299094222, 0.34620230758677667, 0.33472598799826475, 0.2553481108443905, 0.028690798971279834, 0.03538531873124513, 0.9775729931246506, 0.15262709326305998, 0.0854711722273136, 0.3724101075618664, 0.3724101075618664, 0.012210167461044799, 0.09154824456460117, 0.061032163043067446, 0.030516081521533723, 0.8239342010814106, 0.9859760035953022, 0.8946051620781569], \"Term\": [\"+61\", \"-gayane\", \"-tommy\", \"-zinaida\", \"0/0\", \"00000\", \"1912\", \"1925\", \"1983\", \"1983\", \"1983\", \"1983\", \"1993\", \"1993\", \"1993\", \"1993\", \"1993\", \"2178\", \"355\", \"517\", \"abide\", \"access\", \"access\", \"access\", \"acetone\", \"adl\", \"adl\", \"aerospace\", \"agdam\", \"agent\", \"agent\", \"agent\", \"agent\", \"aiu\", \"amendment\", \"amendment\", \"ames\", \"amp\", \"amp\", \"amplifier\", \"anania\", \"ankara\", \"ankara\", \"antenna\", \"antenna\", \"antenna\", \"apartment\", \"apartment\", \"apr\", \"apr\", \"apr\", \"apr\", \"apr\", \"arab\", \"arab\", \"arab\", \"arab\", \"arab\", \"arabs\", \"arabs\", \"arabs\", \"arabs\", \"arabs\", \"argic\", \"argic\", \"argic\", \"ariane\", \"armenia\", \"armenia\", \"armenia\", \"armenian\", \"armenian\", \"armenian\", \"armenians\", \"armenians\", \"armenians\", \"article\", \"article\", \"article\", \"article\", \"article\", \"asala\", \"asala\", \"askeri\", \"askeri\", \"assault\", \"assault\", \"assault\", \"assault\", \"astronaut\", \"astronaut\", \"astronaut\", \"atf\", \"available\", \"available\", \"available\", \"available\", \"available\", \"azerbaijan\", \"azerbaijan\", \"azerbaijani\", \"azerbaijani\", \"azerbaijanis\", \"azerbaijanis\", \"azeri\", \"azeri\", \"azeri\", \"babiali\", \"baku\", \"balcony\", \"balcony\", \"ban\", \"ban\", \"batf\", \"bayonet\", \"bayonet\", \"bedouin\", \"belgeleri\", \"belgeleri\", \"believe\", \"believe\", \"believe\", \"believe\", \"believe\", \"bill\", \"bill\", \"bill\", \"bill\", \"bill\", \"birinci\", \"board\", \"board\", \"board\", \"board\", \"board\", \"bosnia\", \"bosnia\", \"bosnia\", \"bosnia\", \"bosnian\", \"bosnian\", \"bosnian\", \"box\", \"box\", \"box\", \"box\", \"box\", \"breaker\", \"breaker\", \"british\", \"british\", \"british\", \"british\", \"build\", \"build\", \"build\", \"build\", \"build\", \"bullock\", \"call\", \"call\", \"call\", \"call\", \"call\", \"capacitor\", \"case\", \"case\", \"case\", \"case\", \"case\", \"cec\", \"cec\", \"centaur\", \"child\", \"child\", \"child\", \"child\", \"child\", \"chip\", \"chip\", \"chip\", \"circuit\", \"circuit\", \"circuit\", \"citizen\", \"citizen\", \"citizen\", \"citizen\", \"citizen\", \"claim\", \"claim\", \"claim\", \"claim\", \"claim\", \"co.\", \"co.\", \"co.\", \"come\", \"come\", \"come\", \"come\", \"come\", \"commercial\", \"commercial\", \"commercial\", \"commercial\", \"company\", \"company\", \"company\", \"company\", \"compound\", \"compound\", \"compound\", \"computer\", \"computer\", \"computer\", \"computer\", \"computer\", \"conductor\", \"conductor\", \"conductor\", \"conductor\", \"cooper\", \"cooper\", \"cooper\", \"cop\", \"cop\", \"corpse\", \"cost\", \"cost\", \"cost\", \"cost\", \"cost\", \"country\", \"country\", \"country\", \"country\", \"country\", \"crime\", \"crime\", \"crime\", \"crime\", \"criminal\", \"criminal\", \"criminal\", \"criminal\", \"criminal\", \"croat\", \"croatia\", \"croatia\", \"croatian\", \"croats\", \"cult\", \"current\", \"current\", \"current\", \"current\", \"current\", \"dahiliye\", \"data\", \"data\", \"data\", \"datum\", \"datum\", \"datum\", \"datum\", \"datum\", \"daughter\", \"daughter\", \"davidians\", \"dead\", \"dead\", \"dead\", \"dead\", \"defterleri\", \"design\", \"design\", \"design\", \"design\", \"design\", \"deskjet\", \"deskjet\", \"devleti\", \"dictionary\", \"digital\", \"digital\", \"digital\", \"dro\", \"dro\", \"dryden\", \"earth\", \"earth\", \"earth\", \"earth\", \"earth\", \"een\", \"element\", \"element\", \"element\", \"element\", \"element\", \"email\", \"email\", \"email\", \"email\", \"email\", \"empire\", \"empire\", \"empire\", \"empire\", \"entryway\", \"ermeni\", \"ermeni\", \"erzincan\", \"erzurum\", \"erzurum\", \"evil\", \"evil\", \"evrak\", \"fact\", \"fact\", \"fact\", \"fact\", \"fact\", \"fbi\", \"fbi\", \"fbi\", \"federal\", \"federal\", \"federal\", \"federal\", \"feustel\", \"file\", \"file\", \"file\", \"file\", \"fire\", \"fire\", \"fire\", \"fire\", \"fire\", \"firearm\", \"firearm\", \"firearm\", \"firearm\", \"foreign\", \"foreign\", \"foreign\", \"foreign\", \"foreign\", \"forge\", \"forge\", \"fpu\", \"frequency\", \"frequency\", \"frequency\", \"gazans\", \"genocide\", \"genocide\", \"genocide\", \"genocide\", \"gerard\", \"get\", \"get\", \"get\", \"get\", \"get\", \"gfci\", \"gfci\", \"ghetto\", \"good\", \"good\", \"good\", \"good\", \"good\", \"government\", \"government\", \"government\", \"government\", \"government\", \"greek\", \"greek\", \"greek\", \"greek\", \"ground\", \"ground\", \"ground\", \"ground\", \"ground\", \"grounding\", \"grounding\", \"grounding\", \"gun\", \"gun\", \"gun\", \"gun\", \"gun\", \"gurvitz\", \"hakkinda\", \"hakkinda\", \"handgun\", \"handgun\", \"handgun\", \"harb\", \"harbi\", \"herzegovina\", \"herzegovina\", \"het\", \"high\", \"high\", \"high\", \"high\", \"high\", \"history\", \"history\", \"history\", \"history\", \"history\", \"hojali\", \"homicide\", \"homicide\", \"hst\", \"igor\", \"imparatorlugu'nun\", \"information\", \"information\", \"information\", \"information\", \"information\", \"ink\", \"ink\", \"inkjet\", \"input\", \"input\", \"interface\", \"iran\", \"iran\", \"iran\", \"iran\", \"israel\", \"israel\", \"israel\", \"israel\", \"israel\", \"israeli\", \"israeli\", \"israeli\", \"israeli\", \"israeli\", \"israelis\", \"israelis\", \"istanbul\", \"istanbul\", \"istanbul\", \"jewish\", \"jewish\", \"jewish\", \"jewish\", \"jewish\", \"jews\", \"jews\", \"jews\", \"jews\", \"jews\", \"karabagh\", \"karabakh\", \"karabakh\", \"karina\", \"karina\", \"kerem\", \"kill\", \"kill\", \"kill\", \"kill\", \"kill\", \"know\", \"know\", \"know\", \"know\", \"know\", \"koresh\", \"kurds\", \"kurds\", \"kurds\", \"kuwait\", \"kuwait\", \"kuwait\", \"kuwait\", \"laboratory\", \"laboratory\", \"larson\", \"larson\", \"laser\", \"laser\", \"laser\", \"laser\", \"launch\", \"launch\", \"launch\", \"launch\", \"launch\", \"law\", \"law\", \"law\", \"law\", \"law\", \"leave\", \"leave\", \"leave\", \"leave\", \"leave\", \"lebanese\", \"lebanon\", \"lebanon\", \"lebanon\", \"like\", \"like\", \"like\", \"like\", \"like\", \"live\", \"live\", \"live\", \"live\", \"live\", \"london\", \"london\", \"london\", \"london\", \"london\", \"look\", \"look\", \"look\", \"look\", \"look\", \"low\", \"low\", \"low\", \"low\", \"low\", \"lunar\", \"lunar\", \"lunar\", \"lunar\", \"mamma\", \"mamma\", \"man\", \"man\", \"man\", \"man\", \"man\", \"marina\", \"marina\", \"mars\", \"mars\", \"mars\", \"massacre\", \"massacre\", \"massacre\", \"massacre\", \"mcwilliams\", \"mean\", \"mean\", \"mean\", \"mean\", \"mean\", \"mecmuasi\", \"message\", \"message\", \"message\", \"message\", \"message\", \"mezalimi\", \"militia\", \"militia\", \"militia\", \"mission\", \"mission\", \"mission\", \"mission\", \"mission\", \"module\", \"moon\", \"moon\", \"moon\", \"moon\", \"muharrerat\", \"muslim\", \"muslim\", \"muslim\", \"muslim\", \"muslims\", \"muslims\", \"muslims\", \"muslims\", \"n9myi\", \"nagorno\", \"nasa\", \"nasa\", \"nasa\", \"nasa\", \"need\", \"need\", \"need\", \"need\", \"need\", \"negev\", \"negev\", \"nejm\", \"netnews\", \"neutral\", \"neutral\", \"neutral\", \"neutral\", \"new\", \"new\", \"new\", \"new\", \"new\", \"nezareti\", \"nra\", \"nra\", \"nra\", \"odasi\", \"office\", \"office\", \"office\", \"office\", \"office\", \"onur\", \"optical\", \"orbit\", \"orbit\", \"orbit\", \"orbit\", \"orbiter\", \"orbiter\", \"osmanli\", \"ottoman\", \"ottoman\", \"ottoman\", \"outlet\", \"outlet\", \"outlet\", \"output\", \"output\", \"output\", \"owen\", \"p.o.box\", \"pad\", \"palestinian\", \"palestinian\", \"palestinian\", \"palestinian\", \"palestinian\", \"palestinians\", \"palestinians\", \"palestinians\", \"palestinians\", \"payload\", \"payload\", \"people\", \"people\", \"people\", \"people\", \"people\", \"pkk\", \"point\", \"point\", \"point\", \"point\", \"point\", \"power\", \"power\", \"power\", \"power\", \"power\", \"press\", \"press\", \"press\", \"press\", \"press\", \"printer\", \"printer\", \"printer\", \"probe\", \"probe\", \"professor\", \"professor\", \"professor\", \"professor\", \"program\", \"program\", \"program\", \"program\", \"program\", \"project\", \"project\", \"project\", \"project\", \"prong\", \"prong\", \"question\", \"question\", \"question\", \"question\", \"question\", \"redesign\", \"reno\", \"right\", \"right\", \"right\", \"right\", \"right\", \"russian\", \"russian\", \"russian\", \"russian\", \"russian\", \"salonica\", \"sarajevo\", \"satellite\", \"satellite\", \"satellite\", \"satellite\", \"satellite\", \"say\", \"say\", \"say\", \"say\", \"say\", \"school\", \"school\", \"school\", \"school\", \"school\", \"sci.space\", \"sci.space\", \"sci.space\", \"sdpa\", \"sdpa\", \"secession\", \"see\", \"see\", \"see\", \"see\", \"see\", \"self\", \"self\", \"self\", \"self\", \"self\", \"send\", \"send\", \"send\", \"send\", \"send\", \"serb\", \"serbia\", \"serbia\", \"serbian\", \"serbian\", \"serbs\", \"serbs\", \"serdar\", \"serdar\", \"serdar\", \"shack\", \"shirak\", \"shotgun\", \"shout\", \"shout\", \"shuttle\", \"shuttle\", \"shuttle\", \"sideropoulos\", \"signal\", \"signal\", \"signal\", \"signal\", \"silver\", \"silver\", \"silver\", \"software\", \"software\", \"software\", \"software\", \"solar\", \"solar\", \"solar\", \"solar\", \"solder\", \"solder\", \"solder\", \"soldier\", \"soldier\", \"soldier\", \"soldier\", \"soviet\", \"soviet\", \"soviet\", \"soviet\", \"soviet\", \"space\", \"space\", \"space\", \"space\", \"space\", \"spacecraft\", \"spacecraft\", \"spacecraft\", \"spec\", \"ssf\", \"ssto\", \"start\", \"start\", \"start\", \"start\", \"start\", \"stat\", \"state\", \"state\", \"state\", \"state\", \"state\", \"subject\", \"subject\", \"subject\", \"subject\", \"subject\", \"suicide\", \"sumgait\", \"sumgait\", \"surrender\", \"system\", \"system\", \"system\", \"system\", \"system\", \"take\", \"take\", \"take\", \"take\", \"take\", \"tarihi\", \"tartar\", \"tartar\", \"technology\", \"technology\", \"technology\", \"technology\", \"telescope\", \"telescope\", \"telescope\", \"tell\", \"tell\", \"tell\", \"tell\", \"tell\", \"thing\", \"thing\", \"thing\", \"thing\", \"thing\", \"think\", \"think\", \"think\", \"think\", \"think\", \"time\", \"time\", \"time\", \"time\", \"time\", \"toner\", \"town\", \"town\", \"town\", \"transmitter\", \"turan\", \"turkey\", \"turkey\", \"turkey\", \"turkey\", \"turkish\", \"turkish\", \"turkish\", \"turkish\", \"turkish\", \"turks\", \"turks\", \"turks\", \"turks\", \"uae\", \"umumiye\", \"unified\", \"university\", \"university\", \"university\", \"university\", \"university\", \"update\", \"update\", \"update\", \"update\", \"use\", \"use\", \"use\", \"use\", \"use\", \"van\", \"van\", \"van\", \"van\", \"van\", \"vancouver\", \"venera\", \"village\", \"village\", \"village\", \"violent\", \"violent\", \"violent\", \"voltage\", \"voltage\", \"vote\", \"vote\", \"vote\", \"waco\", \"waco\", \"want\", \"want\", \"want\", \"want\", \"want\", \"war\", \"war\", \"war\", \"war\", \"war\", \"warrant\", \"warrant\", \"way\", \"way\", \"way\", \"way\", \"way\", \"weapon\", \"weapon\", \"weapon\", \"weapon\", \"wire\", \"wire\", \"wire\", \"wire\", \"wiring\", \"wiring\", \"woman\", \"woman\", \"woman\", \"woman\", \"woman\", \"work\", \"work\", \"work\", \"work\", \"work\", \"world\", \"world\", \"world\", \"world\", \"world\", \"yalcin\", \"year\", \"year\", \"year\", \"year\", \"year\", \"yerevan\", \"york\", \"york\", \"york\", \"york\", \"york\", \"yugoslavia\", \"yugoslavia\", \"yugoslavia\", \"yugoslavia\", \"zionism\", \"|_|\"]}, \"R\": 30, \"lambda.step\": 0.01, \"plot.opts\": {\"xlab\": \"PC1\", \"ylab\": \"PC2\"}, \"topic.order\": [5, 2, 1, 3, 4]};\n",
              "\n",
              "function LDAvis_load_lib(url, callback){\n",
              "  var s = document.createElement('script');\n",
              "  s.src = url;\n",
              "  s.async = true;\n",
              "  s.onreadystatechange = s.onload = callback;\n",
              "  s.onerror = function(){console.warn(\"failed to load library \" + url);};\n",
              "  document.getElementsByTagName(\"head\")[0].appendChild(s);\n",
              "}\n",
              "\n",
              "if(typeof(LDAvis) !== \"undefined\"){\n",
              "   // already loaded: just create the visualization\n",
              "   !function(LDAvis){\n",
              "       new LDAvis(\"#\" + \"ldavis_el10561403402432887844049341374\", ldavis_el10561403402432887844049341374_data);\n",
              "   }(LDAvis);\n",
              "}else if(typeof define === \"function\" && define.amd){\n",
              "   // require.js is available: use it to load d3/LDAvis\n",
              "   require.config({paths: {d3: \"https://cdnjs.cloudflare.com/ajax/libs/d3/3.5.5/d3.min\"}});\n",
              "   require([\"d3\"], function(d3){\n",
              "      window.d3 = d3;\n",
              "      LDAvis_load_lib(\"https://cdn.rawgit.com/bmabey/pyLDAvis/files/ldavis.v1.0.0.js\", function(){\n",
              "        new LDAvis(\"#\" + \"ldavis_el10561403402432887844049341374\", ldavis_el10561403402432887844049341374_data);\n",
              "      });\n",
              "    });\n",
              "}else{\n",
              "    // require.js not available: dynamically load d3 & LDAvis\n",
              "    LDAvis_load_lib(\"https://cdnjs.cloudflare.com/ajax/libs/d3/3.5.5/d3.min.js\", function(){\n",
              "         LDAvis_load_lib(\"https://cdn.rawgit.com/bmabey/pyLDAvis/files/ldavis.v1.0.0.js\", function(){\n",
              "                 new LDAvis(\"#\" + \"ldavis_el10561403402432887844049341374\", ldavis_el10561403402432887844049341374_data);\n",
              "            })\n",
              "         });\n",
              "}\n",
              "</script>"
            ]
          },
          "metadata": {},
          "execution_count": 45
        }
      ]
    },
    {
      "cell_type": "markdown",
      "metadata": {
        "id": "IuAJxqywVKlD"
      },
      "source": [
        "## Create a Topic Id --> Topic Name dictionary \n",
        "\n",
        "\n",
        "*****This is the \"human intervention\" step*****:<br>\n",
        "Edit `vis_topic_name_dict` with YOUR OWN names that YOU assign to the topics that `gensim` discovered.\n",
        "\n",
        "When populating your Topic Id --> Topic Name dictionary, use the index ordering as shown in the `pyLDAvis` tool. "
      ]
    },
    {
      "cell_type": "code",
      "metadata": {
        "nbgrader": {
          "grade": false,
          "grade_id": "cell-777be73d0d1455f0",
          "locked": false,
          "schema_version": 3,
          "solution": true,
          "task": false
        },
        "id": "nKz7KQvwVKlD"
      },
      "source": [
        "# keys - use topic ids from pyLDAvis visualization \n",
        "# values - topic names that you create \n",
        "# save dictionary to `vis_topic_name_dict`\n",
        "###BEGIN SOLUTION\n",
        "# this is the results from a model run however these topic names might not make sense in future model runs\n",
        "# thus these names will likely have to be thought through during each lecture \n",
        "vis_topic_name_dict = {1:\"space program\", \n",
        "                       2:\"guns 'n crime\", \n",
        "                       3:\"mideast-politics-israel-religion\", \n",
        "                       4:\"armenian-turkish-politics\", \n",
        "                       5:\"electical power\"}\n",
        "###END SOLUTION"
      ],
      "execution_count": null,
      "outputs": []
    },
    {
      "cell_type": "code",
      "source": [
        "df.head()"
      ],
      "metadata": {
        "colab": {
          "base_uri": "https://localhost:8080/",
          "height": 320
        },
        "id": "32iE5H_GjDS0",
        "outputId": "c26ecc99-940b-4297-fd4f-b53b0f7d0b93"
      },
      "execution_count": null,
      "outputs": [
        {
          "output_type": "execute_result",
          "data": {
            "text/plain": [
              "                                             content  target  \\\n",
              "0    [...]\\n\\nSome of the Davidians *are* black.\\...       2   \n",
              "1  \\n\\n       How about \"firearm related.\"\\n\\n\\n ...       2   \n",
              "2  ==========================\\n                  ...       1   \n",
              "3  From: \"Phil G. Fraering\" <pgf@srl03.cacs.usl.e...       1   \n",
              "4  From article <93859@hydra.gatech.EDU>, by gs26...       2   \n",
              "\n",
              "         target_names                                         clean_data  \\\n",
              "0  talk.politics.guns  [...]\\n\\nsome of the davidians *are* black.\\n\\...   \n",
              "1  talk.politics.guns  how about \"firearm related.\"\\n\\n\\n texas is un...   \n",
              "2           sci.space  ==========================\\n ozone gif images\\...   \n",
              "3           sci.space  from: \"phil g. fraering\" email\\n >> finally: t...   \n",
              "4  talk.politics.guns  from article email email r. stone):\\n\\ni secon...   \n",
              "\n",
              "                                              lemmas  \\\n",
              "0                       [davidians, black, question]   \n",
              "1  [firearm, relate, texas, unusual, regard, nice...   \n",
              "2  [ozone, gif, image, april, 1993, gif, image, o...   \n",
              "3  [phil, fraering, email, finally, bronze, age, ...   \n",
              "4  [article, email, email, stone, second, motion,...   \n",
              "\n",
              "                                     filtered_lemmas  \n",
              "0                       [davidians, black, question]  \n",
              "1  [firearm, relate, texas, unusual, regard, nice...  \n",
              "2  [ozone, gif, image, april, 1993, gif, image, o...  \n",
              "3  [phil, fraering, email, finally, bronze, age, ...  \n",
              "4  [article, email, email, stone, second, motion,...  "
            ],
            "text/html": [
              "\n",
              "  <div id=\"df-2790c6c9-df96-4bf2-af4a-28cdfcce1823\">\n",
              "    <div class=\"colab-df-container\">\n",
              "      <div>\n",
              "<style scoped>\n",
              "    .dataframe tbody tr th:only-of-type {\n",
              "        vertical-align: middle;\n",
              "    }\n",
              "\n",
              "    .dataframe tbody tr th {\n",
              "        vertical-align: top;\n",
              "    }\n",
              "\n",
              "    .dataframe thead th {\n",
              "        text-align: right;\n",
              "    }\n",
              "</style>\n",
              "<table border=\"1\" class=\"dataframe\">\n",
              "  <thead>\n",
              "    <tr style=\"text-align: right;\">\n",
              "      <th></th>\n",
              "      <th>content</th>\n",
              "      <th>target</th>\n",
              "      <th>target_names</th>\n",
              "      <th>clean_data</th>\n",
              "      <th>lemmas</th>\n",
              "      <th>filtered_lemmas</th>\n",
              "    </tr>\n",
              "  </thead>\n",
              "  <tbody>\n",
              "    <tr>\n",
              "      <th>0</th>\n",
              "      <td>[...]\\n\\nSome of the Davidians *are* black.\\...</td>\n",
              "      <td>2</td>\n",
              "      <td>talk.politics.guns</td>\n",
              "      <td>[...]\\n\\nsome of the davidians *are* black.\\n\\...</td>\n",
              "      <td>[davidians, black, question]</td>\n",
              "      <td>[davidians, black, question]</td>\n",
              "    </tr>\n",
              "    <tr>\n",
              "      <th>1</th>\n",
              "      <td>\\n\\n       How about \"firearm related.\"\\n\\n\\n ...</td>\n",
              "      <td>2</td>\n",
              "      <td>talk.politics.guns</td>\n",
              "      <td>how about \"firearm related.\"\\n\\n\\n texas is un...</td>\n",
              "      <td>[firearm, relate, texas, unusual, regard, nice...</td>\n",
              "      <td>[firearm, relate, texas, unusual, regard, nice...</td>\n",
              "    </tr>\n",
              "    <tr>\n",
              "      <th>2</th>\n",
              "      <td>==========================\\n                  ...</td>\n",
              "      <td>1</td>\n",
              "      <td>sci.space</td>\n",
              "      <td>==========================\\n ozone gif images\\...</td>\n",
              "      <td>[ozone, gif, image, april, 1993, gif, image, o...</td>\n",
              "      <td>[ozone, gif, image, april, 1993, gif, image, o...</td>\n",
              "    </tr>\n",
              "    <tr>\n",
              "      <th>3</th>\n",
              "      <td>From: \"Phil G. Fraering\" &lt;pgf@srl03.cacs.usl.e...</td>\n",
              "      <td>1</td>\n",
              "      <td>sci.space</td>\n",
              "      <td>from: \"phil g. fraering\" email\\n &gt;&gt; finally: t...</td>\n",
              "      <td>[phil, fraering, email, finally, bronze, age, ...</td>\n",
              "      <td>[phil, fraering, email, finally, bronze, age, ...</td>\n",
              "    </tr>\n",
              "    <tr>\n",
              "      <th>4</th>\n",
              "      <td>From article &lt;93859@hydra.gatech.EDU&gt;, by gs26...</td>\n",
              "      <td>2</td>\n",
              "      <td>talk.politics.guns</td>\n",
              "      <td>from article email email r. stone):\\n\\ni secon...</td>\n",
              "      <td>[article, email, email, stone, second, motion,...</td>\n",
              "      <td>[article, email, email, stone, second, motion,...</td>\n",
              "    </tr>\n",
              "  </tbody>\n",
              "</table>\n",
              "</div>\n",
              "      <button class=\"colab-df-convert\" onclick=\"convertToInteractive('df-2790c6c9-df96-4bf2-af4a-28cdfcce1823')\"\n",
              "              title=\"Convert this dataframe to an interactive table.\"\n",
              "              style=\"display:none;\">\n",
              "        \n",
              "  <svg xmlns=\"http://www.w3.org/2000/svg\" height=\"24px\"viewBox=\"0 0 24 24\"\n",
              "       width=\"24px\">\n",
              "    <path d=\"M0 0h24v24H0V0z\" fill=\"none\"/>\n",
              "    <path d=\"M18.56 5.44l.94 2.06.94-2.06 2.06-.94-2.06-.94-.94-2.06-.94 2.06-2.06.94zm-11 1L8.5 8.5l.94-2.06 2.06-.94-2.06-.94L8.5 2.5l-.94 2.06-2.06.94zm10 10l.94 2.06.94-2.06 2.06-.94-2.06-.94-.94-2.06-.94 2.06-2.06.94z\"/><path d=\"M17.41 7.96l-1.37-1.37c-.4-.4-.92-.59-1.43-.59-.52 0-1.04.2-1.43.59L10.3 9.45l-7.72 7.72c-.78.78-.78 2.05 0 2.83L4 21.41c.39.39.9.59 1.41.59.51 0 1.02-.2 1.41-.59l7.78-7.78 2.81-2.81c.8-.78.8-2.07 0-2.86zM5.41 20L4 18.59l7.72-7.72 1.47 1.35L5.41 20z\"/>\n",
              "  </svg>\n",
              "      </button>\n",
              "      \n",
              "  <style>\n",
              "    .colab-df-container {\n",
              "      display:flex;\n",
              "      flex-wrap:wrap;\n",
              "      gap: 12px;\n",
              "    }\n",
              "\n",
              "    .colab-df-convert {\n",
              "      background-color: #E8F0FE;\n",
              "      border: none;\n",
              "      border-radius: 50%;\n",
              "      cursor: pointer;\n",
              "      display: none;\n",
              "      fill: #1967D2;\n",
              "      height: 32px;\n",
              "      padding: 0 0 0 0;\n",
              "      width: 32px;\n",
              "    }\n",
              "\n",
              "    .colab-df-convert:hover {\n",
              "      background-color: #E2EBFA;\n",
              "      box-shadow: 0px 1px 2px rgba(60, 64, 67, 0.3), 0px 1px 3px 1px rgba(60, 64, 67, 0.15);\n",
              "      fill: #174EA6;\n",
              "    }\n",
              "\n",
              "    [theme=dark] .colab-df-convert {\n",
              "      background-color: #3B4455;\n",
              "      fill: #D2E3FC;\n",
              "    }\n",
              "\n",
              "    [theme=dark] .colab-df-convert:hover {\n",
              "      background-color: #434B5C;\n",
              "      box-shadow: 0px 1px 3px 1px rgba(0, 0, 0, 0.15);\n",
              "      filter: drop-shadow(0px 1px 2px rgba(0, 0, 0, 0.3));\n",
              "      fill: #FFFFFF;\n",
              "    }\n",
              "  </style>\n",
              "\n",
              "      <script>\n",
              "        const buttonEl =\n",
              "          document.querySelector('#df-2790c6c9-df96-4bf2-af4a-28cdfcce1823 button.colab-df-convert');\n",
              "        buttonEl.style.display =\n",
              "          google.colab.kernel.accessAllowed ? 'block' : 'none';\n",
              "\n",
              "        async function convertToInteractive(key) {\n",
              "          const element = document.querySelector('#df-2790c6c9-df96-4bf2-af4a-28cdfcce1823');\n",
              "          const dataTable =\n",
              "            await google.colab.kernel.invokeFunction('convertToInteractive',\n",
              "                                                     [key], {});\n",
              "          if (!dataTable) return;\n",
              "\n",
              "          const docLinkHtml = 'Like what you see? Visit the ' +\n",
              "            '<a target=\"_blank\" href=https://colab.research.google.com/notebooks/data_table.ipynb>data table notebook</a>'\n",
              "            + ' to learn more about interactive tables.';\n",
              "          element.innerHTML = '';\n",
              "          dataTable['output_type'] = 'display_data';\n",
              "          await google.colab.output.renderOutput(dataTable, element);\n",
              "          const docLink = document.createElement('div');\n",
              "          docLink.innerHTML = docLinkHtml;\n",
              "          element.appendChild(docLink);\n",
              "        }\n",
              "      </script>\n",
              "    </div>\n",
              "  </div>\n",
              "  "
            ]
          },
          "metadata": {},
          "execution_count": 68
        }
      ]
    },
    {
      "cell_type": "markdown",
      "metadata": {
        "id": "b5WBO7q_Z_tB"
      },
      "source": [
        "## Create a Topic Id lookup dictionary\n",
        "We'll use a function to map the `pyLDAvis` index ordering to the ordering used in gensim's trained LDA model. "
      ]
    },
    {
      "cell_type": "code",
      "metadata": {
        "colab": {
          "base_uri": "https://localhost:8080/"
        },
        "id": "vfH63ST9d1VB",
        "outputId": "a105de05-7544-48a6-ed22-cf74718653e3"
      },
      "source": [
        "model_vis_tool_topic_id_lookup = vis.topic_coordinates.topics.to_dict()\n",
        "model_vis_tool_topic_id_lookup"
      ],
      "execution_count": null,
      "outputs": [
        {
          "output_type": "execute_result",
          "data": {
            "text/plain": [
              "{0: 3, 1: 2, 2: 4, 3: 5, 4: 1}"
            ]
          },
          "metadata": {},
          "execution_count": 76
        }
      ]
    },
    {
      "cell_type": "code",
      "metadata": {
        "colab": {
          "base_uri": "https://localhost:8080/"
        },
        "id": "ynBqm_G9eH-E",
        "outputId": "0d7b428d-1fad-4b72-9b3d-06aba8f14b89"
      },
      "source": [
        "topic_id_lookup =  {v:k for k, v in model_vis_tool_topic_id_lookup.items()}\n",
        "topic_id_lookup"
      ],
      "execution_count": null,
      "outputs": [
        {
          "output_type": "execute_result",
          "data": {
            "text/plain": [
              "{1: 4, 2: 1, 3: 0, 4: 2, 5: 3}"
            ]
          },
          "metadata": {},
          "execution_count": 77
        }
      ]
    },
    {
      "cell_type": "code",
      "metadata": {
        "id": "eTrs_e35VKlE"
      },
      "source": [
        "def get_topic_id_lookup_dict(vis, vis_topic_name_dict):\n",
        "    \"\"\"\n",
        "    Both the starting index and the ordering of topic ids bewteen the trained LDA model \n",
        "    and the viz tool are different. So we need to create a look up dictionary that maps \n",
        "    the correct association between topic ids from both sources. \n",
        "    \"\"\"\n",
        "    # value is order of topic ids according to pyLDAvis tool \n",
        "    # key is order of topic ids according to lda model\n",
        "    model_vis_tool_topic_id_lookup = vis.topic_coordinates.topics.to_dict()\n",
        "\n",
        "    # invert dictionary so that \n",
        "    # key is order of topic ids accoridng to pyLDAvis tool \n",
        "    # value is order of topic ids according to the trained lda model\n",
        "    topic_id_lookup =  {v:k for k, v in model_vis_tool_topic_id_lookup.items()}\n",
        "    \n",
        "    # iterate through topic_id_lookup and index vis_topic_name_dict using the keys \n",
        "    # in order to swap the viz topic ids in vis_topic_name_dict for the lda model topic ids \n",
        "    return {v:vis_topic_name_dict[k]  for k, v in topic_id_lookup.items()}"
      ],
      "execution_count": null,
      "outputs": []
    },
    {
      "cell_type": "code",
      "metadata": {
        "nbgrader": {
          "grade": false,
          "grade_id": "cell-0718245fd125b36e",
          "locked": false,
          "schema_version": 3,
          "solution": true,
          "task": false
        },
        "id": "-9CYntf6VKlE"
      },
      "source": [
        "###BEGIN SOLUTION\n",
        "# now we have an updated topic id/name dict\n",
        "# the topic ids correspond to how the lda model has indexed the topics \n",
        "# now we can use this dictionary with lda model to label our docs \n",
        "topic_name_dict = get_topic_id_lookup_dict(vis, vis_topic_name_dict)\n",
        "###END SOLTUION"
      ],
      "execution_count": null,
      "outputs": []
    },
    {
      "cell_type": "code",
      "metadata": {
        "id": "BMX0VaB9VKlE",
        "colab": {
          "base_uri": "https://localhost:8080/"
        },
        "outputId": "ce68f094-422c-4a40-d4b9-a3a27b257365"
      },
      "source": [
        "topic_name_dict"
      ],
      "execution_count": null,
      "outputs": [
        {
          "output_type": "execute_result",
          "data": {
            "text/plain": [
              "{0: 'mideast-politics-israel-religion',\n",
              " 1: \"guns 'n crime\",\n",
              " 2: 'armenian-turkish-politics',\n",
              " 3: 'electical power',\n",
              " 4: 'space program'}"
            ]
          },
          "metadata": {},
          "execution_count": 80
        }
      ]
    },
    {
      "cell_type": "markdown",
      "metadata": {
        "id": "AvF8rSnsVKlF"
      },
      "source": [
        "## Use the LDA Model to Assign Each Document a Topic Name\n",
        "\n",
        "Now that we have a topic id/name look up dict that is aligned with the index ordering of the trained LDA model, we can move forward to giving each topic a topic name. \n",
        "\n",
        "This function iterates over the documents in a corpus and outputs a list with the topic ID -- according to the trained `lda_model` -- of the highest-probability topic for each document\n",
        "\n",
        "The function below has been given to you. However, you highly encouraged to read through it and make sure that you understand what it is doing each step of the way. In fact, a good way to do this is to copy and paste the code inside of the function into a new cell, comment out all the lines of code and line by line, uncomment the code and see the output. "
      ]
    },
    {
      "cell_type": "code",
      "metadata": {
        "id": "TL1KiGfTVKlF"
      },
      "source": [
        "def get_topic_ids_for_docs(lda_model, corpus):\n",
        "    \n",
        "    \"\"\"\n",
        "    Passes a Bag-of-Words vector into a trained LDA model in order to get the topic id of that document. \n",
        "    \n",
        "    Parameters\n",
        "    ----------\n",
        "    lda_model: Gensim object\n",
        "        Must be a trained model \n",
        "        \n",
        "    corpus: nested lists of tuples, \n",
        "        i.e. [[(),(), ..., ()], [(),(), ..., ()], ..., [(),(), ..., ()]]\n",
        "        \n",
        "    Returns\n",
        "    -------\n",
        "    topic_id_list: list\n",
        "        Contains topic ids for all document vectors in corpus \n",
        "    \"\"\"\n",
        "    \n",
        "    # store topic ids for each document\n",
        "    doc_topic_ids = []\n",
        "\n",
        "    # iterature through the bow vectors for each doc\n",
        "    for doc_bow in corpus:\n",
        "        \n",
        "        # store the topic ids for the doc\n",
        "        topic_ids = []\n",
        "        # store the topic probabilities for the doc\n",
        "        topic_probs = []\n",
        "\n",
        "        # list of tuples\n",
        "        # each tuple has a topic id and the prob that the doc belongs to that topic \n",
        "        topic_id_prob_tuples = lda_trained_model.get_document_topics(doc_bow)\n",
        "        \n",
        "        # iterate through the topic id/prob pairs \n",
        "        for topic_id_prob in topic_id_prob_tuples:\n",
        "            \n",
        "            # index for topic id\n",
        "            topic_id = topic_id_prob[0]\n",
        "            # index for prob that doc belongs that the corresponding topic\n",
        "            topic_prob = topic_id_prob[1]\n",
        "\n",
        "            # store all topic ids for doc\n",
        "            topic_ids.append(topic_id)\n",
        "            # store all topic probs for doc\n",
        "            topic_probs.append(topic_prob)\n",
        "\n",
        "        # get index for largest prob score\n",
        "        max_topic_prob_ind = np.argmax(topic_probs)\n",
        "        # get corresponding topic id\n",
        "        max_prob_topic_id = topic_ids[max_topic_prob_ind]\n",
        "        # store topic id that had the highest prob for doc being a memebr of that topic\n",
        "        doc_topic_ids.append(max_prob_topic_id)\n",
        "        \n",
        "    return doc_topic_ids"
      ],
      "execution_count": null,
      "outputs": []
    },
    {
      "cell_type": "code",
      "metadata": {
        "id": "LFFT9C4AVKlF"
      },
      "source": [
        "# get the topic id for each doc in the corpus \n",
        "topic_id_list = get_topic_ids_for_docs(lda_trained_model, corpus)\n",
        "\n",
        "# create a feature for document's topic id\n",
        "df[\"topic_id\"] = topic_id_list\n",
        "\n",
        "# iterate through the topic id and use the lookup table to assign each document with a topic name\n",
        "df[\"new_topic_name\"] = df[\"topic_id\"].apply(lambda topic_id: topic_name_dict[topic_id])"
      ],
      "execution_count": null,
      "outputs": []
    },
    {
      "cell_type": "code",
      "metadata": {
        "id": "pcfIEtYQVKlF",
        "colab": {
          "base_uri": "https://localhost:8080/",
          "height": 441
        },
        "outputId": "cd5b5f23-e822-4b00-c3a7-ed8b841d4aec"
      },
      "source": [
        "# cool! so now all of our documents have topic ids and names \n",
        "df.head()"
      ],
      "execution_count": null,
      "outputs": [
        {
          "output_type": "execute_result",
          "data": {
            "text/plain": [
              "                                             content  target  \\\n",
              "0    [...]\\n\\nSome of the Davidians *are* black.\\...       2   \n",
              "1  \\n\\n       How about \"firearm related.\"\\n\\n\\n ...       2   \n",
              "2  ==========================\\n                  ...       1   \n",
              "3  From: \"Phil G. Fraering\" <pgf@srl03.cacs.usl.e...       1   \n",
              "4  From article <93859@hydra.gatech.EDU>, by gs26...       2   \n",
              "\n",
              "         target_names                                         clean_data  \\\n",
              "0  talk.politics.guns  [...]\\n\\nsome of the davidians *are* black.\\n\\...   \n",
              "1  talk.politics.guns  how about \"firearm related.\"\\n\\n\\n texas is un...   \n",
              "2           sci.space  ==========================\\n ozone gif images\\...   \n",
              "3           sci.space  from: \"phil g. fraering\" email\\n >> finally: t...   \n",
              "4  talk.politics.guns  from article email email r. stone):\\n\\ni secon...   \n",
              "\n",
              "                                              lemmas  \\\n",
              "0                       [davidians, black, question]   \n",
              "1  [firearm, relate, texas, unusual, regard, nice...   \n",
              "2  [ozone, gif, image, april, 1993, gif, image, o...   \n",
              "3  [phil, fraering, email, finally, bronze, age, ...   \n",
              "4  [article, email, email, stone, second, motion,...   \n",
              "\n",
              "                                     filtered_lemmas  topic_id  \\\n",
              "0                       [davidians, black, question]         4   \n",
              "1  [firearm, relate, texas, unusual, regard, nice...         4   \n",
              "2  [ozone, gif, image, april, 1993, gif, image, o...         1   \n",
              "3  [phil, fraering, email, finally, bronze, age, ...         3   \n",
              "4  [article, email, email, stone, second, motion,...         4   \n",
              "\n",
              "    new_topic_name  \n",
              "0    space program  \n",
              "1    space program  \n",
              "2    guns 'n crime  \n",
              "3  electical power  \n",
              "4    space program  "
            ],
            "text/html": [
              "\n",
              "  <div id=\"df-5fc6983f-9b12-4dbb-b1c8-9d4f48a102a9\">\n",
              "    <div class=\"colab-df-container\">\n",
              "      <div>\n",
              "<style scoped>\n",
              "    .dataframe tbody tr th:only-of-type {\n",
              "        vertical-align: middle;\n",
              "    }\n",
              "\n",
              "    .dataframe tbody tr th {\n",
              "        vertical-align: top;\n",
              "    }\n",
              "\n",
              "    .dataframe thead th {\n",
              "        text-align: right;\n",
              "    }\n",
              "</style>\n",
              "<table border=\"1\" class=\"dataframe\">\n",
              "  <thead>\n",
              "    <tr style=\"text-align: right;\">\n",
              "      <th></th>\n",
              "      <th>content</th>\n",
              "      <th>target</th>\n",
              "      <th>target_names</th>\n",
              "      <th>clean_data</th>\n",
              "      <th>lemmas</th>\n",
              "      <th>filtered_lemmas</th>\n",
              "      <th>topic_id</th>\n",
              "      <th>new_topic_name</th>\n",
              "    </tr>\n",
              "  </thead>\n",
              "  <tbody>\n",
              "    <tr>\n",
              "      <th>0</th>\n",
              "      <td>[...]\\n\\nSome of the Davidians *are* black.\\...</td>\n",
              "      <td>2</td>\n",
              "      <td>talk.politics.guns</td>\n",
              "      <td>[...]\\n\\nsome of the davidians *are* black.\\n\\...</td>\n",
              "      <td>[davidians, black, question]</td>\n",
              "      <td>[davidians, black, question]</td>\n",
              "      <td>4</td>\n",
              "      <td>space program</td>\n",
              "    </tr>\n",
              "    <tr>\n",
              "      <th>1</th>\n",
              "      <td>\\n\\n       How about \"firearm related.\"\\n\\n\\n ...</td>\n",
              "      <td>2</td>\n",
              "      <td>talk.politics.guns</td>\n",
              "      <td>how about \"firearm related.\"\\n\\n\\n texas is un...</td>\n",
              "      <td>[firearm, relate, texas, unusual, regard, nice...</td>\n",
              "      <td>[firearm, relate, texas, unusual, regard, nice...</td>\n",
              "      <td>4</td>\n",
              "      <td>space program</td>\n",
              "    </tr>\n",
              "    <tr>\n",
              "      <th>2</th>\n",
              "      <td>==========================\\n                  ...</td>\n",
              "      <td>1</td>\n",
              "      <td>sci.space</td>\n",
              "      <td>==========================\\n ozone gif images\\...</td>\n",
              "      <td>[ozone, gif, image, april, 1993, gif, image, o...</td>\n",
              "      <td>[ozone, gif, image, april, 1993, gif, image, o...</td>\n",
              "      <td>1</td>\n",
              "      <td>guns 'n crime</td>\n",
              "    </tr>\n",
              "    <tr>\n",
              "      <th>3</th>\n",
              "      <td>From: \"Phil G. Fraering\" &lt;pgf@srl03.cacs.usl.e...</td>\n",
              "      <td>1</td>\n",
              "      <td>sci.space</td>\n",
              "      <td>from: \"phil g. fraering\" email\\n &gt;&gt; finally: t...</td>\n",
              "      <td>[phil, fraering, email, finally, bronze, age, ...</td>\n",
              "      <td>[phil, fraering, email, finally, bronze, age, ...</td>\n",
              "      <td>3</td>\n",
              "      <td>electical power</td>\n",
              "    </tr>\n",
              "    <tr>\n",
              "      <th>4</th>\n",
              "      <td>From article &lt;93859@hydra.gatech.EDU&gt;, by gs26...</td>\n",
              "      <td>2</td>\n",
              "      <td>talk.politics.guns</td>\n",
              "      <td>from article email email r. stone):\\n\\ni secon...</td>\n",
              "      <td>[article, email, email, stone, second, motion,...</td>\n",
              "      <td>[article, email, email, stone, second, motion,...</td>\n",
              "      <td>4</td>\n",
              "      <td>space program</td>\n",
              "    </tr>\n",
              "  </tbody>\n",
              "</table>\n",
              "</div>\n",
              "      <button class=\"colab-df-convert\" onclick=\"convertToInteractive('df-5fc6983f-9b12-4dbb-b1c8-9d4f48a102a9')\"\n",
              "              title=\"Convert this dataframe to an interactive table.\"\n",
              "              style=\"display:none;\">\n",
              "        \n",
              "  <svg xmlns=\"http://www.w3.org/2000/svg\" height=\"24px\"viewBox=\"0 0 24 24\"\n",
              "       width=\"24px\">\n",
              "    <path d=\"M0 0h24v24H0V0z\" fill=\"none\"/>\n",
              "    <path d=\"M18.56 5.44l.94 2.06.94-2.06 2.06-.94-2.06-.94-.94-2.06-.94 2.06-2.06.94zm-11 1L8.5 8.5l.94-2.06 2.06-.94-2.06-.94L8.5 2.5l-.94 2.06-2.06.94zm10 10l.94 2.06.94-2.06 2.06-.94-2.06-.94-.94-2.06-.94 2.06-2.06.94z\"/><path d=\"M17.41 7.96l-1.37-1.37c-.4-.4-.92-.59-1.43-.59-.52 0-1.04.2-1.43.59L10.3 9.45l-7.72 7.72c-.78.78-.78 2.05 0 2.83L4 21.41c.39.39.9.59 1.41.59.51 0 1.02-.2 1.41-.59l7.78-7.78 2.81-2.81c.8-.78.8-2.07 0-2.86zM5.41 20L4 18.59l7.72-7.72 1.47 1.35L5.41 20z\"/>\n",
              "  </svg>\n",
              "      </button>\n",
              "      \n",
              "  <style>\n",
              "    .colab-df-container {\n",
              "      display:flex;\n",
              "      flex-wrap:wrap;\n",
              "      gap: 12px;\n",
              "    }\n",
              "\n",
              "    .colab-df-convert {\n",
              "      background-color: #E8F0FE;\n",
              "      border: none;\n",
              "      border-radius: 50%;\n",
              "      cursor: pointer;\n",
              "      display: none;\n",
              "      fill: #1967D2;\n",
              "      height: 32px;\n",
              "      padding: 0 0 0 0;\n",
              "      width: 32px;\n",
              "    }\n",
              "\n",
              "    .colab-df-convert:hover {\n",
              "      background-color: #E2EBFA;\n",
              "      box-shadow: 0px 1px 2px rgba(60, 64, 67, 0.3), 0px 1px 3px 1px rgba(60, 64, 67, 0.15);\n",
              "      fill: #174EA6;\n",
              "    }\n",
              "\n",
              "    [theme=dark] .colab-df-convert {\n",
              "      background-color: #3B4455;\n",
              "      fill: #D2E3FC;\n",
              "    }\n",
              "\n",
              "    [theme=dark] .colab-df-convert:hover {\n",
              "      background-color: #434B5C;\n",
              "      box-shadow: 0px 1px 3px 1px rgba(0, 0, 0, 0.15);\n",
              "      filter: drop-shadow(0px 1px 2px rgba(0, 0, 0, 0.3));\n",
              "      fill: #FFFFFF;\n",
              "    }\n",
              "  </style>\n",
              "\n",
              "      <script>\n",
              "        const buttonEl =\n",
              "          document.querySelector('#df-5fc6983f-9b12-4dbb-b1c8-9d4f48a102a9 button.colab-df-convert');\n",
              "        buttonEl.style.display =\n",
              "          google.colab.kernel.accessAllowed ? 'block' : 'none';\n",
              "\n",
              "        async function convertToInteractive(key) {\n",
              "          const element = document.querySelector('#df-5fc6983f-9b12-4dbb-b1c8-9d4f48a102a9');\n",
              "          const dataTable =\n",
              "            await google.colab.kernel.invokeFunction('convertToInteractive',\n",
              "                                                     [key], {});\n",
              "          if (!dataTable) return;\n",
              "\n",
              "          const docLinkHtml = 'Like what you see? Visit the ' +\n",
              "            '<a target=\"_blank\" href=https://colab.research.google.com/notebooks/data_table.ipynb>data table notebook</a>'\n",
              "            + ' to learn more about interactive tables.';\n",
              "          element.innerHTML = '';\n",
              "          dataTable['output_type'] = 'display_data';\n",
              "          await google.colab.output.renderOutput(dataTable, element);\n",
              "          const docLink = document.createElement('div');\n",
              "          docLink.innerHTML = docLinkHtml;\n",
              "          element.appendChild(docLink);\n",
              "        }\n",
              "      </script>\n",
              "    </div>\n",
              "  </div>\n",
              "  "
            ]
          },
          "metadata": {},
          "execution_count": 83
        }
      ]
    },
    {
      "cell_type": "markdown",
      "metadata": {
        "id": "soHBOI5BMsdS"
      },
      "source": [
        "Using a boolean filter, or mask, you can slice out all articles of a certain topic, i.e. topic_id 3"
      ]
    },
    {
      "cell_type": "code",
      "metadata": {
        "id": "2L5fgW-QVKlG",
        "colab": {
          "base_uri": "https://localhost:8080/",
          "height": 745
        },
        "outputId": "303fbe44-ccfb-4014-d910-41b50b801a51"
      },
      "source": [
        "science_mask = df.topic_id == 4\n",
        "science_df = df[science_mask]\n",
        "\n",
        "science_df.head(-5)"
      ],
      "execution_count": null,
      "outputs": [
        {
          "output_type": "execute_result",
          "data": {
            "text/plain": [
              "                                                content  target  \\\n",
              "0       [...]\\n\\nSome of the Davidians *are* black.\\...       2   \n",
              "1     \\n\\n       How about \"firearm related.\"\\n\\n\\n ...       2   \n",
              "4     From article <93859@hydra.gatech.EDU>, by gs26...       2   \n",
              "6     \\n  Even better, let's pass a law making it il...       2   \n",
              "7     \\nI have always thought that if I wanted to se...       0   \n",
              "...                                                 ...     ...   \n",
              "3799  A friend recorded CNN news during the gassing ...       2   \n",
              "3803  Editorial - A10, Saturday, April 24, 1993\\n\\n ...       2   \n",
              "3805  \\n\\nBut this is all gun control laws end up do...       2   \n",
              "3806  In my first posting on this subject I threw ou...       1   \n",
              "3809  What happened in Waco is not the fault of the ...       2   \n",
              "\n",
              "            target_names                                         clean_data  \\\n",
              "0     talk.politics.guns  [...]\\n\\nsome of the davidians *are* black.\\n\\...   \n",
              "1     talk.politics.guns  how about \"firearm related.\"\\n\\n\\n texas is un...   \n",
              "4     talk.politics.guns  from article email email r. stone):\\n\\ni secon...   \n",
              "6     talk.politics.guns  even better, let's pass a law making it illega...   \n",
              "7        sci.electronics  i have always thought that if i wanted to send...   \n",
              "...                  ...                                                ...   \n",
              "3799  talk.politics.guns  a friend recorded cnn news during the gassing ...   \n",
              "3803  talk.politics.guns  editorial - a10, saturday, april 24, 1993\\n\\n ...   \n",
              "3805  talk.politics.guns  but this is all gun control laws end up doing....   \n",
              "3806           sci.space  in my first posting on this subject i threw ou...   \n",
              "3809  talk.politics.guns  what happened in waco is not the fault of the ...   \n",
              "\n",
              "                                                 lemmas  \\\n",
              "0                          [davidians, black, question]   \n",
              "1     [firearm, relate, texas, unusual, regard, nice...   \n",
              "4     [article, email, email, stone, second, motion,...   \n",
              "6     [better, let, pass, law, make, illegal, kill, ...   \n",
              "7     [think, want, send, police, tape, ransom, dema...   \n",
              "...                                                 ...   \n",
              "3799  [friend, record, cnn, news, gassing, incinerat...   \n",
              "3803  [editorial, a10, saturday, april, 1993, crimes...   \n",
              "3805  [gun, control, law, end, politician, manage, h...   \n",
              "3806  [posting, subject, throw, idea, fund, contest,...   \n",
              "3809  [happen, waco, fault, batf, proper, equipment,...   \n",
              "\n",
              "                                        filtered_lemmas  topic_id  \\\n",
              "0                          [davidians, black, question]         4   \n",
              "1     [firearm, relate, texas, unusual, regard, nice...         4   \n",
              "4     [article, email, email, stone, second, motion,...         4   \n",
              "6     [better, let, pass, law, make, illegal, kill, ...         4   \n",
              "7     [think, want, send, police, tape, ransom, dema...         4   \n",
              "...                                                 ...       ...   \n",
              "3799  [friend, record, cnn, news, gassing, incinerat...         4   \n",
              "3803  [editorial, a10, saturday, april, 1993, crimes...         4   \n",
              "3805  [gun, control, law, end, politician, manage, h...         4   \n",
              "3806  [posting, subject, throw, idea, fund, contest,...         4   \n",
              "3809  [happen, waco, fault, batf, proper, equipment,...         4   \n",
              "\n",
              "     new_topic_name  \n",
              "0     space program  \n",
              "1     space program  \n",
              "4     space program  \n",
              "6     space program  \n",
              "7     space program  \n",
              "...             ...  \n",
              "3799  space program  \n",
              "3803  space program  \n",
              "3805  space program  \n",
              "3806  space program  \n",
              "3809  space program  \n",
              "\n",
              "[1677 rows x 8 columns]"
            ],
            "text/html": [
              "\n",
              "  <div id=\"df-c1221d2f-2206-4938-a0af-ea49f3aa3969\">\n",
              "    <div class=\"colab-df-container\">\n",
              "      <div>\n",
              "<style scoped>\n",
              "    .dataframe tbody tr th:only-of-type {\n",
              "        vertical-align: middle;\n",
              "    }\n",
              "\n",
              "    .dataframe tbody tr th {\n",
              "        vertical-align: top;\n",
              "    }\n",
              "\n",
              "    .dataframe thead th {\n",
              "        text-align: right;\n",
              "    }\n",
              "</style>\n",
              "<table border=\"1\" class=\"dataframe\">\n",
              "  <thead>\n",
              "    <tr style=\"text-align: right;\">\n",
              "      <th></th>\n",
              "      <th>content</th>\n",
              "      <th>target</th>\n",
              "      <th>target_names</th>\n",
              "      <th>clean_data</th>\n",
              "      <th>lemmas</th>\n",
              "      <th>filtered_lemmas</th>\n",
              "      <th>topic_id</th>\n",
              "      <th>new_topic_name</th>\n",
              "    </tr>\n",
              "  </thead>\n",
              "  <tbody>\n",
              "    <tr>\n",
              "      <th>0</th>\n",
              "      <td>[...]\\n\\nSome of the Davidians *are* black.\\...</td>\n",
              "      <td>2</td>\n",
              "      <td>talk.politics.guns</td>\n",
              "      <td>[...]\\n\\nsome of the davidians *are* black.\\n\\...</td>\n",
              "      <td>[davidians, black, question]</td>\n",
              "      <td>[davidians, black, question]</td>\n",
              "      <td>4</td>\n",
              "      <td>space program</td>\n",
              "    </tr>\n",
              "    <tr>\n",
              "      <th>1</th>\n",
              "      <td>\\n\\n       How about \"firearm related.\"\\n\\n\\n ...</td>\n",
              "      <td>2</td>\n",
              "      <td>talk.politics.guns</td>\n",
              "      <td>how about \"firearm related.\"\\n\\n\\n texas is un...</td>\n",
              "      <td>[firearm, relate, texas, unusual, regard, nice...</td>\n",
              "      <td>[firearm, relate, texas, unusual, regard, nice...</td>\n",
              "      <td>4</td>\n",
              "      <td>space program</td>\n",
              "    </tr>\n",
              "    <tr>\n",
              "      <th>4</th>\n",
              "      <td>From article &lt;93859@hydra.gatech.EDU&gt;, by gs26...</td>\n",
              "      <td>2</td>\n",
              "      <td>talk.politics.guns</td>\n",
              "      <td>from article email email r. stone):\\n\\ni secon...</td>\n",
              "      <td>[article, email, email, stone, second, motion,...</td>\n",
              "      <td>[article, email, email, stone, second, motion,...</td>\n",
              "      <td>4</td>\n",
              "      <td>space program</td>\n",
              "    </tr>\n",
              "    <tr>\n",
              "      <th>6</th>\n",
              "      <td>\\n  Even better, let's pass a law making it il...</td>\n",
              "      <td>2</td>\n",
              "      <td>talk.politics.guns</td>\n",
              "      <td>even better, let's pass a law making it illega...</td>\n",
              "      <td>[better, let, pass, law, make, illegal, kill, ...</td>\n",
              "      <td>[better, let, pass, law, make, illegal, kill, ...</td>\n",
              "      <td>4</td>\n",
              "      <td>space program</td>\n",
              "    </tr>\n",
              "    <tr>\n",
              "      <th>7</th>\n",
              "      <td>\\nI have always thought that if I wanted to se...</td>\n",
              "      <td>0</td>\n",
              "      <td>sci.electronics</td>\n",
              "      <td>i have always thought that if i wanted to send...</td>\n",
              "      <td>[think, want, send, police, tape, ransom, dema...</td>\n",
              "      <td>[think, want, send, police, tape, ransom, dema...</td>\n",
              "      <td>4</td>\n",
              "      <td>space program</td>\n",
              "    </tr>\n",
              "    <tr>\n",
              "      <th>...</th>\n",
              "      <td>...</td>\n",
              "      <td>...</td>\n",
              "      <td>...</td>\n",
              "      <td>...</td>\n",
              "      <td>...</td>\n",
              "      <td>...</td>\n",
              "      <td>...</td>\n",
              "      <td>...</td>\n",
              "    </tr>\n",
              "    <tr>\n",
              "      <th>3799</th>\n",
              "      <td>A friend recorded CNN news during the gassing ...</td>\n",
              "      <td>2</td>\n",
              "      <td>talk.politics.guns</td>\n",
              "      <td>a friend recorded cnn news during the gassing ...</td>\n",
              "      <td>[friend, record, cnn, news, gassing, incinerat...</td>\n",
              "      <td>[friend, record, cnn, news, gassing, incinerat...</td>\n",
              "      <td>4</td>\n",
              "      <td>space program</td>\n",
              "    </tr>\n",
              "    <tr>\n",
              "      <th>3803</th>\n",
              "      <td>Editorial - A10, Saturday, April 24, 1993\\n\\n ...</td>\n",
              "      <td>2</td>\n",
              "      <td>talk.politics.guns</td>\n",
              "      <td>editorial - a10, saturday, april 24, 1993\\n\\n ...</td>\n",
              "      <td>[editorial, a10, saturday, april, 1993, crimes...</td>\n",
              "      <td>[editorial, a10, saturday, april, 1993, crimes...</td>\n",
              "      <td>4</td>\n",
              "      <td>space program</td>\n",
              "    </tr>\n",
              "    <tr>\n",
              "      <th>3805</th>\n",
              "      <td>\\n\\nBut this is all gun control laws end up do...</td>\n",
              "      <td>2</td>\n",
              "      <td>talk.politics.guns</td>\n",
              "      <td>but this is all gun control laws end up doing....</td>\n",
              "      <td>[gun, control, law, end, politician, manage, h...</td>\n",
              "      <td>[gun, control, law, end, politician, manage, h...</td>\n",
              "      <td>4</td>\n",
              "      <td>space program</td>\n",
              "    </tr>\n",
              "    <tr>\n",
              "      <th>3806</th>\n",
              "      <td>In my first posting on this subject I threw ou...</td>\n",
              "      <td>1</td>\n",
              "      <td>sci.space</td>\n",
              "      <td>in my first posting on this subject i threw ou...</td>\n",
              "      <td>[posting, subject, throw, idea, fund, contest,...</td>\n",
              "      <td>[posting, subject, throw, idea, fund, contest,...</td>\n",
              "      <td>4</td>\n",
              "      <td>space program</td>\n",
              "    </tr>\n",
              "    <tr>\n",
              "      <th>3809</th>\n",
              "      <td>What happened in Waco is not the fault of the ...</td>\n",
              "      <td>2</td>\n",
              "      <td>talk.politics.guns</td>\n",
              "      <td>what happened in waco is not the fault of the ...</td>\n",
              "      <td>[happen, waco, fault, batf, proper, equipment,...</td>\n",
              "      <td>[happen, waco, fault, batf, proper, equipment,...</td>\n",
              "      <td>4</td>\n",
              "      <td>space program</td>\n",
              "    </tr>\n",
              "  </tbody>\n",
              "</table>\n",
              "<p>1677 rows × 8 columns</p>\n",
              "</div>\n",
              "      <button class=\"colab-df-convert\" onclick=\"convertToInteractive('df-c1221d2f-2206-4938-a0af-ea49f3aa3969')\"\n",
              "              title=\"Convert this dataframe to an interactive table.\"\n",
              "              style=\"display:none;\">\n",
              "        \n",
              "  <svg xmlns=\"http://www.w3.org/2000/svg\" height=\"24px\"viewBox=\"0 0 24 24\"\n",
              "       width=\"24px\">\n",
              "    <path d=\"M0 0h24v24H0V0z\" fill=\"none\"/>\n",
              "    <path d=\"M18.56 5.44l.94 2.06.94-2.06 2.06-.94-2.06-.94-.94-2.06-.94 2.06-2.06.94zm-11 1L8.5 8.5l.94-2.06 2.06-.94-2.06-.94L8.5 2.5l-.94 2.06-2.06.94zm10 10l.94 2.06.94-2.06 2.06-.94-2.06-.94-.94-2.06-.94 2.06-2.06.94z\"/><path d=\"M17.41 7.96l-1.37-1.37c-.4-.4-.92-.59-1.43-.59-.52 0-1.04.2-1.43.59L10.3 9.45l-7.72 7.72c-.78.78-.78 2.05 0 2.83L4 21.41c.39.39.9.59 1.41.59.51 0 1.02-.2 1.41-.59l7.78-7.78 2.81-2.81c.8-.78.8-2.07 0-2.86zM5.41 20L4 18.59l7.72-7.72 1.47 1.35L5.41 20z\"/>\n",
              "  </svg>\n",
              "      </button>\n",
              "      \n",
              "  <style>\n",
              "    .colab-df-container {\n",
              "      display:flex;\n",
              "      flex-wrap:wrap;\n",
              "      gap: 12px;\n",
              "    }\n",
              "\n",
              "    .colab-df-convert {\n",
              "      background-color: #E8F0FE;\n",
              "      border: none;\n",
              "      border-radius: 50%;\n",
              "      cursor: pointer;\n",
              "      display: none;\n",
              "      fill: #1967D2;\n",
              "      height: 32px;\n",
              "      padding: 0 0 0 0;\n",
              "      width: 32px;\n",
              "    }\n",
              "\n",
              "    .colab-df-convert:hover {\n",
              "      background-color: #E2EBFA;\n",
              "      box-shadow: 0px 1px 2px rgba(60, 64, 67, 0.3), 0px 1px 3px 1px rgba(60, 64, 67, 0.15);\n",
              "      fill: #174EA6;\n",
              "    }\n",
              "\n",
              "    [theme=dark] .colab-df-convert {\n",
              "      background-color: #3B4455;\n",
              "      fill: #D2E3FC;\n",
              "    }\n",
              "\n",
              "    [theme=dark] .colab-df-convert:hover {\n",
              "      background-color: #434B5C;\n",
              "      box-shadow: 0px 1px 3px 1px rgba(0, 0, 0, 0.15);\n",
              "      filter: drop-shadow(0px 1px 2px rgba(0, 0, 0, 0.3));\n",
              "      fill: #FFFFFF;\n",
              "    }\n",
              "  </style>\n",
              "\n",
              "      <script>\n",
              "        const buttonEl =\n",
              "          document.querySelector('#df-c1221d2f-2206-4938-a0af-ea49f3aa3969 button.colab-df-convert');\n",
              "        buttonEl.style.display =\n",
              "          google.colab.kernel.accessAllowed ? 'block' : 'none';\n",
              "\n",
              "        async function convertToInteractive(key) {\n",
              "          const element = document.querySelector('#df-c1221d2f-2206-4938-a0af-ea49f3aa3969');\n",
              "          const dataTable =\n",
              "            await google.colab.kernel.invokeFunction('convertToInteractive',\n",
              "                                                     [key], {});\n",
              "          if (!dataTable) return;\n",
              "\n",
              "          const docLinkHtml = 'Like what you see? Visit the ' +\n",
              "            '<a target=\"_blank\" href=https://colab.research.google.com/notebooks/data_table.ipynb>data table notebook</a>'\n",
              "            + ' to learn more about interactive tables.';\n",
              "          element.innerHTML = '';\n",
              "          dataTable['output_type'] = 'display_data';\n",
              "          await google.colab.output.renderOutput(dataTable, element);\n",
              "          const docLink = document.createElement('div');\n",
              "          docLink.innerHTML = docLinkHtml;\n",
              "          element.appendChild(docLink);\n",
              "        }\n",
              "      </script>\n",
              "    </div>\n",
              "  </div>\n",
              "  "
            ]
          },
          "metadata": {},
          "execution_count": 99
        }
      ]
    },
    {
      "cell_type": "code",
      "source": [
        "print(science_df['lemmas'][3806])"
      ],
      "metadata": {
        "colab": {
          "base_uri": "https://localhost:8080/"
        },
        "id": "8HwIwizhkJ3f",
        "outputId": "0e6ecaaf-c24c-48ee-c06f-6ba12dda2c9e"
      },
      "execution_count": null,
      "outputs": [
        {
          "output_type": "stream",
          "name": "stdout",
          "text": [
            "['posting', 'subject', 'throw', 'idea', 'fund', 'contest', 'delve', 'deep', 'budget', 'mention', 'grant', 'mineral', 'right', 'winner', 'actual', 'wording', 'mine', 'right', 'somebody', 'point', 'correctly', 'right', 'anybody', 'grant', 'imagine', 'fait', 'accompli', 'situation', 'winner', 'win', 'group', 'company', 'corp', 'year', 'moratorium', 'taxis']\n"
          ]
        }
      ]
    },
    {
      "cell_type": "markdown",
      "metadata": {
        "id": "v2RuVRieVKlG"
      },
      "source": [
        "-----\n",
        "\n",
        "## Knowledge is Power! What Can We Do with the Knowledge We Just Gained?\n",
        "\n",
        "Outside of this guided project (i.e. in your job) you may or may not have access to existing article topic names like we did with this data set. Meaning that you won't always have a point of reference to \"check your answers\". So let's explore two possible situations in which you might find yourself using Latent Dirichlet Allocation (LDA) Topic Modeling. \n",
        "\n",
        "### 1. You have access to existing document topic labels\n",
        "\n",
        "In this case, why would you bother with Topic Modeling? It could be the case that the current topic labels are actually not helpful for whatever task you're working on. For instance, in this guided project, our email dataset has topic names; however those topic labels are hierarchical, which may not suit your needs. So one option is generate new labels that do suit your needs (as we did here). \n",
        "\n",
        "### 2. Your corpus doesn't have any document topic labels\n",
        "\n",
        "In this case, you don't have any pre-existing topic labels. Maybe you work at Indeed or LinkedIn or Google and your job is to bring some structure to a huge collection of emails and messages that aren't labeled in any meaningful way and so it's difficult to just sort through these documents. This is a perfect use case of Topic Modeling. After you apply topic modeling, you'll then have organized your emails into broad categories and you can start structuring and then analyze your corpus, and maybe even build a supervised learning model to predict the topic of the document!"
      ]
    },
    {
      "cell_type": "markdown",
      "metadata": {
        "id": "eqY0KKxKQxbm"
      },
      "source": [
        "## Topic Modeling References\n"
      ]
    },
    {
      "cell_type": "markdown",
      "metadata": {
        "id": "iKhe7u4IXr0y"
      },
      "source": [
        "- [Topic Modeling with Gensim](https://www.tutorialspoint.com/gensim/gensim_topic_modeling.htm) -- Brief Tutorial\n",
        "\n",
        "- [Gensim documentation](https://radimrehurek.com/gensim/index.html) -- look up gensim commands\n",
        "\n",
        "- [`pyLDAvis` documentation](https://pyldavis.readthedocs.io/en/latest/readme.html) -- package for visualizing LDA models\n",
        "\n",
        "- [Visualizing Topic Models](https://speakerdeck.com/bmabey/visualizing-topic-models) -- slides from Ben Mabey\n",
        "\n",
        "- [Exploring the Space of Topic Coherence Measures](https://dl.acm.org/doi/10.1145/2684822.2685324) -- Study of Topic Coherence measures\n",
        "\n",
        "- [Exploring Topic Coherence over many models and many topics](https://www.researchgate.net/publication/232242203_Exploring_Topic_Coherence_over_many_models_and_many_topics) -- Study of automated topic coherence measures"
      ]
    }
  ]
}